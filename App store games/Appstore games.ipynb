{
 "cells": [
  {
   "cell_type": "markdown",
   "id": "c530384f",
   "metadata": {},
   "source": [
    "# Appstore games: Project by Humberto Mundo"
   ]
  },
  {
   "cell_type": "markdown",
   "id": "5cb4229f",
   "metadata": {},
   "source": [
    "### Today we will explore the appstore games dataset from kaggle: \n",
    "https://www.kaggle.com/tristan581/17k-apple-app-store-strategy-games?select=appstore_games.csv\n",
    "\n",
    "### We will clean the data, provide visualizations, answer some questions regarding the results we found and finally we will build a ML model. \n",
    "### Tasks:\n",
    "#### 1. Answer specific questions such as: \n",
    "\n",
    "* In-app purchase games vs paid games vs free to play\n",
    "* What genre and subgenres are the most popular?\n",
    "* Which developers rack the highest/lowest average ratings?\n",
    "* What are the most common words used in app descriptions?\n",
    "* Change in Price, Size, and User rating count throughout the years.\n",
    "* Top 5 apps with the perfect rating and highest rating count.\n",
    "* What variable seems to have the most effect on a high rating?\n",
    "\n",
    "#### 2. Build a model that predicts the rating of a game\n",
    "\n",
    "### Table of Contents:\n",
    "1. [Packages and data preparation](#1.-Packages-and-data-preparation)\n",
    "2. [Quick glance at data](#2.-Quick-glance-at-data)\n",
    "3. [Clean data pt.1](#3.-Clean-data-pt.1)\n",
    "4. [Clean data pt.2](#4.-Clean-data-pt.2)\n",
    "5. [Pre-EDA](#5.-Pre-EDA)\n",
    "6. [EDA](#6.-EDA)\n",
    "7. [Model preparation](#7.-Model-preparation)\n",
    "8. [Model validation](#8.-Model-validation)\n",
    "9. [Final model build](#9.-Final-model-build)"
   ]
  },
  {
   "cell_type": "markdown",
   "id": "e28cbd49",
   "metadata": {},
   "source": [
    "## 1. Packages and data preparation"
   ]
  },
  {
   "cell_type": "code",
   "execution_count": null,
   "id": "b63e664f",
   "metadata": {},
   "outputs": [],
   "source": [
    "# data analysis\n",
    "import pandas as pd\n",
    "import numpy as np\n",
    "import random as rnd\n",
    "import math\n",
    "from scipy import stats\n",
    "from scipy.stats import norm, skew, mode\n",
    "from scipy.special import boxcox1p\n",
    "\n",
    "# visualization\n",
    "import seaborn as sns\n",
    "import matplotlib.pyplot as plt\n",
    "from statsmodels.graphics.gofplots import qqplot\n",
    "import statsmodels.api as sm\n",
    "\n",
    "import chart_studio.plotly as py\n",
    "import plotly.express as px\n",
    "import plotly.graph_objects as go\n",
    "from wordcloud import WordCloud\n",
    "%matplotlib inline\n",
    "\n",
    "# machine learning\n",
    "from joblib import parallel_backend\n",
    "import eli5\n",
    "from eli5.sklearn import PermutationImportance\n",
    "from sklearn.model_selection import train_test_split\n",
    "from sklearn.pipeline import make_pipeline, Pipeline, FeatureUnion\n",
    "from sklearn import preprocessing\n",
    "from sklearn.preprocessing import RobustScaler, LabelEncoder, OneHotEncoder, StandardScaler, MinMaxScaler\n",
    "from sklearn.preprocessing import LabelBinarizer\n",
    "from sklearn.compose import ColumnTransformer\n",
    "from sklearn.base import BaseEstimator, TransformerMixin\n",
    "from sklearn.metrics import confusion_matrix, accuracy_score \n",
    "from sklearn.metrics import precision_score,f1_score\n",
    "\n",
    "import xgboost as xgb\n",
    "import lightgbm as lgb\n",
    "\n",
    "from sklearn.ensemble import RandomForestClassifier\n",
    "from sklearn.linear_model import LinearRegression\n",
    "from sklearn.neighbors import KNeighborsClassifier\n",
    "from sklearn.tree import DecisionTreeClassifier\n",
    "from catboost import CatBoostClassifier,Pool\n",
    "\n",
    "import warnings\n",
    "warnings.filterwarnings('ignore')"
   ]
  },
  {
   "cell_type": "code",
   "execution_count": 3,
   "id": "1fb0a1ad",
   "metadata": {
    "scrolled": false
   },
   "outputs": [
    {
     "data": {
      "text/html": [
       "<div>\n",
       "<style scoped>\n",
       "    .dataframe tbody tr th:only-of-type {\n",
       "        vertical-align: middle;\n",
       "    }\n",
       "\n",
       "    .dataframe tbody tr th {\n",
       "        vertical-align: top;\n",
       "    }\n",
       "\n",
       "    .dataframe thead th {\n",
       "        text-align: right;\n",
       "    }\n",
       "</style>\n",
       "<table border=\"1\" class=\"dataframe\">\n",
       "  <thead>\n",
       "    <tr style=\"text-align: right;\">\n",
       "      <th></th>\n",
       "      <th>URL</th>\n",
       "      <th>ID</th>\n",
       "      <th>Name</th>\n",
       "      <th>Subtitle</th>\n",
       "      <th>Icon URL</th>\n",
       "      <th>Average User Rating</th>\n",
       "      <th>User Rating Count</th>\n",
       "      <th>Price</th>\n",
       "      <th>In-app Purchases</th>\n",
       "      <th>Description</th>\n",
       "      <th>Developer</th>\n",
       "      <th>Age Rating</th>\n",
       "      <th>Languages</th>\n",
       "      <th>Size</th>\n",
       "      <th>Primary Genre</th>\n",
       "      <th>Genres</th>\n",
       "      <th>Original Release Date</th>\n",
       "      <th>Current Version Release Date</th>\n",
       "    </tr>\n",
       "  </thead>\n",
       "  <tbody>\n",
       "    <tr>\n",
       "      <th>0</th>\n",
       "      <td>https://apps.apple.com/us/app/sudoku/id284921427</td>\n",
       "      <td>284921427</td>\n",
       "      <td>Sudoku</td>\n",
       "      <td>NaN</td>\n",
       "      <td>https://is2-ssl.mzstatic.com/image/thumb/Purpl...</td>\n",
       "      <td>4.0</td>\n",
       "      <td>3553.0</td>\n",
       "      <td>2.99</td>\n",
       "      <td>NaN</td>\n",
       "      <td>Join over 21,000,000 of our fans and download ...</td>\n",
       "      <td>Mighty Mighty Good Games</td>\n",
       "      <td>4+</td>\n",
       "      <td>DA, NL, EN, FI, FR, DE, IT, JA, KO, NB, PL, PT...</td>\n",
       "      <td>15853568.0</td>\n",
       "      <td>Games</td>\n",
       "      <td>Games, Strategy, Puzzle</td>\n",
       "      <td>11/07/2008</td>\n",
       "      <td>30/05/2017</td>\n",
       "    </tr>\n",
       "    <tr>\n",
       "      <th>1</th>\n",
       "      <td>https://apps.apple.com/us/app/reversi/id284926400</td>\n",
       "      <td>284926400</td>\n",
       "      <td>Reversi</td>\n",
       "      <td>NaN</td>\n",
       "      <td>https://is4-ssl.mzstatic.com/image/thumb/Purpl...</td>\n",
       "      <td>3.5</td>\n",
       "      <td>284.0</td>\n",
       "      <td>1.99</td>\n",
       "      <td>NaN</td>\n",
       "      <td>The classic game of Reversi, also known as Oth...</td>\n",
       "      <td>Kiss The Machine</td>\n",
       "      <td>4+</td>\n",
       "      <td>EN</td>\n",
       "      <td>12328960.0</td>\n",
       "      <td>Games</td>\n",
       "      <td>Games, Strategy, Board</td>\n",
       "      <td>11/07/2008</td>\n",
       "      <td>17/05/2018</td>\n",
       "    </tr>\n",
       "    <tr>\n",
       "      <th>2</th>\n",
       "      <td>https://apps.apple.com/us/app/morocco/id284946595</td>\n",
       "      <td>284946595</td>\n",
       "      <td>Morocco</td>\n",
       "      <td>NaN</td>\n",
       "      <td>https://is5-ssl.mzstatic.com/image/thumb/Purpl...</td>\n",
       "      <td>3.0</td>\n",
       "      <td>8376.0</td>\n",
       "      <td>0.00</td>\n",
       "      <td>NaN</td>\n",
       "      <td>Play the classic strategy game Othello (also k...</td>\n",
       "      <td>Bayou Games</td>\n",
       "      <td>4+</td>\n",
       "      <td>EN</td>\n",
       "      <td>674816.0</td>\n",
       "      <td>Games</td>\n",
       "      <td>Games, Board, Strategy</td>\n",
       "      <td>11/07/2008</td>\n",
       "      <td>5/09/2017</td>\n",
       "    </tr>\n",
       "  </tbody>\n",
       "</table>\n",
       "</div>"
      ],
      "text/plain": [
       "                                                 URL         ID     Name  \\\n",
       "0   https://apps.apple.com/us/app/sudoku/id284921427  284921427   Sudoku   \n",
       "1  https://apps.apple.com/us/app/reversi/id284926400  284926400  Reversi   \n",
       "2  https://apps.apple.com/us/app/morocco/id284946595  284946595  Morocco   \n",
       "\n",
       "  Subtitle                                           Icon URL  \\\n",
       "0      NaN  https://is2-ssl.mzstatic.com/image/thumb/Purpl...   \n",
       "1      NaN  https://is4-ssl.mzstatic.com/image/thumb/Purpl...   \n",
       "2      NaN  https://is5-ssl.mzstatic.com/image/thumb/Purpl...   \n",
       "\n",
       "   Average User Rating  User Rating Count  Price In-app Purchases  \\\n",
       "0                  4.0             3553.0   2.99              NaN   \n",
       "1                  3.5              284.0   1.99              NaN   \n",
       "2                  3.0             8376.0   0.00              NaN   \n",
       "\n",
       "                                         Description  \\\n",
       "0  Join over 21,000,000 of our fans and download ...   \n",
       "1  The classic game of Reversi, also known as Oth...   \n",
       "2  Play the classic strategy game Othello (also k...   \n",
       "\n",
       "                  Developer Age Rating  \\\n",
       "0  Mighty Mighty Good Games         4+   \n",
       "1          Kiss The Machine         4+   \n",
       "2               Bayou Games         4+   \n",
       "\n",
       "                                           Languages        Size  \\\n",
       "0  DA, NL, EN, FI, FR, DE, IT, JA, KO, NB, PL, PT...  15853568.0   \n",
       "1                                                 EN  12328960.0   \n",
       "2                                                 EN    674816.0   \n",
       "\n",
       "  Primary Genre                   Genres Original Release Date  \\\n",
       "0         Games  Games, Strategy, Puzzle            11/07/2008   \n",
       "1         Games   Games, Strategy, Board            11/07/2008   \n",
       "2         Games   Games, Board, Strategy            11/07/2008   \n",
       "\n",
       "  Current Version Release Date  \n",
       "0                   30/05/2017  \n",
       "1                   17/05/2018  \n",
       "2                    5/09/2017  "
      ]
     },
     "execution_count": 3,
     "metadata": {},
     "output_type": "execute_result"
    }
   ],
   "source": [
    "games = pd.read_csv('appstore_games.csv')\n",
    "games.head(3)"
   ]
  },
  {
   "cell_type": "code",
   "execution_count": 4,
   "id": "16405241",
   "metadata": {},
   "outputs": [],
   "source": [
    "#save icon URl\n",
    "icons = games['Icon URL']\n",
    "descriptions = games['Description']"
   ]
  },
  {
   "cell_type": "markdown",
   "id": "bdf6d63d",
   "metadata": {},
   "source": [
    "## 2. Quick glance at data"
   ]
  },
  {
   "cell_type": "markdown",
   "id": "b27b397a",
   "metadata": {},
   "source": [
    "##### Dataset info"
   ]
  },
  {
   "cell_type": "code",
   "execution_count": 5,
   "id": "84a92565",
   "metadata": {},
   "outputs": [
    {
     "name": "stdout",
     "output_type": "stream",
     "text": [
      "Number of rows: 17007\n",
      "Number of columns: 18\n",
      "----------------------------------------------------\n",
      "<class 'pandas.core.frame.DataFrame'>\n",
      "RangeIndex: 17007 entries, 0 to 17006\n",
      "Data columns (total 18 columns):\n",
      " #   Column                        Non-Null Count  Dtype  \n",
      "---  ------                        --------------  -----  \n",
      " 0   URL                           17007 non-null  object \n",
      " 1   ID                            17007 non-null  int64  \n",
      " 2   Name                          17007 non-null  object \n",
      " 3   Subtitle                      5261 non-null   object \n",
      " 4   Icon URL                      17007 non-null  object \n",
      " 5   Average User Rating           7561 non-null   float64\n",
      " 6   User Rating Count             7561 non-null   float64\n",
      " 7   Price                         16983 non-null  float64\n",
      " 8   In-app Purchases              7683 non-null   object \n",
      " 9   Description                   17007 non-null  object \n",
      " 10  Developer                     17007 non-null  object \n",
      " 11  Age Rating                    17007 non-null  object \n",
      " 12  Languages                     16947 non-null  object \n",
      " 13  Size                          17006 non-null  float64\n",
      " 14  Primary Genre                 17007 non-null  object \n",
      " 15  Genres                        17007 non-null  object \n",
      " 16  Original Release Date         17007 non-null  object \n",
      " 17  Current Version Release Date  17007 non-null  object \n",
      "dtypes: float64(4), int64(1), object(13)\n",
      "memory usage: 2.3+ MB\n",
      "None\n"
     ]
    }
   ],
   "source": [
    "print(\"Number of rows:\", games.shape[0])\n",
    "print(\"Number of columns:\", games.shape[1])\n",
    "print(\"----------------------------------------------------\")\n",
    "print(games.info())"
   ]
  },
  {
   "cell_type": "code",
   "execution_count": 6,
   "id": "54a5fd5a",
   "metadata": {},
   "outputs": [
    {
     "data": {
      "text/html": [
       "<div>\n",
       "<style scoped>\n",
       "    .dataframe tbody tr th:only-of-type {\n",
       "        vertical-align: middle;\n",
       "    }\n",
       "\n",
       "    .dataframe tbody tr th {\n",
       "        vertical-align: top;\n",
       "    }\n",
       "\n",
       "    .dataframe thead th {\n",
       "        text-align: right;\n",
       "    }\n",
       "</style>\n",
       "<table border=\"1\" class=\"dataframe\">\n",
       "  <thead>\n",
       "    <tr style=\"text-align: right;\">\n",
       "      <th></th>\n",
       "      <th>ID</th>\n",
       "      <th>Average User Rating</th>\n",
       "      <th>User Rating Count</th>\n",
       "      <th>Price</th>\n",
       "      <th>Size</th>\n",
       "    </tr>\n",
       "  </thead>\n",
       "  <tbody>\n",
       "    <tr>\n",
       "      <th>count</th>\n",
       "      <td>1.700700e+04</td>\n",
       "      <td>7561.000000</td>\n",
       "      <td>7.561000e+03</td>\n",
       "      <td>16983.000000</td>\n",
       "      <td>1.700600e+04</td>\n",
       "    </tr>\n",
       "    <tr>\n",
       "      <th>mean</th>\n",
       "      <td>1.059614e+09</td>\n",
       "      <td>4.060905</td>\n",
       "      <td>3.306531e+03</td>\n",
       "      <td>0.813419</td>\n",
       "      <td>1.157064e+08</td>\n",
       "    </tr>\n",
       "    <tr>\n",
       "      <th>std</th>\n",
       "      <td>2.999676e+08</td>\n",
       "      <td>0.751428</td>\n",
       "      <td>4.232256e+04</td>\n",
       "      <td>7.835732</td>\n",
       "      <td>2.036477e+08</td>\n",
       "    </tr>\n",
       "    <tr>\n",
       "      <th>min</th>\n",
       "      <td>2.849214e+08</td>\n",
       "      <td>1.000000</td>\n",
       "      <td>5.000000e+00</td>\n",
       "      <td>0.000000</td>\n",
       "      <td>5.132800e+04</td>\n",
       "    </tr>\n",
       "    <tr>\n",
       "      <th>25%</th>\n",
       "      <td>8.996543e+08</td>\n",
       "      <td>3.500000</td>\n",
       "      <td>1.200000e+01</td>\n",
       "      <td>0.000000</td>\n",
       "      <td>2.295014e+07</td>\n",
       "    </tr>\n",
       "    <tr>\n",
       "      <th>50%</th>\n",
       "      <td>1.112286e+09</td>\n",
       "      <td>4.500000</td>\n",
       "      <td>4.600000e+01</td>\n",
       "      <td>0.000000</td>\n",
       "      <td>5.676895e+07</td>\n",
       "    </tr>\n",
       "    <tr>\n",
       "      <th>75%</th>\n",
       "      <td>1.286983e+09</td>\n",
       "      <td>4.500000</td>\n",
       "      <td>3.090000e+02</td>\n",
       "      <td>0.000000</td>\n",
       "      <td>1.330271e+08</td>\n",
       "    </tr>\n",
       "    <tr>\n",
       "      <th>max</th>\n",
       "      <td>1.475077e+09</td>\n",
       "      <td>5.000000</td>\n",
       "      <td>3.032734e+06</td>\n",
       "      <td>179.990000</td>\n",
       "      <td>4.005591e+09</td>\n",
       "    </tr>\n",
       "  </tbody>\n",
       "</table>\n",
       "</div>"
      ],
      "text/plain": [
       "                 ID  Average User Rating  User Rating Count         Price  \\\n",
       "count  1.700700e+04          7561.000000       7.561000e+03  16983.000000   \n",
       "mean   1.059614e+09             4.060905       3.306531e+03      0.813419   \n",
       "std    2.999676e+08             0.751428       4.232256e+04      7.835732   \n",
       "min    2.849214e+08             1.000000       5.000000e+00      0.000000   \n",
       "25%    8.996543e+08             3.500000       1.200000e+01      0.000000   \n",
       "50%    1.112286e+09             4.500000       4.600000e+01      0.000000   \n",
       "75%    1.286983e+09             4.500000       3.090000e+02      0.000000   \n",
       "max    1.475077e+09             5.000000       3.032734e+06    179.990000   \n",
       "\n",
       "               Size  \n",
       "count  1.700600e+04  \n",
       "mean   1.157064e+08  \n",
       "std    2.036477e+08  \n",
       "min    5.132800e+04  \n",
       "25%    2.295014e+07  \n",
       "50%    5.676895e+07  \n",
       "75%    1.330271e+08  \n",
       "max    4.005591e+09  "
      ]
     },
     "execution_count": 6,
     "metadata": {},
     "output_type": "execute_result"
    }
   ],
   "source": [
    "games.describe()"
   ]
  },
  {
   "cell_type": "markdown",
   "id": "f4709871",
   "metadata": {},
   "source": [
    "##### Missing values"
   ]
  },
  {
   "cell_type": "code",
   "execution_count": 7,
   "id": "b232d665",
   "metadata": {
    "scrolled": false
   },
   "outputs": [
    {
     "data": {
      "text/html": [
       "<div>\n",
       "<style scoped>\n",
       "    .dataframe tbody tr th:only-of-type {\n",
       "        vertical-align: middle;\n",
       "    }\n",
       "\n",
       "    .dataframe tbody tr th {\n",
       "        vertical-align: top;\n",
       "    }\n",
       "\n",
       "    .dataframe thead th {\n",
       "        text-align: right;\n",
       "    }\n",
       "</style>\n",
       "<table border=\"1\" class=\"dataframe\">\n",
       "  <thead>\n",
       "    <tr style=\"text-align: right;\">\n",
       "      <th></th>\n",
       "      <th>Total</th>\n",
       "      <th>%</th>\n",
       "      <th>Dtype</th>\n",
       "    </tr>\n",
       "  </thead>\n",
       "  <tbody>\n",
       "    <tr>\n",
       "      <th>Subtitle</th>\n",
       "      <td>11746</td>\n",
       "      <td>69.065679</td>\n",
       "      <td>object</td>\n",
       "    </tr>\n",
       "    <tr>\n",
       "      <th>Average User Rating</th>\n",
       "      <td>9446</td>\n",
       "      <td>55.541836</td>\n",
       "      <td>float64</td>\n",
       "    </tr>\n",
       "    <tr>\n",
       "      <th>User Rating Count</th>\n",
       "      <td>9446</td>\n",
       "      <td>55.541836</td>\n",
       "      <td>float64</td>\n",
       "    </tr>\n",
       "    <tr>\n",
       "      <th>In-app Purchases</th>\n",
       "      <td>9324</td>\n",
       "      <td>54.824484</td>\n",
       "      <td>object</td>\n",
       "    </tr>\n",
       "    <tr>\n",
       "      <th>Languages</th>\n",
       "      <td>60</td>\n",
       "      <td>0.352796</td>\n",
       "      <td>object</td>\n",
       "    </tr>\n",
       "    <tr>\n",
       "      <th>Price</th>\n",
       "      <td>24</td>\n",
       "      <td>0.141118</td>\n",
       "      <td>float64</td>\n",
       "    </tr>\n",
       "    <tr>\n",
       "      <th>Size</th>\n",
       "      <td>1</td>\n",
       "      <td>0.005880</td>\n",
       "      <td>float64</td>\n",
       "    </tr>\n",
       "    <tr>\n",
       "      <th>URL</th>\n",
       "      <td>0</td>\n",
       "      <td>0.000000</td>\n",
       "      <td>object</td>\n",
       "    </tr>\n",
       "    <tr>\n",
       "      <th>Original Release Date</th>\n",
       "      <td>0</td>\n",
       "      <td>0.000000</td>\n",
       "      <td>object</td>\n",
       "    </tr>\n",
       "    <tr>\n",
       "      <th>Genres</th>\n",
       "      <td>0</td>\n",
       "      <td>0.000000</td>\n",
       "      <td>object</td>\n",
       "    </tr>\n",
       "    <tr>\n",
       "      <th>Primary Genre</th>\n",
       "      <td>0</td>\n",
       "      <td>0.000000</td>\n",
       "      <td>object</td>\n",
       "    </tr>\n",
       "    <tr>\n",
       "      <th>Description</th>\n",
       "      <td>0</td>\n",
       "      <td>0.000000</td>\n",
       "      <td>object</td>\n",
       "    </tr>\n",
       "    <tr>\n",
       "      <th>Age Rating</th>\n",
       "      <td>0</td>\n",
       "      <td>0.000000</td>\n",
       "      <td>object</td>\n",
       "    </tr>\n",
       "    <tr>\n",
       "      <th>Developer</th>\n",
       "      <td>0</td>\n",
       "      <td>0.000000</td>\n",
       "      <td>object</td>\n",
       "    </tr>\n",
       "    <tr>\n",
       "      <th>ID</th>\n",
       "      <td>0</td>\n",
       "      <td>0.000000</td>\n",
       "      <td>int64</td>\n",
       "    </tr>\n",
       "    <tr>\n",
       "      <th>Icon URL</th>\n",
       "      <td>0</td>\n",
       "      <td>0.000000</td>\n",
       "      <td>object</td>\n",
       "    </tr>\n",
       "    <tr>\n",
       "      <th>Name</th>\n",
       "      <td>0</td>\n",
       "      <td>0.000000</td>\n",
       "      <td>object</td>\n",
       "    </tr>\n",
       "    <tr>\n",
       "      <th>Current Version Release Date</th>\n",
       "      <td>0</td>\n",
       "      <td>0.000000</td>\n",
       "      <td>object</td>\n",
       "    </tr>\n",
       "  </tbody>\n",
       "</table>\n",
       "</div>"
      ],
      "text/plain": [
       "                              Total          %    Dtype\n",
       "Subtitle                      11746  69.065679   object\n",
       "Average User Rating            9446  55.541836  float64\n",
       "User Rating Count              9446  55.541836  float64\n",
       "In-app Purchases               9324  54.824484   object\n",
       "Languages                        60   0.352796   object\n",
       "Price                            24   0.141118  float64\n",
       "Size                              1   0.005880  float64\n",
       "URL                               0   0.000000   object\n",
       "Original Release Date             0   0.000000   object\n",
       "Genres                            0   0.000000   object\n",
       "Primary Genre                     0   0.000000   object\n",
       "Description                       0   0.000000   object\n",
       "Age Rating                        0   0.000000   object\n",
       "Developer                         0   0.000000   object\n",
       "ID                                0   0.000000    int64\n",
       "Icon URL                          0   0.000000   object\n",
       "Name                              0   0.000000   object\n",
       "Current Version Release Date      0   0.000000   object"
      ]
     },
     "execution_count": 7,
     "metadata": {},
     "output_type": "execute_result"
    }
   ],
   "source": [
    "total = games.isnull().sum().sort_values(ascending=False)\n",
    "percent = (total/games.isnull().count()).sort_values(ascending=False)*100\n",
    "dtype = games.dtypes\n",
    "na_table = pd.concat([total,percent,dtype], axis=1, keys=['Total', '%', 'Dtype'])\n",
    "na_table"
   ]
  },
  {
   "cell_type": "markdown",
   "id": "7f7c0d31",
   "metadata": {},
   "source": [
    "#### The columns that contain Null values: Subtitle, Average User Rating, User Rating Count, In-app Purchases, Languages, Price, Size\t"
   ]
  },
  {
   "cell_type": "markdown",
   "id": "47d79b2f",
   "metadata": {},
   "source": [
    "## 3. Clean data pt.1"
   ]
  },
  {
   "cell_type": "markdown",
   "id": "dc3e5931",
   "metadata": {},
   "source": [
    "##### Drop useless columns"
   ]
  },
  {
   "cell_type": "code",
   "execution_count": 8,
   "id": "efa59b49",
   "metadata": {},
   "outputs": [],
   "source": [
    "games = games.drop(['ID','URL','Subtitle','Icon URL','Description'], axis = 1)"
   ]
  },
  {
   "cell_type": "code",
   "execution_count": 9,
   "id": "67328a34",
   "metadata": {
    "scrolled": false
   },
   "outputs": [
    {
     "data": {
      "text/html": [
       "<div>\n",
       "<style scoped>\n",
       "    .dataframe tbody tr th:only-of-type {\n",
       "        vertical-align: middle;\n",
       "    }\n",
       "\n",
       "    .dataframe tbody tr th {\n",
       "        vertical-align: top;\n",
       "    }\n",
       "\n",
       "    .dataframe thead th {\n",
       "        text-align: right;\n",
       "    }\n",
       "</style>\n",
       "<table border=\"1\" class=\"dataframe\">\n",
       "  <thead>\n",
       "    <tr style=\"text-align: right;\">\n",
       "      <th></th>\n",
       "      <th>Total</th>\n",
       "      <th>%</th>\n",
       "      <th>Dtype</th>\n",
       "    </tr>\n",
       "  </thead>\n",
       "  <tbody>\n",
       "    <tr>\n",
       "      <th>Average User Rating</th>\n",
       "      <td>9446</td>\n",
       "      <td>55.541836</td>\n",
       "      <td>float64</td>\n",
       "    </tr>\n",
       "    <tr>\n",
       "      <th>User Rating Count</th>\n",
       "      <td>9446</td>\n",
       "      <td>55.541836</td>\n",
       "      <td>float64</td>\n",
       "    </tr>\n",
       "    <tr>\n",
       "      <th>In-app Purchases</th>\n",
       "      <td>9324</td>\n",
       "      <td>54.824484</td>\n",
       "      <td>object</td>\n",
       "    </tr>\n",
       "    <tr>\n",
       "      <th>Languages</th>\n",
       "      <td>60</td>\n",
       "      <td>0.352796</td>\n",
       "      <td>object</td>\n",
       "    </tr>\n",
       "    <tr>\n",
       "      <th>Price</th>\n",
       "      <td>24</td>\n",
       "      <td>0.141118</td>\n",
       "      <td>float64</td>\n",
       "    </tr>\n",
       "    <tr>\n",
       "      <th>Size</th>\n",
       "      <td>1</td>\n",
       "      <td>0.005880</td>\n",
       "      <td>float64</td>\n",
       "    </tr>\n",
       "    <tr>\n",
       "      <th>Name</th>\n",
       "      <td>0</td>\n",
       "      <td>0.000000</td>\n",
       "      <td>object</td>\n",
       "    </tr>\n",
       "    <tr>\n",
       "      <th>Developer</th>\n",
       "      <td>0</td>\n",
       "      <td>0.000000</td>\n",
       "      <td>object</td>\n",
       "    </tr>\n",
       "    <tr>\n",
       "      <th>Age Rating</th>\n",
       "      <td>0</td>\n",
       "      <td>0.000000</td>\n",
       "      <td>object</td>\n",
       "    </tr>\n",
       "    <tr>\n",
       "      <th>Primary Genre</th>\n",
       "      <td>0</td>\n",
       "      <td>0.000000</td>\n",
       "      <td>object</td>\n",
       "    </tr>\n",
       "    <tr>\n",
       "      <th>Genres</th>\n",
       "      <td>0</td>\n",
       "      <td>0.000000</td>\n",
       "      <td>object</td>\n",
       "    </tr>\n",
       "    <tr>\n",
       "      <th>Original Release Date</th>\n",
       "      <td>0</td>\n",
       "      <td>0.000000</td>\n",
       "      <td>object</td>\n",
       "    </tr>\n",
       "    <tr>\n",
       "      <th>Current Version Release Date</th>\n",
       "      <td>0</td>\n",
       "      <td>0.000000</td>\n",
       "      <td>object</td>\n",
       "    </tr>\n",
       "  </tbody>\n",
       "</table>\n",
       "</div>"
      ],
      "text/plain": [
       "                              Total          %    Dtype\n",
       "Average User Rating            9446  55.541836  float64\n",
       "User Rating Count              9446  55.541836  float64\n",
       "In-app Purchases               9324  54.824484   object\n",
       "Languages                        60   0.352796   object\n",
       "Price                            24   0.141118  float64\n",
       "Size                              1   0.005880  float64\n",
       "Name                              0   0.000000   object\n",
       "Developer                         0   0.000000   object\n",
       "Age Rating                        0   0.000000   object\n",
       "Primary Genre                     0   0.000000   object\n",
       "Genres                            0   0.000000   object\n",
       "Original Release Date             0   0.000000   object\n",
       "Current Version Release Date      0   0.000000   object"
      ]
     },
     "execution_count": 9,
     "metadata": {},
     "output_type": "execute_result"
    }
   ],
   "source": [
    "total = games.isnull().sum().sort_values(ascending=False)\n",
    "percent = (total/games.isnull().count()).sort_values(ascending=False)*100\n",
    "dtype = games.dtypes\n",
    "na_table = pd.concat([total,percent,dtype], axis=1, keys=['Total', '%', 'Dtype'])\n",
    "na_table"
   ]
  },
  {
   "cell_type": "markdown",
   "id": "409b85a8",
   "metadata": {},
   "source": [
    "#### The remaining columns that contain Null values:  Average User Rating, User Rating Count,\tIn-app Purchases, Languages, Price, Size.\n",
    "#### As we can see the missing values for both rating columns go hand in hand.\n",
    "Let's locate the one missing size"
   ]
  },
  {
   "cell_type": "code",
   "execution_count": 10,
   "id": "efa5a61a",
   "metadata": {
    "scrolled": false
   },
   "outputs": [
    {
     "data": {
      "text/html": [
       "<div>\n",
       "<style scoped>\n",
       "    .dataframe tbody tr th:only-of-type {\n",
       "        vertical-align: middle;\n",
       "    }\n",
       "\n",
       "    .dataframe tbody tr th {\n",
       "        vertical-align: top;\n",
       "    }\n",
       "\n",
       "    .dataframe thead th {\n",
       "        text-align: right;\n",
       "    }\n",
       "</style>\n",
       "<table border=\"1\" class=\"dataframe\">\n",
       "  <thead>\n",
       "    <tr style=\"text-align: right;\">\n",
       "      <th></th>\n",
       "      <th>Name</th>\n",
       "      <th>Average User Rating</th>\n",
       "      <th>User Rating Count</th>\n",
       "      <th>Price</th>\n",
       "      <th>In-app Purchases</th>\n",
       "      <th>Developer</th>\n",
       "      <th>Age Rating</th>\n",
       "      <th>Languages</th>\n",
       "      <th>Size</th>\n",
       "      <th>Primary Genre</th>\n",
       "      <th>Genres</th>\n",
       "      <th>Original Release Date</th>\n",
       "      <th>Current Version Release Date</th>\n",
       "    </tr>\n",
       "  </thead>\n",
       "  <tbody>\n",
       "    <tr>\n",
       "      <th>16782</th>\n",
       "      <td>Idle Mars Colonization</td>\n",
       "      <td>NaN</td>\n",
       "      <td>NaN</td>\n",
       "      <td>NaN</td>\n",
       "      <td>0.99, 1.99, 4.99</td>\n",
       "      <td>mai phuong bui</td>\n",
       "      <td>4+</td>\n",
       "      <td>EN</td>\n",
       "      <td>NaN</td>\n",
       "      <td>Games</td>\n",
       "      <td>Games, Strategy, Simulation</td>\n",
       "      <td>18/08/2019</td>\n",
       "      <td>18/08/2019</td>\n",
       "    </tr>\n",
       "  </tbody>\n",
       "</table>\n",
       "</div>"
      ],
      "text/plain": [
       "                         Name  Average User Rating  User Rating Count  Price  \\\n",
       "16782  Idle Mars Colonization                  NaN                NaN    NaN   \n",
       "\n",
       "       In-app Purchases       Developer Age Rating Languages  Size  \\\n",
       "16782  0.99, 1.99, 4.99  mai phuong bui         4+        EN   NaN   \n",
       "\n",
       "      Primary Genre                       Genres Original Release Date  \\\n",
       "16782         Games  Games, Strategy, Simulation            18/08/2019   \n",
       "\n",
       "      Current Version Release Date  \n",
       "16782                   18/08/2019  "
      ]
     },
     "execution_count": 10,
     "metadata": {},
     "output_type": "execute_result"
    }
   ],
   "source": [
    "games[games['Size'].isnull()]\n",
    "#games.iloc[16782]"
   ]
  },
  {
   "cell_type": "markdown",
   "id": "90e30a0e",
   "metadata": {},
   "source": [
    "#### Fix NA columns"
   ]
  },
  {
   "cell_type": "code",
   "execution_count": 11,
   "id": "aaebfe47",
   "metadata": {},
   "outputs": [],
   "source": [
    "def na_median(column):\n",
    "    return column.fillna(column.median())"
   ]
  },
  {
   "cell_type": "code",
   "execution_count": 12,
   "id": "95a682c6",
   "metadata": {},
   "outputs": [],
   "source": [
    "games['Size']=games['Size'].transform(na_median)"
   ]
  },
  {
   "cell_type": "code",
   "execution_count": 13,
   "id": "83c020ad",
   "metadata": {},
   "outputs": [],
   "source": [
    "games['Price']=games['Price'].transform(na_median)"
   ]
  },
  {
   "cell_type": "code",
   "execution_count": 14,
   "id": "f0e6bf5a",
   "metadata": {},
   "outputs": [],
   "source": [
    "games['Average User Rating']=games['Average User Rating'].transform(na_median)"
   ]
  },
  {
   "cell_type": "code",
   "execution_count": 15,
   "id": "470d78a4",
   "metadata": {},
   "outputs": [],
   "source": [
    "games['User Rating Count']=games['User Rating Count'].transform(na_median)"
   ]
  },
  {
   "cell_type": "code",
   "execution_count": 16,
   "id": "56684cb6",
   "metadata": {
    "scrolled": false
   },
   "outputs": [
    {
     "data": {
      "text/html": [
       "<div>\n",
       "<style scoped>\n",
       "    .dataframe tbody tr th:only-of-type {\n",
       "        vertical-align: middle;\n",
       "    }\n",
       "\n",
       "    .dataframe tbody tr th {\n",
       "        vertical-align: top;\n",
       "    }\n",
       "\n",
       "    .dataframe thead th {\n",
       "        text-align: right;\n",
       "    }\n",
       "</style>\n",
       "<table border=\"1\" class=\"dataframe\">\n",
       "  <thead>\n",
       "    <tr style=\"text-align: right;\">\n",
       "      <th></th>\n",
       "      <th>Total</th>\n",
       "      <th>%</th>\n",
       "      <th>Dtype</th>\n",
       "    </tr>\n",
       "  </thead>\n",
       "  <tbody>\n",
       "    <tr>\n",
       "      <th>In-app Purchases</th>\n",
       "      <td>9324</td>\n",
       "      <td>54.824484</td>\n",
       "      <td>object</td>\n",
       "    </tr>\n",
       "    <tr>\n",
       "      <th>Languages</th>\n",
       "      <td>60</td>\n",
       "      <td>0.352796</td>\n",
       "      <td>object</td>\n",
       "    </tr>\n",
       "    <tr>\n",
       "      <th>Name</th>\n",
       "      <td>0</td>\n",
       "      <td>0.000000</td>\n",
       "      <td>object</td>\n",
       "    </tr>\n",
       "    <tr>\n",
       "      <th>Average User Rating</th>\n",
       "      <td>0</td>\n",
       "      <td>0.000000</td>\n",
       "      <td>float64</td>\n",
       "    </tr>\n",
       "    <tr>\n",
       "      <th>User Rating Count</th>\n",
       "      <td>0</td>\n",
       "      <td>0.000000</td>\n",
       "      <td>float64</td>\n",
       "    </tr>\n",
       "  </tbody>\n",
       "</table>\n",
       "</div>"
      ],
      "text/plain": [
       "                     Total          %    Dtype\n",
       "In-app Purchases      9324  54.824484   object\n",
       "Languages               60   0.352796   object\n",
       "Name                     0   0.000000   object\n",
       "Average User Rating      0   0.000000  float64\n",
       "User Rating Count        0   0.000000  float64"
      ]
     },
     "execution_count": 16,
     "metadata": {},
     "output_type": "execute_result"
    }
   ],
   "source": [
    "total = games.isnull().sum().sort_values(ascending=False)\n",
    "percent = (total/games.isnull().count()).sort_values(ascending=False)*100\n",
    "dtype = games.dtypes\n",
    "na_table = pd.concat([total,percent,dtype], axis=1, keys=['Total', '%', 'Dtype'])\n",
    "na_table.head()"
   ]
  },
  {
   "cell_type": "markdown",
   "id": "1643cd7d",
   "metadata": {},
   "source": [
    "2 more columns need to be filled, due to lack of information we will fill all missing in-app purchases with 0. Then fill the remaining missing languages to english."
   ]
  },
  {
   "cell_type": "code",
   "execution_count": 17,
   "id": "63757b55",
   "metadata": {},
   "outputs": [],
   "source": [
    "games['Languages'] = games['Languages'].fillna(\"EN\", axis=0)\n",
    "games['In-app Purchases'] = games['In-app Purchases'].fillna(0, axis=0)"
   ]
  },
  {
   "cell_type": "code",
   "execution_count": 18,
   "id": "12253bba",
   "metadata": {},
   "outputs": [
    {
     "data": {
      "text/html": [
       "<div>\n",
       "<style scoped>\n",
       "    .dataframe tbody tr th:only-of-type {\n",
       "        vertical-align: middle;\n",
       "    }\n",
       "\n",
       "    .dataframe tbody tr th {\n",
       "        vertical-align: top;\n",
       "    }\n",
       "\n",
       "    .dataframe thead th {\n",
       "        text-align: right;\n",
       "    }\n",
       "</style>\n",
       "<table border=\"1\" class=\"dataframe\">\n",
       "  <thead>\n",
       "    <tr style=\"text-align: right;\">\n",
       "      <th></th>\n",
       "      <th>Total</th>\n",
       "      <th>%</th>\n",
       "      <th>Dtype</th>\n",
       "    </tr>\n",
       "  </thead>\n",
       "  <tbody>\n",
       "    <tr>\n",
       "      <th>Name</th>\n",
       "      <td>0</td>\n",
       "      <td>0.0</td>\n",
       "      <td>object</td>\n",
       "    </tr>\n",
       "    <tr>\n",
       "      <th>Average User Rating</th>\n",
       "      <td>0</td>\n",
       "      <td>0.0</td>\n",
       "      <td>float64</td>\n",
       "    </tr>\n",
       "    <tr>\n",
       "      <th>User Rating Count</th>\n",
       "      <td>0</td>\n",
       "      <td>0.0</td>\n",
       "      <td>float64</td>\n",
       "    </tr>\n",
       "    <tr>\n",
       "      <th>Price</th>\n",
       "      <td>0</td>\n",
       "      <td>0.0</td>\n",
       "      <td>float64</td>\n",
       "    </tr>\n",
       "    <tr>\n",
       "      <th>In-app Purchases</th>\n",
       "      <td>0</td>\n",
       "      <td>0.0</td>\n",
       "      <td>object</td>\n",
       "    </tr>\n",
       "  </tbody>\n",
       "</table>\n",
       "</div>"
      ],
      "text/plain": [
       "                     Total    %    Dtype\n",
       "Name                     0  0.0   object\n",
       "Average User Rating      0  0.0  float64\n",
       "User Rating Count        0  0.0  float64\n",
       "Price                    0  0.0  float64\n",
       "In-app Purchases         0  0.0   object"
      ]
     },
     "execution_count": 18,
     "metadata": {},
     "output_type": "execute_result"
    }
   ],
   "source": [
    "total = games.isnull().sum().sort_values(ascending=False)\n",
    "percent = (total/games.isnull().count()).sort_values(ascending=False)*100\n",
    "dtype = games.dtypes\n",
    "na_table = pd.concat([total,percent,dtype], axis=1, keys=['Total', '%', 'Dtype'])\n",
    "na_table.head()"
   ]
  },
  {
   "cell_type": "markdown",
   "id": "08e458e4",
   "metadata": {},
   "source": [
    "##### We have no more NULL values, let's see what else we need to fix."
   ]
  },
  {
   "cell_type": "code",
   "execution_count": 19,
   "id": "47a0315e",
   "metadata": {},
   "outputs": [
    {
     "data": {
      "text/html": [
       "<div>\n",
       "<style scoped>\n",
       "    .dataframe tbody tr th:only-of-type {\n",
       "        vertical-align: middle;\n",
       "    }\n",
       "\n",
       "    .dataframe tbody tr th {\n",
       "        vertical-align: top;\n",
       "    }\n",
       "\n",
       "    .dataframe thead th {\n",
       "        text-align: right;\n",
       "    }\n",
       "</style>\n",
       "<table border=\"1\" class=\"dataframe\">\n",
       "  <thead>\n",
       "    <tr style=\"text-align: right;\">\n",
       "      <th></th>\n",
       "      <th>Name</th>\n",
       "      <th>Average User Rating</th>\n",
       "      <th>User Rating Count</th>\n",
       "      <th>Price</th>\n",
       "      <th>In-app Purchases</th>\n",
       "      <th>Developer</th>\n",
       "      <th>Age Rating</th>\n",
       "      <th>Languages</th>\n",
       "      <th>Size</th>\n",
       "      <th>Primary Genre</th>\n",
       "      <th>Genres</th>\n",
       "      <th>Original Release Date</th>\n",
       "      <th>Current Version Release Date</th>\n",
       "    </tr>\n",
       "  </thead>\n",
       "  <tbody>\n",
       "    <tr>\n",
       "      <th>0</th>\n",
       "      <td>Sudoku</td>\n",
       "      <td>4.0</td>\n",
       "      <td>3553.0</td>\n",
       "      <td>2.99</td>\n",
       "      <td>0</td>\n",
       "      <td>Mighty Mighty Good Games</td>\n",
       "      <td>4+</td>\n",
       "      <td>DA, NL, EN, FI, FR, DE, IT, JA, KO, NB, PL, PT...</td>\n",
       "      <td>15853568.0</td>\n",
       "      <td>Games</td>\n",
       "      <td>Games, Strategy, Puzzle</td>\n",
       "      <td>11/07/2008</td>\n",
       "      <td>30/05/2017</td>\n",
       "    </tr>\n",
       "    <tr>\n",
       "      <th>1</th>\n",
       "      <td>Reversi</td>\n",
       "      <td>3.5</td>\n",
       "      <td>284.0</td>\n",
       "      <td>1.99</td>\n",
       "      <td>0</td>\n",
       "      <td>Kiss The Machine</td>\n",
       "      <td>4+</td>\n",
       "      <td>EN</td>\n",
       "      <td>12328960.0</td>\n",
       "      <td>Games</td>\n",
       "      <td>Games, Strategy, Board</td>\n",
       "      <td>11/07/2008</td>\n",
       "      <td>17/05/2018</td>\n",
       "    </tr>\n",
       "  </tbody>\n",
       "</table>\n",
       "</div>"
      ],
      "text/plain": [
       "      Name  Average User Rating  User Rating Count  Price In-app Purchases  \\\n",
       "0   Sudoku                  4.0             3553.0   2.99                0   \n",
       "1  Reversi                  3.5              284.0   1.99                0   \n",
       "\n",
       "                  Developer Age Rating  \\\n",
       "0  Mighty Mighty Good Games         4+   \n",
       "1          Kiss The Machine         4+   \n",
       "\n",
       "                                           Languages        Size  \\\n",
       "0  DA, NL, EN, FI, FR, DE, IT, JA, KO, NB, PL, PT...  15853568.0   \n",
       "1                                                 EN  12328960.0   \n",
       "\n",
       "  Primary Genre                   Genres Original Release Date  \\\n",
       "0         Games  Games, Strategy, Puzzle            11/07/2008   \n",
       "1         Games   Games, Strategy, Board            11/07/2008   \n",
       "\n",
       "  Current Version Release Date  \n",
       "0                   30/05/2017  \n",
       "1                   17/05/2018  "
      ]
     },
     "execution_count": 19,
     "metadata": {},
     "output_type": "execute_result"
    }
   ],
   "source": [
    "games.head(2)"
   ]
  },
  {
   "cell_type": "markdown",
   "id": "98b197db",
   "metadata": {},
   "source": [
    "## 4. Clean data pt.2 "
   ]
  },
  {
   "cell_type": "markdown",
   "id": "82741d69",
   "metadata": {},
   "source": [
    "#### Now that the data is cleansed from Null values, we still need to tweak a few more things.\n",
    "* converting the size to megabytes\n",
    "* fixing the dates\n",
    "* fix age rating\n",
    "* fix languages\n",
    "* fix genres\n",
    "* fix in-app purchases"
   ]
  },
  {
   "cell_type": "code",
   "execution_count": 20,
   "id": "fc3d9a82",
   "metadata": {},
   "outputs": [
    {
     "data": {
      "text/html": [
       "<div>\n",
       "<style scoped>\n",
       "    .dataframe tbody tr th:only-of-type {\n",
       "        vertical-align: middle;\n",
       "    }\n",
       "\n",
       "    .dataframe tbody tr th {\n",
       "        vertical-align: top;\n",
       "    }\n",
       "\n",
       "    .dataframe thead th {\n",
       "        text-align: right;\n",
       "    }\n",
       "</style>\n",
       "<table border=\"1\" class=\"dataframe\">\n",
       "  <thead>\n",
       "    <tr style=\"text-align: right;\">\n",
       "      <th></th>\n",
       "      <th>Name</th>\n",
       "      <th>Average User Rating</th>\n",
       "      <th>User Rating Count</th>\n",
       "      <th>Price</th>\n",
       "      <th>In-app Purchases</th>\n",
       "      <th>Developer</th>\n",
       "      <th>Age Rating</th>\n",
       "      <th>Languages</th>\n",
       "      <th>Size</th>\n",
       "      <th>Primary Genre</th>\n",
       "      <th>Genres</th>\n",
       "      <th>Original Release Date</th>\n",
       "      <th>Current Version Release Date</th>\n",
       "    </tr>\n",
       "  </thead>\n",
       "  <tbody>\n",
       "    <tr>\n",
       "      <th>0</th>\n",
       "      <td>Sudoku</td>\n",
       "      <td>4.0</td>\n",
       "      <td>3553.0</td>\n",
       "      <td>2.99</td>\n",
       "      <td>0</td>\n",
       "      <td>Mighty Mighty Good Games</td>\n",
       "      <td>4+</td>\n",
       "      <td>DA, NL, EN, FI, FR, DE, IT, JA, KO, NB, PL, PT...</td>\n",
       "      <td>15.85</td>\n",
       "      <td>Games</td>\n",
       "      <td>Games, Strategy, Puzzle</td>\n",
       "      <td>11/07/2008</td>\n",
       "      <td>30/05/2017</td>\n",
       "    </tr>\n",
       "    <tr>\n",
       "      <th>1</th>\n",
       "      <td>Reversi</td>\n",
       "      <td>3.5</td>\n",
       "      <td>284.0</td>\n",
       "      <td>1.99</td>\n",
       "      <td>0</td>\n",
       "      <td>Kiss The Machine</td>\n",
       "      <td>4+</td>\n",
       "      <td>EN</td>\n",
       "      <td>12.33</td>\n",
       "      <td>Games</td>\n",
       "      <td>Games, Strategy, Board</td>\n",
       "      <td>11/07/2008</td>\n",
       "      <td>17/05/2018</td>\n",
       "    </tr>\n",
       "  </tbody>\n",
       "</table>\n",
       "</div>"
      ],
      "text/plain": [
       "      Name  Average User Rating  User Rating Count  Price In-app Purchases  \\\n",
       "0   Sudoku                  4.0             3553.0   2.99                0   \n",
       "1  Reversi                  3.5              284.0   1.99                0   \n",
       "\n",
       "                  Developer Age Rating  \\\n",
       "0  Mighty Mighty Good Games         4+   \n",
       "1          Kiss The Machine         4+   \n",
       "\n",
       "                                           Languages   Size Primary Genre  \\\n",
       "0  DA, NL, EN, FI, FR, DE, IT, JA, KO, NB, PL, PT...  15.85         Games   \n",
       "1                                                 EN  12.33         Games   \n",
       "\n",
       "                    Genres Original Release Date Current Version Release Date  \n",
       "0  Games, Strategy, Puzzle            11/07/2008                   30/05/2017  \n",
       "1   Games, Strategy, Board            11/07/2008                   17/05/2018  "
      ]
     },
     "execution_count": 20,
     "metadata": {},
     "output_type": "execute_result"
    }
   ],
   "source": [
    "games['Size'] = round(games['Size']/1000000, 2)\n",
    "games.head(2)"
   ]
  },
  {
   "cell_type": "code",
   "execution_count": 21,
   "id": "242b844c",
   "metadata": {},
   "outputs": [
    {
     "data": {
      "text/html": [
       "<div>\n",
       "<style scoped>\n",
       "    .dataframe tbody tr th:only-of-type {\n",
       "        vertical-align: middle;\n",
       "    }\n",
       "\n",
       "    .dataframe tbody tr th {\n",
       "        vertical-align: top;\n",
       "    }\n",
       "\n",
       "    .dataframe thead th {\n",
       "        text-align: right;\n",
       "    }\n",
       "</style>\n",
       "<table border=\"1\" class=\"dataframe\">\n",
       "  <thead>\n",
       "    <tr style=\"text-align: right;\">\n",
       "      <th></th>\n",
       "      <th>Name</th>\n",
       "      <th>Average User Rating</th>\n",
       "      <th>User Rating Count</th>\n",
       "      <th>Price</th>\n",
       "      <th>In-app Purchases</th>\n",
       "      <th>Developer</th>\n",
       "      <th>Age Rating</th>\n",
       "      <th>Languages</th>\n",
       "      <th>Size</th>\n",
       "      <th>Primary Genre</th>\n",
       "      <th>Genres</th>\n",
       "      <th>Original Release Date</th>\n",
       "      <th>Current Version Release Date</th>\n",
       "    </tr>\n",
       "  </thead>\n",
       "  <tbody>\n",
       "    <tr>\n",
       "      <th>0</th>\n",
       "      <td>Sudoku</td>\n",
       "      <td>4.0</td>\n",
       "      <td>3553.0</td>\n",
       "      <td>2.99</td>\n",
       "      <td>0</td>\n",
       "      <td>Mighty Mighty Good Games</td>\n",
       "      <td>4+</td>\n",
       "      <td>DA, NL, EN, FI, FR, DE, IT, JA, KO, NB, PL, PT...</td>\n",
       "      <td>15.85</td>\n",
       "      <td>Games</td>\n",
       "      <td>Games, Strategy, Puzzle</td>\n",
       "      <td>2008</td>\n",
       "      <td>2017</td>\n",
       "    </tr>\n",
       "    <tr>\n",
       "      <th>1</th>\n",
       "      <td>Reversi</td>\n",
       "      <td>3.5</td>\n",
       "      <td>284.0</td>\n",
       "      <td>1.99</td>\n",
       "      <td>0</td>\n",
       "      <td>Kiss The Machine</td>\n",
       "      <td>4+</td>\n",
       "      <td>EN</td>\n",
       "      <td>12.33</td>\n",
       "      <td>Games</td>\n",
       "      <td>Games, Strategy, Board</td>\n",
       "      <td>2008</td>\n",
       "      <td>2018</td>\n",
       "    </tr>\n",
       "    <tr>\n",
       "      <th>2</th>\n",
       "      <td>Morocco</td>\n",
       "      <td>3.0</td>\n",
       "      <td>8376.0</td>\n",
       "      <td>0.00</td>\n",
       "      <td>0</td>\n",
       "      <td>Bayou Games</td>\n",
       "      <td>4+</td>\n",
       "      <td>EN</td>\n",
       "      <td>0.67</td>\n",
       "      <td>Games</td>\n",
       "      <td>Games, Board, Strategy</td>\n",
       "      <td>2008</td>\n",
       "      <td>2017</td>\n",
       "    </tr>\n",
       "  </tbody>\n",
       "</table>\n",
       "</div>"
      ],
      "text/plain": [
       "      Name  Average User Rating  User Rating Count  Price In-app Purchases  \\\n",
       "0   Sudoku                  4.0             3553.0   2.99                0   \n",
       "1  Reversi                  3.5              284.0   1.99                0   \n",
       "2  Morocco                  3.0             8376.0   0.00                0   \n",
       "\n",
       "                  Developer Age Rating  \\\n",
       "0  Mighty Mighty Good Games         4+   \n",
       "1          Kiss The Machine         4+   \n",
       "2               Bayou Games         4+   \n",
       "\n",
       "                                           Languages   Size Primary Genre  \\\n",
       "0  DA, NL, EN, FI, FR, DE, IT, JA, KO, NB, PL, PT...  15.85         Games   \n",
       "1                                                 EN  12.33         Games   \n",
       "2                                                 EN   0.67         Games   \n",
       "\n",
       "                    Genres Original Release Date Current Version Release Date  \n",
       "0  Games, Strategy, Puzzle                  2008                         2017  \n",
       "1   Games, Strategy, Board                  2008                         2018  \n",
       "2   Games, Board, Strategy                  2008                         2017  "
      ]
     },
     "execution_count": 21,
     "metadata": {},
     "output_type": "execute_result"
    }
   ],
   "source": [
    "games['Original Release Date'] = games['Original Release Date'].str.extract(r'\\b(\\w+)$')\n",
    "games['Current Version Release Date'] = games['Current Version Release Date'].str.extract(r'\\b(\\w+)$')\n",
    "games.head(3)"
   ]
  },
  {
   "cell_type": "code",
   "execution_count": 22,
   "id": "a1148c8a",
   "metadata": {},
   "outputs": [
    {
     "data": {
      "text/html": [
       "<div>\n",
       "<style scoped>\n",
       "    .dataframe tbody tr th:only-of-type {\n",
       "        vertical-align: middle;\n",
       "    }\n",
       "\n",
       "    .dataframe tbody tr th {\n",
       "        vertical-align: top;\n",
       "    }\n",
       "\n",
       "    .dataframe thead th {\n",
       "        text-align: right;\n",
       "    }\n",
       "</style>\n",
       "<table border=\"1\" class=\"dataframe\">\n",
       "  <thead>\n",
       "    <tr style=\"text-align: right;\">\n",
       "      <th></th>\n",
       "      <th>Name</th>\n",
       "      <th>Average User Rating</th>\n",
       "      <th>User Rating Count</th>\n",
       "      <th>Price</th>\n",
       "      <th>In-app Purchases</th>\n",
       "      <th>Developer</th>\n",
       "      <th>Age Rating</th>\n",
       "      <th>Languages</th>\n",
       "      <th>Size</th>\n",
       "      <th>Primary Genre</th>\n",
       "      <th>Genres</th>\n",
       "      <th>Original Release Date</th>\n",
       "      <th>Current Version Release Date</th>\n",
       "    </tr>\n",
       "  </thead>\n",
       "  <tbody>\n",
       "    <tr>\n",
       "      <th>0</th>\n",
       "      <td>Sudoku</td>\n",
       "      <td>4.0</td>\n",
       "      <td>3553.0</td>\n",
       "      <td>2.99</td>\n",
       "      <td>0</td>\n",
       "      <td>Mighty Mighty Good Games</td>\n",
       "      <td>4</td>\n",
       "      <td>DA, NL, EN, FI, FR, DE, IT, JA, KO, NB, PL, PT...</td>\n",
       "      <td>15.85</td>\n",
       "      <td>Games</td>\n",
       "      <td>Games, Strategy, Puzzle</td>\n",
       "      <td>2008</td>\n",
       "      <td>2017</td>\n",
       "    </tr>\n",
       "    <tr>\n",
       "      <th>1</th>\n",
       "      <td>Reversi</td>\n",
       "      <td>3.5</td>\n",
       "      <td>284.0</td>\n",
       "      <td>1.99</td>\n",
       "      <td>0</td>\n",
       "      <td>Kiss The Machine</td>\n",
       "      <td>4</td>\n",
       "      <td>EN</td>\n",
       "      <td>12.33</td>\n",
       "      <td>Games</td>\n",
       "      <td>Games, Strategy, Board</td>\n",
       "      <td>2008</td>\n",
       "      <td>2018</td>\n",
       "    </tr>\n",
       "  </tbody>\n",
       "</table>\n",
       "</div>"
      ],
      "text/plain": [
       "      Name  Average User Rating  User Rating Count  Price In-app Purchases  \\\n",
       "0   Sudoku                  4.0             3553.0   2.99                0   \n",
       "1  Reversi                  3.5              284.0   1.99                0   \n",
       "\n",
       "                  Developer  Age Rating  \\\n",
       "0  Mighty Mighty Good Games           4   \n",
       "1          Kiss The Machine           4   \n",
       "\n",
       "                                           Languages   Size Primary Genre  \\\n",
       "0  DA, NL, EN, FI, FR, DE, IT, JA, KO, NB, PL, PT...  15.85         Games   \n",
       "1                                                 EN  12.33         Games   \n",
       "\n",
       "                    Genres Original Release Date Current Version Release Date  \n",
       "0  Games, Strategy, Puzzle                  2008                         2017  \n",
       "1   Games, Strategy, Board                  2008                         2018  "
      ]
     },
     "execution_count": 22,
     "metadata": {},
     "output_type": "execute_result"
    }
   ],
   "source": [
    "games['Age Rating'] = games['Age Rating'].str.replace('+','').astype(int)\n",
    "games.head(2)"
   ]
  },
  {
   "cell_type": "code",
   "execution_count": 23,
   "id": "0be0ccdb",
   "metadata": {},
   "outputs": [
    {
     "data": {
      "text/html": [
       "<div>\n",
       "<style scoped>\n",
       "    .dataframe tbody tr th:only-of-type {\n",
       "        vertical-align: middle;\n",
       "    }\n",
       "\n",
       "    .dataframe tbody tr th {\n",
       "        vertical-align: top;\n",
       "    }\n",
       "\n",
       "    .dataframe thead th {\n",
       "        text-align: right;\n",
       "    }\n",
       "</style>\n",
       "<table border=\"1\" class=\"dataframe\">\n",
       "  <thead>\n",
       "    <tr style=\"text-align: right;\">\n",
       "      <th></th>\n",
       "      <th>Name</th>\n",
       "      <th>Average User Rating</th>\n",
       "      <th>User Rating Count</th>\n",
       "      <th>Price</th>\n",
       "      <th>In-app Purchases</th>\n",
       "      <th>Developer</th>\n",
       "      <th>Age Rating</th>\n",
       "      <th>Languages</th>\n",
       "      <th>Size</th>\n",
       "      <th>Primary Genre</th>\n",
       "      <th>Genres</th>\n",
       "      <th>Original Release Date</th>\n",
       "      <th>Current Version Release Date</th>\n",
       "    </tr>\n",
       "  </thead>\n",
       "  <tbody>\n",
       "    <tr>\n",
       "      <th>0</th>\n",
       "      <td>Sudoku</td>\n",
       "      <td>4.0</td>\n",
       "      <td>3553.0</td>\n",
       "      <td>2.99</td>\n",
       "      <td>0</td>\n",
       "      <td>Mighty Mighty Good Games</td>\n",
       "      <td>4</td>\n",
       "      <td>17</td>\n",
       "      <td>15.85</td>\n",
       "      <td>Games</td>\n",
       "      <td>Games, Strategy, Puzzle</td>\n",
       "      <td>2008</td>\n",
       "      <td>2017</td>\n",
       "    </tr>\n",
       "    <tr>\n",
       "      <th>1</th>\n",
       "      <td>Reversi</td>\n",
       "      <td>3.5</td>\n",
       "      <td>284.0</td>\n",
       "      <td>1.99</td>\n",
       "      <td>0</td>\n",
       "      <td>Kiss The Machine</td>\n",
       "      <td>4</td>\n",
       "      <td>1</td>\n",
       "      <td>12.33</td>\n",
       "      <td>Games</td>\n",
       "      <td>Games, Strategy, Board</td>\n",
       "      <td>2008</td>\n",
       "      <td>2018</td>\n",
       "    </tr>\n",
       "  </tbody>\n",
       "</table>\n",
       "</div>"
      ],
      "text/plain": [
       "      Name  Average User Rating  User Rating Count  Price In-app Purchases  \\\n",
       "0   Sudoku                  4.0             3553.0   2.99                0   \n",
       "1  Reversi                  3.5              284.0   1.99                0   \n",
       "\n",
       "                  Developer  Age Rating  Languages   Size Primary Genre  \\\n",
       "0  Mighty Mighty Good Games           4         17  15.85         Games   \n",
       "1          Kiss The Machine           4          1  12.33         Games   \n",
       "\n",
       "                    Genres Original Release Date Current Version Release Date  \n",
       "0  Games, Strategy, Puzzle                  2008                         2017  \n",
       "1   Games, Strategy, Board                  2008                         2018  "
      ]
     },
     "execution_count": 23,
     "metadata": {},
     "output_type": "execute_result"
    }
   ],
   "source": [
    "games['Languages'] = games['Languages'].apply(lambda x: len(x.split(',')))\n",
    "games.head(2)"
   ]
  },
  {
   "cell_type": "code",
   "execution_count": 24,
   "id": "e4cf2b81",
   "metadata": {},
   "outputs": [
    {
     "data": {
      "text/plain": [
       "array(['Games, Strategy, Puzzle', 'Games, Strategy, Board',\n",
       "       'Games, Board, Strategy', ..., 'Games, Strategy, Sports, Music',\n",
       "       'Social Networking, Games, Strategy, Casual',\n",
       "       'Sports, Racing, Games, Strategy'], dtype=object)"
      ]
     },
     "execution_count": 24,
     "metadata": {},
     "output_type": "execute_result"
    }
   ],
   "source": [
    "#games['Primary Genre'].unique()\n",
    "games['Genres'].unique()"
   ]
  },
  {
   "cell_type": "code",
   "execution_count": 25,
   "id": "355b123f",
   "metadata": {},
   "outputs": [],
   "source": [
    "Primary_Genre = []\n",
    "Secondary_Genre = []\n",
    "for x in games['Genres']:\n",
    "    Primary_Genre.append(x.split(',')[0])\n",
    "    Secondary_Genre.append(x.split(',')[1])\n",
    "    \n",
    "games['Primary Genre'] = Primary_Genre\n",
    "games['Genres'] = Secondary_Genre"
   ]
  },
  {
   "cell_type": "code",
   "execution_count": 26,
   "id": "d26ac016",
   "metadata": {
    "scrolled": true
   },
   "outputs": [
    {
     "data": {
      "text/html": [
       "<div>\n",
       "<style scoped>\n",
       "    .dataframe tbody tr th:only-of-type {\n",
       "        vertical-align: middle;\n",
       "    }\n",
       "\n",
       "    .dataframe tbody tr th {\n",
       "        vertical-align: top;\n",
       "    }\n",
       "\n",
       "    .dataframe thead th {\n",
       "        text-align: right;\n",
       "    }\n",
       "</style>\n",
       "<table border=\"1\" class=\"dataframe\">\n",
       "  <thead>\n",
       "    <tr style=\"text-align: right;\">\n",
       "      <th></th>\n",
       "      <th>Name</th>\n",
       "      <th>Average User Rating</th>\n",
       "      <th>User Rating Count</th>\n",
       "      <th>Price</th>\n",
       "      <th>In-app Purchases</th>\n",
       "      <th>Developer</th>\n",
       "      <th>Age Rating</th>\n",
       "      <th>Languages</th>\n",
       "      <th>Size</th>\n",
       "      <th>Primary Genre</th>\n",
       "      <th>Genres</th>\n",
       "      <th>Original Release Date</th>\n",
       "      <th>Current Version Release Date</th>\n",
       "    </tr>\n",
       "  </thead>\n",
       "  <tbody>\n",
       "    <tr>\n",
       "      <th>0</th>\n",
       "      <td>Sudoku</td>\n",
       "      <td>4.0</td>\n",
       "      <td>3553.0</td>\n",
       "      <td>2.99</td>\n",
       "      <td>0</td>\n",
       "      <td>Mighty Mighty Good Games</td>\n",
       "      <td>4</td>\n",
       "      <td>17</td>\n",
       "      <td>15.85</td>\n",
       "      <td>Games</td>\n",
       "      <td>Strategy</td>\n",
       "      <td>2008</td>\n",
       "      <td>2017</td>\n",
       "    </tr>\n",
       "    <tr>\n",
       "      <th>1</th>\n",
       "      <td>Reversi</td>\n",
       "      <td>3.5</td>\n",
       "      <td>284.0</td>\n",
       "      <td>1.99</td>\n",
       "      <td>0</td>\n",
       "      <td>Kiss The Machine</td>\n",
       "      <td>4</td>\n",
       "      <td>1</td>\n",
       "      <td>12.33</td>\n",
       "      <td>Games</td>\n",
       "      <td>Strategy</td>\n",
       "      <td>2008</td>\n",
       "      <td>2018</td>\n",
       "    </tr>\n",
       "  </tbody>\n",
       "</table>\n",
       "</div>"
      ],
      "text/plain": [
       "      Name  Average User Rating  User Rating Count  Price In-app Purchases  \\\n",
       "0   Sudoku                  4.0             3553.0   2.99                0   \n",
       "1  Reversi                  3.5              284.0   1.99                0   \n",
       "\n",
       "                  Developer  Age Rating  Languages   Size Primary Genre  \\\n",
       "0  Mighty Mighty Good Games           4         17  15.85         Games   \n",
       "1          Kiss The Machine           4          1  12.33         Games   \n",
       "\n",
       "      Genres Original Release Date Current Version Release Date  \n",
       "0   Strategy                  2008                         2017  \n",
       "1   Strategy                  2008                         2018  "
      ]
     },
     "execution_count": 26,
     "metadata": {},
     "output_type": "execute_result"
    }
   ],
   "source": [
    "games.head(2)"
   ]
  },
  {
   "cell_type": "code",
   "execution_count": 27,
   "id": "f3602d8c",
   "metadata": {},
   "outputs": [],
   "source": [
    "games.rename(columns={\"Genres\": \"Secondary Genre\"}, inplace = True)"
   ]
  },
  {
   "cell_type": "code",
   "execution_count": 28,
   "id": "64b452a8",
   "metadata": {
    "scrolled": true
   },
   "outputs": [],
   "source": [
    "games['In-app Purchases'] = games['In-app Purchases'].apply(lambda x:1 if x!= 0 else 0)"
   ]
  },
  {
   "cell_type": "code",
   "execution_count": 29,
   "id": "9f7e2e9d",
   "metadata": {
    "scrolled": true
   },
   "outputs": [
    {
     "data": {
      "text/html": [
       "<div>\n",
       "<style scoped>\n",
       "    .dataframe tbody tr th:only-of-type {\n",
       "        vertical-align: middle;\n",
       "    }\n",
       "\n",
       "    .dataframe tbody tr th {\n",
       "        vertical-align: top;\n",
       "    }\n",
       "\n",
       "    .dataframe thead th {\n",
       "        text-align: right;\n",
       "    }\n",
       "</style>\n",
       "<table border=\"1\" class=\"dataframe\">\n",
       "  <thead>\n",
       "    <tr style=\"text-align: right;\">\n",
       "      <th></th>\n",
       "      <th>Name</th>\n",
       "      <th>Average User Rating</th>\n",
       "      <th>User Rating Count</th>\n",
       "      <th>Price</th>\n",
       "      <th>In-app Purchases</th>\n",
       "      <th>Developer</th>\n",
       "      <th>Age Rating</th>\n",
       "      <th>Languages</th>\n",
       "      <th>Size</th>\n",
       "      <th>Primary Genre</th>\n",
       "      <th>Secondary Genre</th>\n",
       "      <th>Original Release Date</th>\n",
       "      <th>Current Version Release Date</th>\n",
       "    </tr>\n",
       "  </thead>\n",
       "  <tbody>\n",
       "    <tr>\n",
       "      <th>17005</th>\n",
       "      <td>FaTaLL</td>\n",
       "      <td>4.5</td>\n",
       "      <td>46.0</td>\n",
       "      <td>0.0</td>\n",
       "      <td>1</td>\n",
       "      <td>Tayrem Games</td>\n",
       "      <td>4</td>\n",
       "      <td>1</td>\n",
       "      <td>196.75</td>\n",
       "      <td>Games</td>\n",
       "      <td>Strategy</td>\n",
       "      <td>2019</td>\n",
       "      <td>2019</td>\n",
       "    </tr>\n",
       "    <tr>\n",
       "      <th>17006</th>\n",
       "      <td>The Three Kingdoms :Bomb</td>\n",
       "      <td>4.5</td>\n",
       "      <td>46.0</td>\n",
       "      <td>0.0</td>\n",
       "      <td>0</td>\n",
       "      <td>ming bo tang</td>\n",
       "      <td>4</td>\n",
       "      <td>2</td>\n",
       "      <td>22.95</td>\n",
       "      <td>Games</td>\n",
       "      <td>Strategy</td>\n",
       "      <td>2019</td>\n",
       "      <td>2019</td>\n",
       "    </tr>\n",
       "  </tbody>\n",
       "</table>\n",
       "</div>"
      ],
      "text/plain": [
       "                           Name  Average User Rating  User Rating Count  \\\n",
       "17005                    FaTaLL                  4.5               46.0   \n",
       "17006  The Three Kingdoms :Bomb                  4.5               46.0   \n",
       "\n",
       "       Price  In-app Purchases     Developer  Age Rating  Languages    Size  \\\n",
       "17005    0.0                 1  Tayrem Games           4          1  196.75   \n",
       "17006    0.0                 0  ming bo tang           4          2   22.95   \n",
       "\n",
       "      Primary Genre Secondary Genre Original Release Date  \\\n",
       "17005         Games        Strategy                  2019   \n",
       "17006         Games        Strategy                  2019   \n",
       "\n",
       "      Current Version Release Date  \n",
       "17005                         2019  \n",
       "17006                         2019  "
      ]
     },
     "execution_count": 29,
     "metadata": {},
     "output_type": "execute_result"
    }
   ],
   "source": [
    "games.tail(2)"
   ]
  },
  {
   "cell_type": "code",
   "execution_count": 30,
   "id": "7bd1215c",
   "metadata": {},
   "outputs": [
    {
     "data": {
      "text/plain": [
       "array([0, 1], dtype=int64)"
      ]
     },
     "execution_count": 30,
     "metadata": {},
     "output_type": "execute_result"
    }
   ],
   "source": [
    "games['In-app Purchases'].unique()"
   ]
  },
  {
   "cell_type": "markdown",
   "id": "3dd33302",
   "metadata": {},
   "source": [
    "## 5. Pre-EDA\n",
    "We are all set, the data is now clean and we can take a look at the relationships between variables etc. before we begin our EDA and modeling."
   ]
  },
  {
   "cell_type": "code",
   "execution_count": 37,
   "id": "edef30c6",
   "metadata": {},
   "outputs": [
    {
     "data": {
      "image/svg+xml": [
       "<svg class=\"main-svg\" xmlns=\"http://www.w3.org/2000/svg\" xmlns:xlink=\"http://www.w3.org/1999/xlink\" width=\"700\" height=\"500\" style=\"\" viewBox=\"0 0 700 500\"><rect x=\"0\" y=\"0\" width=\"700\" height=\"500\" style=\"fill: rgb(255, 255, 255); fill-opacity: 1;\"/><defs id=\"defs-12af32\"><g class=\"clips\"><clipPath id=\"clip12af32xyplot\" class=\"plotclip\"><rect width=\"540\" height=\"87\"/></clipPath><clipPath class=\"axesclip\" id=\"clip12af32x\"><rect x=\"80\" y=\"0\" width=\"540\" height=\"500\"/></clipPath><clipPath class=\"axesclip\" id=\"clip12af32y\"><rect x=\"0\" y=\"100\" width=\"700\" height=\"87\"/></clipPath><clipPath class=\"axesclip\" id=\"clip12af32xy\"><rect x=\"80\" y=\"100\" width=\"540\" height=\"87\"/></clipPath></g><g class=\"gradients\"/><g class=\"patterns\"/></defs><g class=\"bglayer\"/><g class=\"layer-below\"><g class=\"imagelayer\"/><g class=\"shapelayer\"/></g><g class=\"cartesianlayer\"><g class=\"subplot xy\"><g class=\"layer-subplot\"><g class=\"shapelayer\"/><g class=\"imagelayer\"/></g><g class=\"gridlayer\"><g class=\"x\"/><g class=\"y\"><path class=\"ygrid crisp\" transform=\"translate(0,153.4)\" d=\"M80,0h540\" style=\"stroke: rgb(235, 240, 248); stroke-opacity: 1; stroke-width: 1px;\"/><path class=\"ygrid crisp\" transform=\"translate(0,119.8)\" d=\"M80,0h540\" style=\"stroke: rgb(235, 240, 248); stroke-opacity: 1; stroke-width: 1px;\"/></g></g><g class=\"zerolinelayer\"><path class=\"yzl zl crisp\" transform=\"translate(0,187)\" d=\"M80,0h540\" style=\"stroke: rgb(235, 240, 248); stroke-opacity: 1; stroke-width: 2px;\"/></g><path class=\"xlines-below\"/><path class=\"ylines-below\"/><g class=\"overlines-below\"/><g class=\"xaxislayer-below\"/><g class=\"yaxislayer-below\"/><g class=\"overaxes-below\"/><g class=\"plot\" transform=\"translate(80,100)\" clip-path=\"url(#clip12af32xyplot)\"><g class=\"barlayer mlayer\"><g class=\"trace bars\" style=\"opacity: 1;\"><g class=\"points\"><g class=\"point\"><path d=\"M2.7,87V4.35H24.3V87Z\" style=\"vector-effect: non-scaling-stroke; opacity: 1; stroke-width: 0.5px; fill: rgb(255, 0, 0); fill-opacity: 1; stroke: rgb(255, 255, 255); stroke-opacity: 1;\"/><text class=\"bartext bartext-inside\" text-anchor=\"middle\" data-notex=\"1\" x=\"0\" y=\"0\" style=\"font-family: 'Open Sans', verdana, arial, sans-serif; font-size: 12px; fill: rgb(255, 255, 255); fill-opacity: 1; white-space: pre;\" transform=\"translate(13.5,23.303125)rotate(90 0 -4.5)\">123</text></g><g class=\"point\"><path d=\"M29.7,87V15.1H51.3V87Z\" style=\"vector-effect: non-scaling-stroke; opacity: 1; stroke-width: 0.5px; fill: rgb(255, 0, 0); fill-opacity: 1; stroke: rgb(255, 255, 255); stroke-opacity: 1;\"/><text class=\"bartext bartext-inside\" text-anchor=\"middle\" data-notex=\"1\" x=\"0\" y=\"0\" style=\"font-family: 'Open Sans', verdana, arial, sans-serif; font-size: 12px; fill: rgb(255, 255, 255); fill-opacity: 1; white-space: pre;\" transform=\"translate(40.3125,34.240625)rotate(90 0.1875 -4.5)\">107</text></g><g class=\"point\"><path d=\"M56.7,87V23.16H78.3V87Z\" style=\"vector-effect: non-scaling-stroke; opacity: 1; stroke-width: 0.5px; fill: rgb(255, 0, 0); fill-opacity: 1; stroke: rgb(255, 255, 255); stroke-opacity: 1;\"/><text class=\"bartext bartext-inside\" text-anchor=\"middle\" data-notex=\"1\" x=\"0\" y=\"0\" style=\"font-family: 'Open Sans', verdana, arial, sans-serif; font-size: 12px; fill: rgb(255, 255, 255); fill-opacity: 1; white-space: pre;\" transform=\"translate(67.3203125,38.4803125)rotate(90 0.1796875 -4.5)\">95</text></g><g class=\"point\"><path d=\"M83.7,87V29.88H105.3V87Z\" style=\"vector-effect: non-scaling-stroke; opacity: 1; stroke-width: 0.5px; fill: rgb(255, 0, 0); fill-opacity: 1; stroke: rgb(255, 255, 255); stroke-opacity: 1;\"/><text class=\"bartext bartext-inside\" text-anchor=\"middle\" data-notex=\"1\" x=\"0\" y=\"0\" style=\"font-family: 'Open Sans', verdana, arial, sans-serif; font-size: 12px; fill: rgb(255, 255, 255); fill-opacity: 1; white-space: pre;\" transform=\"translate(94.3203125,45.200312499999995)rotate(90 0.1796875 -4.5)\">85</text></g><g class=\"point\"><path d=\"M110.7,87V35.26H132.3V87Z\" style=\"vector-effect: non-scaling-stroke; opacity: 1; stroke-width: 0.5px; fill: rgb(255, 0, 0); fill-opacity: 1; stroke: rgb(255, 255, 255); stroke-opacity: 1;\"/><text class=\"bartext bartext-inside\" text-anchor=\"middle\" data-notex=\"1\" x=\"0\" y=\"0\" style=\"font-family: 'Open Sans', verdana, arial, sans-serif; font-size: 12px; fill: rgb(255, 255, 255); fill-opacity: 1; white-space: pre;\" transform=\"translate(121.3203125,50.5803125)rotate(90 0.1796875 -4.5)\">77</text></g><g class=\"point\"><path d=\"M137.7,87V45.34H159.3V87Z\" style=\"vector-effect: non-scaling-stroke; opacity: 1; stroke-width: 0.5px; fill: rgb(255, 0, 0); fill-opacity: 1; stroke: rgb(255, 255, 255); stroke-opacity: 1;\"/><text class=\"bartext bartext-inside\" text-anchor=\"middle\" data-notex=\"1\" x=\"0\" y=\"0\" style=\"font-family: 'Open Sans', verdana, arial, sans-serif; font-size: 12px; fill: rgb(255, 255, 255); fill-opacity: 1; white-space: pre;\" transform=\"translate(148.3203125,60.6603125)rotate(90 0.1796875 -4.5)\">62</text></g><g class=\"point\"><path d=\"M164.7,87V46.01H186.3V87Z\" style=\"vector-effect: non-scaling-stroke; opacity: 1; stroke-width: 0.5px; fill: rgb(255, 0, 0); fill-opacity: 1; stroke: rgb(255, 255, 255); stroke-opacity: 1;\"/><text class=\"bartext bartext-inside\" text-anchor=\"middle\" data-notex=\"1\" x=\"0\" y=\"0\" style=\"font-family: 'Open Sans', verdana, arial, sans-serif; font-size: 12px; fill: rgb(255, 255, 255); fill-opacity: 1; white-space: pre;\" transform=\"translate(175.5,61.01)\">61</text></g><g class=\"point\"><path d=\"M191.7,87V48.7H213.3V87Z\" style=\"vector-effect: non-scaling-stroke; opacity: 1; stroke-width: 0.5px; fill: rgb(255, 0, 0); fill-opacity: 1; stroke: rgb(255, 255, 255); stroke-opacity: 1;\"/><text class=\"bartext bartext-inside\" text-anchor=\"middle\" data-notex=\"1\" x=\"0\" y=\"0\" style=\"font-family: 'Open Sans', verdana, arial, sans-serif; font-size: 12px; fill: rgb(255, 255, 255); fill-opacity: 1; white-space: pre;\" transform=\"translate(202.3203125,64.0203125)rotate(90 0.1796875 -4.5)\">57</text></g><g class=\"point\"><path d=\"M218.7,87V56.09H240.3V87Z\" style=\"vector-effect: non-scaling-stroke; opacity: 1; stroke-width: 0.5px; fill: rgb(255, 0, 0); fill-opacity: 1; stroke: rgb(255, 255, 255); stroke-opacity: 1;\"/><text class=\"bartext bartext-inside\" text-anchor=\"middle\" data-notex=\"1\" x=\"0\" y=\"0\" style=\"font-family: 'Open Sans', verdana, arial, sans-serif; font-size: 12px; fill: rgb(255, 255, 255); fill-opacity: 1; white-space: pre;\" transform=\"translate(229.3203125,71.4103125)rotate(90 0.1796875 -4.5)\">46</text></g><g class=\"point\"><path d=\"M245.7,87V58.78H267.3V87Z\" style=\"vector-effect: non-scaling-stroke; opacity: 1; stroke-width: 0.5px; fill: rgb(255, 0, 0); fill-opacity: 1; stroke: rgb(255, 255, 255); stroke-opacity: 1;\"/><text class=\"bartext bartext-inside\" text-anchor=\"middle\" data-notex=\"1\" x=\"0\" y=\"0\" style=\"font-family: 'Open Sans', verdana, arial, sans-serif; font-size: 12px; fill: rgb(255, 255, 255); fill-opacity: 1; white-space: pre;\" transform=\"translate(256.3203125,74.1003125)rotate(90 0.1796875 -4.5)\">42</text></g><g class=\"point\"><path d=\"M272.7,87V59.45H294.3V87Z\" style=\"vector-effect: non-scaling-stroke; opacity: 1; stroke-width: 0.5px; fill: rgb(255, 0, 0); fill-opacity: 1; stroke: rgb(255, 255, 255); stroke-opacity: 1;\"/><text class=\"bartext bartext-inside\" text-anchor=\"middle\" data-notex=\"1\" x=\"0\" y=\"0\" style=\"font-family: 'Open Sans', verdana, arial, sans-serif; font-size: 12px; fill: rgb(255, 255, 255); fill-opacity: 1; white-space: pre;\" transform=\"translate(283.5,74.45)\">41</text></g><g class=\"point\"><path d=\"M299.7,87V60.79H321.3V87Z\" style=\"vector-effect: non-scaling-stroke; opacity: 1; stroke-width: 0.5px; fill: rgb(255, 0, 0); fill-opacity: 1; stroke: rgb(255, 255, 255); stroke-opacity: 1;\"/><text class=\"bartext bartext-inside\" text-anchor=\"middle\" data-notex=\"1\" x=\"0\" y=\"0\" style=\"font-family: 'Open Sans', verdana, arial, sans-serif; font-size: 12px; fill: rgb(255, 255, 255); fill-opacity: 1; white-space: pre;\" transform=\"translate(310.3203125,76.11031249999999)rotate(90 0.1796875 -4.5)\">39</text></g><g class=\"point\"><path d=\"M326.7,87V61.47H348.3V87Z\" style=\"vector-effect: non-scaling-stroke; opacity: 1; stroke-width: 0.5px; fill: rgb(255, 0, 0); fill-opacity: 1; stroke: rgb(255, 255, 255); stroke-opacity: 1;\"/><text class=\"bartext bartext-inside\" text-anchor=\"middle\" data-notex=\"1\" x=\"0\" y=\"0\" style=\"font-family: 'Open Sans', verdana, arial, sans-serif; font-size: 12px; fill: rgb(255, 255, 255); fill-opacity: 1; white-space: pre;\" transform=\"translate(337.3203125,76.7903125)rotate(90 0.1796875 -4.5)\">38</text></g><g class=\"point\"><path d=\"M353.7,87V62.14H375.3V87Z\" style=\"vector-effect: non-scaling-stroke; opacity: 1; stroke-width: 0.5px; fill: rgb(255, 0, 0); fill-opacity: 1; stroke: rgb(255, 255, 255); stroke-opacity: 1;\"/><text class=\"bartext bartext-inside\" text-anchor=\"middle\" data-notex=\"1\" x=\"0\" y=\"0\" style=\"font-family: 'Open Sans', verdana, arial, sans-serif; font-size: 12px; fill: rgb(255, 255, 255); fill-opacity: 1; white-space: pre;\" transform=\"translate(364.3203125,77.4603125)rotate(90 0.1796875 -4.5)\">37</text></g><g class=\"point\"><path d=\"M380.7,87V62.14H402.3V87Z\" style=\"vector-effect: non-scaling-stroke; opacity: 1; stroke-width: 0.5px; fill: rgb(255, 0, 0); fill-opacity: 1; stroke: rgb(255, 255, 255); stroke-opacity: 1;\"/><text class=\"bartext bartext-inside\" text-anchor=\"middle\" data-notex=\"1\" x=\"0\" y=\"0\" style=\"font-family: 'Open Sans', verdana, arial, sans-serif; font-size: 12px; fill: rgb(255, 255, 255); fill-opacity: 1; white-space: pre;\" transform=\"translate(391.3203125,77.4603125)rotate(90 0.1796875 -4.5)\">37</text></g><g class=\"point\"><path d=\"M407.7,87V62.14H429.3V87Z\" style=\"vector-effect: non-scaling-stroke; opacity: 1; stroke-width: 0.5px; fill: rgb(255, 0, 0); fill-opacity: 1; stroke: rgb(255, 255, 255); stroke-opacity: 1;\"/><text class=\"bartext bartext-inside\" text-anchor=\"middle\" data-notex=\"1\" x=\"0\" y=\"0\" style=\"font-family: 'Open Sans', verdana, arial, sans-serif; font-size: 12px; fill: rgb(255, 255, 255); fill-opacity: 1; white-space: pre;\" transform=\"translate(418.3203125,77.4603125)rotate(90 0.1796875 -4.5)\">37</text></g><g class=\"point\"><path d=\"M434.7,87V62.81H456.3V87Z\" style=\"vector-effect: non-scaling-stroke; opacity: 1; stroke-width: 0.5px; fill: rgb(255, 0, 0); fill-opacity: 1; stroke: rgb(255, 255, 255); stroke-opacity: 1;\"/><text class=\"bartext bartext-inside\" text-anchor=\"middle\" data-notex=\"1\" x=\"0\" y=\"0\" style=\"font-family: 'Open Sans', verdana, arial, sans-serif; font-size: 12px; fill: rgb(255, 255, 255); fill-opacity: 1; white-space: pre;\" transform=\"translate(445.3203125,78.1303125)rotate(90 0.1796875 -4.5)\">36</text></g><g class=\"point\"><path d=\"M461.7,87V62.81H483.3V87Z\" style=\"vector-effect: non-scaling-stroke; opacity: 1; stroke-width: 0.5px; fill: rgb(255, 0, 0); fill-opacity: 1; stroke: rgb(255, 255, 255); stroke-opacity: 1;\"/><text class=\"bartext bartext-inside\" text-anchor=\"middle\" data-notex=\"1\" x=\"0\" y=\"0\" style=\"font-family: 'Open Sans', verdana, arial, sans-serif; font-size: 12px; fill: rgb(255, 255, 255); fill-opacity: 1; white-space: pre;\" transform=\"translate(472.3203125,78.1303125)rotate(90 0.1796875 -4.5)\">36</text></g><g class=\"point\"><path d=\"M488.7,87V62.81H510.3V87Z\" style=\"vector-effect: non-scaling-stroke; opacity: 1; stroke-width: 0.5px; fill: rgb(255, 0, 0); fill-opacity: 1; stroke: rgb(255, 255, 255); stroke-opacity: 1;\"/><text class=\"bartext bartext-inside\" text-anchor=\"middle\" data-notex=\"1\" x=\"0\" y=\"0\" style=\"font-family: 'Open Sans', verdana, arial, sans-serif; font-size: 12px; fill: rgb(255, 255, 255); fill-opacity: 1; white-space: pre;\" transform=\"translate(499.3203125,78.1303125)rotate(90 0.1796875 -4.5)\">36</text></g><g class=\"point\"><path d=\"M515.7,87V63.48H537.3V87Z\" style=\"vector-effect: non-scaling-stroke; opacity: 1; stroke-width: 0.5px; fill: rgb(255, 0, 0); fill-opacity: 1; stroke: rgb(255, 255, 255); stroke-opacity: 1;\"/><text class=\"bartext bartext-inside\" text-anchor=\"middle\" data-notex=\"1\" x=\"0\" y=\"0\" style=\"font-family: 'Open Sans', verdana, arial, sans-serif; font-size: 12px; fill: rgb(255, 255, 255); fill-opacity: 1; white-space: pre;\" transform=\"translate(526.3203125,78.80031249999999)rotate(90 0.1796875 -4.5)\">35</text></g></g></g></g></g><g class=\"overplot\"/><path class=\"xlines-above crisp\" d=\"M0,0\" style=\"fill: none;\"/><path class=\"ylines-above crisp\" d=\"M0,0\" style=\"fill: none;\"/><g class=\"overlines-above\"/><g class=\"xaxislayer-above\"><g class=\"xtick\"><text text-anchor=\"start\" x=\"0\" y=\"200\" transform=\"translate(93.5,0) rotate(90,0,194)\" style=\"font-family: 'Open Sans', verdana, arial, sans-serif; font-size: 12px; fill: rgb(42, 63, 95); fill-opacity: 1; white-space: pre; opacity: 1;\">Tapps Tecnologia da Informa\\xe7\\xe3o Ltda.</text></g><g class=\"xtick\"><text text-anchor=\"start\" x=\"0\" y=\"200\" transform=\"translate(120.5,0) rotate(90,0,194)\" style=\"font-family: 'Open Sans', verdana, arial, sans-serif; font-size: 12px; fill: rgb(42, 63, 95); fill-opacity: 1; white-space: pre; opacity: 1;\">Vikash Patel</text></g><g class=\"xtick\"><text text-anchor=\"start\" x=\"0\" y=\"200\" transform=\"translate(147.5,0) rotate(90,0,194)\" style=\"font-family: 'Open Sans', verdana, arial, sans-serif; font-size: 12px; fill: rgb(42, 63, 95); fill-opacity: 1; white-space: pre; opacity: 1;\">Netsummit Marketing, Inc.</text></g><g class=\"xtick\"><text text-anchor=\"start\" x=\"0\" y=\"200\" transform=\"translate(174.5,0) rotate(90,0,194)\" style=\"font-family: 'Open Sans', verdana, arial, sans-serif; font-size: 12px; fill: rgb(42, 63, 95); fill-opacity: 1; white-space: pre; opacity: 1;\">GabySoft</text></g><g class=\"xtick\"><text text-anchor=\"start\" x=\"0\" y=\"200\" transform=\"translate(201.5,0) rotate(90,0,194)\" style=\"font-family: 'Open Sans', verdana, arial, sans-serif; font-size: 12px; fill: rgb(42, 63, 95); fill-opacity: 1; white-space: pre; opacity: 1;\">NetSummit Enterprises, Inc.</text></g><g class=\"xtick\"><text text-anchor=\"start\" x=\"0\" y=\"200\" transform=\"translate(228.5,0) rotate(90,0,194)\" style=\"font-family: 'Open Sans', verdana, arial, sans-serif; font-size: 12px; fill: rgb(42, 63, 95); fill-opacity: 1; white-space: pre; opacity: 1;\">Andrew Kudrin</text></g><g class=\"xtick\"><text text-anchor=\"start\" x=\"0\" y=\"200\" transform=\"translate(255.5,0) rotate(90,0,194)\" style=\"font-family: 'Open Sans', verdana, arial, sans-serif; font-size: 12px; fill: rgb(42, 63, 95); fill-opacity: 1; white-space: pre; opacity: 1;\">MmpApps Corp.</text></g><g class=\"xtick\"><text text-anchor=\"start\" x=\"0\" y=\"200\" transform=\"translate(282.5,0) rotate(90,0,194)\" style=\"font-family: 'Open Sans', verdana, arial, sans-serif; font-size: 12px; fill: rgb(42, 63, 95); fill-opacity: 1; white-space: pre; opacity: 1;\">Domyung Kim</text></g><g class=\"xtick\"><text text-anchor=\"start\" x=\"0\" y=\"200\" transform=\"translate(309.5,0) rotate(90,0,194)\" style=\"font-family: 'Open Sans', verdana, arial, sans-serif; font-size: 12px; fill: rgb(42, 63, 95); fill-opacity: 1; white-space: pre; opacity: 1;\">Amy Prizer</text></g><g class=\"xtick\"><text text-anchor=\"start\" x=\"0\" y=\"200\" transform=\"translate(336.5,0) rotate(90,0,194)\" style=\"font-family: 'Open Sans', verdana, arial, sans-serif; font-size: 12px; fill: rgb(42, 63, 95); fill-opacity: 1; white-space: pre; opacity: 1;\">Detention Apps</text></g><g class=\"xtick\"><text text-anchor=\"start\" x=\"0\" y=\"200\" transform=\"translate(363.5,0) rotate(90,0,194)\" style=\"font-family: 'Open Sans', verdana, arial, sans-serif; font-size: 12px; fill: rgb(42, 63, 95); fill-opacity: 1; white-space: pre; opacity: 1;\">Qumaron</text></g><g class=\"xtick\"><text text-anchor=\"start\" x=\"0\" y=\"200\" transform=\"translate(390.5,0) rotate(90,0,194)\" style=\"font-family: 'Open Sans', verdana, arial, sans-serif; font-size: 12px; fill: rgb(42, 63, 95); fill-opacity: 1; white-space: pre; opacity: 1;\">HexWar Games Ltd</text></g><g class=\"xtick\"><text text-anchor=\"start\" x=\"0\" y=\"200\" transform=\"translate(417.5,0) rotate(90,0,194)\" style=\"font-family: 'Open Sans', verdana, arial, sans-serif; font-size: 12px; fill: rgb(42, 63, 95); fill-opacity: 1; white-space: pre; opacity: 1;\">Gulfam Asghar</text></g><g class=\"xtick\"><text text-anchor=\"start\" x=\"0\" y=\"200\" transform=\"translate(444.5,0) rotate(90,0,194)\" style=\"font-family: 'Open Sans', verdana, arial, sans-serif; font-size: 12px; fill: rgb(42, 63, 95); fill-opacity: 1; white-space: pre; opacity: 1;\">Lazy Days, LLC</text></g><g class=\"xtick\"><text text-anchor=\"start\" x=\"0\" y=\"200\" transform=\"translate(471.5,0) rotate(90,0,194)\" style=\"font-family: 'Open Sans', verdana, arial, sans-serif; font-size: 12px; fill: rgb(42, 63, 95); fill-opacity: 1; white-space: pre; opacity: 1;\">Anthony Hindle</text></g><g class=\"xtick\"><text text-anchor=\"start\" x=\"0\" y=\"200\" transform=\"translate(498.5,0) rotate(90,0,194)\" style=\"font-family: 'Open Sans', verdana, arial, sans-serif; font-size: 12px; fill: rgb(42, 63, 95); fill-opacity: 1; white-space: pre; opacity: 1;\">Tayga Games OOO</text></g><g class=\"xtick\"><text text-anchor=\"start\" x=\"0\" y=\"200\" transform=\"translate(525.5,0) rotate(90,0,194)\" style=\"font-family: 'Open Sans', verdana, arial, sans-serif; font-size: 12px; fill: rgb(42, 63, 95); fill-opacity: 1; white-space: pre; opacity: 1;\">8Floor</text></g><g class=\"xtick\"><text text-anchor=\"start\" x=\"0\" y=\"200\" transform=\"translate(552.5,0) rotate(90,0,194)\" style=\"font-family: 'Open Sans', verdana, arial, sans-serif; font-size: 12px; fill: rgb(42, 63, 95); fill-opacity: 1; white-space: pre; opacity: 1;\">EASY Inc.</text></g><g class=\"xtick\"><text text-anchor=\"start\" x=\"0\" y=\"200\" transform=\"translate(579.5,0) rotate(90,0,194)\" style=\"font-family: 'Open Sans', verdana, arial, sans-serif; font-size: 12px; fill: rgb(42, 63, 95); fill-opacity: 1; white-space: pre; opacity: 1;\">M&amp;M App Services Pty Ltd</text></g><g class=\"xtick\"><text text-anchor=\"start\" x=\"0\" y=\"200\" transform=\"translate(606.5,0) rotate(90,0,194)\" style=\"font-family: 'Open Sans', verdana, arial, sans-serif; font-size: 12px; fill: rgb(42, 63, 95); fill-opacity: 1; white-space: pre; opacity: 1;\">Renato Erive</text></g></g><g class=\"yaxislayer-above\"><g class=\"ytick\"><text text-anchor=\"end\" x=\"79\" y=\"4.199999999999999\" transform=\"translate(0,187)\" style=\"font-family: 'Open Sans', verdana, arial, sans-serif; font-size: 12px; fill: rgb(42, 63, 95); fill-opacity: 1; white-space: pre; opacity: 1;\">0</text></g><g class=\"ytick\"><text text-anchor=\"end\" x=\"79\" y=\"4.199999999999999\" style=\"font-family: 'Open Sans', verdana, arial, sans-serif; font-size: 12px; fill: rgb(42, 63, 95); fill-opacity: 1; white-space: pre; opacity: 1;\" transform=\"translate(0,153.4)\">50</text></g><g class=\"ytick\"><text text-anchor=\"end\" x=\"79\" y=\"4.199999999999999\" style=\"font-family: 'Open Sans', verdana, arial, sans-serif; font-size: 12px; fill: rgb(42, 63, 95); fill-opacity: 1; white-space: pre; opacity: 1;\" transform=\"translate(0,119.8)\">100</text></g></g><g class=\"overaxes-above\"/></g></g><g class=\"polarlayer\"/><g class=\"ternarylayer\"/><g class=\"geolayer\"/><g class=\"funnelarealayer\"/><g class=\"pielayer\"/><g class=\"iciclelayer\"/><g class=\"treemaplayer\"/><g class=\"sunburstlayer\"/><g class=\"glimages\"/><defs id=\"topdefs-12af32\"><g class=\"clips\"/></defs><g class=\"layer-above\"><g class=\"imagelayer\"/><g class=\"shapelayer\"/></g><g class=\"infolayer\"><g class=\"g-gtitle\"><text class=\"gtitle\" x=\"35\" y=\"50\" text-anchor=\"start\" dy=\"0em\" style=\"font-family: 'Open Sans', verdana, arial, sans-serif; font-size: 17px; fill: rgb(42, 63, 95); opacity: 1; font-weight: normal; white-space: pre;\">Top 20 most apps by developer</text></g><g class=\"g-xtitle\"><text class=\"xtitle\" x=\"350\" y=\"487.95625\" text-anchor=\"middle\" style=\"font-family: 'Open Sans', verdana, arial, sans-serif; font-size: 14px; fill: rgb(42, 63, 95); opacity: 1; font-weight: normal; white-space: pre;\">Developer</text></g><g class=\"g-ytitle\"><text class=\"ytitle\" transform=\"rotate(-90,31.309375000000003,143.5)\" x=\"31.309375000000003\" y=\"143.5\" text-anchor=\"middle\" style=\"font-family: 'Open Sans', verdana, arial, sans-serif; font-size: 14px; fill: rgb(42, 63, 95); opacity: 1; font-weight: normal; white-space: pre;\">Number of apps</text></g></g></svg>"
      ]
     },
     "metadata": {},
     "output_type": "display_data"
    }
   ],
   "source": [
    "a = []\n",
    "b = []\n",
    "for x,y in games['Developer'].value_counts()[:20].iteritems():\n",
    "    a.append(x)\n",
    "    b.append(y)\n",
    "    \n",
    "    \n",
    "fig = go.Figure([go.Bar(x=a ,y=b, text=b, marker_color='red')])\n",
    "fig.update_layout(template='plotly_white',title_text='Top 20 most apps by developer')\n",
    "fig.update_yaxes(title_text='Number of apps')\n",
    "fig.update_xaxes(title_text='Developer',tickfont_size=12)\n",
    "fig.show(renderer=\"svg\")"
   ]
  },
  {
   "cell_type": "code",
   "execution_count": 36,
   "id": "e5638092",
   "metadata": {},
   "outputs": [
    {
     "data": {
      "image/svg+xml": [
       "<svg class=\"main-svg\" xmlns=\"http://www.w3.org/2000/svg\" xmlns:xlink=\"http://www.w3.org/1999/xlink\" width=\"700\" height=\"500\" style=\"\" viewBox=\"0 0 700 500\"><rect x=\"0\" y=\"0\" width=\"700\" height=\"500\" style=\"fill: rgb(255, 255, 255); fill-opacity: 1;\"/><defs id=\"defs-3348a2\"><g class=\"clips\"><clipPath id=\"clip3348a2xyplot\" class=\"plotclip\"><rect width=\"540\" height=\"219\"/></clipPath><clipPath class=\"axesclip\" id=\"clip3348a2x\"><rect x=\"80\" y=\"0\" width=\"540\" height=\"500\"/></clipPath><clipPath class=\"axesclip\" id=\"clip3348a2y\"><rect x=\"0\" y=\"100\" width=\"700\" height=\"219\"/></clipPath><clipPath class=\"axesclip\" id=\"clip3348a2xy\"><rect x=\"80\" y=\"100\" width=\"540\" height=\"219\"/></clipPath></g><g class=\"gradients\"/><g class=\"patterns\"/></defs><g class=\"bglayer\"/><g class=\"layer-below\"><g class=\"imagelayer\"/><g class=\"shapelayer\"/></g><g class=\"cartesianlayer\"><g class=\"subplot xy\"><g class=\"layer-subplot\"><g class=\"shapelayer\"/><g class=\"imagelayer\"/></g><g class=\"gridlayer\"><g class=\"x\"/><g class=\"y\"><path class=\"ygrid crisp\" transform=\"translate(0,283.03)\" d=\"M80,0h540\" style=\"stroke: rgb(235, 240, 248); stroke-opacity: 1; stroke-width: 1px;\"/><path class=\"ygrid crisp\" transform=\"translate(0,247.06)\" d=\"M80,0h540\" style=\"stroke: rgb(235, 240, 248); stroke-opacity: 1; stroke-width: 1px;\"/><path class=\"ygrid crisp\" transform=\"translate(0,211.09)\" d=\"M80,0h540\" style=\"stroke: rgb(235, 240, 248); stroke-opacity: 1; stroke-width: 1px;\"/><path class=\"ygrid crisp\" transform=\"translate(0,175.13)\" d=\"M80,0h540\" style=\"stroke: rgb(235, 240, 248); stroke-opacity: 1; stroke-width: 1px;\"/><path class=\"ygrid crisp\" transform=\"translate(0,139.16)\" d=\"M80,0h540\" style=\"stroke: rgb(235, 240, 248); stroke-opacity: 1; stroke-width: 1px;\"/><path class=\"ygrid crisp\" transform=\"translate(0,103.19)\" d=\"M80,0h540\" style=\"stroke: rgb(235, 240, 248); stroke-opacity: 1; stroke-width: 1px;\"/></g></g><g class=\"zerolinelayer\"><path class=\"yzl zl crisp\" transform=\"translate(0,319)\" d=\"M80,0h540\" style=\"stroke: rgb(235, 240, 248); stroke-opacity: 1; stroke-width: 2px;\"/></g><path class=\"xlines-below\"/><path class=\"ylines-below\"/><g class=\"overlines-below\"/><g class=\"xaxislayer-below\"/><g class=\"yaxislayer-below\"/><g class=\"overaxes-below\"/><g class=\"plot\" transform=\"translate(80,100)\" clip-path=\"url(#clip3348a2xyplot)\"><g class=\"barlayer mlayer\"><g class=\"trace bars\" style=\"opacity: 1;\"><g class=\"points\"><g class=\"point\"><path d=\"M2.57,219V10.95H23.14V219Z\" style=\"vector-effect: non-scaling-stroke; opacity: 1; stroke-width: 0.5px; fill: rgb(128, 0, 128); fill-opacity: 1; stroke: rgb(255, 255, 255); stroke-opacity: 1;\"/></g><g class=\"point\"><path d=\"M28.29,219V134.54H48.86V219Z\" style=\"vector-effect: non-scaling-stroke; opacity: 1; stroke-width: 0.5px; fill: rgb(128, 0, 128); fill-opacity: 1; stroke: rgb(255, 255, 255); stroke-opacity: 1;\"/></g><g class=\"point\"><path d=\"M54,219V143.53H74.57V219Z\" style=\"vector-effect: non-scaling-stroke; opacity: 1; stroke-width: 0.5px; fill: rgb(128, 0, 128); fill-opacity: 1; stroke: rgb(255, 255, 255); stroke-opacity: 1;\"/></g><g class=\"point\"><path d=\"M79.71,219V158.42H100.29V219Z\" style=\"vector-effect: non-scaling-stroke; opacity: 1; stroke-width: 0.5px; fill: rgb(128, 0, 128); fill-opacity: 1; stroke: rgb(255, 255, 255); stroke-opacity: 1;\"/></g><g class=\"point\"><path d=\"M105.43,219V159.3H126V219Z\" style=\"vector-effect: non-scaling-stroke; opacity: 1; stroke-width: 0.5px; fill: rgb(128, 0, 128); fill-opacity: 1; stroke: rgb(255, 255, 255); stroke-opacity: 1;\"/></g><g class=\"point\"><path d=\"M131.14,219V166.81H151.71V219Z\" style=\"vector-effect: non-scaling-stroke; opacity: 1; stroke-width: 0.5px; fill: rgb(128, 0, 128); fill-opacity: 1; stroke: rgb(255, 255, 255); stroke-opacity: 1;\"/></g><g class=\"point\"><path d=\"M156.86,219V168.32H177.43V219Z\" style=\"vector-effect: non-scaling-stroke; opacity: 1; stroke-width: 0.5px; fill: rgb(128, 0, 128); fill-opacity: 1; stroke: rgb(255, 255, 255); stroke-opacity: 1;\"/></g><g class=\"point\"><path d=\"M182.57,219V169.65H203.14V219Z\" style=\"vector-effect: non-scaling-stroke; opacity: 1; stroke-width: 0.5px; fill: rgb(128, 0, 128); fill-opacity: 1; stroke: rgb(255, 255, 255); stroke-opacity: 1;\"/></g><g class=\"point\"><path d=\"M208.29,219V170.79H228.86V219Z\" style=\"vector-effect: non-scaling-stroke; opacity: 1; stroke-width: 0.5px; fill: rgb(128, 0, 128); fill-opacity: 1; stroke: rgb(255, 255, 255); stroke-opacity: 1;\"/></g><g class=\"point\"><path d=\"M234,219V174.69H254.57V219Z\" style=\"vector-effect: non-scaling-stroke; opacity: 1; stroke-width: 0.5px; fill: rgb(128, 0, 128); fill-opacity: 1; stroke: rgb(255, 255, 255); stroke-opacity: 1;\"/></g><g class=\"point\"><path d=\"M259.71,219V178.82H280.29V219Z\" style=\"vector-effect: non-scaling-stroke; opacity: 1; stroke-width: 0.5px; fill: rgb(128, 0, 128); fill-opacity: 1; stroke: rgb(255, 255, 255); stroke-opacity: 1;\"/></g><g class=\"point\"><path d=\"M285.43,219V183.07H306V219Z\" style=\"vector-effect: non-scaling-stroke; opacity: 1; stroke-width: 0.5px; fill: rgb(128, 0, 128); fill-opacity: 1; stroke: rgb(255, 255, 255); stroke-opacity: 1;\"/></g><g class=\"point\"><path d=\"M311.14,219V183.86H331.71V219Z\" style=\"vector-effect: non-scaling-stroke; opacity: 1; stroke-width: 0.5px; fill: rgb(128, 0, 128); fill-opacity: 1; stroke: rgb(255, 255, 255); stroke-opacity: 1;\"/></g><g class=\"point\"><path d=\"M336.86,219V184.29H357.43V219Z\" style=\"vector-effect: non-scaling-stroke; opacity: 1; stroke-width: 0.5px; fill: rgb(128, 0, 128); fill-opacity: 1; stroke: rgb(255, 255, 255); stroke-opacity: 1;\"/></g><g class=\"point\"><path d=\"M362.57,219V185.74H383.14V219Z\" style=\"vector-effect: non-scaling-stroke; opacity: 1; stroke-width: 0.5px; fill: rgb(128, 0, 128); fill-opacity: 1; stroke: rgb(255, 255, 255); stroke-opacity: 1;\"/></g><g class=\"point\"><path d=\"M388.29,219V185.91H408.86V219Z\" style=\"vector-effect: non-scaling-stroke; opacity: 1; stroke-width: 0.5px; fill: rgb(128, 0, 128); fill-opacity: 1; stroke: rgb(255, 255, 255); stroke-opacity: 1;\"/></g><g class=\"point\"><path d=\"M414,219V186.9H434.57V219Z\" style=\"vector-effect: non-scaling-stroke; opacity: 1; stroke-width: 0.5px; fill: rgb(128, 0, 128); fill-opacity: 1; stroke: rgb(255, 255, 255); stroke-opacity: 1;\"/></g><g class=\"point\"><path d=\"M439.71,219V206.94H460.29V219Z\" style=\"vector-effect: non-scaling-stroke; opacity: 1; stroke-width: 0.5px; fill: rgb(128, 0, 128); fill-opacity: 1; stroke: rgb(255, 255, 255); stroke-opacity: 1;\"/></g><g class=\"point\"><path d=\"M465.43,219V210.3H486V219Z\" style=\"vector-effect: non-scaling-stroke; opacity: 1; stroke-width: 0.5px; fill: rgb(128, 0, 128); fill-opacity: 1; stroke: rgb(255, 255, 255); stroke-opacity: 1;\"/></g><g class=\"point\"><path d=\"M491.14,219V211.25H511.71V219Z\" style=\"vector-effect: non-scaling-stroke; opacity: 1; stroke-width: 0.5px; fill: rgb(128, 0, 128); fill-opacity: 1; stroke: rgb(255, 255, 255); stroke-opacity: 1;\"/></g><g class=\"point\"><path d=\"M516.86,219V216.19H537.43V219Z\" style=\"vector-effect: non-scaling-stroke; opacity: 1; stroke-width: 0.5px; fill: rgb(128, 0, 128); fill-opacity: 1; stroke: rgb(255, 255, 255); stroke-opacity: 1;\"/></g></g></g></g></g><g class=\"overplot\"/><path class=\"xlines-above crisp\" d=\"M0,0\" style=\"fill: none;\"/><path class=\"ylines-above crisp\" d=\"M0,0\" style=\"fill: none;\"/><g class=\"overlines-above\"/><g class=\"xaxislayer-above\"><g class=\"xtick\"><text text-anchor=\"start\" x=\"0\" y=\"335\" transform=\"translate(92.86,0) rotate(90,0,327.5)\" style=\"font-family: 'Open Sans', verdana, arial, sans-serif; font-size: 15px; fill: rgb(42, 63, 95); fill-opacity: 1; white-space: pre; opacity: 1;\">Health &amp; Fitness</text></g><g class=\"xtick\"><text text-anchor=\"start\" x=\"0\" y=\"335\" transform=\"translate(118.57,0) rotate(90,0,327.5)\" style=\"font-family: 'Open Sans', verdana, arial, sans-serif; font-size: 15px; fill: rgb(42, 63, 95); fill-opacity: 1; white-space: pre; opacity: 1;\">Games</text></g><g class=\"xtick\"><text text-anchor=\"start\" x=\"0\" y=\"335\" transform=\"translate(144.29000000000002,0) rotate(90,0,327.5)\" style=\"font-family: 'Open Sans', verdana, arial, sans-serif; font-size: 15px; fill: rgb(42, 63, 95); fill-opacity: 1; white-space: pre; opacity: 1;\">Education</text></g><g class=\"xtick\"><text text-anchor=\"start\" x=\"0\" y=\"335\" transform=\"translate(170,0) rotate(90,0,327.5)\" style=\"font-family: 'Open Sans', verdana, arial, sans-serif; font-size: 15px; fill: rgb(42, 63, 95); fill-opacity: 1; white-space: pre; opacity: 1;\">Social Networking</text></g><g class=\"xtick\"><text text-anchor=\"start\" x=\"0\" y=\"335\" transform=\"translate(195.70999999999998,0) rotate(90,0,327.5)\" style=\"font-family: 'Open Sans', verdana, arial, sans-serif; font-size: 15px; fill: rgb(42, 63, 95); fill-opacity: 1; white-space: pre; opacity: 1;\">Utilities</text></g><g class=\"xtick\"><text text-anchor=\"start\" x=\"0\" y=\"335\" transform=\"translate(221.43,0) rotate(90,0,327.5)\" style=\"font-family: 'Open Sans', verdana, arial, sans-serif; font-size: 15px; fill: rgb(42, 63, 95); fill-opacity: 1; white-space: pre; opacity: 1;\">Entertainment</text></g><g class=\"xtick\"><text text-anchor=\"start\" x=\"0\" y=\"335\" transform=\"translate(247.14,0) rotate(90,0,327.5)\" style=\"font-family: 'Open Sans', verdana, arial, sans-serif; font-size: 15px; fill: rgb(42, 63, 95); fill-opacity: 1; white-space: pre; opacity: 1;\">Business</text></g><g class=\"xtick\"><text text-anchor=\"start\" x=\"0\" y=\"335\" transform=\"translate(272.86,0) rotate(90,0,327.5)\" style=\"font-family: 'Open Sans', verdana, arial, sans-serif; font-size: 15px; fill: rgb(42, 63, 95); fill-opacity: 1; white-space: pre; opacity: 1;\">Books</text></g><g class=\"xtick\"><text text-anchor=\"start\" x=\"0\" y=\"335\" transform=\"translate(298.57,0) rotate(90,0,327.5)\" style=\"font-family: 'Open Sans', verdana, arial, sans-serif; font-size: 15px; fill: rgb(42, 63, 95); fill-opacity: 1; white-space: pre; opacity: 1;\">Lifestyle</text></g><g class=\"xtick\"><text text-anchor=\"start\" x=\"0\" y=\"335\" transform=\"translate(324.28999999999996,0) rotate(90,0,327.5)\" style=\"font-family: 'Open Sans', verdana, arial, sans-serif; font-size: 15px; fill: rgb(42, 63, 95); fill-opacity: 1; white-space: pre; opacity: 1;\">Finance</text></g><g class=\"xtick\"><text text-anchor=\"start\" x=\"0\" y=\"335\" transform=\"translate(350,0) rotate(90,0,327.5)\" style=\"font-family: 'Open Sans', verdana, arial, sans-serif; font-size: 15px; fill: rgb(42, 63, 95); fill-opacity: 1; white-space: pre; opacity: 1;\">Shopping</text></g><g class=\"xtick\"><text text-anchor=\"start\" x=\"0\" y=\"335\" transform=\"translate(375.71,0) rotate(90,0,327.5)\" style=\"font-family: 'Open Sans', verdana, arial, sans-serif; font-size: 15px; fill: rgb(42, 63, 95); fill-opacity: 1; white-space: pre; opacity: 1;\">Productivity</text></g><g class=\"xtick\"><text text-anchor=\"start\" x=\"0\" y=\"335\" transform=\"translate(401.43,0) rotate(90,0,327.5)\" style=\"font-family: 'Open Sans', verdana, arial, sans-serif; font-size: 15px; fill: rgb(42, 63, 95); fill-opacity: 1; white-space: pre; opacity: 1;\">Music</text></g><g class=\"xtick\"><text text-anchor=\"start\" x=\"0\" y=\"335\" transform=\"translate(427.14,0) rotate(90,0,327.5)\" style=\"font-family: 'Open Sans', verdana, arial, sans-serif; font-size: 15px; fill: rgb(42, 63, 95); fill-opacity: 1; white-space: pre; opacity: 1;\">Reference</text></g><g class=\"xtick\"><text text-anchor=\"start\" x=\"0\" y=\"335\" transform=\"translate(452.86,0) rotate(90,0,327.5)\" style=\"font-family: 'Open Sans', verdana, arial, sans-serif; font-size: 15px; fill: rgb(42, 63, 95); fill-opacity: 1; white-space: pre; opacity: 1;\">Sports</text></g><g class=\"xtick\"><text text-anchor=\"start\" x=\"0\" y=\"335\" transform=\"translate(478.57,0) rotate(90,0,327.5)\" style=\"font-family: 'Open Sans', verdana, arial, sans-serif; font-size: 15px; fill: rgb(42, 63, 95); fill-opacity: 1; white-space: pre; opacity: 1;\">Food &amp; Drink</text></g><g class=\"xtick\"><text text-anchor=\"start\" x=\"0\" y=\"335\" transform=\"translate(504.29,0) rotate(90,0,327.5)\" style=\"font-family: 'Open Sans', verdana, arial, sans-serif; font-size: 15px; fill: rgb(42, 63, 95); fill-opacity: 1; white-space: pre; opacity: 1;\">News</text></g><g class=\"xtick\"><text text-anchor=\"start\" x=\"0\" y=\"335\" transform=\"translate(530,0) rotate(90,0,327.5)\" style=\"font-family: 'Open Sans', verdana, arial, sans-serif; font-size: 15px; fill: rgb(42, 63, 95); fill-opacity: 1; white-space: pre; opacity: 1;\">Navigation</text></g><g class=\"xtick\"><text text-anchor=\"start\" x=\"0\" y=\"335\" transform=\"translate(555.71,0) rotate(90,0,327.5)\" style=\"font-family: 'Open Sans', verdana, arial, sans-serif; font-size: 15px; fill: rgb(42, 63, 95); fill-opacity: 1; white-space: pre; opacity: 1;\">Travel</text></g><g class=\"xtick\"><text text-anchor=\"start\" x=\"0\" y=\"335\" transform=\"translate(581.4300000000001,0) rotate(90,0,327.5)\" style=\"font-family: 'Open Sans', verdana, arial, sans-serif; font-size: 15px; fill: rgb(42, 63, 95); fill-opacity: 1; white-space: pre; opacity: 1;\">Medical</text></g><g class=\"xtick\"><text text-anchor=\"start\" x=\"0\" y=\"335\" transform=\"translate(607.14,0) rotate(90,0,327.5)\" style=\"font-family: 'Open Sans', verdana, arial, sans-serif; font-size: 15px; fill: rgb(42, 63, 95); fill-opacity: 1; white-space: pre; opacity: 1;\">Stickers</text></g></g><g class=\"yaxislayer-above\"><g class=\"ytick\"><text text-anchor=\"end\" x=\"79\" y=\"4.199999999999999\" transform=\"translate(0,319)\" style=\"font-family: 'Open Sans', verdana, arial, sans-serif; font-size: 12px; fill: rgb(42, 63, 95); fill-opacity: 1; white-space: pre; opacity: 1;\">0</text></g><g class=\"ytick\"><text text-anchor=\"end\" x=\"79\" y=\"4.199999999999999\" style=\"font-family: 'Open Sans', verdana, arial, sans-serif; font-size: 12px; fill: rgb(42, 63, 95); fill-opacity: 1; white-space: pre; opacity: 1;\" transform=\"translate(0,283.03)\">50</text></g><g class=\"ytick\"><text text-anchor=\"end\" x=\"79\" y=\"4.199999999999999\" style=\"font-family: 'Open Sans', verdana, arial, sans-serif; font-size: 12px; fill: rgb(42, 63, 95); fill-opacity: 1; white-space: pre; opacity: 1;\" transform=\"translate(0,247.06)\">100</text></g><g class=\"ytick\"><text text-anchor=\"end\" x=\"79\" y=\"4.199999999999999\" style=\"font-family: 'Open Sans', verdana, arial, sans-serif; font-size: 12px; fill: rgb(42, 63, 95); fill-opacity: 1; white-space: pre; opacity: 1;\" transform=\"translate(0,211.09)\">150</text></g><g class=\"ytick\"><text text-anchor=\"end\" x=\"79\" y=\"4.199999999999999\" style=\"font-family: 'Open Sans', verdana, arial, sans-serif; font-size: 12px; fill: rgb(42, 63, 95); fill-opacity: 1; white-space: pre; opacity: 1;\" transform=\"translate(0,175.13)\">200</text></g><g class=\"ytick\"><text text-anchor=\"end\" x=\"79\" y=\"4.199999999999999\" style=\"font-family: 'Open Sans', verdana, arial, sans-serif; font-size: 12px; fill: rgb(42, 63, 95); fill-opacity: 1; white-space: pre; opacity: 1;\" transform=\"translate(0,139.16)\">250</text></g><g class=\"ytick\"><text text-anchor=\"end\" x=\"79\" y=\"4.199999999999999\" style=\"font-family: 'Open Sans', verdana, arial, sans-serif; font-size: 12px; fill: rgb(42, 63, 95); fill-opacity: 1; white-space: pre; opacity: 1;\" transform=\"translate(0,103.19)\">300</text></g></g><g class=\"overaxes-above\"/></g></g><g class=\"polarlayer\"/><g class=\"ternarylayer\"/><g class=\"geolayer\"/><g class=\"funnelarealayer\"/><g class=\"pielayer\"/><g class=\"iciclelayer\"/><g class=\"treemaplayer\"/><g class=\"sunburstlayer\"/><g class=\"glimages\"/><defs id=\"topdefs-3348a2\"><g class=\"clips\"/></defs><g class=\"layer-above\"><g class=\"imagelayer\"/><g class=\"shapelayer\"/></g><g class=\"infolayer\"><g class=\"g-gtitle\"><text class=\"gtitle\" x=\"35\" y=\"50\" text-anchor=\"start\" dy=\"0em\" style=\"font-family: 'Open Sans', verdana, arial, sans-serif; font-size: 17px; fill: rgb(42, 63, 95); opacity: 1; font-weight: normal; white-space: pre;\">Average app size by Genre</text></g><g class=\"g-xtitle\"><text class=\"xtitle\" x=\"350\" y=\"487.675\" text-anchor=\"middle\" style=\"font-family: 'Open Sans', verdana, arial, sans-serif; font-size: 14px; fill: rgb(42, 63, 95); opacity: 1; font-weight: normal; white-space: pre;\">Genre</text></g><g class=\"g-ytitle\"><text class=\"ytitle\" transform=\"rotate(-90,31.309375000000003,209.5)\" x=\"31.309375000000003\" y=\"209.5\" text-anchor=\"middle\" style=\"font-family: 'Open Sans', verdana, arial, sans-serif; font-size: 14px; fill: rgb(42, 63, 95); opacity: 1; font-weight: normal; white-space: pre;\">Size(mb)</text></g></g></svg>"
      ]
     },
     "metadata": {},
     "output_type": "display_data"
    }
   ],
   "source": [
    "a = []\n",
    "b = []\n",
    "for x,y in games.groupby('Primary Genre')[['Size']].mean().sort_values(by = ['Size'], ascending = False).iteritems():\n",
    "    for w,z in y.iteritems():\n",
    "        a.append(w)\n",
    "        b.append(z)\n",
    "        \n",
    "        \n",
    "fig = go.Figure([go.Bar(x =a ,y = b, marker_color='purple')])\n",
    "fig.update_layout(template='plotly_white',title_text='Average app size by Genre')\n",
    "fig.update_yaxes(title_text='Size(mb)')\n",
    "fig.update_xaxes(title_text='Genre',tickfont_size=15)\n",
    "fig.show(renderer=\"svg\")        "
   ]
  },
  {
   "cell_type": "code",
   "execution_count": 38,
   "id": "3f6e5f99",
   "metadata": {},
   "outputs": [
    {
     "data": {
      "image/svg+xml": [
       "<svg class=\"main-svg\" xmlns=\"http://www.w3.org/2000/svg\" xmlns:xlink=\"http://www.w3.org/1999/xlink\" width=\"700\" height=\"500\" style=\"\" viewBox=\"0 0 700 500\"><rect x=\"0\" y=\"0\" width=\"700\" height=\"500\" style=\"fill: rgb(255, 255, 255); fill-opacity: 1;\"/><defs id=\"defs-d0fb89\"><g class=\"clips\"><clipPath id=\"clipd0fb89xyplot\" class=\"plotclip\"><rect width=\"540\" height=\"320\"/></clipPath><clipPath class=\"axesclip\" id=\"clipd0fb89x\"><rect x=\"80\" y=\"0\" width=\"540\" height=\"500\"/></clipPath><clipPath class=\"axesclip\" id=\"clipd0fb89y\"><rect x=\"0\" y=\"100\" width=\"700\" height=\"320\"/></clipPath><clipPath class=\"axesclip\" id=\"clipd0fb89xy\"><rect x=\"80\" y=\"100\" width=\"540\" height=\"320\"/></clipPath></g><g class=\"gradients\"/><g class=\"patterns\"/></defs><g class=\"bglayer\"/><g class=\"layer-below\"><g class=\"imagelayer\"/><g class=\"shapelayer\"/></g><g class=\"cartesianlayer\"><g class=\"subplot xy\"><g class=\"layer-subplot\"><g class=\"shapelayer\"/><g class=\"imagelayer\"/></g><g class=\"gridlayer\"><g class=\"x\"/><g class=\"y\"><path class=\"ygrid crisp\" transform=\"translate(0,370.6)\" d=\"M80,0h540\" style=\"stroke: rgb(235, 240, 248); stroke-opacity: 1; stroke-width: 1px;\"/><path class=\"ygrid crisp\" transform=\"translate(0,321.19)\" d=\"M80,0h540\" style=\"stroke: rgb(235, 240, 248); stroke-opacity: 1; stroke-width: 1px;\"/><path class=\"ygrid crisp\" transform=\"translate(0,271.78999999999996)\" d=\"M80,0h540\" style=\"stroke: rgb(235, 240, 248); stroke-opacity: 1; stroke-width: 1px;\"/><path class=\"ygrid crisp\" transform=\"translate(0,222.39)\" d=\"M80,0h540\" style=\"stroke: rgb(235, 240, 248); stroke-opacity: 1; stroke-width: 1px;\"/><path class=\"ygrid crisp\" transform=\"translate(0,172.99)\" d=\"M80,0h540\" style=\"stroke: rgb(235, 240, 248); stroke-opacity: 1; stroke-width: 1px;\"/><path class=\"ygrid crisp\" transform=\"translate(0,123.58)\" d=\"M80,0h540\" style=\"stroke: rgb(235, 240, 248); stroke-opacity: 1; stroke-width: 1px;\"/></g></g><g class=\"zerolinelayer\"><path class=\"yzl zl crisp\" transform=\"translate(0,420)\" d=\"M80,0h540\" style=\"stroke: rgb(235, 240, 248); stroke-opacity: 1; stroke-width: 2px;\"/></g><path class=\"xlines-below\"/><path class=\"ylines-below\"/><g class=\"overlines-below\"/><g class=\"xaxislayer-below\"/><g class=\"yaxislayer-below\"/><g class=\"overaxes-below\"/><g class=\"plot\" transform=\"translate(80,100)\" clip-path=\"url(#clipd0fb89xyplot)\"><g class=\"barlayer mlayer\"><g class=\"trace bars\" style=\"opacity: 1;\"><g class=\"points\"><g class=\"point\"><path d=\"M426,320V16H474V320Z\" style=\"vector-effect: non-scaling-stroke; opacity: 1; stroke-width: 0.5px; fill: rgb(0, 0, 139); fill-opacity: 1; stroke: rgb(255, 255, 255); stroke-opacity: 1;\"/><text class=\"bartext bartext-outside\" text-anchor=\"middle\" data-notex=\"1\" x=\"0\" y=\"0\" style=\"font-family: 'Open Sans', verdana, arial, sans-serif; font-size: 12px; fill: rgb(42, 63, 95); fill-opacity: 1; white-space: pre;\" transform=\"translate(449.8125,10)\">12307</text></g><g class=\"point\"><path d=\"M366,320V277.46H414V320Z\" style=\"vector-effect: non-scaling-stroke; opacity: 1; stroke-width: 0.5px; fill: rgb(0, 0, 139); fill-opacity: 1; stroke: rgb(255, 255, 255); stroke-opacity: 1;\"/><text class=\"bartext bartext-outside\" text-anchor=\"middle\" data-notex=\"1\" x=\"0\" y=\"0\" style=\"font-family: 'Open Sans', verdana, arial, sans-serif; font-size: 12px; fill: rgb(42, 63, 95); fill-opacity: 1; white-space: pre;\" transform=\"translate(389.8125,271.46)\">1722</text></g><g class=\"point\"><path d=\"M486,320V295.55H534V320Z\" style=\"vector-effect: non-scaling-stroke; opacity: 1; stroke-width: 0.5px; fill: rgb(0, 0, 139); fill-opacity: 1; stroke: rgb(255, 255, 255); stroke-opacity: 1;\"/><text class=\"bartext bartext-outside\" text-anchor=\"middle\" data-notex=\"1\" x=\"0\" y=\"0\" style=\"font-family: 'Open Sans', verdana, arial, sans-serif; font-size: 12px; fill: rgb(42, 63, 95); fill-opacity: 1; white-space: pre;\" transform=\"translate(509.8125,289.55)\">990</text></g><g class=\"point\"><path d=\"M306,320V297.15H354V320Z\" style=\"vector-effect: non-scaling-stroke; opacity: 1; stroke-width: 0.5px; fill: rgb(0, 0, 139); fill-opacity: 1; stroke: rgb(255, 255, 255); stroke-opacity: 1;\"/><text class=\"bartext bartext-outside\" text-anchor=\"middle\" data-notex=\"1\" x=\"0\" y=\"0\" style=\"font-family: 'Open Sans', verdana, arial, sans-serif; font-size: 12px; fill: rgb(42, 63, 95); fill-opacity: 1; white-space: pre;\" transform=\"translate(329.8125,291.15)\">925</text></g><g class=\"point\"><path d=\"M246,320V307.3H294V320Z\" style=\"vector-effect: non-scaling-stroke; opacity: 1; stroke-width: 0.5px; fill: rgb(0, 0, 139); fill-opacity: 1; stroke: rgb(255, 255, 255); stroke-opacity: 1;\"/><text class=\"bartext bartext-outside\" text-anchor=\"middle\" data-notex=\"1\" x=\"0\" y=\"0\" style=\"font-family: 'Open Sans', verdana, arial, sans-serif; font-size: 12px; fill: rgb(42, 63, 95); fill-opacity: 1; white-space: pre;\" transform=\"translate(269.8125,301.3)\">514</text></g><g class=\"point\"><path d=\"M186,320V312.17H234V320Z\" style=\"vector-effect: non-scaling-stroke; opacity: 1; stroke-width: 0.5px; fill: rgb(0, 0, 139); fill-opacity: 1; stroke: rgb(255, 255, 255); stroke-opacity: 1;\"/><text class=\"bartext bartext-outside\" text-anchor=\"middle\" data-notex=\"1\" x=\"0\" y=\"0\" style=\"font-family: 'Open Sans', verdana, arial, sans-serif; font-size: 12px; fill: rgb(42, 63, 95); fill-opacity: 1; white-space: pre;\" transform=\"translate(209.8125,306.17)\">317</text></g><g class=\"point\"><path d=\"M126,320V316.1H174V320Z\" style=\"vector-effect: non-scaling-stroke; opacity: 1; stroke-width: 0.5px; fill: rgb(0, 0, 139); fill-opacity: 1; stroke: rgb(255, 255, 255); stroke-opacity: 1;\"/><text class=\"bartext bartext-outside\" text-anchor=\"middle\" data-notex=\"1\" x=\"0\" y=\"0\" style=\"font-family: 'Open Sans', verdana, arial, sans-serif; font-size: 12px; fill: rgb(42, 63, 95); fill-opacity: 1; white-space: pre;\" transform=\"translate(149.8125,310.1)\">158</text></g><g class=\"point\"><path d=\"M66,320V318.52H114V320Z\" style=\"vector-effect: non-scaling-stroke; opacity: 1; stroke-width: 0.5px; fill: rgb(0, 0, 139); fill-opacity: 1; stroke: rgb(255, 255, 255); stroke-opacity: 1;\"/><text class=\"bartext bartext-outside\" text-anchor=\"middle\" data-notex=\"1\" x=\"0\" y=\"0\" style=\"font-family: 'Open Sans', verdana, arial, sans-serif; font-size: 12px; fill: rgb(42, 63, 95); fill-opacity: 1; white-space: pre;\" transform=\"translate(89.8203125,312.52)\">60</text></g><g class=\"point\"><path d=\"M6,320V319.65H54V320Z\" style=\"vector-effect: non-scaling-stroke; opacity: 1; stroke-width: 0.5px; fill: rgb(0, 0, 139); fill-opacity: 1; stroke: rgb(255, 255, 255); stroke-opacity: 1;\"/><text class=\"bartext bartext-outside\" text-anchor=\"middle\" data-notex=\"1\" x=\"0\" y=\"0\" style=\"font-family: 'Open Sans', verdana, arial, sans-serif; font-size: 12px; fill: rgb(42, 63, 95); fill-opacity: 1; white-space: pre;\" transform=\"translate(29.8203125,313.65)\">14</text></g></g></g></g></g><g class=\"overplot\"/><path class=\"xlines-above crisp\" d=\"M0,0\" style=\"fill: none;\"/><path class=\"ylines-above crisp\" d=\"M0,0\" style=\"fill: none;\"/><g class=\"overlines-above\"/><g class=\"xaxislayer-above\"><g class=\"xtick\"><text text-anchor=\"middle\" x=\"0\" y=\"439\" transform=\"translate(110,0)\" style=\"font-family: 'Open Sans', verdana, arial, sans-serif; font-size: 18px; fill: rgb(42, 63, 95); fill-opacity: 1; white-space: pre; opacity: 1;\">1</text></g><g class=\"xtick\"><text text-anchor=\"middle\" x=\"0\" y=\"439\" style=\"font-family: 'Open Sans', verdana, arial, sans-serif; font-size: 18px; fill: rgb(42, 63, 95); fill-opacity: 1; white-space: pre; opacity: 1;\" transform=\"translate(230,0)\">2</text></g><g class=\"xtick\"><text text-anchor=\"middle\" x=\"0\" y=\"439\" style=\"font-family: 'Open Sans', verdana, arial, sans-serif; font-size: 18px; fill: rgb(42, 63, 95); fill-opacity: 1; white-space: pre; opacity: 1;\" transform=\"translate(350,0)\">3</text></g><g class=\"xtick\"><text text-anchor=\"middle\" x=\"0\" y=\"439\" style=\"font-family: 'Open Sans', verdana, arial, sans-serif; font-size: 18px; fill: rgb(42, 63, 95); fill-opacity: 1; white-space: pre; opacity: 1;\" transform=\"translate(470,0)\">4</text></g><g class=\"xtick\"><text text-anchor=\"middle\" x=\"0\" y=\"439\" style=\"font-family: 'Open Sans', verdana, arial, sans-serif; font-size: 18px; fill: rgb(42, 63, 95); fill-opacity: 1; white-space: pre; opacity: 1;\" transform=\"translate(590,0)\">5</text></g></g><g class=\"yaxislayer-above\"><g class=\"ytick\"><text text-anchor=\"end\" x=\"79\" y=\"4.199999999999999\" transform=\"translate(0,420)\" style=\"font-family: 'Open Sans', verdana, arial, sans-serif; font-size: 12px; fill: rgb(42, 63, 95); fill-opacity: 1; white-space: pre; opacity: 1;\">0</text></g><g class=\"ytick\"><text text-anchor=\"end\" x=\"79\" y=\"4.199999999999999\" style=\"font-family: 'Open Sans', verdana, arial, sans-serif; font-size: 12px; fill: rgb(42, 63, 95); fill-opacity: 1; white-space: pre; opacity: 1;\" transform=\"translate(0,370.6)\">2k</text></g><g class=\"ytick\"><text text-anchor=\"end\" x=\"79\" y=\"4.199999999999999\" style=\"font-family: 'Open Sans', verdana, arial, sans-serif; font-size: 12px; fill: rgb(42, 63, 95); fill-opacity: 1; white-space: pre; opacity: 1;\" transform=\"translate(0,321.19)\">4k</text></g><g class=\"ytick\"><text text-anchor=\"end\" x=\"79\" y=\"4.199999999999999\" style=\"font-family: 'Open Sans', verdana, arial, sans-serif; font-size: 12px; fill: rgb(42, 63, 95); fill-opacity: 1; white-space: pre; opacity: 1;\" transform=\"translate(0,271.78999999999996)\">6k</text></g><g class=\"ytick\"><text text-anchor=\"end\" x=\"79\" y=\"4.199999999999999\" style=\"font-family: 'Open Sans', verdana, arial, sans-serif; font-size: 12px; fill: rgb(42, 63, 95); fill-opacity: 1; white-space: pre; opacity: 1;\" transform=\"translate(0,222.39)\">8k</text></g><g class=\"ytick\"><text text-anchor=\"end\" x=\"79\" y=\"4.199999999999999\" style=\"font-family: 'Open Sans', verdana, arial, sans-serif; font-size: 12px; fill: rgb(42, 63, 95); fill-opacity: 1; white-space: pre; opacity: 1;\" transform=\"translate(0,172.99)\">10k</text></g><g class=\"ytick\"><text text-anchor=\"end\" x=\"79\" y=\"4.199999999999999\" style=\"font-family: 'Open Sans', verdana, arial, sans-serif; font-size: 12px; fill: rgb(42, 63, 95); fill-opacity: 1; white-space: pre; opacity: 1;\" transform=\"translate(0,123.58)\">12k</text></g></g><g class=\"overaxes-above\"/></g></g><g class=\"polarlayer\"/><g class=\"ternarylayer\"/><g class=\"geolayer\"/><g class=\"funnelarealayer\"/><g class=\"pielayer\"/><g class=\"iciclelayer\"/><g class=\"treemaplayer\"/><g class=\"sunburstlayer\"/><g class=\"glimages\"/><defs id=\"topdefs-d0fb89\"><g class=\"clips\"/></defs><g class=\"layer-above\"><g class=\"imagelayer\"/><g class=\"shapelayer\"/></g><g class=\"infolayer\"><g class=\"g-gtitle\"><text class=\"gtitle\" x=\"35\" y=\"50\" text-anchor=\"start\" dy=\"0em\" style=\"font-family: 'Open Sans', verdana, arial, sans-serif; font-size: 17px; fill: rgb(42, 63, 95); opacity: 1; font-weight: normal; white-space: pre;\">Amount of ratings in the dataset</text></g><g class=\"g-xtitle\"><text class=\"xtitle\" x=\"350\" y=\"467.8\" text-anchor=\"middle\" style=\"font-family: 'Open Sans', verdana, arial, sans-serif; font-size: 14px; fill: rgb(42, 63, 95); opacity: 1; font-weight: normal; white-space: pre;\">Ratings</text></g><g class=\"g-ytitle\"><text class=\"ytitle\" transform=\"rotate(-90,31.840625000000003,260)\" x=\"31.840625000000003\" y=\"260\" text-anchor=\"middle\" style=\"font-family: 'Open Sans', verdana, arial, sans-serif; font-size: 14px; fill: rgb(42, 63, 95); opacity: 1; font-weight: normal; white-space: pre;\">Count</text></g></g></svg>"
      ]
     },
     "metadata": {},
     "output_type": "display_data"
    }
   ],
   "source": [
    "a = []\n",
    "b = []\n",
    "for x,y in games['Average User Rating'].value_counts().iteritems():\n",
    "    a.append(x)\n",
    "    b.append(y)\n",
    "    \n",
    "     \n",
    "fig = go.Figure([go.Bar(x=a, y=b , text=b, textposition='outside', marker_color='darkblue')])\n",
    "fig.update_layout(template='plotly_white',title_text='Amount of ratings in the dataset')\n",
    "fig.update_yaxes(title_text='Count')\n",
    "fig.update_xaxes(title_text='Ratings',tickfont_size=18)\n",
    "fig.show(renderer=\"svg\")    "
   ]
  },
  {
   "cell_type": "markdown",
   "id": "11fbb88a",
   "metadata": {},
   "source": [
    "##### Correlation heatmap"
   ]
  },
  {
   "cell_type": "code",
   "execution_count": 39,
   "id": "d5f88a06",
   "metadata": {},
   "outputs": [
    {
     "data": {
      "image/png": "[encoded data removed]",
      "text/plain": [
       "<Figure size 864x504 with 2 Axes>"
      ]
     },
     "metadata": {
      "needs_background": "light"
     },
     "output_type": "display_data"
    }
   ],
   "source": [
    "f,ax= plt.subplots(figsize=(12,7))\n",
    "g = sns.heatmap(games.corr(),annot= True)\n",
    "bottom, top = g.get_ylim()\n",
    "g.set_ylim(bottom+.5, top-.5)\n",
    "plt.show()"
   ]
  },
  {
   "cell_type": "markdown",
   "id": "780ef332",
   "metadata": {},
   "source": [
    "Interesting find, as the dates progress so did most the average user ratings:"
   ]
  },
  {
   "cell_type": "code",
   "execution_count": 40,
   "id": "e15fec5a",
   "metadata": {},
   "outputs": [
    {
     "data": {
      "text/html": [
       "<div>\n",
       "<style scoped>\n",
       "    .dataframe tbody tr th:only-of-type {\n",
       "        vertical-align: middle;\n",
       "    }\n",
       "\n",
       "    .dataframe tbody tr th {\n",
       "        vertical-align: top;\n",
       "    }\n",
       "\n",
       "    .dataframe thead th {\n",
       "        text-align: right;\n",
       "    }\n",
       "</style>\n",
       "<table border=\"1\" class=\"dataframe\">\n",
       "  <thead>\n",
       "    <tr style=\"text-align: right;\">\n",
       "      <th></th>\n",
       "      <th>Original Release Date</th>\n",
       "      <th>Average User Rating</th>\n",
       "    </tr>\n",
       "  </thead>\n",
       "  <tbody>\n",
       "    <tr>\n",
       "      <th>0</th>\n",
       "      <td>2008</td>\n",
       "      <td>3.361702</td>\n",
       "    </tr>\n",
       "    <tr>\n",
       "      <th>1</th>\n",
       "      <td>2009</td>\n",
       "      <td>3.329545</td>\n",
       "    </tr>\n",
       "    <tr>\n",
       "      <th>2</th>\n",
       "      <td>2010</td>\n",
       "      <td>3.606498</td>\n",
       "    </tr>\n",
       "    <tr>\n",
       "      <th>3</th>\n",
       "      <td>2011</td>\n",
       "      <td>3.967347</td>\n",
       "    </tr>\n",
       "    <tr>\n",
       "      <th>4</th>\n",
       "      <td>2012</td>\n",
       "      <td>4.107682</td>\n",
       "    </tr>\n",
       "    <tr>\n",
       "      <th>5</th>\n",
       "      <td>2013</td>\n",
       "      <td>4.142980</td>\n",
       "    </tr>\n",
       "    <tr>\n",
       "      <th>6</th>\n",
       "      <td>2014</td>\n",
       "      <td>4.263074</td>\n",
       "    </tr>\n",
       "    <tr>\n",
       "      <th>7</th>\n",
       "      <td>2015</td>\n",
       "      <td>4.338222</td>\n",
       "    </tr>\n",
       "    <tr>\n",
       "      <th>8</th>\n",
       "      <td>2016</td>\n",
       "      <td>4.367882</td>\n",
       "    </tr>\n",
       "    <tr>\n",
       "      <th>9</th>\n",
       "      <td>2017</td>\n",
       "      <td>4.399042</td>\n",
       "    </tr>\n",
       "    <tr>\n",
       "      <th>10</th>\n",
       "      <td>2018</td>\n",
       "      <td>4.397963</td>\n",
       "    </tr>\n",
       "    <tr>\n",
       "      <th>11</th>\n",
       "      <td>2019</td>\n",
       "      <td>4.441720</td>\n",
       "    </tr>\n",
       "  </tbody>\n",
       "</table>\n",
       "</div>"
      ],
      "text/plain": [
       "   Original Release Date  Average User Rating\n",
       "0                   2008             3.361702\n",
       "1                   2009             3.329545\n",
       "2                   2010             3.606498\n",
       "3                   2011             3.967347\n",
       "4                   2012             4.107682\n",
       "5                   2013             4.142980\n",
       "6                   2014             4.263074\n",
       "7                   2015             4.338222\n",
       "8                   2016             4.367882\n",
       "9                   2017             4.399042\n",
       "10                  2018             4.397963\n",
       "11                  2019             4.441720"
      ]
     },
     "execution_count": 40,
     "metadata": {},
     "output_type": "execute_result"
    }
   ],
   "source": [
    "games[['Original Release Date','Average User Rating']].groupby('Original Release Date', as_index=False).mean()"
   ]
  },
  {
   "cell_type": "markdown",
   "id": "da46d0d6",
   "metadata": {},
   "source": [
    "Before we begin we need to add another column to our games dataframe."
   ]
  },
  {
   "cell_type": "code",
   "execution_count": 41,
   "id": "8aa20540",
   "metadata": {},
   "outputs": [],
   "source": [
    "temp1= [x for x in zip(games['Price'], games['In-app Purchases'])]\n",
    "temp2 = []\n",
    "for x,y in temp1:\n",
    "    if x == 0.0 and y == 0:\n",
    "        temp2.append(1)\n",
    "    else:\n",
    "        temp2.append(0)\n",
    "        "
   ]
  },
  {
   "cell_type": "code",
   "execution_count": 42,
   "id": "7d3e2f1e",
   "metadata": {},
   "outputs": [
    {
     "data": {
      "text/html": [
       "<div>\n",
       "<style scoped>\n",
       "    .dataframe tbody tr th:only-of-type {\n",
       "        vertical-align: middle;\n",
       "    }\n",
       "\n",
       "    .dataframe tbody tr th {\n",
       "        vertical-align: top;\n",
       "    }\n",
       "\n",
       "    .dataframe thead th {\n",
       "        text-align: right;\n",
       "    }\n",
       "</style>\n",
       "<table border=\"1\" class=\"dataframe\">\n",
       "  <thead>\n",
       "    <tr style=\"text-align: right;\">\n",
       "      <th></th>\n",
       "      <th>Name</th>\n",
       "      <th>Average User Rating</th>\n",
       "      <th>User Rating Count</th>\n",
       "      <th>Price</th>\n",
       "      <th>In-app Purchases</th>\n",
       "      <th>Developer</th>\n",
       "      <th>Age Rating</th>\n",
       "      <th>Languages</th>\n",
       "      <th>Size</th>\n",
       "      <th>Primary Genre</th>\n",
       "      <th>Secondary Genre</th>\n",
       "      <th>Original Release Date</th>\n",
       "      <th>Current Version Release Date</th>\n",
       "      <th>FreeToPlay</th>\n",
       "    </tr>\n",
       "  </thead>\n",
       "  <tbody>\n",
       "    <tr>\n",
       "      <th>0</th>\n",
       "      <td>Sudoku</td>\n",
       "      <td>4.0</td>\n",
       "      <td>3553.0</td>\n",
       "      <td>2.99</td>\n",
       "      <td>0</td>\n",
       "      <td>Mighty Mighty Good Games</td>\n",
       "      <td>4</td>\n",
       "      <td>17</td>\n",
       "      <td>15.85</td>\n",
       "      <td>Games</td>\n",
       "      <td>Strategy</td>\n",
       "      <td>2008</td>\n",
       "      <td>2017</td>\n",
       "      <td>0</td>\n",
       "    </tr>\n",
       "    <tr>\n",
       "      <th>1</th>\n",
       "      <td>Reversi</td>\n",
       "      <td>3.5</td>\n",
       "      <td>284.0</td>\n",
       "      <td>1.99</td>\n",
       "      <td>0</td>\n",
       "      <td>Kiss The Machine</td>\n",
       "      <td>4</td>\n",
       "      <td>1</td>\n",
       "      <td>12.33</td>\n",
       "      <td>Games</td>\n",
       "      <td>Strategy</td>\n",
       "      <td>2008</td>\n",
       "      <td>2018</td>\n",
       "      <td>0</td>\n",
       "    </tr>\n",
       "    <tr>\n",
       "      <th>2</th>\n",
       "      <td>Morocco</td>\n",
       "      <td>3.0</td>\n",
       "      <td>8376.0</td>\n",
       "      <td>0.00</td>\n",
       "      <td>0</td>\n",
       "      <td>Bayou Games</td>\n",
       "      <td>4</td>\n",
       "      <td>1</td>\n",
       "      <td>0.67</td>\n",
       "      <td>Games</td>\n",
       "      <td>Board</td>\n",
       "      <td>2008</td>\n",
       "      <td>2017</td>\n",
       "      <td>1</td>\n",
       "    </tr>\n",
       "    <tr>\n",
       "      <th>3</th>\n",
       "      <td>Sudoku (Free)</td>\n",
       "      <td>3.5</td>\n",
       "      <td>190394.0</td>\n",
       "      <td>0.00</td>\n",
       "      <td>0</td>\n",
       "      <td>Mighty Mighty Good Games</td>\n",
       "      <td>4</td>\n",
       "      <td>17</td>\n",
       "      <td>21.55</td>\n",
       "      <td>Games</td>\n",
       "      <td>Strategy</td>\n",
       "      <td>2008</td>\n",
       "      <td>2017</td>\n",
       "      <td>1</td>\n",
       "    </tr>\n",
       "    <tr>\n",
       "      <th>4</th>\n",
       "      <td>Senet Deluxe</td>\n",
       "      <td>3.5</td>\n",
       "      <td>28.0</td>\n",
       "      <td>2.99</td>\n",
       "      <td>0</td>\n",
       "      <td>RoGame Software</td>\n",
       "      <td>4</td>\n",
       "      <td>15</td>\n",
       "      <td>34.69</td>\n",
       "      <td>Games</td>\n",
       "      <td>Strategy</td>\n",
       "      <td>2008</td>\n",
       "      <td>2018</td>\n",
       "      <td>0</td>\n",
       "    </tr>\n",
       "  </tbody>\n",
       "</table>\n",
       "</div>"
      ],
      "text/plain": [
       "            Name  Average User Rating  User Rating Count  Price  \\\n",
       "0         Sudoku                  4.0             3553.0   2.99   \n",
       "1        Reversi                  3.5              284.0   1.99   \n",
       "2        Morocco                  3.0             8376.0   0.00   \n",
       "3  Sudoku (Free)                  3.5           190394.0   0.00   \n",
       "4   Senet Deluxe                  3.5               28.0   2.99   \n",
       "\n",
       "   In-app Purchases                 Developer  Age Rating  Languages   Size  \\\n",
       "0                 0  Mighty Mighty Good Games           4         17  15.85   \n",
       "1                 0          Kiss The Machine           4          1  12.33   \n",
       "2                 0               Bayou Games           4          1   0.67   \n",
       "3                 0  Mighty Mighty Good Games           4         17  21.55   \n",
       "4                 0           RoGame Software           4         15  34.69   \n",
       "\n",
       "  Primary Genre Secondary Genre Original Release Date  \\\n",
       "0         Games        Strategy                  2008   \n",
       "1         Games        Strategy                  2008   \n",
       "2         Games           Board                  2008   \n",
       "3         Games        Strategy                  2008   \n",
       "4         Games        Strategy                  2008   \n",
       "\n",
       "  Current Version Release Date  FreeToPlay  \n",
       "0                         2017           0  \n",
       "1                         2018           0  \n",
       "2                         2017           1  \n",
       "3                         2017           1  \n",
       "4                         2018           0  "
      ]
     },
     "execution_count": 42,
     "metadata": {},
     "output_type": "execute_result"
    }
   ],
   "source": [
    "games['FreeToPlay'] = temp2\n",
    "games.head()"
   ]
  },
  {
   "cell_type": "markdown",
   "id": "c1833d99",
   "metadata": {},
   "source": [
    "## 6. EDA"
   ]
  },
  {
   "cell_type": "code",
   "execution_count": 43,
   "id": "f7632734",
   "metadata": {},
   "outputs": [],
   "source": [
    "#games.columns.values\n",
    "variables = ['Name', 'Average User Rating', 'User Rating Count', 'Price',\n",
    "       'In-app Purchases', 'Developer', 'Age Rating', 'Languages', 'Size',\n",
    "       'Primary Genre', 'Secondary Genre', 'Original Release Date',\n",
    "       'Current Version Release Date']\n",
    "\n",
    "numerical = games.select_dtypes(exclude=['object']).columns\n",
    "categorical = games.select_dtypes(include=['object']).columns\n",
    "\n",
    "Y = games['Average User Rating']"
   ]
  },
  {
   "cell_type": "code",
   "execution_count": 44,
   "id": "5d614883",
   "metadata": {},
   "outputs": [],
   "source": [
    "#in app purchase average\n",
    "b = []\n",
    "for x,y in games.groupby('In-app Purchases')[['Average User Rating']].mean().sort_values(by = ['Average User Rating'], ascending = False).iteritems():\n",
    "    for w,z in y.iteritems():\n",
    "        b.append(z)\n",
    "        \n",
    "        \n",
    "temp = []\n",
    "for x in games['Price']:\n",
    "    if x == 0.0:\n",
    "        temp.append(0)\n",
    "    else:\n",
    "        temp.append(1) \n",
    "        \n",
    "#paid average              \n",
    "d = []\n",
    "for x,y in games.groupby(temp)[['Average User Rating']].mean().sort_values(by = ['Average User Rating'], ascending = False).iteritems():\n",
    "    for w,z in y.iteritems():\n",
    "        d.append(z) \n",
    "\n",
    "#freetoplay average\n",
    "f = []\n",
    "for x,y in games.groupby('FreeToPlay')[['Average User Rating']].mean().sort_values(by = ['Average User Rating'], ascending = False).iteritems():\n",
    "    for w,z in y.iteritems():\n",
    "        f.append(z)"
   ]
  },
  {
   "cell_type": "markdown",
   "id": "16a36b68",
   "metadata": {},
   "source": [
    "### In-app purchase games vs paid games vs free to play"
   ]
  },
  {
   "cell_type": "code",
   "execution_count": 46,
   "id": "a4c40be8",
   "metadata": {},
   "outputs": [
    {
     "data": {
      "image/svg+xml": [
       "<svg class=\"main-svg\" xmlns=\"http://www.w3.org/2000/svg\" xmlns:xlink=\"http://www.w3.org/1999/xlink\" width=\"700\" height=\"500\" style=\"\" viewBox=\"0 0 700 500\"><rect x=\"0\" y=\"0\" width=\"700\" height=\"500\" style=\"fill: rgb(17, 17, 17); fill-opacity: 1;\"/><defs id=\"defs-26e5a5\"><g class=\"clips\"><clipPath id=\"clip26e5a5xyplot\" class=\"plotclip\"><rect width=\"540\" height=\"320\"/></clipPath><clipPath class=\"axesclip\" id=\"clip26e5a5x\"><rect x=\"80\" y=\"0\" width=\"540\" height=\"500\"/></clipPath><clipPath class=\"axesclip\" id=\"clip26e5a5y\"><rect x=\"0\" y=\"100\" width=\"700\" height=\"320\"/></clipPath><clipPath class=\"axesclip\" id=\"clip26e5a5xy\"><rect x=\"80\" y=\"100\" width=\"540\" height=\"320\"/></clipPath></g><g class=\"gradients\"/><g class=\"patterns\"/></defs><g class=\"bglayer\"/><g class=\"layer-below\"><g class=\"imagelayer\"/><g class=\"shapelayer\"/></g><g class=\"cartesianlayer\"><g class=\"subplot xy\"><g class=\"layer-subplot\"><g class=\"shapelayer\"/><g class=\"imagelayer\"/></g><g class=\"gridlayer\"><g class=\"x\"/><g class=\"y\"><path class=\"ygrid crisp\" transform=\"translate(0,349.71000000000004)\" d=\"M80,0h540\" style=\"stroke: rgb(40, 52, 66); stroke-opacity: 1; stroke-width: 1px;\"/><path class=\"ygrid crisp\" transform=\"translate(0,279.43)\" d=\"M80,0h540\" style=\"stroke: rgb(40, 52, 66); stroke-opacity: 1; stroke-width: 1px;\"/><path class=\"ygrid crisp\" transform=\"translate(0,209.14)\" d=\"M80,0h540\" style=\"stroke: rgb(40, 52, 66); stroke-opacity: 1; stroke-width: 1px;\"/><path class=\"ygrid crisp\" transform=\"translate(0,138.85)\" d=\"M80,0h540\" style=\"stroke: rgb(40, 52, 66); stroke-opacity: 1; stroke-width: 1px;\"/></g></g><g class=\"zerolinelayer\"><path class=\"yzl zl crisp\" transform=\"translate(0,420)\" d=\"M80,0h540\" style=\"stroke: rgb(40, 52, 66); stroke-opacity: 1; stroke-width: 2px;\"/></g><path class=\"xlines-below\"/><path class=\"ylines-below\"/><g class=\"overlines-below\"/><g class=\"xaxislayer-below\"/><g class=\"yaxislayer-below\"/><g class=\"overaxes-below\"/><g class=\"plot\" transform=\"translate(80,100)\" clip-path=\"url(#clip26e5a5xyplot)\"><g class=\"barlayer mlayer\"><g class=\"trace bars\" style=\"opacity: 1;\"><g class=\"points\"><g class=\"point\"><path d=\"M18,320V18.48H162V320Z\" style=\"vector-effect: non-scaling-stroke; opacity: 1; stroke-width: 0.5px; fill: rgb(99, 110, 250); fill-opacity: 1; stroke: rgb(17, 17, 17); stroke-opacity: 1;\"/><text class=\"bartext bartext-inside\" text-anchor=\"middle\" data-notex=\"1\" x=\"0\" y=\"0\" style=\"font-family: 'Courier New'; font-size: 12px; fill: rgb(255, 255, 255); fill-opacity: 1; white-space: pre;\" transform=\"translate(90,31.48)\">4.289795652739815</text></g><g class=\"point\"><path d=\"M198,320V19.13H342V320Z\" style=\"vector-effect: non-scaling-stroke; opacity: 1; stroke-width: 0.5px; fill: rgb(99, 110, 250); fill-opacity: 1; stroke: rgb(17, 17, 17); stroke-opacity: 1;\"/><text class=\"bartext bartext-inside\" text-anchor=\"middle\" data-notex=\"1\" x=\"0\" y=\"0\" style=\"font-family: 'Courier New'; font-size: 12px; fill: rgb(255, 255, 255); fill-opacity: 1; white-space: pre;\" transform=\"translate(270,32.129999999999995)\">4.280584626488633</text></g><g class=\"point\"><path d=\"M378,320V16H522V320Z\" style=\"vector-effect: non-scaling-stroke; opacity: 1; stroke-width: 0.5px; fill: rgb(99, 110, 250); fill-opacity: 1; stroke: rgb(17, 17, 17); stroke-opacity: 1;\"/><text class=\"bartext bartext-inside\" text-anchor=\"middle\" data-notex=\"1\" x=\"0\" y=\"0\" style=\"font-family: 'Courier New'; font-size: 12px; fill: rgb(255, 255, 255); fill-opacity: 1; white-space: pre;\" transform=\"translate(450,29)\">4.325133165124755</text></g></g></g></g></g><g class=\"overplot\"/><path class=\"xlines-above crisp\" d=\"M0,0\" style=\"fill: none;\"/><path class=\"ylines-above crisp\" d=\"M0,0\" style=\"fill: none;\"/><g class=\"overlines-above\"/><g class=\"xaxislayer-above\"><g class=\"xtick\"><text text-anchor=\"middle\" x=\"0\" y=\"436\" transform=\"translate(170,0)\" style=\"font-family: 'Courier New'; font-size: 15px; fill: rgb(242, 245, 250); fill-opacity: 1; white-space: pre; opacity: 1;\">Has In-app purchases</text></g><g class=\"xtick\"><text text-anchor=\"middle\" x=\"0\" y=\"436\" transform=\"translate(350,0)\" style=\"font-family: 'Courier New'; font-size: 15px; fill: rgb(242, 245, 250); fill-opacity: 1; white-space: pre; opacity: 1;\">Pay to download</text></g><g class=\"xtick\"><text text-anchor=\"middle\" x=\"0\" y=\"436\" transform=\"translate(530,0)\" style=\"font-family: 'Courier New'; font-size: 15px; fill: rgb(242, 245, 250); fill-opacity: 1; white-space: pre; opacity: 1;\">Free to play</text></g></g><g class=\"yaxislayer-above\"><g class=\"ytick\"><text text-anchor=\"end\" x=\"79\" y=\"4.199999999999999\" transform=\"translate(0,420)\" style=\"font-family: 'Courier New'; font-size: 12px; fill: rgb(242, 245, 250); fill-opacity: 1; white-space: pre; opacity: 1;\">0</text></g><g class=\"ytick\"><text text-anchor=\"end\" x=\"79\" y=\"4.199999999999999\" style=\"font-family: 'Courier New'; font-size: 12px; fill: rgb(242, 245, 250); fill-opacity: 1; white-space: pre; opacity: 1;\" transform=\"translate(0,349.71000000000004)\">1</text></g><g class=\"ytick\"><text text-anchor=\"end\" x=\"79\" y=\"4.199999999999999\" style=\"font-family: 'Courier New'; font-size: 12px; fill: rgb(242, 245, 250); fill-opacity: 1; white-space: pre; opacity: 1;\" transform=\"translate(0,279.43)\">2</text></g><g class=\"ytick\"><text text-anchor=\"end\" x=\"79\" y=\"4.199999999999999\" style=\"font-family: 'Courier New'; font-size: 12px; fill: rgb(242, 245, 250); fill-opacity: 1; white-space: pre; opacity: 1;\" transform=\"translate(0,209.14)\">3</text></g><g class=\"ytick\"><text text-anchor=\"end\" x=\"79\" y=\"4.199999999999999\" style=\"font-family: 'Courier New'; font-size: 12px; fill: rgb(242, 245, 250); fill-opacity: 1; white-space: pre; opacity: 1;\" transform=\"translate(0,138.85)\">4</text></g></g><g class=\"overaxes-above\"/></g></g><g class=\"polarlayer\"/><g class=\"ternarylayer\"/><g class=\"geolayer\"/><g class=\"funnelarealayer\"/><g class=\"pielayer\"/><g class=\"iciclelayer\"/><g class=\"treemaplayer\"/><g class=\"sunburstlayer\"/><g class=\"glimages\"/><defs id=\"topdefs-26e5a5\"><g class=\"clips\"/></defs><g class=\"layer-above\"><g class=\"imagelayer\"/><g class=\"shapelayer\"/></g><g class=\"infolayer\"><g class=\"g-gtitle\"><text class=\"gtitle\" x=\"35\" y=\"50\" text-anchor=\"start\" dy=\"0em\" style=\"font-family: 'Courier New'; font-size: 17px; fill: rgb(242, 245, 250); opacity: 1; font-weight: normal; white-space: pre;\">Average user rating per app payment type</text></g><g class=\"g-xtitle\"><text class=\"xtitle\" x=\"350\" y=\"465.8\" text-anchor=\"middle\" style=\"font-family: 'Courier New'; font-size: 14px; fill: rgb(242, 245, 250); opacity: 1; font-weight: normal; white-space: pre;\">App payment type</text></g><g class=\"g-ytitle\"><text class=\"ytitle\" transform=\"rotate(-90,46.996875,260)\" x=\"46.996875\" y=\"260\" text-anchor=\"middle\" style=\"font-family: 'Courier New'; font-size: 14px; fill: rgb(242, 245, 250); opacity: 1; font-weight: normal; white-space: pre;\">Average user rating</text></g></g></svg>"
      ]
     },
     "metadata": {},
     "output_type": "display_data"
    }
   ],
   "source": [
    "fig = go.Figure(data=[\n",
    "    go.Bar(name='Price',x =['Has In-app purchases','Pay to download','Free to play'] ,y = (b[1],d[1],f[0]), text=(b[1],d[1],f[0]))])\n",
    "fig.update_layout(hoverlabel=dict(font=dict(family='sans-serif', size=25)),barmode='relative', template='plotly_dark', title_text='Average user rating per app payment type', font_family=\"Courier New\")\n",
    "fig.update_yaxes(title_text='Average user rating')\n",
    "fig.update_xaxes(title_text='App payment type',tickfont_size=15)\n",
    "fig.show(renderer=\"svg\")   "
   ]
  },
  {
   "cell_type": "markdown",
   "id": "ce960280",
   "metadata": {},
   "source": [
    "**Conclusion:** Whether an app has in-app purchases, costs money to download or is totally free to play, there seems to be no impact on the games rating. However, free to play games has a very slight advantage over the other 2.\n"
   ]
  },
  {
   "cell_type": "markdown",
   "id": "7bb92c93",
   "metadata": {},
   "source": [
    "### What genre and subgenres are the most popular? "
   ]
  },
  {
   "cell_type": "code",
   "execution_count": 47,
   "id": "0da25398",
   "metadata": {
    "scrolled": false
   },
   "outputs": [
    {
     "data": {
      "image/svg+xml": [
       "<svg class=\"main-svg\" xmlns=\"http://www.w3.org/2000/svg\" xmlns:xlink=\"http://www.w3.org/1999/xlink\" width=\"700\" height=\"500\" style=\"\" viewBox=\"0 0 700 500\"><rect x=\"0\" y=\"0\" width=\"700\" height=\"500\" style=\"fill: rgb(255, 255, 255); fill-opacity: 1;\"/><defs id=\"defs-f3655e\"><g class=\"clips\"/><g class=\"gradients\"/><g class=\"patterns\"/></defs><g class=\"bglayer\"/><g class=\"layer-below\"><g class=\"imagelayer\"/><g class=\"shapelayer\"/></g><g class=\"cartesianlayer\"/><g class=\"polarlayer\"/><g class=\"ternarylayer\"/><g class=\"geolayer\"/><g class=\"funnelarealayer\"/><g class=\"pielayer\"><g class=\"trace\" stroke-linejoin=\"round\" style=\"opacity: 1;\"><g class=\"slice\"><path class=\"surface\" d=\"M302.5,260l0,-160a160,160 0 1 1 -42.117191611469394,5.642809785994189Z\" style=\"pointer-events: all; stroke-width: 0; fill: rgb(99, 110, 250); fill-opacity: 1; stroke: rgb(68, 68, 68); stroke-opacity: 1;\"/><g class=\"slicetext\"><text data-notex=\"1\" class=\"slicetext\" transform=\"translate(313.123379675032,334.29151155249923)\" text-anchor=\"middle\" x=\"0\" y=\"0\" style=\"font-family: 'Open Sans', verdana, arial, sans-serif; font-size: 20px; fill: rgb(255, 255, 255); fill-opacity: 1; white-space: pre;\"><tspan class=\"line\" dy=\"0em\" x=\"0\" y=\"0\">Games</tspan><tspan class=\"line\" dy=\"1.3em\" x=\"0\" y=\"0\">95.8%</tspan></text></g></g><g class=\"slice\"><path class=\"surface\" d=\"M302.5,260l-13.108050339360064,-159.46215543601812a160,160 0 0 1 13.108050339360064,-0.5378445639818779Z\" style=\"pointer-events: all; stroke-width: 0; fill: rgb(239, 85, 59); fill-opacity: 1; stroke: rgb(68, 68, 68); stroke-opacity: 1;\"/><g class=\"slicetext\"><text data-notex=\"1\" class=\"slicetext\" transform=\"translate(297.48669739192775,111.29442773249576)scale(0.217482639134843)rotate(87.65037925560068)\" text-anchor=\"middle\" x=\"0\" y=\"0\" style=\"font-family: 'Open Sans', verdana, arial, sans-serif; font-size: 20px; fill: rgb(68, 68, 68); fill-opacity: 1; white-space: pre;\"><tspan class=\"line\" dy=\"0em\" x=\"0\" y=\"0\">Education</tspan><tspan class=\"line\" dy=\"1.3em\" x=\"0\" y=\"0\">1.31%</tspan></text></g></g><g class=\"slice\"><path class=\"surface\" d=\"M302.5,260l-24.727332883211194,-158.0776992762827a160,160 0 0 1 11.61928254385113,-1.3844561597354357Z\" style=\"pointer-events: all; stroke-width: 0; fill: rgb(0, 204, 150); fill-opacity: 1; stroke: rgb(68, 68, 68); stroke-opacity: 1;\"/><g class=\"slicetext\"><text data-notex=\"1\" class=\"slicetext\" transform=\"translate(286.14540639708025,114.87465526494722)scale(0.18614809385833608)rotate(83.20515082025054)\" text-anchor=\"middle\" x=\"0\" y=\"0\" style=\"font-family: 'Open Sans', verdana, arial, sans-serif; font-size: 20px; fill: rgb(68, 68, 68); fill-opacity: 1; white-space: pre;\"><tspan class=\"line\" dy=\"0em\" x=\"0\" y=\"0\">Entertainment</tspan><tspan class=\"line\" dy=\"1.3em\" x=\"0\" y=\"0\">1.16%</tspan></text></g></g><g class=\"slice\"><path class=\"surface\" d=\"M302.5,260l-29.213624364390437,-157.3104070031487a160,160 0 0 1 4.486291481179244,-0.7672922731339895Z\" style=\"pointer-events: all; stroke-width: 0; fill: rgb(171, 99, 250); fill-opacity: 1; stroke: rgb(68, 68, 68); stroke-opacity: 1;\"/><g class=\"slicetext\"><text data-notex=\"1\" class=\"slicetext\" transform=\"translate(276.52728978499084,105.65392156431533)scale(0.0838155587456057)rotate(80.29458458281886)\" text-anchor=\"middle\" x=\"0\" y=\"0\" style=\"font-family: 'Open Sans', verdana, arial, sans-serif; font-size: 20px; fill: rgb(68, 68, 68); fill-opacity: 1; white-space: pre;\"><tspan class=\"line\" dy=\"0em\" x=\"0\" y=\"0\">Utilities</tspan><tspan class=\"line\" dy=\"1.3em\" x=\"0\" y=\"0\">0.453%</tspan></text></g></g><g class=\"slice\"><path class=\"surface\" d=\"M302.5,260l-32.69323334865367,-156.62423980090207a160,160 0 0 1 3.4796089842632334,-0.6861672022466223Z\" style=\"pointer-events: all; stroke-width: 0; fill: rgb(255, 161, 90); fill-opacity: 1; stroke: rgb(68, 68, 68); stroke-opacity: 1;\"/><g class=\"slicetext\"><text data-notex=\"1\" class=\"slicetext\" transform=\"translate(272.3980615215921,105.64644371215674)scale(0.06594293916278962)rotate(78.84459340271655)\" text-anchor=\"middle\" x=\"0\" y=\"0\" style=\"font-family: 'Open Sans', verdana, arial, sans-serif; font-size: 20px; fill: rgb(68, 68, 68); fill-opacity: 1; white-space: pre;\"><tspan class=\"line\" dy=\"0em\" x=\"0\" y=\"0\">Sports</tspan><tspan class=\"line\" dy=\"1.3em\" x=\"0\" y=\"0\">0.353%</tspan></text></g></g><g class=\"slice\"><path class=\"surface\" d=\"M302.5,260l-34.54256495571917,-156.22679413685708a160,160 0 0 1 1.8493316070655013,-0.3974456640449944Z\" style=\"pointer-events: all; stroke-width: 0; fill: rgb(25, 211, 243); fill-opacity: 1; stroke: rgb(68, 68, 68); stroke-opacity: 1;\"/><g class=\"slicetext\"><text data-notex=\"1\" class=\"slicetext\" transform=\"translate(269.44317228940315,105.33866255824823)scale(0.03557297258584163)rotate(77.87087669783034)\" text-anchor=\"middle\" x=\"0\" y=\"0\" style=\"font-family: 'Open Sans', verdana, arial, sans-serif; font-size: 20px; fill: rgb(68, 68, 68); fill-opacity: 1; white-space: pre;\"><tspan class=\"line\" dy=\"0em\" x=\"0\" y=\"0\">Reference</tspan><tspan class=\"line\" dy=\"1.3em\" x=\"0\" y=\"0\">0.188%</tspan></text></g></g><g class=\"slice\"><path class=\"surface\" d=\"M302.5,260l-36.214358538449936,-155.84774697007526a160,160 0 0 1 1.6717935827307642,-0.3790471667818167Z\" style=\"pointer-events: all; stroke-width: 0; fill: rgb(255, 102, 146); fill-opacity: 1; stroke: rgb(68, 68, 68); stroke-opacity: 1;\"/><g class=\"slicetext\"><text data-notex=\"1\" class=\"slicetext\" transform=\"translate(267.57784680753474,105.24168107763012)scale(0.032442715552133586)rotate(77.22526018698181)\" text-anchor=\"middle\" x=\"0\" y=\"0\" style=\"font-family: 'Open Sans', verdana, arial, sans-serif; font-size: 20px; fill: rgb(68, 68, 68); fill-opacity: 1; white-space: pre;\"><tspan class=\"line\" dy=\"0em\" x=\"0\" y=\"0\">Stickers</tspan><tspan class=\"line\" dy=\"1.3em\" x=\"0\" y=\"0\">0.171%</tspan></text></g></g><g class=\"slice\"><path class=\"surface\" d=\"M302.5,260l-37.24994486252977,-155.60347556445674a160,160 0 0 1 1.035586324079837,-0.24427140561851957Z\" style=\"pointer-events: all; stroke-width: 0; fill: rgb(182, 232, 128); fill-opacity: 1; stroke: rgb(68, 68, 68); stroke-opacity: 1;\"/><g class=\"slicetext\"><text data-notex=\"1\" class=\"slicetext\" transform=\"translate(266.0590863105957,105.0676846137191)scale(0.0202673028563523)rotate(76.72781795731169)\" text-anchor=\"middle\" x=\"0\" y=\"0\" style=\"font-family: 'Open Sans', verdana, arial, sans-serif; font-size: 20px; fill: rgb(68, 68, 68); fill-opacity: 1; white-space: pre;\"><tspan class=\"line\" dy=\"0em\" x=\"0\" y=\"0\">Finance</tspan><tspan class=\"line\" dy=\"1.3em\" x=\"0\" y=\"0\">0.106%</tspan></text></g></g><g class=\"slice\"><path class=\"surface\" d=\"M302.5,260l-38.169084541195524,-155.38056823582244a160,160 0 0 1 0.9191396786657506,-0.22290732863430662Z\" style=\"pointer-events: all; stroke-width: 0; fill: rgb(255, 151, 255); fill-opacity: 1; stroke: rgb(68, 68, 68); stroke-opacity: 1;\"/><g class=\"slicetext\"><text data-notex=\"1\" class=\"slicetext\" transform=\"translate(265.0816794878251,105.32662353683159)scale(0.018009642634736703)rotate(76.36796613159288)\" text-anchor=\"middle\" x=\"0\" y=\"0\" style=\"font-family: 'Open Sans', verdana, arial, sans-serif; font-size: 20px; fill: rgb(68, 68, 68); fill-opacity: 1; white-space: pre;\"><tspan class=\"line\" dy=\"0em\" x=\"0\" y=\"0\">Business</tspan><tspan class=\"line\" dy=\"1.3em\" x=\"0\" y=\"0\">0.0941%</tspan></text></g></g><g class=\"slice\"><path class=\"surface\" d=\"M302.5,260l-39.029567335924646,-155.16666160477425a160,160 0 0 1 0.8604827947291227,-0.2139066310481894Z\" style=\"pointer-events: all; stroke-width: 0; fill: rgb(254, 203, 82); fill-opacity: 1; stroke: rgb(68, 68, 68); stroke-opacity: 1;\"/><g class=\"slicetext\"><text data-notex=\"1\" class=\"slicetext\" transform=\"translate(264.2328133163082,105.71332396124244)scale(0.016846673659047105)rotate(76.03986593755508)\" text-anchor=\"middle\" x=\"0\" y=\"0\" style=\"font-family: 'Open Sans', verdana, arial, sans-serif; font-size: 20px; fill: rgb(68, 68, 68); fill-opacity: 1; white-space: pre;\"><tspan class=\"line\" dy=\"0em\" x=\"0\" y=\"0\">Productivity</tspan><tspan class=\"line\" dy=\"1.3em\" x=\"0\" y=\"0\">0.0882%</tspan></text></g></g><g class=\"slice\"><path class=\"surface\" d=\"M302.5,260l-39.60255826528952,-155.0214094209066a160,160 0 0 1 0.5729909293648703,-0.1452521838676546Z\" style=\"pointer-events: all; stroke-width: 0; fill: rgb(198, 202, 253); fill-opacity: 1; stroke: rgb(68, 68, 68); stroke-opacity: 1;\"/><g class=\"slicetext\"><text data-notex=\"1\" class=\"slicetext\" transform=\"translate(263.37197987981295,105.41778727946016)scale(0.01130182067012528)rotate(75.77526900687951)\" text-anchor=\"middle\" x=\"0\" y=\"0\" style=\"font-family: 'Open Sans', verdana, arial, sans-serif; font-size: 20px; fill: rgb(68, 68, 68); fill-opacity: 1; white-space: pre;\"><tspan class=\"line\" dy=\"0em\" x=\"0\" y=\"0\">Lifestyle</tspan><tspan class=\"line\" dy=\"1.3em\" x=\"0\" y=\"0\">0.0588%</tspan></text></g></g><g class=\"slice\"><path class=\"surface\" d=\"M302.5,260l-40.117788163585146,-154.88887330231861a160,160 0 0 1 0.5152298982956296,-0.13253611858797854Z\" style=\"pointer-events: all; stroke-width: 0; fill: rgb(247, 167, 153); fill-opacity: 1; stroke: rgb(68, 68, 68); stroke-opacity: 1;\"/><g class=\"slicetext\"><text data-notex=\"1\" class=\"slicetext\" transform=\"translate(262.8107969635692,105.50521507711534)scale(0.010178539958397771)rotate(75.57417533956607)\" text-anchor=\"middle\" x=\"0\" y=\"0\" style=\"font-family: 'Open Sans', verdana, arial, sans-serif; font-size: 20px; fill: rgb(68, 68, 68); fill-opacity: 1; white-space: pre;\"><tspan class=\"line\" dy=\"0em\" x=\"0\" y=\"0\">Books</tspan><tspan class=\"line\" dy=\"1.3em\" x=\"0\" y=\"0\">0.0529%</tspan></text></g></g><g class=\"slice\"><path class=\"surface\" d=\"M302.5,260l-40.63257452890645,-154.75462476822094a160,160 0 0 1 0.5147863653213065,-0.13424853409767934Z\" style=\"pointer-events: all; stroke-width: 0; fill: rgb(51, 255, 201); fill-opacity: 1; stroke: rgb(68, 68, 68); stroke-opacity: 1;\"/><g class=\"slicetext\"><text data-notex=\"1\" class=\"slicetext\" transform=\"translate(262.4132223148804,106.0836460869128)scale(0.010119597729511754)rotate(75.38366554947959)\" text-anchor=\"middle\" x=\"0\" y=\"0\" style=\"font-family: 'Open Sans', verdana, arial, sans-serif; font-size: 20px; fill: rgb(68, 68, 68); fill-opacity: 1; white-space: pre;\"><tspan class=\"line\" dy=\"0em\" x=\"0\" y=\"0\">Social Networking</tspan><tspan class=\"line\" dy=\"1.3em\" x=\"0\" y=\"0\">0.0529%</tspan></text></g></g><g class=\"slice\"><path class=\"surface\" d=\"M302.5,260l-41.03265364059686,-154.64902629894186a160,160 0 0 1 0.40007911169040966,-0.10559846927907302Z\" style=\"pointer-events: all; stroke-width: 0; fill: rgb(224, 198, 253); fill-opacity: 1; stroke: rgb(68, 68, 68); stroke-opacity: 1;\"/><g class=\"slicetext\"><text data-notex=\"1\" class=\"slicetext\" transform=\"translate(261.80279283389854,105.6558734217304)scale(0.007927399257730106)rotate(75.21432351384726)\" text-anchor=\"middle\" x=\"0\" y=\"0\" style=\"font-family: 'Open Sans', verdana, arial, sans-serif; font-size: 20px; fill: rgb(68, 68, 68); fill-opacity: 1; white-space: pre;\"><tspan class=\"line\" dy=\"0em\" x=\"0\" y=\"0\">News</tspan><tspan class=\"line\" dy=\"1.3em\" x=\"0\" y=\"0\">0.0412%</tspan></text></g></g><g class=\"slice\"><path class=\"surface\" d=\"M302.5,260l-41.31825657295022,-154.5729655333424a160,160 0 0 1 0.2856029323533562,-0.07606076559946473Z\" style=\"pointer-events: all; stroke-width: 0; fill: rgb(255, 219, 192); fill-opacity: 1; stroke: rgb(68, 68, 68); stroke-opacity: 1;\"/><g class=\"slicetext\"><text data-notex=\"1\" class=\"slicetext\" transform=\"translate(261.47576302172035,105.84694174808932)scale(0.0056552445518536585)rotate(75.0873169871229)\" text-anchor=\"middle\" x=\"0\" y=\"0\" style=\"font-family: 'Open Sans', verdana, arial, sans-serif; font-size: 20px; fill: rgb(68, 68, 68); fill-opacity: 1; white-space: pre;\"><tspan class=\"line\" dy=\"0em\" x=\"0\" y=\"0\">Health &amp; Fitness</tspan><tspan class=\"line\" dy=\"1.3em\" x=\"0\" y=\"0\">0.0294%</tspan></text></g></g><g class=\"slice\"><path class=\"surface\" d=\"M302.5,260l-41.546637453291915,-154.5117371474566a160,160 0 0 1 0.228380880341696,-0.06122838588578361Z\" style=\"pointer-events: all; stroke-width: 0; fill: rgb(122, 230, 248); fill-opacity: 1; stroke: rgb(68, 68, 68); stroke-opacity: 1;\"/><g class=\"slicetext\"><text data-notex=\"1\" class=\"slicetext\" transform=\"translate(261.16893636618585,105.74826263255098)scale(0.004533973474425512)rotate(74.99206209207978)\" text-anchor=\"middle\" x=\"0\" y=\"0\" style=\"font-family: 'Open Sans', verdana, arial, sans-serif; font-size: 20px; fill: rgb(68, 68, 68); fill-opacity: 1; white-space: pre;\"><tspan class=\"line\" dy=\"0em\" x=\"0\" y=\"0\">Food &amp; Drink</tspan><tspan class=\"line\" dy=\"1.3em\" x=\"0\" y=\"0\">0.0235%</tspan></text></g></g><g class=\"slice\"><path class=\"surface\" d=\"M302.5,260l-41.71786359799426,-154.4655944112447a160,160 0 0 1 0.1712261447023451,-0.046142736211919555Z\" style=\"pointer-events: all; stroke-width: 0; fill: rgb(255, 204, 219); fill-opacity: 1; stroke: rgb(68, 68, 68); stroke-opacity: 1;\"/><g class=\"slicetext\"><text data-notex=\"1\" class=\"slicetext\" transform=\"translate(260.92673353791986,105.66474889536778)scale(0.0034067144104860843)rotate(74.91797495149058)\" text-anchor=\"middle\" x=\"0\" y=\"0\" style=\"font-family: 'Open Sans', verdana, arial, sans-serif; font-size: 20px; fill: rgb(68, 68, 68); fill-opacity: 1; white-space: pre;\"><tspan class=\"line\" dy=\"0em\" x=\"0\" y=\"0\">Music</tspan><tspan class=\"line\" dy=\"1.3em\" x=\"0\" y=\"0\">0.0176%</tspan></text></g></g><g class=\"slice\"><path class=\"surface\" d=\"M302.5,260l-41.889038495650446,-154.4192619264511a160,160 0 0 1 0.17117489765618643,-0.046332484793595086Z\" style=\"pointer-events: all; stroke-width: 0; fill: rgb(232, 248, 214); fill-opacity: 1; stroke: rgb(68, 68, 68); stroke-opacity: 1;\"/><g class=\"slicetext\"><text data-notex=\"1\" class=\"slicetext\" transform=\"translate(260.7623431781908,105.73547381869392)scale(0.0034056290769251206)rotate(74.85447168812846)\" text-anchor=\"middle\" x=\"0\" y=\"0\" style=\"font-family: 'Open Sans', verdana, arial, sans-serif; font-size: 20px; fill: rgb(68, 68, 68); fill-opacity: 1; white-space: pre;\"><tspan class=\"line\" dy=\"0em\" x=\"0\" y=\"0\">Navigation</tspan><tspan class=\"line\" dy=\"1.3em\" x=\"0\" y=\"0\">0.0176%</tspan></text></g></g><g class=\"slice\"><path class=\"surface\" d=\"M302.5,260l-42.00312651966479,-154.38826821547366a160,160 0 0 1 0.11408802401434315,-0.03099371097744097Z\" style=\"pointer-events: all; stroke-width: 0; fill: rgb(255, 253, 255); fill-opacity: 1; stroke: rgb(68, 68, 68); stroke-opacity: 1;\"/><g class=\"slicetext\"><text data-notex=\"1\" class=\"slicetext\" transform=\"translate(260.59347489728503,105.69850096375228)scale(0.002272691067237068)rotate(74.8015523019933)\" text-anchor=\"middle\" x=\"0\" y=\"0\" style=\"font-family: 'Open Sans', verdana, arial, sans-serif; font-size: 20px; fill: rgb(68, 68, 68); fill-opacity: 1; white-space: pre;\"><tspan class=\"line\" dy=\"0em\" x=\"0\" y=\"0\">Medical</tspan><tspan class=\"line\" dy=\"1.3em\" x=\"0\" y=\"0\">0.0118%</tspan></text></g></g><g class=\"slice\"><path class=\"surface\" d=\"M302.5,260l-42.06016193598585,-154.37273974999164a160,160 0 0 1 0.05703541632106379,-0.015528465482020692Z\" style=\"pointer-events: all; stroke-width: 0; fill: rgb(255, 233, 183); fill-opacity: 1; stroke: rgb(68, 68, 68); stroke-opacity: 1;\"/><g class=\"slicetext\"><text data-notex=\"1\" class=\"slicetext\" transform=\"translate(260.49014795426075,105.67789670624572)scale(0.0011370138588138038)rotate(74.76980067031218)\" text-anchor=\"middle\" x=\"0\" y=\"0\" style=\"font-family: 'Open Sans', verdana, arial, sans-serif; font-size: 20px; fill: rgb(68, 68, 68); fill-opacity: 1; white-space: pre;\"><tspan class=\"line\" dy=\"0em\" x=\"0\" y=\"0\">Travel</tspan><tspan class=\"line\" dy=\"1.3em\" x=\"0\" y=\"0\">0.00588%</tspan></text></g></g><g class=\"slice\"><path class=\"surface\" d=\"M302.5,260l-42.11719161146948,-154.3571902140058a160,160 0 0 1 0.05702967548362636,-0.015549535985826424Z\" style=\"pointer-events: all; stroke-width: 0; fill: rgb(8, 25, 239); fill-opacity: 1; stroke: rgb(68, 68, 68); stroke-opacity: 1;\"/><g class=\"slicetext\"><text data-notex=\"1\" class=\"slicetext\" transform=\"translate(260.43313698283066,105.69342765193771)scale(0.0011370138588138038)rotate(74.74863291585814)\" text-anchor=\"middle\" x=\"0\" y=\"0\" style=\"font-family: 'Open Sans', verdana, arial, sans-serif; font-size: 20px; fill: rgb(255, 255, 255); fill-opacity: 1; white-space: pre;\"><tspan class=\"line\" dy=\"0em\" x=\"0\" y=\"0\">Shopping</tspan><tspan class=\"line\" dy=\"1.3em\" x=\"0\" y=\"0\">0.00588%</tspan></text></g></g></g></g><g class=\"iciclelayer\"/><g class=\"treemaplayer\"/><g class=\"sunburstlayer\"/><g class=\"glimages\"/><defs id=\"topdefs-f3655e\"><g class=\"clips\"/><clipPath id=\"legendf3655e\"><rect width=\"154\" height=\"320\" x=\"0\" y=\"0\"/></clipPath></defs><g class=\"layer-above\"><g class=\"imagelayer\"/><g class=\"shapelayer\"/></g><g class=\"infolayer\"><g class=\"legend\" pointer-events=\"all\" transform=\"translate(533.9000000000001,100)\"><rect class=\"bg\" shape-rendering=\"crispEdges\" style=\"stroke: rgb(68, 68, 68); stroke-opacity: 1; fill: rgb(255, 255, 255); fill-opacity: 1; stroke-width: 0px;\" width=\"154\" height=\"320\" x=\"0\" y=\"0\"/><g class=\"scrollbox\" transform=\"\" clip-path=\"url(#legendf3655e)\"><g class=\"groups\"><g class=\"traces\" transform=\"translate(0,14.5)\" style=\"opacity: 1;\"><text class=\"legendtext\" text-anchor=\"start\" x=\"40\" y=\"4.680000000000001\" style=\"font-family: 'Open Sans', verdana, arial, sans-serif; font-size: 12px; fill: rgb(42, 63, 95); fill-opacity: 1; white-space: pre;\">Games</text><g class=\"layers\" style=\"opacity: 1;\"><g class=\"legendfill\"/><g class=\"legendlines\"/><g class=\"legendsymbols\"><g class=\"legendpoints\"><path class=\"legendpie\" d=\"M6,6H-6V-6H6Z\" transform=\"translate(20,0)\" style=\"stroke-width: 0; fill: rgb(99, 110, 250); fill-opacity: 1; stroke: rgb(68, 68, 68); stroke-opacity: 1;\"/></g></g></g><rect class=\"legendtoggle\" x=\"0\" y=\"-9.5\" width=\"148.296875\" height=\"19\" style=\"fill: rgb(0, 0, 0); fill-opacity: 0;\"/></g><g class=\"traces\" transform=\"translate(0,33.5)\" style=\"opacity: 1;\"><text class=\"legendtext\" text-anchor=\"start\" x=\"40\" y=\"4.680000000000001\" style=\"font-family: 'Open Sans', verdana, arial, sans-serif; font-size: 12px; fill: rgb(42, 63, 95); fill-opacity: 1; white-space: pre;\">Education</text><g class=\"layers\" style=\"opacity: 1;\"><g class=\"legendfill\"/><g class=\"legendlines\"/><g class=\"legendsymbols\"><g class=\"legendpoints\"><path class=\"legendpie\" d=\"M6,6H-6V-6H6Z\" transform=\"translate(20,0)\" style=\"stroke-width: 0; fill: rgb(239, 85, 59); fill-opacity: 1; stroke: rgb(68, 68, 68); stroke-opacity: 1;\"/></g></g></g><rect class=\"legendtoggle\" x=\"0\" y=\"-9.5\" width=\"148.296875\" height=\"19\" style=\"fill: rgb(0, 0, 0); fill-opacity: 0;\"/></g><g class=\"traces\" transform=\"translate(0,52.5)\" style=\"opacity: 1;\"><text class=\"legendtext\" text-anchor=\"start\" x=\"40\" y=\"4.680000000000001\" style=\"font-family: 'Open Sans', verdana, arial, sans-serif; font-size: 12px; fill: rgb(42, 63, 95); fill-opacity: 1; white-space: pre;\">Entertainment</text><g class=\"layers\" style=\"opacity: 1;\"><g class=\"legendfill\"/><g class=\"legendlines\"/><g class=\"legendsymbols\"><g class=\"legendpoints\"><path class=\"legendpie\" d=\"M6,6H-6V-6H6Z\" transform=\"translate(20,0)\" style=\"stroke-width: 0; fill: rgb(0, 204, 150); fill-opacity: 1; stroke: rgb(68, 68, 68); stroke-opacity: 1;\"/></g></g></g><rect class=\"legendtoggle\" x=\"0\" y=\"-9.5\" width=\"148.296875\" height=\"19\" style=\"fill: rgb(0, 0, 0); fill-opacity: 0;\"/></g><g class=\"traces\" transform=\"translate(0,71.5)\" style=\"opacity: 1;\"><text class=\"legendtext\" text-anchor=\"start\" x=\"40\" y=\"4.680000000000001\" style=\"font-family: 'Open Sans', verdana, arial, sans-serif; font-size: 12px; fill: rgb(42, 63, 95); fill-opacity: 1; white-space: pre;\">Utilities</text><g class=\"layers\" style=\"opacity: 1;\"><g class=\"legendfill\"/><g class=\"legendlines\"/><g class=\"legendsymbols\"><g class=\"legendpoints\"><path class=\"legendpie\" d=\"M6,6H-6V-6H6Z\" transform=\"translate(20,0)\" style=\"stroke-width: 0; fill: rgb(171, 99, 250); fill-opacity: 1; stroke: rgb(68, 68, 68); stroke-opacity: 1;\"/></g></g></g><rect class=\"legendtoggle\" x=\"0\" y=\"-9.5\" width=\"148.296875\" height=\"19\" style=\"fill: rgb(0, 0, 0); fill-opacity: 0;\"/></g><g class=\"traces\" transform=\"translate(0,90.5)\" style=\"opacity: 1;\"><text class=\"legendtext\" text-anchor=\"start\" x=\"40\" y=\"4.680000000000001\" style=\"font-family: 'Open Sans', verdana, arial, sans-serif; font-size: 12px; fill: rgb(42, 63, 95); fill-opacity: 1; white-space: pre;\">Sports</text><g class=\"layers\" style=\"opacity: 1;\"><g class=\"legendfill\"/><g class=\"legendlines\"/><g class=\"legendsymbols\"><g class=\"legendpoints\"><path class=\"legendpie\" d=\"M6,6H-6V-6H6Z\" transform=\"translate(20,0)\" style=\"stroke-width: 0; fill: rgb(255, 161, 90); fill-opacity: 1; stroke: rgb(68, 68, 68); stroke-opacity: 1;\"/></g></g></g><rect class=\"legendtoggle\" x=\"0\" y=\"-9.5\" width=\"148.296875\" height=\"19\" style=\"fill: rgb(0, 0, 0); fill-opacity: 0;\"/></g><g class=\"traces\" transform=\"translate(0,109.5)\" style=\"opacity: 1;\"><text class=\"legendtext\" text-anchor=\"start\" x=\"40\" y=\"4.680000000000001\" style=\"font-family: 'Open Sans', verdana, arial, sans-serif; font-size: 12px; fill: rgb(42, 63, 95); fill-opacity: 1; white-space: pre;\">Reference</text><g class=\"layers\" style=\"opacity: 1;\"><g class=\"legendfill\"/><g class=\"legendlines\"/><g class=\"legendsymbols\"><g class=\"legendpoints\"><path class=\"legendpie\" d=\"M6,6H-6V-6H6Z\" transform=\"translate(20,0)\" style=\"stroke-width: 0; fill: rgb(25, 211, 243); fill-opacity: 1; stroke: rgb(68, 68, 68); stroke-opacity: 1;\"/></g></g></g><rect class=\"legendtoggle\" x=\"0\" y=\"-9.5\" width=\"148.296875\" height=\"19\" style=\"fill: rgb(0, 0, 0); fill-opacity: 0;\"/></g><g class=\"traces\" transform=\"translate(0,128.5)\" style=\"opacity: 1;\"><text class=\"legendtext\" text-anchor=\"start\" x=\"40\" y=\"4.680000000000001\" style=\"font-family: 'Open Sans', verdana, arial, sans-serif; font-size: 12px; fill: rgb(42, 63, 95); fill-opacity: 1; white-space: pre;\">Stickers</text><g class=\"layers\" style=\"opacity: 1;\"><g class=\"legendfill\"/><g class=\"legendlines\"/><g class=\"legendsymbols\"><g class=\"legendpoints\"><path class=\"legendpie\" d=\"M6,6H-6V-6H6Z\" transform=\"translate(20,0)\" style=\"stroke-width: 0; fill: rgb(255, 102, 146); fill-opacity: 1; stroke: rgb(68, 68, 68); stroke-opacity: 1;\"/></g></g></g><rect class=\"legendtoggle\" x=\"0\" y=\"-9.5\" width=\"148.296875\" height=\"19\" style=\"fill: rgb(0, 0, 0); fill-opacity: 0;\"/></g><g class=\"traces\" transform=\"translate(0,147.5)\" style=\"opacity: 1;\"><text class=\"legendtext\" text-anchor=\"start\" x=\"40\" y=\"4.680000000000001\" style=\"font-family: 'Open Sans', verdana, arial, sans-serif; font-size: 12px; fill: rgb(42, 63, 95); fill-opacity: 1; white-space: pre;\">Finance</text><g class=\"layers\" style=\"opacity: 1;\"><g class=\"legendfill\"/><g class=\"legendlines\"/><g class=\"legendsymbols\"><g class=\"legendpoints\"><path class=\"legendpie\" d=\"M6,6H-6V-6H6Z\" transform=\"translate(20,0)\" style=\"stroke-width: 0; fill: rgb(182, 232, 128); fill-opacity: 1; stroke: rgb(68, 68, 68); stroke-opacity: 1;\"/></g></g></g><rect class=\"legendtoggle\" x=\"0\" y=\"-9.5\" width=\"148.296875\" height=\"19\" style=\"fill: rgb(0, 0, 0); fill-opacity: 0;\"/></g><g class=\"traces\" transform=\"translate(0,166.5)\" style=\"opacity: 1;\"><text class=\"legendtext\" text-anchor=\"start\" x=\"40\" y=\"4.680000000000001\" style=\"font-family: 'Open Sans', verdana, arial, sans-serif; font-size: 12px; fill: rgb(42, 63, 95); fill-opacity: 1; white-space: pre;\">Business</text><g class=\"layers\" style=\"opacity: 1;\"><g class=\"legendfill\"/><g class=\"legendlines\"/><g class=\"legendsymbols\"><g class=\"legendpoints\"><path class=\"legendpie\" d=\"M6,6H-6V-6H6Z\" transform=\"translate(20,0)\" style=\"stroke-width: 0; fill: rgb(255, 151, 255); fill-opacity: 1; stroke: rgb(68, 68, 68); stroke-opacity: 1;\"/></g></g></g><rect class=\"legendtoggle\" x=\"0\" y=\"-9.5\" width=\"148.296875\" height=\"19\" style=\"fill: rgb(0, 0, 0); fill-opacity: 0;\"/></g><g class=\"traces\" transform=\"translate(0,185.5)\" style=\"opacity: 1;\"><text class=\"legendtext\" text-anchor=\"start\" x=\"40\" y=\"4.680000000000001\" style=\"font-family: 'Open Sans', verdana, arial, sans-serif; font-size: 12px; fill: rgb(42, 63, 95); fill-opacity: 1; white-space: pre;\">Productivity</text><g class=\"layers\" style=\"opacity: 1;\"><g class=\"legendfill\"/><g class=\"legendlines\"/><g class=\"legendsymbols\"><g class=\"legendpoints\"><path class=\"legendpie\" d=\"M6,6H-6V-6H6Z\" transform=\"translate(20,0)\" style=\"stroke-width: 0; fill: rgb(254, 203, 82); fill-opacity: 1; stroke: rgb(68, 68, 68); stroke-opacity: 1;\"/></g></g></g><rect class=\"legendtoggle\" x=\"0\" y=\"-9.5\" width=\"148.296875\" height=\"19\" style=\"fill: rgb(0, 0, 0); fill-opacity: 0;\"/></g><g class=\"traces\" transform=\"translate(0,204.5)\" style=\"opacity: 1;\"><text class=\"legendtext\" text-anchor=\"start\" x=\"40\" y=\"4.680000000000001\" style=\"font-family: 'Open Sans', verdana, arial, sans-serif; font-size: 12px; fill: rgb(42, 63, 95); fill-opacity: 1; white-space: pre;\">Lifestyle</text><g class=\"layers\" style=\"opacity: 1;\"><g class=\"legendfill\"/><g class=\"legendlines\"/><g class=\"legendsymbols\"><g class=\"legendpoints\"><path class=\"legendpie\" d=\"M6,6H-6V-6H6Z\" transform=\"translate(20,0)\" style=\"stroke-width: 0; fill: rgb(198, 202, 253); fill-opacity: 1; stroke: rgb(68, 68, 68); stroke-opacity: 1;\"/></g></g></g><rect class=\"legendtoggle\" x=\"0\" y=\"-9.5\" width=\"148.296875\" height=\"19\" style=\"fill: rgb(0, 0, 0); fill-opacity: 0;\"/></g><g class=\"traces\" transform=\"translate(0,223.5)\" style=\"opacity: 1;\"><text class=\"legendtext\" text-anchor=\"start\" x=\"40\" y=\"4.680000000000001\" style=\"font-family: 'Open Sans', verdana, arial, sans-serif; font-size: 12px; fill: rgb(42, 63, 95); fill-opacity: 1; white-space: pre;\">Books</text><g class=\"layers\" style=\"opacity: 1;\"><g class=\"legendfill\"/><g class=\"legendlines\"/><g class=\"legendsymbols\"><g class=\"legendpoints\"><path class=\"legendpie\" d=\"M6,6H-6V-6H6Z\" transform=\"translate(20,0)\" style=\"stroke-width: 0; fill: rgb(247, 167, 153); fill-opacity: 1; stroke: rgb(68, 68, 68); stroke-opacity: 1;\"/></g></g></g><rect class=\"legendtoggle\" x=\"0\" y=\"-9.5\" width=\"148.296875\" height=\"19\" style=\"fill: rgb(0, 0, 0); fill-opacity: 0;\"/></g><g class=\"traces\" transform=\"translate(0,242.5)\" style=\"opacity: 1;\"><text class=\"legendtext\" text-anchor=\"start\" x=\"40\" y=\"4.680000000000001\" style=\"font-family: 'Open Sans', verdana, arial, sans-serif; font-size: 12px; fill: rgb(42, 63, 95); fill-opacity: 1; white-space: pre;\">Social Networking</text><g class=\"layers\" style=\"opacity: 1;\"><g class=\"legendfill\"/><g class=\"legendlines\"/><g class=\"legendsymbols\"><g class=\"legendpoints\"><path class=\"legendpie\" d=\"M6,6H-6V-6H6Z\" transform=\"translate(20,0)\" style=\"stroke-width: 0; fill: rgb(51, 255, 201); fill-opacity: 1; stroke: rgb(68, 68, 68); stroke-opacity: 1;\"/></g></g></g><rect class=\"legendtoggle\" x=\"0\" y=\"-9.5\" width=\"148.296875\" height=\"19\" style=\"fill: rgb(0, 0, 0); fill-opacity: 0;\"/></g><g class=\"traces\" transform=\"translate(0,261.5)\" style=\"opacity: 1;\"><text class=\"legendtext\" text-anchor=\"start\" x=\"40\" y=\"4.680000000000001\" style=\"font-family: 'Open Sans', verdana, arial, sans-serif; font-size: 12px; fill: rgb(42, 63, 95); fill-opacity: 1; white-space: pre;\">News</text><g class=\"layers\" style=\"opacity: 1;\"><g class=\"legendfill\"/><g class=\"legendlines\"/><g class=\"legendsymbols\"><g class=\"legendpoints\"><path class=\"legendpie\" d=\"M6,6H-6V-6H6Z\" transform=\"translate(20,0)\" style=\"stroke-width: 0; fill: rgb(224, 198, 253); fill-opacity: 1; stroke: rgb(68, 68, 68); stroke-opacity: 1;\"/></g></g></g><rect class=\"legendtoggle\" x=\"0\" y=\"-9.5\" width=\"148.296875\" height=\"19\" style=\"fill: rgb(0, 0, 0); fill-opacity: 0;\"/></g><g class=\"traces\" transform=\"translate(0,280.5)\" style=\"opacity: 1;\"><text class=\"legendtext\" text-anchor=\"start\" x=\"40\" y=\"4.680000000000001\" style=\"font-family: 'Open Sans', verdana, arial, sans-serif; font-size: 12px; fill: rgb(42, 63, 95); fill-opacity: 1; white-space: pre;\">Health &amp; Fitness</text><g class=\"layers\" style=\"opacity: 1;\"><g class=\"legendfill\"/><g class=\"legendlines\"/><g class=\"legendsymbols\"><g class=\"legendpoints\"><path class=\"legendpie\" d=\"M6,6H-6V-6H6Z\" transform=\"translate(20,0)\" style=\"stroke-width: 0; fill: rgb(255, 219, 192); fill-opacity: 1; stroke: rgb(68, 68, 68); stroke-opacity: 1;\"/></g></g></g><rect class=\"legendtoggle\" x=\"0\" y=\"-9.5\" width=\"148.296875\" height=\"19\" style=\"fill: rgb(0, 0, 0); fill-opacity: 0;\"/></g><g class=\"traces\" transform=\"translate(0,299.5)\" style=\"opacity: 1;\"><text class=\"legendtext\" text-anchor=\"start\" x=\"40\" y=\"4.680000000000001\" style=\"font-family: 'Open Sans', verdana, arial, sans-serif; font-size: 12px; fill: rgb(42, 63, 95); fill-opacity: 1; white-space: pre;\">Food &amp; Drink</text><g class=\"layers\" style=\"opacity: 1;\"><g class=\"legendfill\"/><g class=\"legendlines\"/><g class=\"legendsymbols\"><g class=\"legendpoints\"><path class=\"legendpie\" d=\"M6,6H-6V-6H6Z\" transform=\"translate(20,0)\" style=\"stroke-width: 0; fill: rgb(122, 230, 248); fill-opacity: 1; stroke: rgb(68, 68, 68); stroke-opacity: 1;\"/></g></g></g><rect class=\"legendtoggle\" x=\"0\" y=\"-9.5\" width=\"148.296875\" height=\"19\" style=\"fill: rgb(0, 0, 0); fill-opacity: 0;\"/></g><g class=\"traces\" transform=\"translate(0,318.5)\" style=\"opacity: 1;\"><text class=\"legendtext\" text-anchor=\"start\" x=\"40\" y=\"4.680000000000001\" style=\"font-family: 'Open Sans', verdana, arial, sans-serif; font-size: 12px; fill: rgb(42, 63, 95); fill-opacity: 1; white-space: pre;\">Music</text><g class=\"layers\" style=\"opacity: 1;\"><g class=\"legendfill\"/><g class=\"legendlines\"/><g class=\"legendsymbols\"><g class=\"legendpoints\"><path class=\"legendpie\" d=\"M6,6H-6V-6H6Z\" transform=\"translate(20,0)\" style=\"stroke-width: 0; fill: rgb(255, 204, 219); fill-opacity: 1; stroke: rgb(68, 68, 68); stroke-opacity: 1;\"/></g></g></g><rect class=\"legendtoggle\" x=\"0\" y=\"-9.5\" width=\"148.296875\" height=\"19\" style=\"fill: rgb(0, 0, 0); fill-opacity: 0;\"/></g><g class=\"traces\" transform=\"translate(0,337.5)\" style=\"opacity: 1;\"><text class=\"legendtext\" text-anchor=\"start\" x=\"40\" y=\"4.680000000000001\" style=\"font-family: 'Open Sans', verdana, arial, sans-serif; font-size: 12px; fill: rgb(42, 63, 95); fill-opacity: 1; white-space: pre;\">Navigation</text><g class=\"layers\" style=\"opacity: 1;\"><g class=\"legendfill\"/><g class=\"legendlines\"/><g class=\"legendsymbols\"><g class=\"legendpoints\"><path class=\"legendpie\" d=\"M6,6H-6V-6H6Z\" transform=\"translate(20,0)\" style=\"stroke-width: 0; fill: rgb(232, 248, 214); fill-opacity: 1; stroke: rgb(68, 68, 68); stroke-opacity: 1;\"/></g></g></g><rect class=\"legendtoggle\" x=\"0\" y=\"-9.5\" width=\"148.296875\" height=\"19\" style=\"fill: rgb(0, 0, 0); fill-opacity: 0;\"/></g><g class=\"traces\" transform=\"translate(0,356.5)\" style=\"opacity: 1;\"><text class=\"legendtext\" text-anchor=\"start\" x=\"40\" y=\"4.680000000000001\" style=\"font-family: 'Open Sans', verdana, arial, sans-serif; font-size: 12px; fill: rgb(42, 63, 95); fill-opacity: 1; white-space: pre;\">Medical</text><g class=\"layers\" style=\"opacity: 1;\"><g class=\"legendfill\"/><g class=\"legendlines\"/><g class=\"legendsymbols\"><g class=\"legendpoints\"><path class=\"legendpie\" d=\"M6,6H-6V-6H6Z\" transform=\"translate(20,0)\" style=\"stroke-width: 0; fill: rgb(255, 253, 255); fill-opacity: 1; stroke: rgb(68, 68, 68); stroke-opacity: 1;\"/></g></g></g><rect class=\"legendtoggle\" x=\"0\" y=\"-9.5\" width=\"148.296875\" height=\"19\" style=\"fill: rgb(0, 0, 0); fill-opacity: 0;\"/></g><g class=\"traces\" transform=\"translate(0,375.5)\" style=\"opacity: 1;\"><text class=\"legendtext\" text-anchor=\"start\" x=\"40\" y=\"4.680000000000001\" style=\"font-family: 'Open Sans', verdana, arial, sans-serif; font-size: 12px; fill: rgb(42, 63, 95); fill-opacity: 1; white-space: pre;\">Travel</text><g class=\"layers\" style=\"opacity: 1;\"><g class=\"legendfill\"/><g class=\"legendlines\"/><g class=\"legendsymbols\"><g class=\"legendpoints\"><path class=\"legendpie\" d=\"M6,6H-6V-6H6Z\" transform=\"translate(20,0)\" style=\"stroke-width: 0; fill: rgb(255, 233, 183); fill-opacity: 1; stroke: rgb(68, 68, 68); stroke-opacity: 1;\"/></g></g></g><rect class=\"legendtoggle\" x=\"0\" y=\"-9.5\" width=\"148.296875\" height=\"19\" style=\"fill: rgb(0, 0, 0); fill-opacity: 0;\"/></g><g class=\"traces\" transform=\"translate(0,394.5)\" style=\"opacity: 1;\"><text class=\"legendtext\" text-anchor=\"start\" x=\"40\" y=\"4.680000000000001\" style=\"font-family: 'Open Sans', verdana, arial, sans-serif; font-size: 12px; fill: rgb(42, 63, 95); fill-opacity: 1; white-space: pre;\">Shopping</text><g class=\"layers\" style=\"opacity: 1;\"><g class=\"legendfill\"/><g class=\"legendlines\"/><g class=\"legendsymbols\"><g class=\"legendpoints\"><path class=\"legendpie\" d=\"M6,6H-6V-6H6Z\" transform=\"translate(20,0)\" style=\"stroke-width: 0; fill: rgb(8, 25, 239); fill-opacity: 1; stroke: rgb(68, 68, 68); stroke-opacity: 1;\"/></g></g></g><rect class=\"legendtoggle\" x=\"0\" y=\"-9.5\" width=\"148.296875\" height=\"19\" style=\"fill: rgb(0, 0, 0); fill-opacity: 0;\"/></g></g></g><rect class=\"scrollbar\" rx=\"20\" ry=\"3\" width=\"0\" height=\"0\" style=\"fill: rgb(128, 139, 164); fill-opacity: 1;\" x=\"0\" y=\"0\"/></g><g class=\"g-gtitle\"><text class=\"gtitle\" x=\"35\" y=\"50\" text-anchor=\"start\" dy=\"0em\" style=\"font-family: 'Open Sans', verdana, arial, sans-serif; font-size: 17px; fill: rgb(42, 63, 95); opacity: 1; font-weight: normal; white-space: pre;\">Percent of Primary Genres in our dataset</text></g><g class=\"annotation\" data-index=\"0\" style=\"opacity: 1;\"><g class=\"annotation-text-g\" transform=\"rotate(0,302.5,260)\"><g class=\"cursor-pointer\" transform=\"translate(254,251)\"><rect class=\"bg\" x=\"0.5\" y=\"0.5\" width=\"97\" height=\"18\" style=\"stroke-width: 1px; stroke: rgb(0, 0, 0); stroke-opacity: 0; fill: rgb(255, 255, 255); fill-opacity: 1;\"/><text class=\"annotation-text\" text-anchor=\"middle\" x=\"48.78125\" y=\"14\" style=\"font-family: 'Open Sans', verdana, arial, sans-serif; font-size: 12px; fill: rgb(42, 63, 95); fill-opacity: 1; white-space: pre;\">Primary Genres</text></g></g></g></g></svg>"
      ]
     },
     "metadata": {},
     "output_type": "display_data"
    }
   ],
   "source": [
    "genre_count = games['Primary Genre'].value_counts().sort_values(ascending=False)\n",
    "fig = go.Figure(data=[go.Pie(labels=genre_count.index, values=genre_count.values)])\n",
    "fig.update_layout(hoverlabel=dict(font=dict(family='sans-serif', size=25)),\n",
    "    title_text=\"Percent of Primary Genres in our dataset\", annotations=[dict(text='Primary Genres',bgcolor='white', font_size=12, showarrow=False)])\n",
    "fig.update_traces(hoverinfo='percent', textinfo='label+percent', textfont_size=20,textposition='inside')\n",
    "fig.show(renderer=\"svg\")"
   ]
  },
  {
   "cell_type": "code",
   "execution_count": 48,
   "id": "d9759abc",
   "metadata": {
    "scrolled": false
   },
   "outputs": [
    {
     "data": {
      "image/svg+xml": [
       "<svg class=\"main-svg\" xmlns=\"http://www.w3.org/2000/svg\" xmlns:xlink=\"http://www.w3.org/1999/xlink\" width=\"700\" height=\"500\" style=\"\" viewBox=\"0 0 700 500\"><rect x=\"0\" y=\"0\" width=\"700\" height=\"500\" style=\"fill: rgb(255, 255, 255); fill-opacity: 1;\"/><defs id=\"defs-5c76e1\"><g class=\"clips\"/><g class=\"gradients\"/><g class=\"patterns\"/></defs><g class=\"bglayer\"/><g class=\"layer-below\"><g class=\"imagelayer\"/><g class=\"shapelayer\"/></g><g class=\"cartesianlayer\"/><g class=\"polarlayer\"/><g class=\"ternarylayer\"/><g class=\"geolayer\"/><g class=\"funnelarealayer\"/><g class=\"pielayer\"><g class=\"trace\" stroke-linejoin=\"round\" style=\"opacity: 1;\"><g class=\"slice\"><path class=\"surface\" d=\"M278.5,260l0,-160a160,160 0 0 1 77.54325698657203,299.9537184068878Z\" style=\"pointer-events: all; stroke-width: 0; fill: rgb(99, 110, 250); fill-opacity: 1; stroke: rgb(68, 68, 68); stroke-opacity: 1;\"/><g class=\"slicetext\"><text data-notex=\"1\" class=\"slicetext\" transform=\"translate(357.2062567002479,253.6530627385672)\" text-anchor=\"middle\" x=\"0\" y=\"0\" style=\"font-family: 'Open Sans', verdana, arial, sans-serif; font-size: 35px; fill: rgb(255, 255, 255); fill-opacity: 1; white-space: pre;\">41.9%</text></g></g><g class=\"slice\"><path class=\"surface\" d=\"M278.5,260l-129.9946493826949,-93.28124748238643a160,160 0 0 1 129.9946493826949,-66.71875251761357Z\" style=\"pointer-events: all; stroke-width: 0; fill: rgb(239, 85, 59); fill-opacity: 1; stroke: rgb(68, 68, 68); stroke-opacity: 1;\"/><g class=\"slicetext\"><text data-notex=\"1\" class=\"slicetext\" transform=\"translate(220.88420957167352,177.35304379722677)scale(0.965787124813171)rotate(62.831187158229)\" text-anchor=\"middle\" x=\"0\" y=\"0\" style=\"font-family: 'Open Sans', verdana, arial, sans-serif; font-size: 35px; fill: rgb(68, 68, 68); fill-opacity: 1; white-space: pre;\">15.1%</text></g></g><g class=\"slice\"><path class=\"surface\" d=\"M278.5,260l-159.69282890359526,-9.909611332794837a160,160 0 0 1 29.698179520900368,-83.3716361495916Z\" style=\"pointer-events: all; stroke-width: 0; fill: rgb(0, 204, 150); fill-opacity: 1; stroke: rgb(68, 68, 68); stroke-opacity: 1;\"/><g class=\"slicetext\"><text data-notex=\"1\" class=\"slicetext\" transform=\"translate(171.06078381524605,233.6939984536759)scale(0.805116205551064)rotate(19.60663256306225)\" text-anchor=\"middle\" x=\"0\" y=\"0\" style=\"font-family: 'Open Sans', verdana, arial, sans-serif; font-size: 35px; fill: rgb(68, 68, 68); fill-opacity: 1; white-space: pre;\">8.92%</text></g></g><g class=\"slice\"><path class=\"surface\" d=\"M278.5,260l-154.08564624469994,43.10004201103734a160,160 0 0 1 -5.6071826588953115,-53.00965334383218Z\" style=\"pointer-events: all; stroke-width: 0; fill: rgb(171, 99, 250); fill-opacity: 1; stroke: rgb(68, 68, 68); stroke-opacity: 1;\"/><g class=\"slicetext\"><text data-notex=\"1\" class=\"slicetext\" transform=\"translate(159.3758060822224,281.54564699550576)scale(0.6353903519221882)rotate(-6.038101958017251)\" text-anchor=\"middle\" x=\"0\" y=\"0\" style=\"font-family: 'Open Sans', verdana, arial, sans-serif; font-size: 35px; fill: rgb(68, 68, 68); fill-opacity: 1; white-space: pre;\">5.33%</text></g></g><g class=\"slice\"><path class=\"surface\" d=\"M278.5,260l-134.371303766266,86.85823348510992a160,160 0 0 1 -19.714342478433935,-43.75819147407258Z\" style=\"pointer-events: all; stroke-width: 0; fill: rgb(255, 161, 90); fill-opacity: 1; stroke: rgb(68, 68, 68); stroke-opacity: 1;\"/><g class=\"slicetext\"><text data-notex=\"1\" class=\"slicetext\" transform=\"translate(169.8851806018904,318.1550929773185)scale(0.6005081272196128)rotate(-24.252954665725838)\" text-anchor=\"middle\" x=\"0\" y=\"0\" style=\"font-family: 'Open Sans', verdana, arial, sans-serif; font-size: 35px; fill: rgb(68, 68, 68); fill-opacity: 1; white-space: pre;\">4.79%</text></g></g><g class=\"slice\"><path class=\"surface\" d=\"M278.5,260l-107.90816905270148,118.13478341154902a160,160 0 0 1 -26.46313471356453,-31.276549926439102Z\" style=\"pointer-events: all; stroke-width: 0; fill: rgb(25, 211, 243); fill-opacity: 1; stroke: rgb(68, 68, 68); stroke-opacity: 1;\"/><g class=\"slicetext\"><text data-notex=\"1\" class=\"slicetext\" transform=\"translate(187.15716415956587,347.34955551406966)scale(0.5487933973719438)rotate(-40.23460927853239)\" text-anchor=\"middle\" x=\"0\" y=\"0\" style=\"font-family: 'Open Sans', verdana, arial, sans-serif; font-size: 35px; fill: rgb(68, 68, 68); fill-opacity: 1; white-space: pre;\">4.09%</text></g></g><g class=\"slice\"><path class=\"surface\" d=\"M278.5,260l-76.14337427768041,140.72024216014225a160,160 0 0 1 -31.764794775021073,-22.585458748593226Z\" style=\"pointer-events: all; stroke-width: 0; fill: rgb(255, 102, 146); fill-opacity: 1; stroke: rgb(68, 68, 68); stroke-opacity: 1;\"/><g class=\"slicetext\"><text data-notex=\"1\" class=\"slicetext\" transform=\"translate(210.8970102782566,367.95047747817557)scale(0.5327787876111472)rotate(-54.58634679837712)\" text-anchor=\"middle\" x=\"0\" y=\"0\" style=\"font-family: 'Open Sans', verdana, arial, sans-serif; font-size: 35px; fill: rgb(68, 68, 68); fill-opacity: 1; white-space: pre;\">3.89%</text></g></g><g class=\"slice\"><path class=\"surface\" d=\"M278.5,260l-50.12527222668552,151.94557276933298a160,160 0 0 1 -26.01810205099489,-11.225330609190735Z\" style=\"pointer-events: all; stroke-width: 0; fill: rgb(182, 232, 128); fill-opacity: 1; stroke: rgb(68, 68, 68); stroke-opacity: 1;\"/><g class=\"slicetext\"><text data-notex=\"1\" class=\"slicetext\" transform=\"translate(231.3087175354799,384.75427367297317)scale(0.4350299720627299)rotate(-66.66255071441174)\" text-anchor=\"middle\" x=\"0\" y=\"0\" style=\"font-family: 'Open Sans', verdana, arial, sans-serif; font-size: 35px; fill: rgb(68, 68, 68); fill-opacity: 1; white-space: pre;\">2.82%</text></g></g><g class=\"slice\"><path class=\"surface\" d=\"M278.5,260l-30.230069253098655,157.1182450034141a160,160 0 0 1 -19.895202973586862,-5.172672234081119Z\" style=\"pointer-events: all; stroke-width: 0; fill: rgb(255, 151, 255); fill-opacity: 1; stroke: rgb(68, 68, 68); stroke-opacity: 1;\"/><g class=\"slicetext\"><text data-notex=\"1\" class=\"slicetext\" transform=\"translate(248.29827125276506,395.46513628342814)scale(0.34694108903159193)rotate(-75.42600105838778)\" text-anchor=\"middle\" x=\"0\" y=\"0\" style=\"font-family: 'Open Sans', verdana, arial, sans-serif; font-size: 35px; fill: rgb(68, 68, 68); fill-opacity: 1; white-space: pre;\">2.05%</text></g></g><g class=\"slice\"><path class=\"surface\" d=\"M278.5,260l-13.549845579238593,159.42522286256585a160,160 0 0 1 -16.680223673860063,-2.3069778591517434Z\" style=\"pointer-events: all; stroke-width: 0; fill: rgb(254, 203, 82); fill-opacity: 1; stroke: rgb(68, 68, 68); stroke-opacity: 1;\"/><g class=\"slicetext\"><text data-notex=\"1\" class=\"slicetext\" transform=\"translate(263.2238477217551,400.9435977349273)scale(0.29838941748356884)rotate(-82.125595343094)\" text-anchor=\"middle\" x=\"0\" y=\"0\" style=\"font-family: 'Open Sans', verdana, arial, sans-serif; font-size: 35px; fill: rgb(68, 68, 68); fill-opacity: 1; white-space: pre;\">1.68%</text></g></g><g class=\"slice\"><path class=\"surface\" d=\"M278.5,260l1.861970903332359,159.9891654592746a160,160 0 0 1 -15.411816482570952,-0.5639425967087561Z\" style=\"pointer-events: all; stroke-width: 0; fill: rgb(198, 202, 253); fill-opacity: 1; stroke: rgb(68, 68, 68); stroke-opacity: 1;\"/><g class=\"slicetext\"><text data-notex=\"1\" class=\"slicetext\" transform=\"translate(277.1711143456179,402.9765715166684)scale(0.27858869059784375)rotate(-87.90439230904917)\" text-anchor=\"middle\" x=\"0\" y=\"0\" style=\"font-family: 'Open Sans', verdana, arial, sans-serif; font-size: 35px; fill: rgb(68, 68, 68); fill-opacity: 1; white-space: pre;\">1.53%</text></g></g><g class=\"slice\"><path class=\"surface\" d=\"M278.5,260l17.021402740657837,159.09202320902304a160,160 0 0 1 -15.159431837325478,0.8971422502515622Z\" style=\"pointer-events: all; stroke-width: 0; fill: rgb(247, 167, 153); fill-opacity: 1; stroke: rgb(68, 68, 68); stroke-opacity: 1;\"/><g class=\"slicetext\"><text data-notex=\"1\" class=\"slicetext\" transform=\"translate(283.1099061167952,403.1153690702781)scale(0.27521334967589367)rotate(86.61315928735223)\" text-anchor=\"middle\" x=\"0\" y=\"0\" style=\"font-family: 'Open Sans', verdana, arial, sans-serif; font-size: 35px; fill: rgb(68, 68, 68); fill-opacity: 1; white-space: pre;\">1.51%</text></g></g><g class=\"slice\"><path class=\"surface\" d=\"M278.5,260l30.86833338969118,156.99409541044173a160,160 0 0 1 -13.846930649033343,2.09792779858131Z\" style=\"pointer-events: all; stroke-width: 0; fill: rgb(51, 255, 201); fill-opacity: 1; stroke: rgb(68, 68, 68); stroke-opacity: 1;\"/><g class=\"slicetext\"><text data-notex=\"1\" class=\"slicetext\" transform=\"translate(296.5295856612724,403.1129290813444)scale(0.25800137351054575)rotate(81.38472393720235)\" text-anchor=\"middle\" x=\"0\" y=\"0\" style=\"font-family: 'Open Sans', verdana, arial, sans-serif; font-size: 35px; fill: rgb(68, 68, 68); fill-opacity: 1; white-space: pre;\">1.39%</text></g></g><g class=\"slice\"><path class=\"surface\" d=\"M278.5,260l44.30838910089733,153.74253365703157a160,160 0 0 1 -13.44005571120615,3.251561753410158Z\" style=\"pointer-events: all; stroke-width: 0; fill: rgb(224, 198, 253); fill-opacity: 1; stroke: rgb(68, 68, 68); stroke-opacity: 1;\"/><g class=\"slicetext\"><text data-notex=\"1\" class=\"slicetext\" transform=\"translate(308.97112086204527,401.1538481629432)scale(0.2553702946179963)rotate(76.39971776327388)\" text-anchor=\"middle\" x=\"0\" y=\"0\" style=\"font-family: 'Open Sans', verdana, arial, sans-serif; font-size: 35px; fill: rgb(68, 68, 68); fill-opacity: 1; white-space: pre;\">1.38%</text></g></g><g class=\"slice\"><path class=\"surface\" d=\"M278.5,260l50.63021674758122,151.77806545114794a160,160 0 0 1 -6.321827646683893,1.9644682058836338Z\" style=\"pointer-events: all; stroke-width: 0; fill: rgb(255, 219, 192); fill-opacity: 1; stroke: rgb(68, 68, 68); stroke-opacity: 1;\"/><g class=\"slicetext\"><text data-notex=\"1\" class=\"slicetext\" transform=\"translate(321.3216033820149,404.0968587639917)scale(0.1333930470870752)rotate(72.73769624272359)\" text-anchor=\"middle\" x=\"0\" y=\"0\" style=\"font-family: 'Open Sans', verdana, arial, sans-serif; font-size: 35px; fill: rgb(68, 68, 68); fill-opacity: 1; white-space: pre;\">0.659%</text></g></g><g class=\"slice\"><path class=\"surface\" d=\"M278.5,260l54.87132077946994,150.2968334859937a160,160 0 0 1 -4.241104031888717,1.481231965154251Z\" style=\"pointer-events: all; stroke-width: 0; fill: rgb(122, 230, 248); fill-opacity: 1; stroke: rgb(68, 68, 68); stroke-opacity: 1;\"/><g class=\"slicetext\"><text data-notex=\"1\" class=\"slicetext\" transform=\"translate(327.7582125048631,405.0360460212644)scale(0.09417363030381415)rotate(70.74792732404308)\" text-anchor=\"middle\" x=\"0\" y=\"0\" style=\"font-family: 'Open Sans', verdana, arial, sans-serif; font-size: 35px; fill: rgb(68, 68, 68); fill-opacity: 1; white-space: pre;\">0.447%</text></g></g><g class=\"slice\"><path class=\"surface\" d=\"M278.5,260l58.079027079493315,149.08664129793615a160,160 0 0 1 -3.207706300023375,1.2101921880575333Z\" style=\"pointer-events: all; stroke-width: 0; fill: rgb(255, 204, 219); fill-opacity: 1; stroke: rgb(68, 68, 68); stroke-opacity: 1;\"/><g class=\"slicetext\"><text data-notex=\"1\" class=\"slicetext\" transform=\"translate(332.1397019177908,405.0852884753644)scale(0.07335096347070805)rotate(69.32968777562178)\" text-anchor=\"middle\" x=\"0\" y=\"0\" style=\"font-family: 'Open Sans', verdana, arial, sans-serif; font-size: 35px; fill: rgb(68, 68, 68); fill-opacity: 1; white-space: pre;\">0.341%</text></g></g><g class=\"slice\"><path class=\"surface\" d=\"M278.5,260l61.15083590515169,147.85322204166272a160,160 0 0 1 -3.0718088256583727,1.2334192562734358Z\" style=\"pointer-events: all; stroke-width: 0; fill: rgb(232, 248, 214); fill-opacity: 1; stroke: rgb(68, 68, 68); stroke-opacity: 1;\"/><g class=\"slicetext\"><text data-notex=\"1\" class=\"slicetext\" transform=\"translate(335.27766136578714,404.07081266064256)scale(0.07098421019946531)rotate(68.123125771741)\" text-anchor=\"middle\" x=\"0\" y=\"0\" style=\"font-family: 'Open Sans', verdana, arial, sans-serif; font-size: 35px; fill: rgb(68, 68, 68); fill-opacity: 1; white-space: pre;\">0.329%</text></g></g><g class=\"slice\"><path class=\"surface\" d=\"M278.5,260l63.979821411324245,146.65122724401272a160,160 0 0 1 -2.8289855061725575,1.201994797650002Z\" style=\"pointer-events: all; stroke-width: 0; fill: rgb(255, 253, 255); fill-opacity: 1; stroke: rgb(68, 68, 68); stroke-opacity: 1;\"/><g class=\"slicetext\"><text data-notex=\"1\" class=\"slicetext\" transform=\"translate(338.33717732401334,403.2019783234937)scale(0.06621794818282742)rotate(66.98006703122246)\" text-anchor=\"middle\" x=\"0\" y=\"0\" style=\"font-family: 'Open Sans', verdana, arial, sans-serif; font-size: 35px; fill: rgb(68, 68, 68); fill-opacity: 1; white-space: pre;\">0.306%</text></g></g><g class=\"slice\"><path class=\"surface\" d=\"M278.5,260l65.81684070343586,145.8360157156611a160,160 0 0 1 -1.8370192921116129,0.8152115283516252Z\" style=\"pointer-events: all; stroke-width: 0; fill: rgb(255, 233, 183); fill-opacity: 1; stroke: rgb(68, 68, 68); stroke-opacity: 1;\"/><g class=\"slicetext\"><text data-notex=\"1\" class=\"slicetext\" transform=\"translate(341.9296562063642,404.47986057552555)scale(0.044786235954934875)rotate(66.06985358969837)\" text-anchor=\"middle\" x=\"0\" y=\"0\" style=\"font-family: 'Open Sans', verdana, arial, sans-serif; font-size: 35px; fill: rgb(68, 68, 68); fill-opacity: 1; white-space: pre;\">0.2%</text></g></g><g class=\"slice\"><path class=\"surface\" d=\"M278.5,260l67.58990169052655,145.02277472681646a160,160 0 0 1 -1.7730609870906875,0.8132409888446261Z\" style=\"pointer-events: all; stroke-width: 0; fill: rgb(8, 25, 239); fill-opacity: 1; stroke: rgb(68, 68, 68); stroke-opacity: 1;\"/><g class=\"slicetext\"><text data-notex=\"1\" class=\"slicetext\" transform=\"translate(343.3595701696912,402.8522423223677)scale(0.04296422766925526)rotate(65.36073381548772)\" text-anchor=\"middle\" x=\"0\" y=\"0\" style=\"font-family: 'Open Sans', verdana, arial, sans-serif; font-size: 35px; fill: rgb(255, 255, 255); fill-opacity: 1; white-space: pre;\">0.194%</text></g></g><g class=\"slice\"><path class=\"surface\" d=\"M278.5,260l69.19306430334407,144.26475609903235a160,160 0 0 1 -1.6031626128175276,0.7580186277841108Z\" style=\"pointer-events: all; stroke-width: 0; fill: rgb(181, 39, 15); fill-opacity: 1; stroke: rgb(68, 68, 68); stroke-opacity: 1;\"/><g class=\"slicetext\"><text data-notex=\"1\" class=\"slicetext\" transform=\"translate(345.18208851501345,402.3122865550173)scale(0.03919701159837805)rotate(64.69394955018527)\" text-anchor=\"middle\" x=\"0\" y=\"0\" style=\"font-family: 'Open Sans', verdana, arial, sans-serif; font-size: 35px; fill: rgb(255, 255, 255); fill-opacity: 1; white-space: pre;\">0.176%</text></g></g><g class=\"slice\"><path class=\"surface\" d=\"M278.5,260l70.68168469981148,143.54128133744814a160,160 0 0 1 -1.488620396467411,0.7234747615842139Z\" style=\"pointer-events: all; stroke-width: 0; fill: rgb(0, 102, 75); fill-opacity: 1; stroke: rgb(68, 68, 68); stroke-opacity: 1;\"/><g class=\"slicetext\"><text data-notex=\"1\" class=\"slicetext\" transform=\"translate(346.81486973130427,401.7390513587958)scale(0.03667064171563355)rotate(64.08008467101786)\" text-anchor=\"middle\" x=\"0\" y=\"0\" style=\"font-family: 'Open Sans', verdana, arial, sans-serif; font-size: 35px; fill: rgb(255, 255, 255); fill-opacity: 1; white-space: pre;\">0.165%</text></g></g><g class=\"slice\"><path class=\"surface\" d=\"M278.5,260l71.74036351893778,143.01510494409553a160,160 0 0 1 -1.0586788191262997,0.526176393352614Z\" style=\"pointer-events: all; stroke-width: 0; fill: rgb(118, 8, 239); fill-opacity: 1; stroke: rgb(68, 68, 68); stroke-opacity: 1;\"/><g class=\"slicetext\"><text data-notex=\"1\" class=\"slicetext\" transform=\"translate(348.52718071365746,401.7280904436303)scale(0.026444172506035177)rotate(63.57205856412065)\" text-anchor=\"middle\" x=\"0\" y=\"0\" style=\"font-family: 'Open Sans', verdana, arial, sans-serif; font-size: 35px; fill: rgb(255, 255, 255); fill-opacity: 1; white-space: pre;\">0.118%</text></g></g><g class=\"slice\"><path class=\"surface\" d=\"M278.5,260l72.63716323644243,142.56171476578982a160,160 0 0 1 -0.8967997175046492,0.4533901783057104Z\" style=\"pointer-events: all; stroke-width: 0; fill: rgb(243, 105, 0); fill-opacity: 1; stroke: rgb(68, 68, 68); stroke-opacity: 1;\"/><g class=\"slicetext\"><text data-notex=\"1\" class=\"slicetext\" transform=\"translate(349.89998779037677,401.93279834371486)scale(0.0227065739769276)rotate(63.18045510672073)\" text-anchor=\"middle\" x=\"0\" y=\"0\" style=\"font-family: 'Open Sans', verdana, arial, sans-serif; font-size: 35px; fill: rgb(68, 68, 68); fill-opacity: 1; white-space: pre;\">0.1%</text></g></g><g class=\"slice\"><path class=\"surface\" d=\"M278.5,260l73.47859328810937,142.12985727284965a160,160 0 0 1 -0.8414300516669329,0.43185749294016773Z\" style=\"pointer-events: all; stroke-width: 0; fill: rgb(8, 136, 158); fill-opacity: 1; stroke: rgb(68, 68, 68); stroke-opacity: 1;\"/><g class=\"slicetext\"><text data-notex=\"1\" class=\"slicetext\" transform=\"translate(350.4813263945249,400.8979933409609)scale(0.02119203923975123)rotate(62.831187158229)\" text-anchor=\"middle\" x=\"0\" y=\"0\" style=\"font-family: 'Open Sans', verdana, arial, sans-serif; font-size: 35px; fill: rgb(255, 255, 255); fill-opacity: 1; white-space: pre;\">0.0941%</text></g></g><g class=\"slice\"><path class=\"surface\" d=\"M278.5,260l74.26510274053469,141.72048022405875a160,160 0 0 1 -0.7865094524253209,0.4093770487909012Z\" style=\"pointer-events: all; stroke-width: 0; fill: rgb(255, 0, 73); fill-opacity: 1; stroke: rgb(68, 68, 68); stroke-opacity: 1;\"/><g class=\"slicetext\"><text data-notex=\"1\" class=\"slicetext\" transform=\"translate(351.35340696167594,400.5717798550819)scale(0.019895201204994755)rotate(62.5030869641912)\" text-anchor=\"middle\" x=\"0\" y=\"0\" style=\"font-family: 'Open Sans', verdana, arial, sans-serif; font-size: 35px; fill: rgb(255, 255, 255); fill-opacity: 1; white-space: pre;\">0.0882%</text></g></g><g class=\"slice\"><path class=\"surface\" d=\"M278.5,260l74.9449002896779,141.36216580319586a160,160 0 0 1 -0.6797975491432169,0.35831442086288234Z\" style=\"pointer-events: all; stroke-width: 0; fill: rgb(132, 216, 42); fill-opacity: 1; stroke: rgb(68, 68, 68); stroke-opacity: 1;\"/><g class=\"slicetext\"><text data-notex=\"1\" class=\"slicetext\" transform=\"translate(352.2138133266085,400.36969929823863)scale(0.017290659762738657)rotate(62.20673840183463)\" text-anchor=\"middle\" x=\"0\" y=\"0\" style=\"font-family: 'Open Sans', verdana, arial, sans-serif; font-size: 35px; fill: rgb(68, 68, 68); fill-opacity: 1; white-space: pre;\">0.0764%</text></g></g><g class=\"slice\"><path class=\"surface\" d=\"M278.5,260l75.46664593213582,141.08432000670257a160,160 0 0 1 -0.5217456424579154,0.27784579649329544Z\" style=\"pointer-events: all; stroke-width: 0; fill: rgb(255, 49, 255); fill-opacity: 1; stroke: rgb(68, 68, 68); stroke-opacity: 1;\"/><g class=\"slicetext\"><text data-notex=\"1\" class=\"slicetext\" transform=\"translate(353.0135186347029,400.3211311586678)scale(0.013356456151116367)rotate(61.96330922561299)\" text-anchor=\"middle\" x=\"0\" y=\"0\" style=\"font-family: 'Open Sans', verdana, arial, sans-serif; font-size: 35px; fill: rgb(68, 68, 68); fill-opacity: 1; white-space: pre;\">0.0588%</text></g></g><g class=\"slice\"><path class=\"surface\" d=\"M278.5,260l75.88330115049692,140.86065670194427a160,160 0 0 1 -0.4166552183611003,0.2236633047583041Z\" style=\"pointer-events: all; stroke-width: 0; fill: rgb(233, 164, 1); fill-opacity: 1; stroke: rgb(68, 68, 68); stroke-opacity: 1;\"/><g class=\"slicetext\"><text data-notex=\"1\" class=\"slicetext\" transform=\"translate(353.67501173800736,400.35879020180164)scale(0.01073182780773979)rotate(61.772799435526565)\" text-anchor=\"middle\" x=\"0\" y=\"0\" style=\"font-family: 'Open Sans', verdana, arial, sans-serif; font-size: 35px; fill: rgb(68, 68, 68); fill-opacity: 1; white-space: pre;\">0.047%</text></g></g><g class=\"slice\"><path class=\"surface\" d=\"M278.5,260l76.24733082799439,140.66394186715507a160,160 0 0 1 -0.36402967749747006,0.19671483478919072Z\" style=\"pointer-events: all; stroke-width: 0; fill: rgb(99, 110, 250); fill-opacity: 1; stroke: rgb(68, 68, 68); stroke-opacity: 1;\"/><g class=\"slicetext\"><text data-notex=\"1\" class=\"slicetext\" transform=\"translate(354.0748330074584,400.1311293588523)scale(0.009389013400732936)rotate(61.6140412771212)\" text-anchor=\"middle\" x=\"0\" y=\"0\" style=\"font-family: 'Open Sans', verdana, arial, sans-serif; font-size: 35px; fill: rgb(255, 255, 255); fill-opacity: 1; white-space: pre;\">0.0412%</text></g></g><g class=\"slice\"><path class=\"surface\" d=\"M278.5,260l76.50703995576141,140.52285521297782a160,160 0 0 1 -0.2597091277670245,0.14108665417725774Z\" style=\"pointer-events: all; stroke-width: 0; fill: rgb(239, 85, 59); fill-opacity: 1; stroke: rgb(68, 68, 68); stroke-opacity: 1;\"/><g class=\"slicetext\"><text data-notex=\"1\" class=\"slicetext\" transform=\"translate(354.5248492657222,400.14206880690904)scale(0.006725377289340543)rotate(61.4870347503969)\" text-anchor=\"middle\" x=\"0\" y=\"0\" style=\"font-family: 'Open Sans', verdana, arial, sans-serif; font-size: 35px; fill: rgb(68, 68, 68); fill-opacity: 1; white-space: pre;\">0.0294%</text></g></g><g class=\"slice\"><path class=\"surface\" d=\"M278.5,260l76.71461933500431,140.4096406244435a160,160 0 0 1 -0.20757937924290104,0.113214588534305Z\" style=\"pointer-events: all; stroke-width: 0; fill: rgb(0, 204, 150); fill-opacity: 1; stroke: rgb(68, 68, 68); stroke-opacity: 1;\"/><g class=\"slicetext\"><text data-notex=\"1\" class=\"slicetext\" transform=\"translate(354.82796132023066,400.10514312007354)scale(0.005387909540740139)rotate(61.39177985535366)\" text-anchor=\"middle\" x=\"0\" y=\"0\" style=\"font-family: 'Open Sans', verdana, arial, sans-serif; font-size: 35px; fill: rgb(68, 68, 68); fill-opacity: 1; white-space: pre;\">0.0235%</text></g></g><g class=\"slice\"><path class=\"surface\" d=\"M278.5,260l76.87019395017981,140.3245284405465a160,160 0 0 1 -0.15557461517549598,0.08511218389702435Z\" style=\"pointer-events: all; stroke-width: 0; fill: rgb(171, 99, 250); fill-opacity: 1; stroke: rgb(68, 68, 68); stroke-opacity: 1;\"/><g class=\"slicetext\"><text data-notex=\"1\" class=\"slicetext\" transform=\"translate(355.07960440121116,400.09614724288446)scale(0.004046654052713409)rotate(61.31769271476452)\" text-anchor=\"middle\" x=\"0\" y=\"0\" style=\"font-family: 'Open Sans', verdana, arial, sans-serif; font-size: 35px; fill: rgb(68, 68, 68); fill-opacity: 1; white-space: pre;\">0.0176%</text></g></g><g class=\"slice\"><path class=\"surface\" d=\"M278.5,260l77.02567413649346,140.23924387923205a160,160 0 0 1 -0.15548018631365323,0.08528456131443818Z\" style=\"pointer-events: all; stroke-width: 0; fill: rgb(255, 161, 90); fill-opacity: 1; stroke: rgb(68, 68, 68); stroke-opacity: 1;\"/><g class=\"slicetext\"><text data-notex=\"1\" class=\"slicetext\" transform=\"translate(355.2348316418075,400.01118489409845)scale(0.004046654052713409)rotate(61.2541894514024)\" text-anchor=\"middle\" x=\"0\" y=\"0\" style=\"font-family: 'Open Sans', verdana, arial, sans-serif; font-size: 35px; fill: rgb(68, 68, 68); fill-opacity: 1; white-space: pre;\">0.0176%</text></g></g><g class=\"slice\"><path class=\"surface\" d=\"M278.5,260l77.18105970295036,140.15378704526543a160,160 0 0 1 -0.15538556645689994,0.0854568339666173Z\" style=\"pointer-events: all; stroke-width: 0; fill: rgb(25, 211, 243); fill-opacity: 1; stroke: rgb(68, 68, 68); stroke-opacity: 1;\"/><g class=\"slicetext\"><text data-notex=\"1\" class=\"slicetext\" transform=\"translate(355.3899646198236,399.9260505528125)scale(0.004046654052713409)rotate(61.190686188040274)\" text-anchor=\"middle\" x=\"0\" y=\"0\" style=\"font-family: 'Open Sans', verdana, arial, sans-serif; font-size: 35px; fill: rgb(68, 68, 68); fill-opacity: 1; white-space: pre;\">0.0176%</text></g></g><g class=\"slice\"><path class=\"surface\" d=\"M278.5,260l77.28459741973532,140.09672016742377a160,160 0 0 1 -0.10353771678495605,0.0570668778416632Z\" style=\"pointer-events: all; stroke-width: 0; fill: rgb(255, 102, 146); fill-opacity: 1; stroke: rgb(68, 68, 68); stroke-opacity: 1;\"/><g class=\"slicetext\"><text data-notex=\"1\" class=\"slicetext\" transform=\"translate(355.590191877706,399.9448195876895)scale(0.0027015947552476143)rotate(61.13776680190517)\" text-anchor=\"middle\" x=\"0\" y=\"0\" style=\"font-family: 'Open Sans', verdana, arial, sans-serif; font-size: 35px; fill: rgb(68, 68, 68); fill-opacity: 1; white-space: pre;\">0.0118%</text></g></g><g class=\"slice\"><path class=\"surface\" d=\"M278.5,260l77.33635045867179,140.06815804362353a160,160 0 0 1 -0.05175303893646799,0.028562123800242034Z\" style=\"pointer-events: all; stroke-width: 0; fill: rgb(182, 232, 128); fill-opacity: 1; stroke: rgb(68, 68, 68); stroke-opacity: 1;\"/><g class=\"slicetext\"><text data-notex=\"1\" class=\"slicetext\" transform=\"translate(355.7314648820639,399.97846495465933)scale(0.0013524511636136276)rotate(61.10601517022411)\" text-anchor=\"middle\" x=\"0\" y=\"0\" style=\"font-family: 'Open Sans', verdana, arial, sans-serif; font-size: 35px; fill: rgb(68, 68, 68); fill-opacity: 1; white-space: pre;\">0.00588%</text></g></g><g class=\"slice\"><path class=\"surface\" d=\"M278.5,260l77.38809294188533,140.03957680176742a160,160 0 0 1 -0.05174248321354469,0.028581241856102224Z\" style=\"pointer-events: all; stroke-width: 0; fill: rgb(255, 151, 255); fill-opacity: 1; stroke: rgb(68, 68, 68); stroke-opacity: 1;\"/><g class=\"slicetext\"><text data-notex=\"1\" class=\"slicetext\" transform=\"translate(355.7831742355926,399.94992246858624)scale(0.0013524511636136276)rotate(61.08484741577007)\" text-anchor=\"middle\" x=\"0\" y=\"0\" style=\"font-family: 'Open Sans', verdana, arial, sans-serif; font-size: 35px; fill: rgb(68, 68, 68); fill-opacity: 1; white-space: pre;\">0.00588%</text></g></g><g class=\"slice\"><path class=\"surface\" d=\"M278.5,260l77.43982486231357,140.01097644575657a160,160 0 0 1 -0.05173192042823871,0.02860035601085542Z\" style=\"pointer-events: all; stroke-width: 0; fill: rgb(254, 203, 82); fill-opacity: 1; stroke: rgb(68, 68, 68); stroke-opacity: 1;\"/><g class=\"slicetext\"><text data-notex=\"1\" class=\"slicetext\" transform=\"translate(355.8348730406565,399.92136088059544)scale(0.0013524511636136276)rotate(61.06367966131603)\" text-anchor=\"middle\" x=\"0\" y=\"0\" style=\"font-family: 'Open Sans', verdana, arial, sans-serif; font-size: 35px; fill: rgb(68, 68, 68); fill-opacity: 1; white-space: pre;\">0.00588%</text></g></g><g class=\"slice\"><path class=\"surface\" d=\"M278.5,260l77.49154621289554,139.98235697949465a160,160 0 0 1 -0.05172135058197114,0.02861946626191525Z\" style=\"pointer-events: all; stroke-width: 0; fill: rgb(198, 202, 253); fill-opacity: 1; stroke: rgb(68, 68, 68); stroke-opacity: 1;\"/><g class=\"slicetext\"><text data-notex=\"1\" class=\"slicetext\" transform=\"translate(355.88656129019904,399.8927801945852)scale(0.0013524511636136276)rotate(61.04251190686199)\" text-anchor=\"middle\" x=\"0\" y=\"0\" style=\"font-family: 'Open Sans', verdana, arial, sans-serif; font-size: 35px; fill: rgb(68, 68, 68); fill-opacity: 1; white-space: pre;\">0.00588%</text></g></g><g class=\"slice\"><path class=\"surface\" d=\"M278.5,260l77.54325698657176,139.95371840688796a160,160 0 0 1 -0.0517107736762199,0.028638572606695334Z\" style=\"pointer-events: all; stroke-width: 0; fill: rgb(247, 167, 153); fill-opacity: 1; stroke: rgb(68, 68, 68); stroke-opacity: 1;\"/><g class=\"slicetext\"><text data-notex=\"1\" class=\"slicetext\" transform=\"translate(355.9382389771654,399.86418041445677)scale(0.0013524511636136276)rotate(61.02134415240795)\" text-anchor=\"middle\" x=\"0\" y=\"0\" style=\"font-family: 'Open Sans', verdana, arial, sans-serif; font-size: 35px; fill: rgb(68, 68, 68); fill-opacity: 1; white-space: pre;\">0.00588%</text></g></g></g></g><g class=\"iciclelayer\"/><g class=\"treemaplayer\"/><g class=\"sunburstlayer\"/><g class=\"glimages\"/><defs id=\"topdefs-5c76e1\"><g class=\"clips\"/><clipPath id=\"legend5c76e1\"><rect width=\"203\" height=\"320\" x=\"0\" y=\"0\"/></clipPath></defs><g class=\"layer-above\"><g class=\"imagelayer\"/><g class=\"shapelayer\"/></g><g class=\"infolayer\"><g class=\"legend\" pointer-events=\"all\" transform=\"translate(484.94,100)\"><rect class=\"bg\" shape-rendering=\"crispEdges\" style=\"stroke: rgb(68, 68, 68); stroke-opacity: 1; fill: rgb(255, 255, 255); fill-opacity: 1; stroke-width: 0px;\" width=\"203\" height=\"320\" x=\"0\" y=\"0\"/><g class=\"scrollbox\" transform=\"\" clip-path=\"url(#legend5c76e1)\"><g class=\"groups\"><g class=\"traces\" transform=\"translate(0,14.5)\" style=\"opacity: 1;\"><text class=\"legendtext\" text-anchor=\"start\" x=\"40\" y=\"4.680000000000001\" style=\"font-family: 'Open Sans', verdana, arial, sans-serif; font-size: 12px; fill: rgb(42, 63, 95); fill-opacity: 1; white-space: pre;\"> Strategy</text><g class=\"layers\" style=\"opacity: 1;\"><g class=\"legendfill\"/><g class=\"legendlines\"/><g class=\"legendsymbols\"><g class=\"legendpoints\"><path class=\"legendpie\" d=\"M6,6H-6V-6H6Z\" transform=\"translate(20,0)\" style=\"stroke-width: 0; fill: rgb(99, 110, 250); fill-opacity: 1; stroke: rgb(68, 68, 68); stroke-opacity: 1;\"/></g></g></g><rect class=\"legendtoggle\" x=\"0\" y=\"-9.5\" width=\"197.609375\" height=\"19\" style=\"fill: rgb(0, 0, 0); fill-opacity: 0;\"/></g><g class=\"traces\" transform=\"translate(0,33.5)\" style=\"opacity: 1;\"><text class=\"legendtext\" text-anchor=\"start\" x=\"40\" y=\"4.680000000000001\" style=\"font-family: 'Open Sans', verdana, arial, sans-serif; font-size: 12px; fill: rgb(42, 63, 95); fill-opacity: 1; white-space: pre;\"> Entertainment</text><g class=\"layers\" style=\"opacity: 1;\"><g class=\"legendfill\"/><g class=\"legendlines\"/><g class=\"legendsymbols\"><g class=\"legendpoints\"><path class=\"legendpie\" d=\"M6,6H-6V-6H6Z\" transform=\"translate(20,0)\" style=\"stroke-width: 0; fill: rgb(239, 85, 59); fill-opacity: 1; stroke: rgb(68, 68, 68); stroke-opacity: 1;\"/></g></g></g><rect class=\"legendtoggle\" x=\"0\" y=\"-9.5\" width=\"197.609375\" height=\"19\" style=\"fill: rgb(0, 0, 0); fill-opacity: 0;\"/></g><g class=\"traces\" transform=\"translate(0,52.5)\" style=\"opacity: 1;\"><text class=\"legendtext\" text-anchor=\"start\" x=\"40\" y=\"4.680000000000001\" style=\"font-family: 'Open Sans', verdana, arial, sans-serif; font-size: 12px; fill: rgb(42, 63, 95); fill-opacity: 1; white-space: pre;\"> Puzzle</text><g class=\"layers\" style=\"opacity: 1;\"><g class=\"legendfill\"/><g class=\"legendlines\"/><g class=\"legendsymbols\"><g class=\"legendpoints\"><path class=\"legendpie\" d=\"M6,6H-6V-6H6Z\" transform=\"translate(20,0)\" style=\"stroke-width: 0; fill: rgb(0, 204, 150); fill-opacity: 1; stroke: rgb(68, 68, 68); stroke-opacity: 1;\"/></g></g></g><rect class=\"legendtoggle\" x=\"0\" y=\"-9.5\" width=\"197.609375\" height=\"19\" style=\"fill: rgb(0, 0, 0); fill-opacity: 0;\"/></g><g class=\"traces\" transform=\"translate(0,71.5)\" style=\"opacity: 1;\"><text class=\"legendtext\" text-anchor=\"start\" x=\"40\" y=\"4.680000000000001\" style=\"font-family: 'Open Sans', verdana, arial, sans-serif; font-size: 12px; fill: rgb(42, 63, 95); fill-opacity: 1; white-space: pre;\"> Simulation</text><g class=\"layers\" style=\"opacity: 1;\"><g class=\"legendfill\"/><g class=\"legendlines\"/><g class=\"legendsymbols\"><g class=\"legendpoints\"><path class=\"legendpie\" d=\"M6,6H-6V-6H6Z\" transform=\"translate(20,0)\" style=\"stroke-width: 0; fill: rgb(171, 99, 250); fill-opacity: 1; stroke: rgb(68, 68, 68); stroke-opacity: 1;\"/></g></g></g><rect class=\"legendtoggle\" x=\"0\" y=\"-9.5\" width=\"197.609375\" height=\"19\" style=\"fill: rgb(0, 0, 0); fill-opacity: 0;\"/></g><g class=\"traces\" transform=\"translate(0,90.5)\" style=\"opacity: 1;\"><text class=\"legendtext\" text-anchor=\"start\" x=\"40\" y=\"4.680000000000001\" style=\"font-family: 'Open Sans', verdana, arial, sans-serif; font-size: 12px; fill: rgb(42, 63, 95); fill-opacity: 1; white-space: pre;\"> Action</text><g class=\"layers\" style=\"opacity: 1;\"><g class=\"legendfill\"/><g class=\"legendlines\"/><g class=\"legendsymbols\"><g class=\"legendpoints\"><path class=\"legendpie\" d=\"M6,6H-6V-6H6Z\" transform=\"translate(20,0)\" style=\"stroke-width: 0; fill: rgb(255, 161, 90); fill-opacity: 1; stroke: rgb(68, 68, 68); stroke-opacity: 1;\"/></g></g></g><rect class=\"legendtoggle\" x=\"0\" y=\"-9.5\" width=\"197.609375\" height=\"19\" style=\"fill: rgb(0, 0, 0); fill-opacity: 0;\"/></g><g class=\"traces\" transform=\"translate(0,109.5)\" style=\"opacity: 1;\"><text class=\"legendtext\" text-anchor=\"start\" x=\"40\" y=\"4.680000000000001\" style=\"font-family: 'Open Sans', verdana, arial, sans-serif; font-size: 12px; fill: rgb(42, 63, 95); fill-opacity: 1; white-space: pre;\"> Board</text><g class=\"layers\" style=\"opacity: 1;\"><g class=\"legendfill\"/><g class=\"legendlines\"/><g class=\"legendsymbols\"><g class=\"legendpoints\"><path class=\"legendpie\" d=\"M6,6H-6V-6H6Z\" transform=\"translate(20,0)\" style=\"stroke-width: 0; fill: rgb(25, 211, 243); fill-opacity: 1; stroke: rgb(68, 68, 68); stroke-opacity: 1;\"/></g></g></g><rect class=\"legendtoggle\" x=\"0\" y=\"-9.5\" width=\"197.609375\" height=\"19\" style=\"fill: rgb(0, 0, 0); fill-opacity: 0;\"/></g><g class=\"traces\" transform=\"translate(0,128.5)\" style=\"opacity: 1;\"><text class=\"legendtext\" text-anchor=\"start\" x=\"40\" y=\"4.680000000000001\" style=\"font-family: 'Open Sans', verdana, arial, sans-serif; font-size: 12px; fill: rgb(42, 63, 95); fill-opacity: 1; white-space: pre;\"> Casual</text><g class=\"layers\" style=\"opacity: 1;\"><g class=\"legendfill\"/><g class=\"legendlines\"/><g class=\"legendsymbols\"><g class=\"legendpoints\"><path class=\"legendpie\" d=\"M6,6H-6V-6H6Z\" transform=\"translate(20,0)\" style=\"stroke-width: 0; fill: rgb(255, 102, 146); fill-opacity: 1; stroke: rgb(68, 68, 68); stroke-opacity: 1;\"/></g></g></g><rect class=\"legendtoggle\" x=\"0\" y=\"-9.5\" width=\"197.609375\" height=\"19\" style=\"fill: rgb(0, 0, 0); fill-opacity: 0;\"/></g><g class=\"traces\" transform=\"translate(0,147.5)\" style=\"opacity: 1;\"><text class=\"legendtext\" text-anchor=\"start\" x=\"40\" y=\"4.680000000000001\" style=\"font-family: 'Open Sans', verdana, arial, sans-serif; font-size: 12px; fill: rgb(42, 63, 95); fill-opacity: 1; white-space: pre;\"> Role Playing</text><g class=\"layers\" style=\"opacity: 1;\"><g class=\"legendfill\"/><g class=\"legendlines\"/><g class=\"legendsymbols\"><g class=\"legendpoints\"><path class=\"legendpie\" d=\"M6,6H-6V-6H6Z\" transform=\"translate(20,0)\" style=\"stroke-width: 0; fill: rgb(182, 232, 128); fill-opacity: 1; stroke: rgb(68, 68, 68); stroke-opacity: 1;\"/></g></g></g><rect class=\"legendtoggle\" x=\"0\" y=\"-9.5\" width=\"197.609375\" height=\"19\" style=\"fill: rgb(0, 0, 0); fill-opacity: 0;\"/></g><g class=\"traces\" transform=\"translate(0,166.5)\" style=\"opacity: 1;\"><text class=\"legendtext\" text-anchor=\"start\" x=\"40\" y=\"4.680000000000001\" style=\"font-family: 'Open Sans', verdana, arial, sans-serif; font-size: 12px; fill: rgb(42, 63, 95); fill-opacity: 1; white-space: pre;\"> Adventure</text><g class=\"layers\" style=\"opacity: 1;\"><g class=\"legendfill\"/><g class=\"legendlines\"/><g class=\"legendsymbols\"><g class=\"legendpoints\"><path class=\"legendpie\" d=\"M6,6H-6V-6H6Z\" transform=\"translate(20,0)\" style=\"stroke-width: 0; fill: rgb(255, 151, 255); fill-opacity: 1; stroke: rgb(68, 68, 68); stroke-opacity: 1;\"/></g></g></g><rect class=\"legendtoggle\" x=\"0\" y=\"-9.5\" width=\"197.609375\" height=\"19\" style=\"fill: rgb(0, 0, 0); fill-opacity: 0;\"/></g><g class=\"traces\" transform=\"translate(0,185.5)\" style=\"opacity: 1;\"><text class=\"legendtext\" text-anchor=\"start\" x=\"40\" y=\"4.680000000000001\" style=\"font-family: 'Open Sans', verdana, arial, sans-serif; font-size: 12px; fill: rgb(42, 63, 95); fill-opacity: 1; white-space: pre;\"> Family</text><g class=\"layers\" style=\"opacity: 1;\"><g class=\"legendfill\"/><g class=\"legendlines\"/><g class=\"legendsymbols\"><g class=\"legendpoints\"><path class=\"legendpie\" d=\"M6,6H-6V-6H6Z\" transform=\"translate(20,0)\" style=\"stroke-width: 0; fill: rgb(254, 203, 82); fill-opacity: 1; stroke: rgb(68, 68, 68); stroke-opacity: 1;\"/></g></g></g><rect class=\"legendtoggle\" x=\"0\" y=\"-9.5\" width=\"197.609375\" height=\"19\" style=\"fill: rgb(0, 0, 0); fill-opacity: 0;\"/></g><g class=\"traces\" transform=\"translate(0,204.5)\" style=\"opacity: 1;\"><text class=\"legendtext\" text-anchor=\"start\" x=\"40\" y=\"4.680000000000001\" style=\"font-family: 'Open Sans', verdana, arial, sans-serif; font-size: 12px; fill: rgb(42, 63, 95); fill-opacity: 1; white-space: pre;\"> Games</text><g class=\"layers\" style=\"opacity: 1;\"><g class=\"legendfill\"/><g class=\"legendlines\"/><g class=\"legendsymbols\"><g class=\"legendpoints\"><path class=\"legendpie\" d=\"M6,6H-6V-6H6Z\" transform=\"translate(20,0)\" style=\"stroke-width: 0; fill: rgb(198, 202, 253); fill-opacity: 1; stroke: rgb(68, 68, 68); stroke-opacity: 1;\"/></g></g></g><rect class=\"legendtoggle\" x=\"0\" y=\"-9.5\" width=\"197.609375\" height=\"19\" style=\"fill: rgb(0, 0, 0); fill-opacity: 0;\"/></g><g class=\"traces\" transform=\"translate(0,223.5)\" style=\"opacity: 1;\"><text class=\"legendtext\" text-anchor=\"start\" x=\"40\" y=\"4.680000000000001\" style=\"font-family: 'Open Sans', verdana, arial, sans-serif; font-size: 12px; fill: rgb(42, 63, 95); fill-opacity: 1; white-space: pre;\"> Card</text><g class=\"layers\" style=\"opacity: 1;\"><g class=\"legendfill\"/><g class=\"legendlines\"/><g class=\"legendsymbols\"><g class=\"legendpoints\"><path class=\"legendpie\" d=\"M6,6H-6V-6H6Z\" transform=\"translate(20,0)\" style=\"stroke-width: 0; fill: rgb(247, 167, 153); fill-opacity: 1; stroke: rgb(68, 68, 68); stroke-opacity: 1;\"/></g></g></g><rect class=\"legendtoggle\" x=\"0\" y=\"-9.5\" width=\"197.609375\" height=\"19\" style=\"fill: rgb(0, 0, 0); fill-opacity: 0;\"/></g><g class=\"traces\" transform=\"translate(0,242.5)\" style=\"opacity: 1;\"><text class=\"legendtext\" text-anchor=\"start\" x=\"40\" y=\"4.680000000000001\" style=\"font-family: 'Open Sans', verdana, arial, sans-serif; font-size: 12px; fill: rgb(42, 63, 95); fill-opacity: 1; white-space: pre;\"> Sports</text><g class=\"layers\" style=\"opacity: 1;\"><g class=\"legendfill\"/><g class=\"legendlines\"/><g class=\"legendsymbols\"><g class=\"legendpoints\"><path class=\"legendpie\" d=\"M6,6H-6V-6H6Z\" transform=\"translate(20,0)\" style=\"stroke-width: 0; fill: rgb(51, 255, 201); fill-opacity: 1; stroke: rgb(68, 68, 68); stroke-opacity: 1;\"/></g></g></g><rect class=\"legendtoggle\" x=\"0\" y=\"-9.5\" width=\"197.609375\" height=\"19\" style=\"fill: rgb(0, 0, 0); fill-opacity: 0;\"/></g><g class=\"traces\" transform=\"translate(0,261.5)\" style=\"opacity: 1;\"><text class=\"legendtext\" text-anchor=\"start\" x=\"40\" y=\"4.680000000000001\" style=\"font-family: 'Open Sans', verdana, arial, sans-serif; font-size: 12px; fill: rgb(42, 63, 95); fill-opacity: 1; white-space: pre;\"> Education</text><g class=\"layers\" style=\"opacity: 1;\"><g class=\"legendfill\"/><g class=\"legendlines\"/><g class=\"legendsymbols\"><g class=\"legendpoints\"><path class=\"legendpie\" d=\"M6,6H-6V-6H6Z\" transform=\"translate(20,0)\" style=\"stroke-width: 0; fill: rgb(224, 198, 253); fill-opacity: 1; stroke: rgb(68, 68, 68); stroke-opacity: 1;\"/></g></g></g><rect class=\"legendtoggle\" x=\"0\" y=\"-9.5\" width=\"197.609375\" height=\"19\" style=\"fill: rgb(0, 0, 0); fill-opacity: 0;\"/></g><g class=\"traces\" transform=\"translate(0,280.5)\" style=\"opacity: 1;\"><text class=\"legendtext\" text-anchor=\"start\" x=\"40\" y=\"4.680000000000001\" style=\"font-family: 'Open Sans', verdana, arial, sans-serif; font-size: 12px; fill: rgb(42, 63, 95); fill-opacity: 1; white-space: pre;\"> Trivia</text><g class=\"layers\" style=\"opacity: 1;\"><g class=\"legendfill\"/><g class=\"legendlines\"/><g class=\"legendsymbols\"><g class=\"legendpoints\"><path class=\"legendpie\" d=\"M6,6H-6V-6H6Z\" transform=\"translate(20,0)\" style=\"stroke-width: 0; fill: rgb(255, 219, 192); fill-opacity: 1; stroke: rgb(68, 68, 68); stroke-opacity: 1;\"/></g></g></g><rect class=\"legendtoggle\" x=\"0\" y=\"-9.5\" width=\"197.609375\" height=\"19\" style=\"fill: rgb(0, 0, 0); fill-opacity: 0;\"/></g><g class=\"traces\" transform=\"translate(0,299.5)\" style=\"opacity: 1;\"><text class=\"legendtext\" text-anchor=\"start\" x=\"40\" y=\"4.680000000000001\" style=\"font-family: 'Open Sans', verdana, arial, sans-serif; font-size: 12px; fill: rgb(42, 63, 95); fill-opacity: 1; white-space: pre;\"> Lifestyle</text><g class=\"layers\" style=\"opacity: 1;\"><g class=\"legendfill\"/><g class=\"legendlines\"/><g class=\"legendsymbols\"><g class=\"legendpoints\"><path class=\"legendpie\" d=\"M6,6H-6V-6H6Z\" transform=\"translate(20,0)\" style=\"stroke-width: 0; fill: rgb(122, 230, 248); fill-opacity: 1; stroke: rgb(68, 68, 68); stroke-opacity: 1;\"/></g></g></g><rect class=\"legendtoggle\" x=\"0\" y=\"-9.5\" width=\"197.609375\" height=\"19\" style=\"fill: rgb(0, 0, 0); fill-opacity: 0;\"/></g><g class=\"traces\" transform=\"translate(0,318.5)\" style=\"opacity: 1;\"><text class=\"legendtext\" text-anchor=\"start\" x=\"40\" y=\"4.680000000000001\" style=\"font-family: 'Open Sans', verdana, arial, sans-serif; font-size: 12px; fill: rgb(42, 63, 95); fill-opacity: 1; white-space: pre;\"> Word</text><g class=\"layers\" style=\"opacity: 1;\"><g class=\"legendfill\"/><g class=\"legendlines\"/><g class=\"legendsymbols\"><g class=\"legendpoints\"><path class=\"legendpie\" d=\"M6,6H-6V-6H6Z\" transform=\"translate(20,0)\" style=\"stroke-width: 0; fill: rgb(255, 204, 219); fill-opacity: 1; stroke: rgb(68, 68, 68); stroke-opacity: 1;\"/></g></g></g><rect class=\"legendtoggle\" x=\"0\" y=\"-9.5\" width=\"197.609375\" height=\"19\" style=\"fill: rgb(0, 0, 0); fill-opacity: 0;\"/></g><g class=\"traces\" transform=\"translate(0,337.5)\" style=\"opacity: 1;\"><text class=\"legendtext\" text-anchor=\"start\" x=\"40\" y=\"4.680000000000001\" style=\"font-family: 'Open Sans', verdana, arial, sans-serif; font-size: 12px; fill: rgb(42, 63, 95); fill-opacity: 1; white-space: pre;\"> Racing</text><g class=\"layers\" style=\"opacity: 1;\"><g class=\"legendfill\"/><g class=\"legendlines\"/><g class=\"legendsymbols\"><g class=\"legendpoints\"><path class=\"legendpie\" d=\"M6,6H-6V-6H6Z\" transform=\"translate(20,0)\" style=\"stroke-width: 0; fill: rgb(232, 248, 214); fill-opacity: 1; stroke: rgb(68, 68, 68); stroke-opacity: 1;\"/></g></g></g><rect class=\"legendtoggle\" x=\"0\" y=\"-9.5\" width=\"197.609375\" height=\"19\" style=\"fill: rgb(0, 0, 0); fill-opacity: 0;\"/></g><g class=\"traces\" transform=\"translate(0,356.5)\" style=\"opacity: 1;\"><text class=\"legendtext\" text-anchor=\"start\" x=\"40\" y=\"4.680000000000001\" style=\"font-family: 'Open Sans', verdana, arial, sans-serif; font-size: 12px; fill: rgb(42, 63, 95); fill-opacity: 1; white-space: pre;\"> Social Networking</text><g class=\"layers\" style=\"opacity: 1;\"><g class=\"legendfill\"/><g class=\"legendlines\"/><g class=\"legendsymbols\"><g class=\"legendpoints\"><path class=\"legendpie\" d=\"M6,6H-6V-6H6Z\" transform=\"translate(20,0)\" style=\"stroke-width: 0; fill: rgb(255, 253, 255); fill-opacity: 1; stroke: rgb(68, 68, 68); stroke-opacity: 1;\"/></g></g></g><rect class=\"legendtoggle\" x=\"0\" y=\"-9.5\" width=\"197.609375\" height=\"19\" style=\"fill: rgb(0, 0, 0); fill-opacity: 0;\"/></g><g class=\"traces\" transform=\"translate(0,375.5)\" style=\"opacity: 1;\"><text class=\"legendtext\" text-anchor=\"start\" x=\"40\" y=\"4.680000000000001\" style=\"font-family: 'Open Sans', verdana, arial, sans-serif; font-size: 12px; fill: rgb(42, 63, 95); fill-opacity: 1; white-space: pre;\"> Utilities</text><g class=\"layers\" style=\"opacity: 1;\"><g class=\"legendfill\"/><g class=\"legendlines\"/><g class=\"legendsymbols\"><g class=\"legendpoints\"><path class=\"legendpie\" d=\"M6,6H-6V-6H6Z\" transform=\"translate(20,0)\" style=\"stroke-width: 0; fill: rgb(255, 233, 183); fill-opacity: 1; stroke: rgb(68, 68, 68); stroke-opacity: 1;\"/></g></g></g><rect class=\"legendtoggle\" x=\"0\" y=\"-9.5\" width=\"197.609375\" height=\"19\" style=\"fill: rgb(0, 0, 0); fill-opacity: 0;\"/></g><g class=\"traces\" transform=\"translate(0,394.5)\" style=\"opacity: 1;\"><text class=\"legendtext\" text-anchor=\"start\" x=\"40\" y=\"4.680000000000001\" style=\"font-family: 'Open Sans', verdana, arial, sans-serif; font-size: 12px; fill: rgb(42, 63, 95); fill-opacity: 1; white-space: pre;\"> Music</text><g class=\"layers\" style=\"opacity: 1;\"><g class=\"legendfill\"/><g class=\"legendlines\"/><g class=\"legendsymbols\"><g class=\"legendpoints\"><path class=\"legendpie\" d=\"M6,6H-6V-6H6Z\" transform=\"translate(20,0)\" style=\"stroke-width: 0; fill: rgb(8, 25, 239); fill-opacity: 1; stroke: rgb(68, 68, 68); stroke-opacity: 1;\"/></g></g></g><rect class=\"legendtoggle\" x=\"0\" y=\"-9.5\" width=\"197.609375\" height=\"19\" style=\"fill: rgb(0, 0, 0); fill-opacity: 0;\"/></g><g class=\"traces\" transform=\"translate(0,413.5)\" style=\"opacity: 1;\"><text class=\"legendtext\" text-anchor=\"start\" x=\"40\" y=\"4.680000000000001\" style=\"font-family: 'Open Sans', verdana, arial, sans-serif; font-size: 12px; fill: rgb(42, 63, 95); fill-opacity: 1; white-space: pre;\"> Travel</text><g class=\"layers\" style=\"opacity: 1;\"><g class=\"legendfill\"/><g class=\"legendlines\"/><g class=\"legendsymbols\"><g class=\"legendpoints\"><path class=\"legendpie\" d=\"M6,6H-6V-6H6Z\" transform=\"translate(20,0)\" style=\"stroke-width: 0; fill: rgb(181, 39, 15); fill-opacity: 1; stroke: rgb(68, 68, 68); stroke-opacity: 1;\"/></g></g></g><rect class=\"legendtoggle\" x=\"0\" y=\"-9.5\" width=\"197.609375\" height=\"19\" style=\"fill: rgb(0, 0, 0); fill-opacity: 0;\"/></g><g class=\"traces\" transform=\"translate(0,432.5)\" style=\"opacity: 1;\"><text class=\"legendtext\" text-anchor=\"start\" x=\"40\" y=\"4.680000000000001\" style=\"font-family: 'Open Sans', verdana, arial, sans-serif; font-size: 12px; fill: rgb(42, 63, 95); fill-opacity: 1; white-space: pre;\"> Casino</text><g class=\"layers\" style=\"opacity: 1;\"><g class=\"legendfill\"/><g class=\"legendlines\"/><g class=\"legendsymbols\"><g class=\"legendpoints\"><path class=\"legendpie\" d=\"M6,6H-6V-6H6Z\" transform=\"translate(20,0)\" style=\"stroke-width: 0; fill: rgb(0, 102, 75); fill-opacity: 1; stroke: rgb(68, 68, 68); stroke-opacity: 1;\"/></g></g></g><rect class=\"legendtoggle\" x=\"0\" y=\"-9.5\" width=\"197.609375\" height=\"19\" style=\"fill: rgb(0, 0, 0); fill-opacity: 0;\"/></g><g class=\"traces\" transform=\"translate(0,451.5)\" style=\"opacity: 1;\"><text class=\"legendtext\" text-anchor=\"start\" x=\"40\" y=\"4.680000000000001\" style=\"font-family: 'Open Sans', verdana, arial, sans-serif; font-size: 12px; fill: rgb(42, 63, 95); fill-opacity: 1; white-space: pre;\"> Productivity</text><g class=\"layers\" style=\"opacity: 1;\"><g class=\"legendfill\"/><g class=\"legendlines\"/><g class=\"legendsymbols\"><g class=\"legendpoints\"><path class=\"legendpie\" d=\"M6,6H-6V-6H6Z\" transform=\"translate(20,0)\" style=\"stroke-width: 0; fill: rgb(118, 8, 239); fill-opacity: 1; stroke: rgb(68, 68, 68); stroke-opacity: 1;\"/></g></g></g><rect class=\"legendtoggle\" x=\"0\" y=\"-9.5\" width=\"197.609375\" height=\"19\" style=\"fill: rgb(0, 0, 0); fill-opacity: 0;\"/></g><g class=\"traces\" transform=\"translate(0,470.5)\" style=\"opacity: 1;\"><text class=\"legendtext\" text-anchor=\"start\" x=\"40\" y=\"4.680000000000001\" style=\"font-family: 'Open Sans', verdana, arial, sans-serif; font-size: 12px; fill: rgb(42, 63, 95); fill-opacity: 1; white-space: pre;\"> Reference</text><g class=\"layers\" style=\"opacity: 1;\"><g class=\"legendfill\"/><g class=\"legendlines\"/><g class=\"legendsymbols\"><g class=\"legendpoints\"><path class=\"legendpie\" d=\"M6,6H-6V-6H6Z\" transform=\"translate(20,0)\" style=\"stroke-width: 0; fill: rgb(243, 105, 0); fill-opacity: 1; stroke: rgb(68, 68, 68); stroke-opacity: 1;\"/></g></g></g><rect class=\"legendtoggle\" x=\"0\" y=\"-9.5\" width=\"197.609375\" height=\"19\" style=\"fill: rgb(0, 0, 0); fill-opacity: 0;\"/></g><g class=\"traces\" transform=\"translate(0,489.5)\" style=\"opacity: 1;\"><text class=\"legendtext\" text-anchor=\"start\" x=\"40\" y=\"4.680000000000001\" style=\"font-family: 'Open Sans', verdana, arial, sans-serif; font-size: 12px; fill: rgb(42, 63, 95); fill-opacity: 1; white-space: pre;\"> Finance</text><g class=\"layers\" style=\"opacity: 1;\"><g class=\"legendfill\"/><g class=\"legendlines\"/><g class=\"legendsymbols\"><g class=\"legendpoints\"><path class=\"legendpie\" d=\"M6,6H-6V-6H6Z\" transform=\"translate(20,0)\" style=\"stroke-width: 0; fill: rgb(8, 136, 158); fill-opacity: 1; stroke: rgb(68, 68, 68); stroke-opacity: 1;\"/></g></g></g><rect class=\"legendtoggle\" x=\"0\" y=\"-9.5\" width=\"197.609375\" height=\"19\" style=\"fill: rgb(0, 0, 0); fill-opacity: 0;\"/></g><g class=\"traces\" transform=\"translate(0,508.5)\" style=\"opacity: 1;\"><text class=\"legendtext\" text-anchor=\"start\" x=\"40\" y=\"4.680000000000001\" style=\"font-family: 'Open Sans', verdana, arial, sans-serif; font-size: 12px; fill: rgb(42, 63, 95); fill-opacity: 1; white-space: pre;\"> Food &amp; Drink</text><g class=\"layers\" style=\"opacity: 1;\"><g class=\"legendfill\"/><g class=\"legendlines\"/><g class=\"legendsymbols\"><g class=\"legendpoints\"><path class=\"legendpie\" d=\"M6,6H-6V-6H6Z\" transform=\"translate(20,0)\" style=\"stroke-width: 0; fill: rgb(255, 0, 73); fill-opacity: 1; stroke: rgb(68, 68, 68); stroke-opacity: 1;\"/></g></g></g><rect class=\"legendtoggle\" x=\"0\" y=\"-9.5\" width=\"197.609375\" height=\"19\" style=\"fill: rgb(0, 0, 0); fill-opacity: 0;\"/></g><g class=\"traces\" transform=\"translate(0,527.5)\" style=\"opacity: 1;\"><text class=\"legendtext\" text-anchor=\"start\" x=\"40\" y=\"4.680000000000001\" style=\"font-family: 'Open Sans', verdana, arial, sans-serif; font-size: 12px; fill: rgb(42, 63, 95); fill-opacity: 1; white-space: pre;\"> Health &amp; Fitness</text><g class=\"layers\" style=\"opacity: 1;\"><g class=\"legendfill\"/><g class=\"legendlines\"/><g class=\"legendsymbols\"><g class=\"legendpoints\"><path class=\"legendpie\" d=\"M6,6H-6V-6H6Z\" transform=\"translate(20,0)\" style=\"stroke-width: 0; fill: rgb(132, 216, 42); fill-opacity: 1; stroke: rgb(68, 68, 68); stroke-opacity: 1;\"/></g></g></g><rect class=\"legendtoggle\" x=\"0\" y=\"-9.5\" width=\"197.609375\" height=\"19\" style=\"fill: rgb(0, 0, 0); fill-opacity: 0;\"/></g><g class=\"traces\" transform=\"translate(0,546.5)\" style=\"opacity: 1;\"><text class=\"legendtext\" text-anchor=\"start\" x=\"40\" y=\"4.680000000000001\" style=\"font-family: 'Open Sans', verdana, arial, sans-serif; font-size: 12px; fill: rgb(42, 63, 95); fill-opacity: 1; white-space: pre;\"> Books</text><g class=\"layers\" style=\"opacity: 1;\"><g class=\"legendfill\"/><g class=\"legendlines\"/><g class=\"legendsymbols\"><g class=\"legendpoints\"><path class=\"legendpie\" d=\"M6,6H-6V-6H6Z\" transform=\"translate(20,0)\" style=\"stroke-width: 0; fill: rgb(255, 49, 255); fill-opacity: 1; stroke: rgb(68, 68, 68); stroke-opacity: 1;\"/></g></g></g><rect class=\"legendtoggle\" x=\"0\" y=\"-9.5\" width=\"197.609375\" height=\"19\" style=\"fill: rgb(0, 0, 0); fill-opacity: 0;\"/></g><g class=\"traces\" transform=\"translate(0,565.5)\" style=\"opacity: 1;\"><text class=\"legendtext\" text-anchor=\"start\" x=\"40\" y=\"4.680000000000001\" style=\"font-family: 'Open Sans', verdana, arial, sans-serif; font-size: 12px; fill: rgb(42, 63, 95); fill-opacity: 1; white-space: pre;\"> Business</text><g class=\"layers\" style=\"opacity: 1;\"><g class=\"legendfill\"/><g class=\"legendlines\"/><g class=\"legendsymbols\"><g class=\"legendpoints\"><path class=\"legendpie\" d=\"M6,6H-6V-6H6Z\" transform=\"translate(20,0)\" style=\"stroke-width: 0; fill: rgb(233, 164, 1); fill-opacity: 1; stroke: rgb(68, 68, 68); stroke-opacity: 1;\"/></g></g></g><rect class=\"legendtoggle\" x=\"0\" y=\"-9.5\" width=\"197.609375\" height=\"19\" style=\"fill: rgb(0, 0, 0); fill-opacity: 0;\"/></g><g class=\"traces\" transform=\"translate(0,584.5)\" style=\"opacity: 1;\"><text class=\"legendtext\" text-anchor=\"start\" x=\"40\" y=\"4.680000000000001\" style=\"font-family: 'Open Sans', verdana, arial, sans-serif; font-size: 12px; fill: rgb(42, 63, 95); fill-opacity: 1; white-space: pre;\"> Photo &amp; Video</text><g class=\"layers\" style=\"opacity: 1;\"><g class=\"legendfill\"/><g class=\"legendlines\"/><g class=\"legendsymbols\"><g class=\"legendpoints\"><path class=\"legendpie\" d=\"M6,6H-6V-6H6Z\" transform=\"translate(20,0)\" style=\"stroke-width: 0; fill: rgb(99, 110, 250); fill-opacity: 1; stroke: rgb(68, 68, 68); stroke-opacity: 1;\"/></g></g></g><rect class=\"legendtoggle\" x=\"0\" y=\"-9.5\" width=\"197.609375\" height=\"19\" style=\"fill: rgb(0, 0, 0); fill-opacity: 0;\"/></g><g class=\"traces\" transform=\"translate(0,603.5)\" style=\"opacity: 1;\"><text class=\"legendtext\" text-anchor=\"start\" x=\"40\" y=\"4.680000000000001\" style=\"font-family: 'Open Sans', verdana, arial, sans-serif; font-size: 12px; fill: rgb(42, 63, 95); fill-opacity: 1; white-space: pre;\"> Navigation</text><g class=\"layers\" style=\"opacity: 1;\"><g class=\"legendfill\"/><g class=\"legendlines\"/><g class=\"legendsymbols\"><g class=\"legendpoints\"><path class=\"legendpie\" d=\"M6,6H-6V-6H6Z\" transform=\"translate(20,0)\" style=\"stroke-width: 0; fill: rgb(239, 85, 59); fill-opacity: 1; stroke: rgb(68, 68, 68); stroke-opacity: 1;\"/></g></g></g><rect class=\"legendtoggle\" x=\"0\" y=\"-9.5\" width=\"197.609375\" height=\"19\" style=\"fill: rgb(0, 0, 0); fill-opacity: 0;\"/></g><g class=\"traces\" transform=\"translate(0,622.5)\" style=\"opacity: 1;\"><text class=\"legendtext\" text-anchor=\"start\" x=\"40\" y=\"4.680000000000001\" style=\"font-family: 'Open Sans', verdana, arial, sans-serif; font-size: 12px; fill: rgb(42, 63, 95); fill-opacity: 1; white-space: pre;\"> Medical</text><g class=\"layers\" style=\"opacity: 1;\"><g class=\"legendfill\"/><g class=\"legendlines\"/><g class=\"legendsymbols\"><g class=\"legendpoints\"><path class=\"legendpie\" d=\"M6,6H-6V-6H6Z\" transform=\"translate(20,0)\" style=\"stroke-width: 0; fill: rgb(0, 204, 150); fill-opacity: 1; stroke: rgb(68, 68, 68); stroke-opacity: 1;\"/></g></g></g><rect class=\"legendtoggle\" x=\"0\" y=\"-9.5\" width=\"197.609375\" height=\"19\" style=\"fill: rgb(0, 0, 0); fill-opacity: 0;\"/></g><g class=\"traces\" transform=\"translate(0,641.5)\" style=\"opacity: 1;\"><text class=\"legendtext\" text-anchor=\"start\" x=\"40\" y=\"4.680000000000001\" style=\"font-family: 'Open Sans', verdana, arial, sans-serif; font-size: 12px; fill: rgb(42, 63, 95); fill-opacity: 1; white-space: pre;\"> News</text><g class=\"layers\" style=\"opacity: 1;\"><g class=\"legendfill\"/><g class=\"legendlines\"/><g class=\"legendsymbols\"><g class=\"legendpoints\"><path class=\"legendpie\" d=\"M6,6H-6V-6H6Z\" transform=\"translate(20,0)\" style=\"stroke-width: 0; fill: rgb(171, 99, 250); fill-opacity: 1; stroke: rgb(68, 68, 68); stroke-opacity: 1;\"/></g></g></g><rect class=\"legendtoggle\" x=\"0\" y=\"-9.5\" width=\"197.609375\" height=\"19\" style=\"fill: rgb(0, 0, 0); fill-opacity: 0;\"/></g><g class=\"traces\" transform=\"translate(0,660.5)\" style=\"opacity: 1;\"><text class=\"legendtext\" text-anchor=\"start\" x=\"40\" y=\"4.680000000000001\" style=\"font-family: 'Open Sans', verdana, arial, sans-serif; font-size: 12px; fill: rgb(42, 63, 95); fill-opacity: 1; white-space: pre;\"> Emoji &amp; Expressions</text><g class=\"layers\" style=\"opacity: 1;\"><g class=\"legendfill\"/><g class=\"legendlines\"/><g class=\"legendsymbols\"><g class=\"legendpoints\"><path class=\"legendpie\" d=\"M6,6H-6V-6H6Z\" transform=\"translate(20,0)\" style=\"stroke-width: 0; fill: rgb(255, 161, 90); fill-opacity: 1; stroke: rgb(68, 68, 68); stroke-opacity: 1;\"/></g></g></g><rect class=\"legendtoggle\" x=\"0\" y=\"-9.5\" width=\"197.609375\" height=\"19\" style=\"fill: rgb(0, 0, 0); fill-opacity: 0;\"/></g><g class=\"traces\" transform=\"translate(0,679.5)\" style=\"opacity: 1;\"><text class=\"legendtext\" text-anchor=\"start\" x=\"40\" y=\"4.680000000000001\" style=\"font-family: 'Open Sans', verdana, arial, sans-serif; font-size: 12px; fill: rgb(42, 63, 95); fill-opacity: 1; white-space: pre;\"> Places &amp; Objects</text><g class=\"layers\" style=\"opacity: 1;\"><g class=\"legendfill\"/><g class=\"legendlines\"/><g class=\"legendsymbols\"><g class=\"legendpoints\"><path class=\"legendpie\" d=\"M6,6H-6V-6H6Z\" transform=\"translate(20,0)\" style=\"stroke-width: 0; fill: rgb(25, 211, 243); fill-opacity: 1; stroke: rgb(68, 68, 68); stroke-opacity: 1;\"/></g></g></g><rect class=\"legendtoggle\" x=\"0\" y=\"-9.5\" width=\"197.609375\" height=\"19\" style=\"fill: rgb(0, 0, 0); fill-opacity: 0;\"/></g><g class=\"traces\" transform=\"translate(0,698.5)\" style=\"opacity: 1;\"><text class=\"legendtext\" text-anchor=\"start\" x=\"40\" y=\"4.680000000000001\" style=\"font-family: 'Open Sans', verdana, arial, sans-serif; font-size: 12px; fill: rgb(42, 63, 95); fill-opacity: 1; white-space: pre;\"> Gaming</text><g class=\"layers\" style=\"opacity: 1;\"><g class=\"legendfill\"/><g class=\"legendlines\"/><g class=\"legendsymbols\"><g class=\"legendpoints\"><path class=\"legendpie\" d=\"M6,6H-6V-6H6Z\" transform=\"translate(20,0)\" style=\"stroke-width: 0; fill: rgb(255, 102, 146); fill-opacity: 1; stroke: rgb(68, 68, 68); stroke-opacity: 1;\"/></g></g></g><rect class=\"legendtoggle\" x=\"0\" y=\"-9.5\" width=\"197.609375\" height=\"19\" style=\"fill: rgb(0, 0, 0); fill-opacity: 0;\"/></g><g class=\"traces\" transform=\"translate(0,717.5)\" style=\"opacity: 1;\"><text class=\"legendtext\" text-anchor=\"start\" x=\"40\" y=\"4.680000000000001\" style=\"font-family: 'Open Sans', verdana, arial, sans-serif; font-size: 12px; fill: rgb(42, 63, 95); fill-opacity: 1; white-space: pre;\"> Sports &amp; Activities</text><g class=\"layers\" style=\"opacity: 1;\"><g class=\"legendfill\"/><g class=\"legendlines\"/><g class=\"legendsymbols\"><g class=\"legendpoints\"><path class=\"legendpie\" d=\"M6,6H-6V-6H6Z\" transform=\"translate(20,0)\" style=\"stroke-width: 0; fill: rgb(182, 232, 128); fill-opacity: 1; stroke: rgb(68, 68, 68); stroke-opacity: 1;\"/></g></g></g><rect class=\"legendtoggle\" x=\"0\" y=\"-9.5\" width=\"197.609375\" height=\"19\" style=\"fill: rgb(0, 0, 0); fill-opacity: 0;\"/></g><g class=\"traces\" transform=\"translate(0,736.5)\" style=\"opacity: 1;\"><text class=\"legendtext\" text-anchor=\"start\" x=\"40\" y=\"4.680000000000001\" style=\"font-family: 'Open Sans', verdana, arial, sans-serif; font-size: 12px; fill: rgb(42, 63, 95); fill-opacity: 1; white-space: pre;\"> Stickers</text><g class=\"layers\" style=\"opacity: 1;\"><g class=\"legendfill\"/><g class=\"legendlines\"/><g class=\"legendsymbols\"><g class=\"legendpoints\"><path class=\"legendpie\" d=\"M6,6H-6V-6H6Z\" transform=\"translate(20,0)\" style=\"stroke-width: 0; fill: rgb(255, 151, 255); fill-opacity: 1; stroke: rgb(68, 68, 68); stroke-opacity: 1;\"/></g></g></g><rect class=\"legendtoggle\" x=\"0\" y=\"-9.5\" width=\"197.609375\" height=\"19\" style=\"fill: rgb(0, 0, 0); fill-opacity: 0;\"/></g><g class=\"traces\" transform=\"translate(0,755.5)\" style=\"opacity: 1;\"><text class=\"legendtext\" text-anchor=\"start\" x=\"40\" y=\"4.680000000000001\" style=\"font-family: 'Open Sans', verdana, arial, sans-serif; font-size: 12px; fill: rgb(42, 63, 95); fill-opacity: 1; white-space: pre;\"> Art</text><g class=\"layers\" style=\"opacity: 1;\"><g class=\"legendfill\"/><g class=\"legendlines\"/><g class=\"legendsymbols\"><g class=\"legendpoints\"><path class=\"legendpie\" d=\"M6,6H-6V-6H6Z\" transform=\"translate(20,0)\" style=\"stroke-width: 0; fill: rgb(254, 203, 82); fill-opacity: 1; stroke: rgb(68, 68, 68); stroke-opacity: 1;\"/></g></g></g><rect class=\"legendtoggle\" x=\"0\" y=\"-9.5\" width=\"197.609375\" height=\"19\" style=\"fill: rgb(0, 0, 0); fill-opacity: 0;\"/></g><g class=\"traces\" transform=\"translate(0,774.5)\" style=\"opacity: 1;\"><text class=\"legendtext\" text-anchor=\"start\" x=\"40\" y=\"4.680000000000001\" style=\"font-family: 'Open Sans', verdana, arial, sans-serif; font-size: 12px; fill: rgb(42, 63, 95); fill-opacity: 1; white-space: pre;\"> Magazines &amp; Newspapers</text><g class=\"layers\" style=\"opacity: 1;\"><g class=\"legendfill\"/><g class=\"legendlines\"/><g class=\"legendsymbols\"><g class=\"legendpoints\"><path class=\"legendpie\" d=\"M6,6H-6V-6H6Z\" transform=\"translate(20,0)\" style=\"stroke-width: 0; fill: rgb(198, 202, 253); fill-opacity: 1; stroke: rgb(68, 68, 68); stroke-opacity: 1;\"/></g></g></g><rect class=\"legendtoggle\" x=\"0\" y=\"-9.5\" width=\"197.609375\" height=\"19\" style=\"fill: rgb(0, 0, 0); fill-opacity: 0;\"/></g><g class=\"traces\" transform=\"translate(0,793.5)\" style=\"opacity: 1;\"><text class=\"legendtext\" text-anchor=\"start\" x=\"40\" y=\"4.680000000000001\" style=\"font-family: 'Open Sans', verdana, arial, sans-serif; font-size: 12px; fill: rgb(42, 63, 95); fill-opacity: 1; white-space: pre;\"> Animals &amp; Nature</text><g class=\"layers\" style=\"opacity: 1;\"><g class=\"legendfill\"/><g class=\"legendlines\"/><g class=\"legendsymbols\"><g class=\"legendpoints\"><path class=\"legendpie\" d=\"M6,6H-6V-6H6Z\" transform=\"translate(20,0)\" style=\"stroke-width: 0; fill: rgb(247, 167, 153); fill-opacity: 1; stroke: rgb(68, 68, 68); stroke-opacity: 1;\"/></g></g></g><rect class=\"legendtoggle\" x=\"0\" y=\"-9.5\" width=\"197.609375\" height=\"19\" style=\"fill: rgb(0, 0, 0); fill-opacity: 0;\"/></g></g></g><rect class=\"scrollbar\" rx=\"20\" ry=\"3\" width=\"0\" height=\"0\" style=\"fill: rgb(128, 139, 164); fill-opacity: 1;\" x=\"0\" y=\"0\"/></g><g class=\"g-gtitle\"><text class=\"gtitle\" x=\"35\" y=\"50\" text-anchor=\"start\" dy=\"0em\" style=\"font-family: 'Open Sans', verdana, arial, sans-serif; font-size: 17px; fill: rgb(42, 63, 95); opacity: 1; font-weight: normal; white-space: pre;\">Percent of Secondary Genres in our dataset</text></g><g class=\"annotation\" data-index=\"0\" style=\"opacity: 1;\"><g class=\"annotation-text-g\" transform=\"rotate(0,278.5,260)\"><g class=\"cursor-pointer\" transform=\"translate(249,254)\"><rect class=\"bg\" x=\"0.5\" y=\"0.5\" width=\"59\" height=\"11\" style=\"stroke-width: 1px; stroke: rgb(0, 0, 0); stroke-opacity: 0; fill: rgb(255, 255, 255); fill-opacity: 1;\"/><text class=\"annotation-text\" text-anchor=\"middle\" x=\"29.546875\" y=\"8\" style=\"font-family: 'Open Sans', verdana, arial, sans-serif; font-size: 6px; fill: rgb(42, 63, 95); fill-opacity: 1; white-space: pre;\">Secondary Genres</text></g></g></g></g></svg>"
      ]
     },
     "metadata": {},
     "output_type": "display_data"
    }
   ],
   "source": [
    "genre_count = games['Secondary Genre'].value_counts().sort_values(ascending=False)\n",
    "fig = go.Figure(data=[go.Pie(labels=genre_count.index, values=genre_count.values)])\n",
    "fig.update_layout(hoverlabel=dict(font=dict(family='sans-serif', size=25)),\n",
    "    title_text=\"Percent of Secondary Genres in our dataset\", annotations=[dict(text='Secondary Genres', bgcolor='white', font_size=6, showarrow=False)])\n",
    "fig.update_traces(hoverinfo='percent', textinfo='percent', textfont_size=35,textposition='inside')\n",
    "fig.show(renderer=\"svg\")"
   ]
  },
  {
   "cell_type": "markdown",
   "id": "cee1ef28",
   "metadata": {},
   "source": [
    "Conclusion: Games overtake every other Genre by far. While Strategy games are the most popular form of game, with entertainment coming at second."
   ]
  },
  {
   "cell_type": "code",
   "execution_count": 49,
   "id": "020c906b",
   "metadata": {},
   "outputs": [
    {
     "data": {
      "image/svg+xml": [
       "<svg class=\"main-svg\" xmlns=\"http://www.w3.org/2000/svg\" xmlns:xlink=\"http://www.w3.org/1999/xlink\" width=\"700\" height=\"500\" style=\"\" viewBox=\"0 0 700 500\"><rect x=\"0\" y=\"0\" width=\"700\" height=\"500\" style=\"fill: rgb(17, 17, 17); fill-opacity: 1;\"/><defs id=\"defs-e13f27\"><g class=\"clips\"><clipPath id=\"clipe13f27xyplot\" class=\"plotclip\"><rect width=\"540\" height=\"202\"/></clipPath><clipPath class=\"axesclip\" id=\"clipe13f27x\"><rect x=\"80\" y=\"0\" width=\"540\" height=\"500\"/></clipPath><clipPath class=\"axesclip\" id=\"clipe13f27y\"><rect x=\"0\" y=\"100\" width=\"700\" height=\"202\"/></clipPath><clipPath class=\"axesclip\" id=\"clipe13f27xy\"><rect x=\"80\" y=\"100\" width=\"540\" height=\"202\"/></clipPath></g><g class=\"gradients\"/><g class=\"patterns\"/></defs><g class=\"bglayer\"/><g class=\"layer-below\"><g class=\"imagelayer\"/><g class=\"shapelayer\"/></g><g class=\"cartesianlayer\"><g class=\"subplot xy\"><g class=\"layer-subplot\"><g class=\"shapelayer\"/><g class=\"imagelayer\"/></g><g class=\"gridlayer\"><g class=\"x\"/><g class=\"y\"><path class=\"ygrid crisp\" transform=\"translate(0,261.6)\" d=\"M80,0h540\" style=\"stroke: rgb(40, 52, 66); stroke-opacity: 1; stroke-width: 1px;\"/><path class=\"ygrid crisp\" transform=\"translate(0,221.2)\" d=\"M80,0h540\" style=\"stroke: rgb(40, 52, 66); stroke-opacity: 1; stroke-width: 1px;\"/><path class=\"ygrid crisp\" transform=\"translate(0,180.8)\" d=\"M80,0h540\" style=\"stroke: rgb(40, 52, 66); stroke-opacity: 1; stroke-width: 1px;\"/><path class=\"ygrid crisp\" transform=\"translate(0,140.4)\" d=\"M80,0h540\" style=\"stroke: rgb(40, 52, 66); stroke-opacity: 1; stroke-width: 1px;\"/></g></g><g class=\"zerolinelayer\"><path class=\"yzl zl crisp\" transform=\"translate(0,302)\" d=\"M80,0h540\" style=\"stroke: rgb(40, 52, 66); stroke-opacity: 1; stroke-width: 2px;\"/></g><path class=\"xlines-below\"/><path class=\"ylines-below\"/><g class=\"overlines-below\"/><g class=\"xaxislayer-below\"/><g class=\"yaxislayer-below\"/><g class=\"overaxes-below\"/><g class=\"plot\" transform=\"translate(80,100)\" clip-path=\"url(#clipe13f27xyplot)\"><g class=\"barlayer mlayer\"><g class=\"trace bars\" style=\"opacity: 1;\"><g class=\"points\"><g class=\"point\"><path d=\"M2.57,202V15.15H23.14V202Z\" style=\"vector-effect: non-scaling-stroke; opacity: 1; stroke-width: 0.5px; fill: rgb(0, 0, 139); fill-opacity: 1; stroke: rgb(17, 17, 17); stroke-opacity: 1;\"/><text class=\"bartext bartext-inside\" text-anchor=\"middle\" data-notex=\"1\" x=\"0\" y=\"0\" style=\"font-family: 'Courier New'; font-size: 12px; fill: rgb(255, 255, 255); fill-opacity: 1; white-space: pre;\" transform=\"translate(12.855,39.165625)rotate(90 0 -3)\">4.625</text></g><g class=\"point\"><path d=\"M28.29,202V17.31H48.86V202Z\" style=\"vector-effect: non-scaling-stroke; opacity: 1; stroke-width: 0.5px; fill: rgb(0, 0, 139); fill-opacity: 1; stroke: rgb(17, 17, 17); stroke-opacity: 1;\"/><text class=\"bartext bartext-inside\" text-anchor=\"middle\" data-notex=\"1\" x=\"0\" y=\"0\" style=\"font-family: 'Courier New'; font-size: 12px; fill: rgb(255, 255, 255); fill-opacity: 1; white-space: pre;\" transform=\"translate(38.575,84.52875)rotate(90 0 -3)\">4.571428571428571</text></g><g class=\"point\"><path d=\"M54,202V20.2H74.57V202Z\" style=\"vector-effect: non-scaling-stroke; opacity: 1; stroke-width: 0.5px; fill: rgb(0, 0, 139); fill-opacity: 1; stroke: rgb(17, 17, 17); stroke-opacity: 1;\"/><text class=\"bartext bartext-inside\" text-anchor=\"middle\" data-notex=\"1\" x=\"0\" y=\"0\" style=\"font-family: 'Courier New'; font-size: 12px; fill: rgb(255, 255, 255); fill-opacity: 1; white-space: pre;\" transform=\"translate(64.285,37.0125)rotate(90 0 -3)\">4.5</text></g><g class=\"point\"><path d=\"M79.71,202V20.2H100.29V202Z\" style=\"vector-effect: non-scaling-stroke; opacity: 1; stroke-width: 0.5px; fill: rgb(0, 0, 139); fill-opacity: 1; stroke: rgb(17, 17, 17); stroke-opacity: 1;\"/><text class=\"bartext bartext-inside\" text-anchor=\"middle\" data-notex=\"1\" x=\"0\" y=\"0\" style=\"font-family: 'Courier New'; font-size: 12px; fill: rgb(255, 255, 255); fill-opacity: 1; white-space: pre;\" transform=\"translate(90,37.0125)rotate(90 0 -3)\">4.5</text></g><g class=\"point\"><path d=\"M105.43,202V20.2H126V202Z\" style=\"vector-effect: non-scaling-stroke; opacity: 1; stroke-width: 0.5px; fill: rgb(0, 0, 139); fill-opacity: 1; stroke: rgb(17, 17, 17); stroke-opacity: 1;\"/><text class=\"bartext bartext-inside\" text-anchor=\"middle\" data-notex=\"1\" x=\"0\" y=\"0\" style=\"font-family: 'Courier New'; font-size: 12px; fill: rgb(255, 255, 255); fill-opacity: 1; white-space: pre;\" transform=\"translate(115.715,37.0125)rotate(90 0 -3)\">4.5</text></g><g class=\"point\"><path d=\"M131.14,202V23.11H151.71V202Z\" style=\"vector-effect: non-scaling-stroke; opacity: 1; stroke-width: 0.5px; fill: rgb(0, 0, 139); fill-opacity: 1; stroke: rgb(17, 17, 17); stroke-opacity: 1;\"/><text class=\"bartext bartext-inside\" text-anchor=\"middle\" data-notex=\"1\" x=\"0\" y=\"0\" style=\"font-family: 'Courier New'; font-size: 12px; fill: rgb(255, 255, 255); fill-opacity: 1; white-space: pre;\" transform=\"translate(141.425,90.32875)rotate(90 0 -3)\">4.427927927927928</text></g><g class=\"point\"><path d=\"M156.86,202V23.68H177.43V202Z\" style=\"vector-effect: non-scaling-stroke; opacity: 1; stroke-width: 0.5px; fill: rgb(0, 0, 139); fill-opacity: 1; stroke: rgb(17, 17, 17); stroke-opacity: 1;\"/><text class=\"bartext bartext-inside\" text-anchor=\"middle\" data-notex=\"1\" x=\"0\" y=\"0\" style=\"font-family: 'Courier New'; font-size: 12px; fill: rgb(255, 255, 255); fill-opacity: 1; white-space: pre;\" transform=\"translate(167.145,90.89875)rotate(90 0 -3)\">4.413793103448276</text></g><g class=\"point\"><path d=\"M182.57,202V24.58H203.14V202Z\" style=\"vector-effect: non-scaling-stroke; opacity: 1; stroke-width: 0.5px; fill: rgb(0, 0, 139); fill-opacity: 1; stroke: rgb(17, 17, 17); stroke-opacity: 1;\"/><text class=\"bartext bartext-inside\" text-anchor=\"middle\" data-notex=\"1\" x=\"0\" y=\"0\" style=\"font-family: 'Courier New'; font-size: 12px; fill: rgb(255, 255, 255); fill-opacity: 1; white-space: pre;\" transform=\"translate(192.855,91.79875)rotate(90 0 -3)\">4.391666666666667</text></g><g class=\"point\"><path d=\"M208.29,202V24.69H228.86V202Z\" style=\"vector-effect: non-scaling-stroke; opacity: 1; stroke-width: 0.5px; fill: rgb(0, 0, 139); fill-opacity: 1; stroke: rgb(17, 17, 17); stroke-opacity: 1;\"/><text class=\"bartext bartext-inside\" text-anchor=\"middle\" data-notex=\"1\" x=\"0\" y=\"0\" style=\"font-family: 'Courier New'; font-size: 12px; fill: rgb(255, 255, 255); fill-opacity: 1; white-space: pre;\" transform=\"translate(218.575,91.90875)rotate(90 0 -3)\">4.388888888888889</text></g><g class=\"point\"><path d=\"M234,202V26.93H254.57V202Z\" style=\"vector-effect: non-scaling-stroke; opacity: 1; stroke-width: 0.5px; fill: rgb(0, 0, 139); fill-opacity: 1; stroke: rgb(17, 17, 17); stroke-opacity: 1;\"/><text class=\"bartext bartext-inside\" text-anchor=\"middle\" data-notex=\"1\" x=\"0\" y=\"0\" style=\"font-family: 'Courier New'; font-size: 12px; fill: rgb(255, 255, 255); fill-opacity: 1; white-space: pre;\" transform=\"translate(244.285,94.14875)rotate(90 0 -3)\">4.333333333333333</text></g><g class=\"point\"><path d=\"M259.71,202V27.78H280.29V202Z\" style=\"vector-effect: non-scaling-stroke; opacity: 1; stroke-width: 0.5px; fill: rgb(0, 0, 139); fill-opacity: 1; stroke: rgb(17, 17, 17); stroke-opacity: 1;\"/><text class=\"bartext bartext-inside\" text-anchor=\"middle\" data-notex=\"1\" x=\"0\" y=\"0\" style=\"font-family: 'Courier New'; font-size: 12px; fill: rgb(255, 255, 255); fill-opacity: 1; white-space: pre;\" transform=\"translate(270,55.389375)rotate(90 0 -3)\">4.3125</text></g><g class=\"point\"><path d=\"M285.43,202V28.05H306V202Z\" style=\"vector-effect: non-scaling-stroke; opacity: 1; stroke-width: 0.5px; fill: rgb(0, 0, 139); fill-opacity: 1; stroke: rgb(17, 17, 17); stroke-opacity: 1;\"/><text class=\"bartext bartext-inside\" text-anchor=\"middle\" data-notex=\"1\" x=\"0\" y=\"0\" style=\"font-family: 'Courier New'; font-size: 12px; fill: rgb(255, 255, 255); fill-opacity: 1; white-space: pre;\" transform=\"translate(295.71500000000003,98.8625)rotate(90 0 -3)\">4.3056613041876455</text></g><g class=\"point\"><path d=\"M311.14,202V28.06H331.71V202Z\" style=\"vector-effect: non-scaling-stroke; opacity: 1; stroke-width: 0.5px; fill: rgb(0, 0, 139); fill-opacity: 1; stroke: rgb(17, 17, 17); stroke-opacity: 1;\"/><text class=\"bartext bartext-inside\" text-anchor=\"middle\" data-notex=\"1\" x=\"0\" y=\"0\" style=\"font-family: 'Courier New'; font-size: 12px; fill: rgb(255, 255, 255); fill-opacity: 1; white-space: pre;\" transform=\"translate(321.42499999999995,95.27875)rotate(90 0 -3)\">4.305555555555555</text></g><g class=\"point\"><path d=\"M336.86,202V29.18H357.43V202Z\" style=\"vector-effect: non-scaling-stroke; opacity: 1; stroke-width: 0.5px; fill: rgb(0, 0, 139); fill-opacity: 1; stroke: rgb(17, 17, 17); stroke-opacity: 1;\"/><text class=\"bartext bartext-inside\" text-anchor=\"middle\" data-notex=\"1\" x=\"0\" y=\"0\" style=\"font-family: 'Courier New'; font-size: 12px; fill: rgb(255, 255, 255); fill-opacity: 1; white-space: pre;\" transform=\"translate(347.145,96.39875)rotate(90 0 -3)\">4.277777777777778</text></g><g class=\"point\"><path d=\"M362.57,202V30.43H383.14V202Z\" style=\"vector-effect: non-scaling-stroke; opacity: 1; stroke-width: 0.5px; fill: rgb(0, 0, 139); fill-opacity: 1; stroke: rgb(17, 17, 17); stroke-opacity: 1;\"/><text class=\"bartext bartext-inside\" text-anchor=\"middle\" data-notex=\"1\" x=\"0\" y=\"0\" style=\"font-family: 'Courier New'; font-size: 12px; fill: rgb(255, 255, 255); fill-opacity: 1; white-space: pre;\" transform=\"translate(372.855,97.64875)rotate(90 0 -3)\">4.246753246753247</text></g><g class=\"point\"><path d=\"M388.29,202V32.75H408.86V202Z\" style=\"vector-effect: non-scaling-stroke; opacity: 1; stroke-width: 0.5px; fill: rgb(0, 0, 139); fill-opacity: 1; stroke: rgb(17, 17, 17); stroke-opacity: 1;\"/><text class=\"bartext bartext-inside\" text-anchor=\"middle\" data-notex=\"1\" x=\"0\" y=\"0\" style=\"font-family: 'Courier New'; font-size: 12px; fill: rgb(255, 255, 255); fill-opacity: 1; white-space: pre;\" transform=\"translate(398.57500000000005,103.5625)rotate(90 0 -3)\">4.1893939393939394</text></g><g class=\"point\"><path d=\"M414,202V42.42H434.57V202Z\" style=\"vector-effect: non-scaling-stroke; opacity: 1; stroke-width: 0.5px; fill: rgb(0, 0, 139); fill-opacity: 1; stroke: rgb(17, 17, 17); stroke-opacity: 1;\"/><text class=\"bartext bartext-inside\" text-anchor=\"middle\" data-notex=\"1\" x=\"0\" y=\"0\" style=\"font-family: 'Courier New'; font-size: 12px; fill: rgb(255, 255, 255); fill-opacity: 1; white-space: pre;\" transform=\"translate(424.28499999999997,62.82625)rotate(90 0 -3)\">3.95</text></g><g class=\"point\"><path d=\"M439.71,202V46.08H460.29V202Z\" style=\"vector-effect: non-scaling-stroke; opacity: 1; stroke-width: 0.5px; fill: rgb(0, 0, 139); fill-opacity: 1; stroke: rgb(17, 17, 17); stroke-opacity: 1;\"/><text class=\"bartext bartext-inside\" text-anchor=\"middle\" data-notex=\"1\" x=\"0\" y=\"0\" style=\"font-family: 'Courier New'; font-size: 12px; fill: rgb(255, 255, 255); fill-opacity: 1; white-space: pre;\" transform=\"translate(450,80.8925)rotate(90 0 -3)\">3.859375</text></g><g class=\"point\"><path d=\"M465.43,202V47.13H486V202Z\" style=\"vector-effect: non-scaling-stroke; opacity: 1; stroke-width: 0.5px; fill: rgb(0, 0, 139); fill-opacity: 1; stroke: rgb(17, 17, 17); stroke-opacity: 1;\"/><text class=\"bartext bartext-inside\" text-anchor=\"middle\" data-notex=\"1\" x=\"0\" y=\"0\" style=\"font-family: 'Courier New'; font-size: 12px; fill: rgb(255, 255, 255); fill-opacity: 1; white-space: pre;\" transform=\"translate(475.71500000000003,117.9425)rotate(90 0 -3)\">3.8333333333333335</text></g><g class=\"point\"><path d=\"M491.14,202V60.6H511.71V202Z\" style=\"vector-effect: non-scaling-stroke; opacity: 1; stroke-width: 0.5px; fill: rgb(0, 0, 139); fill-opacity: 1; stroke: rgb(17, 17, 17); stroke-opacity: 1;\"/><text class=\"bartext bartext-inside\" text-anchor=\"middle\" data-notex=\"1\" x=\"0\" y=\"0\" style=\"font-family: 'Courier New'; font-size: 12px; fill: rgb(255, 255, 255); fill-opacity: 1; white-space: pre;\" transform=\"translate(501.42499999999995,77.4125)rotate(90 0 -3)\">3.5</text></g><g class=\"point\"><path d=\"M516.86,202V80.8H537.43V202Z\" style=\"vector-effect: non-scaling-stroke; opacity: 1; stroke-width: 0.5px; fill: rgb(0, 0, 139); fill-opacity: 1; stroke: rgb(17, 17, 17); stroke-opacity: 1;\"/><text class=\"bartext bartext-inside\" text-anchor=\"middle\" data-notex=\"1\" x=\"0\" y=\"0\" style=\"font-family: 'Courier New'; font-size: 12px; fill: rgb(255, 255, 255); fill-opacity: 1; white-space: pre;\" transform=\"translate(527.145,93.8)\">3</text></g></g></g></g></g><g class=\"overplot\"/><path class=\"xlines-above crisp\" d=\"M0,0\" style=\"fill: none;\"/><path class=\"ylines-above crisp\" d=\"M0,0\" style=\"fill: none;\"/><g class=\"overlines-above\"/><g class=\"xaxislayer-above\"><g class=\"xtick\"><text text-anchor=\"start\" x=\"0\" y=\"318\" transform=\"translate(92.86,0) rotate(90,0,310.5)\" style=\"font-family: 'Courier New'; font-size: 15px; fill: rgb(242, 245, 250); fill-opacity: 1; white-space: pre; opacity: 1;\">Food &amp; Drink</text></g><g class=\"xtick\"><text text-anchor=\"start\" x=\"0\" y=\"318\" transform=\"translate(118.57,0) rotate(90,0,310.5)\" style=\"font-family: 'Courier New'; font-size: 15px; fill: rgb(242, 245, 250); fill-opacity: 1; white-space: pre; opacity: 1;\">News</text></g><g class=\"xtick\"><text text-anchor=\"start\" x=\"0\" y=\"318\" transform=\"translate(144.29000000000002,0) rotate(90,0,310.5)\" style=\"font-family: 'Courier New'; font-size: 15px; fill: rgb(242, 245, 250); fill-opacity: 1; white-space: pre; opacity: 1;\">Music</text></g><g class=\"xtick\"><text text-anchor=\"start\" x=\"0\" y=\"318\" transform=\"translate(170,0) rotate(90,0,310.5)\" style=\"font-family: 'Courier New'; font-size: 15px; fill: rgb(242, 245, 250); fill-opacity: 1; white-space: pre; opacity: 1;\">Shopping</text></g><g class=\"xtick\"><text text-anchor=\"start\" x=\"0\" y=\"318\" transform=\"translate(195.70999999999998,0) rotate(90,0,310.5)\" style=\"font-family: 'Courier New'; font-size: 15px; fill: rgb(242, 245, 250); fill-opacity: 1; white-space: pre; opacity: 1;\">Health &amp; Fitness</text></g><g class=\"xtick\"><text text-anchor=\"start\" x=\"0\" y=\"318\" transform=\"translate(221.43,0) rotate(90,0,310.5)\" style=\"font-family: 'Courier New'; font-size: 15px; fill: rgb(242, 245, 250); fill-opacity: 1; white-space: pre; opacity: 1;\">Education</text></g><g class=\"xtick\"><text text-anchor=\"start\" x=\"0\" y=\"318\" transform=\"translate(247.14,0) rotate(90,0,310.5)\" style=\"font-family: 'Courier New'; font-size: 15px; fill: rgb(242, 245, 250); fill-opacity: 1; white-space: pre; opacity: 1;\">Stickers</text></g><g class=\"xtick\"><text text-anchor=\"start\" x=\"0\" y=\"318\" transform=\"translate(272.86,0) rotate(90,0,310.5)\" style=\"font-family: 'Courier New'; font-size: 15px; fill: rgb(242, 245, 250); fill-opacity: 1; white-space: pre; opacity: 1;\">Sports</text></g><g class=\"xtick\"><text text-anchor=\"start\" x=\"0\" y=\"318\" transform=\"translate(298.57,0) rotate(90,0,310.5)\" style=\"font-family: 'Courier New'; font-size: 15px; fill: rgb(242, 245, 250); fill-opacity: 1; white-space: pre; opacity: 1;\">Books</text></g><g class=\"xtick\"><text text-anchor=\"start\" x=\"0\" y=\"318\" transform=\"translate(324.28999999999996,0) rotate(90,0,310.5)\" style=\"font-family: 'Courier New'; font-size: 15px; fill: rgb(242, 245, 250); fill-opacity: 1; white-space: pre; opacity: 1;\">Navigation</text></g><g class=\"xtick\"><text text-anchor=\"start\" x=\"0\" y=\"318\" transform=\"translate(350,0) rotate(90,0,310.5)\" style=\"font-family: 'Courier New'; font-size: 15px; fill: rgb(242, 245, 250); fill-opacity: 1; white-space: pre; opacity: 1;\">Business</text></g><g class=\"xtick\"><text text-anchor=\"start\" x=\"0\" y=\"318\" transform=\"translate(375.71,0) rotate(90,0,310.5)\" style=\"font-family: 'Courier New'; font-size: 15px; fill: rgb(242, 245, 250); fill-opacity: 1; white-space: pre; opacity: 1;\">Games</text></g><g class=\"xtick\"><text text-anchor=\"start\" x=\"0\" y=\"318\" transform=\"translate(401.43,0) rotate(90,0,310.5)\" style=\"font-family: 'Courier New'; font-size: 15px; fill: rgb(242, 245, 250); fill-opacity: 1; white-space: pre; opacity: 1;\">Finance</text></g><g class=\"xtick\"><text text-anchor=\"start\" x=\"0\" y=\"318\" transform=\"translate(427.14,0) rotate(90,0,310.5)\" style=\"font-family: 'Courier New'; font-size: 15px; fill: rgb(242, 245, 250); fill-opacity: 1; white-space: pre; opacity: 1;\">Social Networking</text></g><g class=\"xtick\"><text text-anchor=\"start\" x=\"0\" y=\"318\" transform=\"translate(452.86,0) rotate(90,0,310.5)\" style=\"font-family: 'Courier New'; font-size: 15px; fill: rgb(242, 245, 250); fill-opacity: 1; white-space: pre; opacity: 1;\">Utilities</text></g><g class=\"xtick\"><text text-anchor=\"start\" x=\"0\" y=\"318\" transform=\"translate(478.57,0) rotate(90,0,310.5)\" style=\"font-family: 'Courier New'; font-size: 15px; fill: rgb(242, 245, 250); fill-opacity: 1; white-space: pre; opacity: 1;\">Entertainment</text></g><g class=\"xtick\"><text text-anchor=\"start\" x=\"0\" y=\"318\" transform=\"translate(504.29,0) rotate(90,0,310.5)\" style=\"font-family: 'Courier New'; font-size: 15px; fill: rgb(242, 245, 250); fill-opacity: 1; white-space: pre; opacity: 1;\">Lifestyle</text></g><g class=\"xtick\"><text text-anchor=\"start\" x=\"0\" y=\"318\" transform=\"translate(530,0) rotate(90,0,310.5)\" style=\"font-family: 'Courier New'; font-size: 15px; fill: rgb(242, 245, 250); fill-opacity: 1; white-space: pre; opacity: 1;\">Reference</text></g><g class=\"xtick\"><text text-anchor=\"start\" x=\"0\" y=\"318\" transform=\"translate(555.71,0) rotate(90,0,310.5)\" style=\"font-family: 'Courier New'; font-size: 15px; fill: rgb(242, 245, 250); fill-opacity: 1; white-space: pre; opacity: 1;\">Productivity</text></g><g class=\"xtick\"><text text-anchor=\"start\" x=\"0\" y=\"318\" transform=\"translate(581.4300000000001,0) rotate(90,0,310.5)\" style=\"font-family: 'Courier New'; font-size: 15px; fill: rgb(242, 245, 250); fill-opacity: 1; white-space: pre; opacity: 1;\">Travel</text></g><g class=\"xtick\"><text text-anchor=\"start\" x=\"0\" y=\"318\" transform=\"translate(607.14,0) rotate(90,0,310.5)\" style=\"font-family: 'Courier New'; font-size: 15px; fill: rgb(242, 245, 250); fill-opacity: 1; white-space: pre; opacity: 1;\">Medical</text></g></g><g class=\"yaxislayer-above\"><g class=\"ytick\"><text text-anchor=\"end\" x=\"79\" y=\"4.199999999999999\" transform=\"translate(0,302)\" style=\"font-family: 'Courier New'; font-size: 12px; fill: rgb(242, 245, 250); fill-opacity: 1; white-space: pre; opacity: 1;\">0</text></g><g class=\"ytick\"><text text-anchor=\"end\" x=\"79\" y=\"4.199999999999999\" style=\"font-family: 'Courier New'; font-size: 12px; fill: rgb(242, 245, 250); fill-opacity: 1; white-space: pre; opacity: 1;\" transform=\"translate(0,261.6)\">1</text></g><g class=\"ytick\"><text text-anchor=\"end\" x=\"79\" y=\"4.199999999999999\" style=\"font-family: 'Courier New'; font-size: 12px; fill: rgb(242, 245, 250); fill-opacity: 1; white-space: pre; opacity: 1;\" transform=\"translate(0,221.2)\">2</text></g><g class=\"ytick\"><text text-anchor=\"end\" x=\"79\" y=\"4.199999999999999\" style=\"font-family: 'Courier New'; font-size: 12px; fill: rgb(242, 245, 250); fill-opacity: 1; white-space: pre; opacity: 1;\" transform=\"translate(0,180.8)\">3</text></g><g class=\"ytick\"><text text-anchor=\"end\" x=\"79\" y=\"4.199999999999999\" style=\"font-family: 'Courier New'; font-size: 12px; fill: rgb(242, 245, 250); fill-opacity: 1; white-space: pre; opacity: 1;\" transform=\"translate(0,140.4)\">4</text></g><g class=\"ytick\"><text text-anchor=\"end\" x=\"79\" y=\"4.199999999999999\" style=\"font-family: 'Courier New'; font-size: 12px; fill: rgb(242, 245, 250); fill-opacity: 1; white-space: pre; opacity: 1;\" transform=\"translate(0,100)\">5</text></g></g><g class=\"overaxes-above\"/></g></g><g class=\"polarlayer\"/><g class=\"ternarylayer\"/><g class=\"geolayer\"/><g class=\"funnelarealayer\"/><g class=\"pielayer\"/><g class=\"iciclelayer\"/><g class=\"treemaplayer\"/><g class=\"sunburstlayer\"/><g class=\"glimages\"/><defs id=\"topdefs-e13f27\"><g class=\"clips\"/></defs><g class=\"layer-above\"><g class=\"imagelayer\"/><g class=\"shapelayer\"/></g><g class=\"infolayer\"><g class=\"g-gtitle\"><text class=\"gtitle\" x=\"35\" y=\"50\" text-anchor=\"start\" dy=\"0em\" style=\"font-family: 'Courier New'; font-size: 17px; fill: rgb(242, 245, 250); opacity: 1; font-weight: normal; white-space: pre;\">Average user rating per Primary Genre</text></g><g class=\"g-xtitle\"><text class=\"xtitle\" x=\"350\" y=\"488.33125\" text-anchor=\"middle\" style=\"font-family: 'Courier New'; font-size: 14px; fill: rgb(242, 245, 250); opacity: 1; font-weight: normal; white-space: pre;\">Primary Genre</text></g><g class=\"g-ytitle\"><text class=\"ytitle\" transform=\"rotate(-90,46.996875,201)\" x=\"46.996875\" y=\"201\" text-anchor=\"middle\" style=\"font-family: 'Courier New'; font-size: 14px; fill: rgb(242, 245, 250); opacity: 1; font-weight: normal; white-space: pre;\">Average user rating</text></g></g></svg>"
      ]
     },
     "metadata": {},
     "output_type": "display_data"
    }
   ],
   "source": [
    "primary_avg = games.groupby('Primary Genre')[['Average User Rating']].mean().sort_values(by = ['Average User Rating'], ascending = False)\n",
    "\n",
    "fig = go.Figure(data=[\n",
    "    go.Bar(name='Primary', x =primary_avg.index  ,y = primary_avg['Average User Rating'] , text= primary_avg['Average User Rating'], marker_color='darkblue')])\n",
    "fig.update_layout(hoverlabel=dict(font=dict(family='sans-serif', size=25)),barmode='relative', template='plotly_dark', title_text='Average user rating per Primary Genre', font_family=\"Courier New\")\n",
    "fig.update_yaxes(title_text='Average user rating', range=[0,5])\n",
    "fig.update_xaxes(title_text='Primary Genre',tickfont_size=15)\n",
    "fig.show(renderer=\"svg\")   "
   ]
  },
  {
   "cell_type": "code",
   "execution_count": 50,
   "id": "43ee5826",
   "metadata": {
    "scrolled": false
   },
   "outputs": [
    {
     "data": {
      "image/svg+xml": [
       "<svg class=\"main-svg\" xmlns=\"http://www.w3.org/2000/svg\" xmlns:xlink=\"http://www.w3.org/1999/xlink\" width=\"700\" height=\"500\" style=\"\" viewBox=\"0 0 700 500\"><rect x=\"0\" y=\"0\" width=\"700\" height=\"500\" style=\"fill: rgb(17, 17, 17); fill-opacity: 1;\"/><defs id=\"defs-04af27\"><g class=\"clips\"><clipPath id=\"clip04af27xyplot\" class=\"plotclip\"><rect width=\"494\" height=\"232\"/></clipPath><clipPath class=\"axesclip\" id=\"clip04af27x\"><rect x=\"126\" y=\"0\" width=\"494\" height=\"500\"/></clipPath><clipPath class=\"axesclip\" id=\"clip04af27y\"><rect x=\"0\" y=\"100\" width=\"700\" height=\"232\"/></clipPath><clipPath class=\"axesclip\" id=\"clip04af27xy\"><rect x=\"126\" y=\"100\" width=\"494\" height=\"232\"/></clipPath></g><g class=\"gradients\"/><g class=\"patterns\"/></defs><g class=\"bglayer\"/><g class=\"layer-below\"><g class=\"imagelayer\"/><g class=\"shapelayer\"/></g><g class=\"cartesianlayer\"><g class=\"subplot xy\"><g class=\"layer-subplot\"><g class=\"shapelayer\"/><g class=\"imagelayer\"/></g><g class=\"gridlayer\"><g class=\"x\"/><g class=\"y\"><path class=\"ygrid crisp\" transform=\"translate(0,285.6)\" d=\"M126,0h494\" style=\"stroke: rgb(40, 52, 66); stroke-opacity: 1; stroke-width: 1px;\"/><path class=\"ygrid crisp\" transform=\"translate(0,239.2)\" d=\"M126,0h494\" style=\"stroke: rgb(40, 52, 66); stroke-opacity: 1; stroke-width: 1px;\"/><path class=\"ygrid crisp\" transform=\"translate(0,192.8)\" d=\"M126,0h494\" style=\"stroke: rgb(40, 52, 66); stroke-opacity: 1; stroke-width: 1px;\"/><path class=\"ygrid crisp\" transform=\"translate(0,146.4)\" d=\"M126,0h494\" style=\"stroke: rgb(40, 52, 66); stroke-opacity: 1; stroke-width: 1px;\"/></g></g><g class=\"zerolinelayer\"><path class=\"yzl zl crisp\" transform=\"translate(0,332)\" d=\"M126,0h494\" style=\"stroke: rgb(40, 52, 66); stroke-opacity: 1; stroke-width: 2px;\"/></g><path class=\"xlines-below\"/><path class=\"ylines-below\"/><g class=\"overlines-below\"/><g class=\"xaxislayer-below\"/><g class=\"yaxislayer-below\"/><g class=\"overaxes-below\"/><g class=\"plot\" transform=\"translate(126,100)\" clip-path=\"url(#clip04af27xyplot)\"><g class=\"barlayer mlayer\"><g class=\"trace bars\" style=\"opacity: 1;\"><g class=\"points\"><g class=\"point\"><path d=\"M1.18,232V0H10.59V232Z\" style=\"vector-effect: non-scaling-stroke; opacity: 1; stroke-width: 0.5px; fill: rgb(139, 0, 0); fill-opacity: 1; stroke: rgb(17, 17, 17); stroke-opacity: 1;\"/><text class=\"bartext bartext-inside\" text-anchor=\"middle\" data-notex=\"1\" x=\"0\" y=\"0\" style=\"font-family: 'Courier New'; font-size: 12px; fill: rgb(255, 255, 255); fill-opacity: 1; white-space: pre;\" transform=\"translate(5.885,7.723809523809524)scale(0.4723809523809524)\">5</text></g><g class=\"point\"><path d=\"M12.94,232V23.2H22.35V232Z\" style=\"vector-effect: non-scaling-stroke; opacity: 1; stroke-width: 0.5px; fill: rgb(139, 0, 0); fill-opacity: 1; stroke: rgb(17, 17, 17); stroke-opacity: 1;\"/><text class=\"bartext bartext-inside\" text-anchor=\"middle\" data-notex=\"1\" x=\"0\" y=\"0\" style=\"font-family: 'Courier New'; font-size: 12px; fill: rgb(255, 255, 255); fill-opacity: 1; white-space: pre;\" transform=\"translate(17.645,29.564330357142858)scale(0.2435714285714287)rotate(90 0 -3)\">4.5</text></g><g class=\"point\"><path d=\"M24.7,232V23.2H34.11V232Z\" style=\"vector-effect: non-scaling-stroke; opacity: 1; stroke-width: 0.5px; fill: rgb(139, 0, 0); fill-opacity: 1; stroke: rgb(17, 17, 17); stroke-opacity: 1;\"/><text class=\"bartext bartext-inside\" text-anchor=\"middle\" data-notex=\"1\" x=\"0\" y=\"0\" style=\"font-family: 'Courier New'; font-size: 12px; fill: rgb(255, 255, 255); fill-opacity: 1; white-space: pre;\" transform=\"translate(29.405,29.564330357142858)scale(0.24357142857142855)rotate(90 0 -3)\">4.5</text></g><g class=\"point\"><path d=\"M36.46,232V23.2H45.87V232Z\" style=\"vector-effect: non-scaling-stroke; opacity: 1; stroke-width: 0.5px; fill: rgb(139, 0, 0); fill-opacity: 1; stroke: rgb(17, 17, 17); stroke-opacity: 1;\"/><text class=\"bartext bartext-inside\" text-anchor=\"middle\" data-notex=\"1\" x=\"0\" y=\"0\" style=\"font-family: 'Courier New'; font-size: 12px; fill: rgb(255, 255, 255); fill-opacity: 1; white-space: pre;\" transform=\"translate(41.165,29.564330357142854)scale(0.2435714285714283)rotate(90 0 -3)\">4.5</text></g><g class=\"point\"><path d=\"M48.22,232V23.2H57.63V232Z\" style=\"vector-effect: non-scaling-stroke; opacity: 1; stroke-width: 0.5px; fill: rgb(139, 0, 0); fill-opacity: 1; stroke: rgb(17, 17, 17); stroke-opacity: 1;\"/><text class=\"bartext bartext-inside\" text-anchor=\"middle\" data-notex=\"1\" x=\"0\" y=\"0\" style=\"font-family: 'Courier New'; font-size: 12px; fill: rgb(255, 255, 255); fill-opacity: 1; white-space: pre;\" transform=\"translate(52.925,29.56433035714286)scale(0.2435714285714288)rotate(90 0 -3)\">4.5</text></g><g class=\"point\"><path d=\"M59.99,232V23.2H69.4V232Z\" style=\"vector-effect: non-scaling-stroke; opacity: 1; stroke-width: 0.5px; fill: rgb(139, 0, 0); fill-opacity: 1; stroke: rgb(17, 17, 17); stroke-opacity: 1;\"/><text class=\"bartext bartext-inside\" text-anchor=\"middle\" data-notex=\"1\" x=\"0\" y=\"0\" style=\"font-family: 'Courier New'; font-size: 12px; fill: rgb(255, 255, 255); fill-opacity: 1; white-space: pre;\" transform=\"translate(64.69500000000001,29.56433035714286)scale(0.2435714285714288)rotate(90 0 -3)\">4.5</text></g><g class=\"point\"><path d=\"M71.75,232V23.2H81.16V232Z\" style=\"vector-effect: non-scaling-stroke; opacity: 1; stroke-width: 0.5px; fill: rgb(139, 0, 0); fill-opacity: 1; stroke: rgb(17, 17, 17); stroke-opacity: 1;\"/><text class=\"bartext bartext-inside\" text-anchor=\"middle\" data-notex=\"1\" x=\"0\" y=\"0\" style=\"font-family: 'Courier New'; font-size: 12px; fill: rgb(255, 255, 255); fill-opacity: 1; white-space: pre;\" transform=\"translate(76.455,29.564330357142854)scale(0.2435714285714283)rotate(90 0 -3)\">4.5</text></g><g class=\"point\"><path d=\"M83.51,232V23.2H92.92V232Z\" style=\"vector-effect: non-scaling-stroke; opacity: 1; stroke-width: 0.5px; fill: rgb(139, 0, 0); fill-opacity: 1; stroke: rgb(17, 17, 17); stroke-opacity: 1;\"/><text class=\"bartext bartext-inside\" text-anchor=\"middle\" data-notex=\"1\" x=\"0\" y=\"0\" style=\"font-family: 'Courier New'; font-size: 12px; fill: rgb(255, 255, 255); fill-opacity: 1; white-space: pre;\" transform=\"translate(88.215,29.564330357142854)scale(0.2435714285714283)rotate(90 0 -3)\">4.5</text></g><g class=\"point\"><path d=\"M95.27,232V23.2H104.68V232Z\" style=\"vector-effect: non-scaling-stroke; opacity: 1; stroke-width: 0.5px; fill: rgb(139, 0, 0); fill-opacity: 1; stroke: rgb(17, 17, 17); stroke-opacity: 1;\"/><text class=\"bartext bartext-inside\" text-anchor=\"middle\" data-notex=\"1\" x=\"0\" y=\"0\" style=\"font-family: 'Courier New'; font-size: 12px; fill: rgb(255, 255, 255); fill-opacity: 1; white-space: pre;\" transform=\"translate(99.975,29.564330357142865)scale(0.2435714285714293)rotate(90 0 -3)\">4.5</text></g><g class=\"point\"><path d=\"M107.03,232V23.2H116.44V232Z\" style=\"vector-effect: non-scaling-stroke; opacity: 1; stroke-width: 0.5px; fill: rgb(139, 0, 0); fill-opacity: 1; stroke: rgb(17, 17, 17); stroke-opacity: 1;\"/><text class=\"bartext bartext-inside\" text-anchor=\"middle\" data-notex=\"1\" x=\"0\" y=\"0\" style=\"font-family: 'Courier New'; font-size: 12px; fill: rgb(255, 255, 255); fill-opacity: 1; white-space: pre;\" transform=\"translate(111.735,29.564330357142854)scale(0.2435714285714283)rotate(90 0 -3)\">4.5</text></g><g class=\"point\"><path d=\"M118.8,232V23.2H128.2V232Z\" style=\"vector-effect: non-scaling-stroke; opacity: 1; stroke-width: 0.5px; fill: rgb(139, 0, 0); fill-opacity: 1; stroke: rgb(17, 17, 17); stroke-opacity: 1;\"/><text class=\"bartext bartext-inside\" text-anchor=\"middle\" data-notex=\"1\" x=\"0\" y=\"0\" style=\"font-family: 'Courier New'; font-size: 12px; fill: rgb(255, 255, 255); fill-opacity: 1; white-space: pre;\" transform=\"translate(123.5,29.554464285714275)scale(0.24285714285714222)rotate(90 0 -3)\">4.5</text></g><g class=\"point\"><path d=\"M130.56,232V24.86H139.97V232Z\" style=\"vector-effect: non-scaling-stroke; opacity: 1; stroke-width: 0.5px; fill: rgb(139, 0, 0); fill-opacity: 1; stroke: rgb(17, 17, 17); stroke-opacity: 1;\"/><text class=\"bartext bartext-inside\" text-anchor=\"middle\" data-notex=\"1\" x=\"0\" y=\"0\" style=\"font-family: 'Courier New'; font-size: 12px; fill: rgb(255, 255, 255); fill-opacity: 1; white-space: pre;\" transform=\"translate(135.265,43.5018526785714)scale(0.24357142857142822)rotate(90 0 -3)\">4.464285714285714</text></g><g class=\"point\"><path d=\"M142.32,232V24.98H151.73V232Z\" style=\"vector-effect: non-scaling-stroke; opacity: 1; stroke-width: 0.5px; fill: rgb(139, 0, 0); fill-opacity: 1; stroke: rgb(17, 17, 17); stroke-opacity: 1;\"/><text class=\"bartext bartext-inside\" text-anchor=\"middle\" data-notex=\"1\" x=\"0\" y=\"0\" style=\"font-family: 'Courier New'; font-size: 12px; fill: rgb(255, 255, 255); fill-opacity: 1; white-space: pre;\" transform=\"translate(147.02499999999998,43.62185267857141)scale(0.24357142857142822)rotate(90 0 -3)\">4.461538461538462</text></g><g class=\"point\"><path d=\"M154.08,232V26.86H163.49V232Z\" style=\"vector-effect: non-scaling-stroke; opacity: 1; stroke-width: 0.5px; fill: rgb(139, 0, 0); fill-opacity: 1; stroke: rgb(17, 17, 17); stroke-opacity: 1;\"/><text class=\"bartext bartext-inside\" text-anchor=\"middle\" data-notex=\"1\" x=\"0\" y=\"0\" style=\"font-family: 'Courier New'; font-size: 12px; fill: rgb(255, 255, 255); fill-opacity: 1; white-space: pre;\" transform=\"translate(158.78500000000003,45.5018526785714)scale(0.24357142857142822)rotate(90 0 -3)\">4.421052631578948</text></g><g class=\"point\"><path d=\"M165.84,232V27.42H175.25V232Z\" style=\"vector-effect: non-scaling-stroke; opacity: 1; stroke-width: 0.5px; fill: rgb(139, 0, 0); fill-opacity: 1; stroke: rgb(17, 17, 17); stroke-opacity: 1;\"/><text class=\"bartext bartext-inside\" text-anchor=\"middle\" data-notex=\"1\" x=\"0\" y=\"0\" style=\"font-family: 'Courier New'; font-size: 12px; fill: rgb(255, 255, 255); fill-opacity: 1; white-space: pre;\" transform=\"translate(170.54500000000002,46.061852678571405)scale(0.24357142857142822)rotate(90 0 -3)\">4.409090909090909</text></g><g class=\"point\"><path d=\"M177.6,232V27.62H187.01V232Z\" style=\"vector-effect: non-scaling-stroke; opacity: 1; stroke-width: 0.5px; fill: rgb(139, 0, 0); fill-opacity: 1; stroke: rgb(17, 17, 17); stroke-opacity: 1;\"/><text class=\"bartext bartext-inside\" text-anchor=\"middle\" data-notex=\"1\" x=\"0\" y=\"0\" style=\"font-family: 'Courier New'; font-size: 12px; fill: rgb(255, 255, 255); fill-opacity: 1; white-space: pre;\" transform=\"translate(182.305,46.26185267857141)scale(0.24357142857142822)rotate(90 0 -3)\">4.404689863842663</text></g><g class=\"point\"><path d=\"M189.37,232V27.84H198.78V232Z\" style=\"vector-effect: non-scaling-stroke; opacity: 1; stroke-width: 0.5px; fill: rgb(139, 0, 0); fill-opacity: 1; stroke: rgb(17, 17, 17); stroke-opacity: 1;\"/><text class=\"bartext bartext-inside\" text-anchor=\"middle\" data-notex=\"1\" x=\"0\" y=\"0\" style=\"font-family: 'Courier New'; font-size: 12px; fill: rgb(255, 255, 255); fill-opacity: 1; white-space: pre;\" transform=\"translate(194.075,34.20433035714285)scale(0.2435714285714283)rotate(90 0 -3)\">4.4</text></g><g class=\"point\"><path d=\"M201.13,232V28.35H210.54V232Z\" style=\"vector-effect: non-scaling-stroke; opacity: 1; stroke-width: 0.5px; fill: rgb(139, 0, 0); fill-opacity: 1; stroke: rgb(17, 17, 17); stroke-opacity: 1;\"/><text class=\"bartext bartext-inside\" text-anchor=\"middle\" data-notex=\"1\" x=\"0\" y=\"0\" style=\"font-family: 'Courier New'; font-size: 12px; fill: rgb(255, 255, 255); fill-opacity: 1; white-space: pre;\" transform=\"translate(205.83499999999998,46.991852678571405)scale(0.24357142857142822)rotate(90 0 -3)\">4.388925510876731</text></g><g class=\"point\"><path d=\"M212.89,232V29.35H222.3V232Z\" style=\"vector-effect: non-scaling-stroke; opacity: 1; stroke-width: 0.5px; fill: rgb(139, 0, 0); fill-opacity: 1; stroke: rgb(17, 17, 17); stroke-opacity: 1;\"/><text class=\"bartext bartext-inside\" text-anchor=\"middle\" data-notex=\"1\" x=\"0\" y=\"0\" style=\"font-family: 'Courier New'; font-size: 12px; fill: rgb(255, 255, 255); fill-opacity: 1; white-space: pre;\" transform=\"translate(217.595,47.99185267857153)scale(0.24357142857143024)rotate(90 0 -3)\">4.367521367521367</text></g><g class=\"point\"><path d=\"M224.65,232V30H234.06V232Z\" style=\"vector-effect: non-scaling-stroke; opacity: 1; stroke-width: 0.5px; fill: rgb(139, 0, 0); fill-opacity: 1; stroke: rgb(17, 17, 17); stroke-opacity: 1;\"/><text class=\"bartext bartext-inside\" text-anchor=\"middle\" data-notex=\"1\" x=\"0\" y=\"0\" style=\"font-family: 'Courier New'; font-size: 12px; fill: rgb(255, 255, 255); fill-opacity: 1; white-space: pre;\" transform=\"translate(229.35500000000002,48.641852678571404)scale(0.24357142857142822)rotate(90 0 -3)\">4.353448275862069</text></g><g class=\"point\"><path d=\"M236.41,232V30.54H245.82V232Z\" style=\"vector-effect: non-scaling-stroke; opacity: 1; stroke-width: 0.5px; fill: rgb(139, 0, 0); fill-opacity: 1; stroke: rgb(17, 17, 17); stroke-opacity: 1;\"/><text class=\"bartext bartext-inside\" text-anchor=\"middle\" data-notex=\"1\" x=\"0\" y=\"0\" style=\"font-family: 'Courier New'; font-size: 12px; fill: rgb(255, 255, 255); fill-opacity: 1; white-space: pre;\" transform=\"translate(241.115,49.1818526785714)scale(0.24357142857142822)rotate(90 0 -3)\">4.341772151898734</text></g><g class=\"point\"><path d=\"M248.18,232V30.93H257.59V232Z\" style=\"vector-effect: non-scaling-stroke; opacity: 1; stroke-width: 0.5px; fill: rgb(139, 0, 0); fill-opacity: 1; stroke: rgb(17, 17, 17); stroke-opacity: 1;\"/><text class=\"bartext bartext-inside\" text-anchor=\"middle\" data-notex=\"1\" x=\"0\" y=\"0\" style=\"font-family: 'Courier New'; font-size: 12px; fill: rgb(255, 255, 255); fill-opacity: 1; white-space: pre;\" transform=\"translate(252.885,49.571852678571275)scale(0.24357142857142616)rotate(90 0 -3)\">4.333333333333333</text></g><g class=\"point\"><path d=\"M259.94,232V31.01H269.35V232Z\" style=\"vector-effect: non-scaling-stroke; opacity: 1; stroke-width: 0.5px; fill: rgb(139, 0, 0); fill-opacity: 1; stroke: rgb(17, 17, 17); stroke-opacity: 1;\"/><text class=\"bartext bartext-inside\" text-anchor=\"middle\" data-notex=\"1\" x=\"0\" y=\"0\" style=\"font-family: 'Courier New'; font-size: 12px; fill: rgb(255, 255, 255); fill-opacity: 1; white-space: pre;\" transform=\"translate(264.645,49.651852678571544)scale(0.24357142857143024)rotate(90 0 -3)\">4.331578947368421</text></g><g class=\"point\"><path d=\"M271.7,232V31.39H281.11V232Z\" style=\"vector-effect: non-scaling-stroke; opacity: 1; stroke-width: 0.5px; fill: rgb(139, 0, 0); fill-opacity: 1; stroke: rgb(17, 17, 17); stroke-opacity: 1;\"/><text class=\"bartext bartext-inside\" text-anchor=\"middle\" data-notex=\"1\" x=\"0\" y=\"0\" style=\"font-family: 'Courier New'; font-size: 12px; fill: rgb(255, 255, 255); fill-opacity: 1; white-space: pre;\" transform=\"translate(276.405,50.03185267857154)scale(0.24357142857143024)rotate(90 0 -3)\">4.323529411764706</text></g><g class=\"point\"><path d=\"M283.46,232V31.68H292.87V232Z\" style=\"vector-effect: non-scaling-stroke; opacity: 1; stroke-width: 0.5px; fill: rgb(139, 0, 0); fill-opacity: 1; stroke: rgb(17, 17, 17); stroke-opacity: 1;\"/><text class=\"bartext bartext-inside\" text-anchor=\"middle\" data-notex=\"1\" x=\"0\" y=\"0\" style=\"font-family: 'Courier New'; font-size: 12px; fill: rgb(255, 255, 255); fill-opacity: 1; white-space: pre;\" transform=\"translate(288.16499999999996,51.19718750000011)scale(0.24357142857143024)rotate(90 0 -3)\">4.3173076923076925</text></g><g class=\"point\"><path d=\"M295.22,232V31.69H304.63V232Z\" style=\"vector-effect: non-scaling-stroke; opacity: 1; stroke-width: 0.5px; fill: rgb(139, 0, 0); fill-opacity: 1; stroke: rgb(17, 17, 17); stroke-opacity: 1;\"/><text class=\"bartext bartext-inside\" text-anchor=\"middle\" data-notex=\"1\" x=\"0\" y=\"0\" style=\"font-family: 'Courier New'; font-size: 12px; fill: rgb(255, 255, 255); fill-opacity: 1; white-space: pre;\" transform=\"translate(299.925,50.33185267857127)scale(0.24357142857142616)rotate(90 0 -3)\">4.316964285714286</text></g><g class=\"point\"><path d=\"M306.99,232V31.9H316.4V232Z\" style=\"vector-effect: non-scaling-stroke; opacity: 1; stroke-width: 0.5px; fill: rgb(139, 0, 0); fill-opacity: 1; stroke: rgb(17, 17, 17); stroke-opacity: 1;\"/><text class=\"bartext bartext-inside\" text-anchor=\"middle\" data-notex=\"1\" x=\"0\" y=\"0\" style=\"font-family: 'Courier New'; font-size: 12px; fill: rgb(255, 255, 255); fill-opacity: 1; white-space: pre;\" transform=\"translate(311.695,40.89414062499994)scale(0.24357142857142627)rotate(90 0 -3)\">4.3125</text></g><g class=\"point\"><path d=\"M318.75,232V31.93H328.16V232Z\" style=\"vector-effect: non-scaling-stroke; opacity: 1; stroke-width: 0.5px; fill: rgb(139, 0, 0); fill-opacity: 1; stroke: rgb(17, 17, 17); stroke-opacity: 1;\"/><text class=\"bartext bartext-inside\" text-anchor=\"middle\" data-notex=\"1\" x=\"0\" y=\"0\" style=\"font-family: 'Courier New'; font-size: 12px; fill: rgb(255, 255, 255); fill-opacity: 1; white-space: pre;\" transform=\"translate(323.45500000000004,50.57185267857153)scale(0.24357142857143024)rotate(90 0 -3)\">4.311781609195402</text></g><g class=\"point\"><path d=\"M330.51,232V31.94H339.92V232Z\" style=\"vector-effect: non-scaling-stroke; opacity: 1; stroke-width: 0.5px; fill: rgb(139, 0, 0); fill-opacity: 1; stroke: rgb(17, 17, 17); stroke-opacity: 1;\"/><text class=\"bartext bartext-inside\" text-anchor=\"middle\" data-notex=\"1\" x=\"0\" y=\"0\" style=\"font-family: 'Courier New'; font-size: 12px; fill: rgb(255, 255, 255); fill-opacity: 1; white-space: pre;\" transform=\"translate(335.21500000000003,50.581852678571536)scale(0.24357142857143024)rotate(90 0 -3)\">4.311656441717791</text></g><g class=\"point\"><path d=\"M342.27,232V32.02H351.68V232Z\" style=\"vector-effect: non-scaling-stroke; opacity: 1; stroke-width: 0.5px; fill: rgb(139, 0, 0); fill-opacity: 1; stroke: rgb(17, 17, 17); stroke-opacity: 1;\"/><text class=\"bartext bartext-inside\" text-anchor=\"middle\" data-notex=\"1\" x=\"0\" y=\"0\" style=\"font-family: 'Courier New'; font-size: 12px; fill: rgb(255, 255, 255); fill-opacity: 1; white-space: pre;\" transform=\"translate(346.975,50.661852678571535)scale(0.24357142857143024)rotate(90 0 -3)\">4.309924306139613</text></g><g class=\"point\"><path d=\"M354.03,232V33.12H363.44V232Z\" style=\"vector-effect: non-scaling-stroke; opacity: 1; stroke-width: 0.5px; fill: rgb(139, 0, 0); fill-opacity: 1; stroke: rgb(17, 17, 17); stroke-opacity: 1;\"/><text class=\"bartext bartext-inside\" text-anchor=\"middle\" data-notex=\"1\" x=\"0\" y=\"0\" style=\"font-family: 'Courier New'; font-size: 12px; fill: rgb(255, 255, 255); fill-opacity: 1; white-space: pre;\" transform=\"translate(358.735,51.76185267857153)scale(0.24357142857143024)rotate(90 0 -3)\">4.286131671211531</text></g><g class=\"point\"><path d=\"M365.8,232V33.64H375.2V232Z\" style=\"vector-effect: non-scaling-stroke; opacity: 1; stroke-width: 0.5px; fill: rgb(139, 0, 0); fill-opacity: 1; stroke: rgb(17, 17, 17); stroke-opacity: 1;\"/><text class=\"bartext bartext-inside\" text-anchor=\"middle\" data-notex=\"1\" x=\"0\" y=\"0\" style=\"font-family: 'Courier New'; font-size: 12px; fill: rgb(255, 255, 255); fill-opacity: 1; white-space: pre;\" transform=\"translate(370.5,41.74379464285711)scale(0.2428571428571412)rotate(90 0 -3)\">4.275</text></g><g class=\"point\"><path d=\"M377.56,232V33.69H386.97V232Z\" style=\"vector-effect: non-scaling-stroke; opacity: 1; stroke-width: 0.5px; fill: rgb(139, 0, 0); fill-opacity: 1; stroke: rgb(17, 17, 17); stroke-opacity: 1;\"/><text class=\"bartext bartext-inside\" text-anchor=\"middle\" data-notex=\"1\" x=\"0\" y=\"0\" style=\"font-family: 'Courier New'; font-size: 12px; fill: rgb(255, 255, 255); fill-opacity: 1; white-space: pre;\" transform=\"translate(382.265,52.331852678571536)scale(0.24357142857143024)rotate(90 0 -3)\">4.273946360153257</text></g><g class=\"point\"><path d=\"M389.32,232V34.03H398.73V232Z\" style=\"vector-effect: non-scaling-stroke; opacity: 1; stroke-width: 0.5px; fill: rgb(139, 0, 0); fill-opacity: 1; stroke: rgb(17, 17, 17); stroke-opacity: 1;\"/><text class=\"bartext bartext-inside\" text-anchor=\"middle\" data-notex=\"1\" x=\"0\" y=\"0\" style=\"font-family: 'Courier New'; font-size: 12px; fill: rgb(255, 255, 255); fill-opacity: 1; white-space: pre;\" transform=\"translate(394.025,52.67185267857154)scale(0.24357142857143024)rotate(90 0 -3)\">4.266536964980545</text></g><g class=\"point\"><path d=\"M401.08,232V35.21H410.49V232Z\" style=\"vector-effect: non-scaling-stroke; opacity: 1; stroke-width: 0.5px; fill: rgb(139, 0, 0); fill-opacity: 1; stroke: rgb(17, 17, 17); stroke-opacity: 1;\"/><text class=\"bartext bartext-inside\" text-anchor=\"middle\" data-notex=\"1\" x=\"0\" y=\"0\" style=\"font-family: 'Courier New'; font-size: 12px; fill: rgb(255, 255, 255); fill-opacity: 1; white-space: pre;\" transform=\"translate(405.78499999999997,53.85185267857153)scale(0.24357142857143024)rotate(90 0 -3)\">4.241071428571429</text></g><g class=\"point\"><path d=\"M412.84,232V35.48H422.25V232Z\" style=\"vector-effect: non-scaling-stroke; opacity: 1; stroke-width: 0.5px; fill: rgb(139, 0, 0); fill-opacity: 1; stroke: rgb(17, 17, 17); stroke-opacity: 1;\"/><text class=\"bartext bartext-inside\" text-anchor=\"middle\" data-notex=\"1\" x=\"0\" y=\"0\" style=\"font-family: 'Courier New'; font-size: 12px; fill: rgb(255, 255, 255); fill-opacity: 1; white-space: pre;\" transform=\"translate(417.54499999999996,54.12185267857153)scale(0.24357142857143024)rotate(90 0 -3)\">4.235294117647059</text></g><g class=\"point\"><path d=\"M424.6,232V35.57H434.01V232Z\" style=\"vector-effect: non-scaling-stroke; opacity: 1; stroke-width: 0.5px; fill: rgb(139, 0, 0); fill-opacity: 1; stroke: rgb(17, 17, 17); stroke-opacity: 1;\"/><text class=\"bartext bartext-inside\" text-anchor=\"middle\" data-notex=\"1\" x=\"0\" y=\"0\" style=\"font-family: 'Courier New'; font-size: 12px; fill: rgb(255, 255, 255); fill-opacity: 1; white-space: pre;\" transform=\"translate(429.305,54.211852678571276)scale(0.24357142857142616)rotate(90 0 -3)\">4.233333333333333</text></g><g class=\"point\"><path d=\"M436.37,232V36.78H445.78V232Z\" style=\"vector-effect: non-scaling-stroke; opacity: 1; stroke-width: 0.5px; fill: rgb(139, 0, 0); fill-opacity: 1; stroke: rgb(17, 17, 17); stroke-opacity: 1;\"/><text class=\"bartext bartext-inside\" text-anchor=\"middle\" data-notex=\"1\" x=\"0\" y=\"0\" style=\"font-family: 'Courier New'; font-size: 12px; fill: rgb(255, 255, 255); fill-opacity: 1; white-space: pre;\" transform=\"translate(441.075,55.42185267857128)scale(0.24357142857142616)rotate(90 0 -3)\">4.207291666666666</text></g><g class=\"point\"><path d=\"M448.13,232V37.18H457.54V232Z\" style=\"vector-effect: non-scaling-stroke; opacity: 1; stroke-width: 0.5px; fill: rgb(139, 0, 0); fill-opacity: 1; stroke: rgb(17, 17, 17); stroke-opacity: 1;\"/><text class=\"bartext bartext-inside\" text-anchor=\"middle\" data-notex=\"1\" x=\"0\" y=\"0\" style=\"font-family: 'Courier New'; font-size: 12px; fill: rgb(255, 255, 255); fill-opacity: 1; white-space: pre;\" transform=\"translate(452.83500000000004,55.82185267857153)scale(0.24357142857143024)rotate(90 0 -3)\">4.198675496688741</text></g><g class=\"point\"><path d=\"M459.89,232V37.89H469.3V232Z\" style=\"vector-effect: non-scaling-stroke; opacity: 1; stroke-width: 0.5px; fill: rgb(139, 0, 0); fill-opacity: 1; stroke: rgb(17, 17, 17); stroke-opacity: 1;\"/><text class=\"bartext bartext-inside\" text-anchor=\"middle\" data-notex=\"1\" x=\"0\" y=\"0\" style=\"font-family: 'Courier New'; font-size: 12px; fill: rgb(255, 255, 255); fill-opacity: 1; white-space: pre;\" transform=\"translate(464.595,56.53185267857154)scale(0.24357142857143024)rotate(90 0 -3)\">4.183453237410072</text></g><g class=\"point\"><path d=\"M471.65,232V40.6H481.06V232Z\" style=\"vector-effect: non-scaling-stroke; opacity: 1; stroke-width: 0.5px; fill: rgb(139, 0, 0); fill-opacity: 1; stroke: rgb(17, 17, 17); stroke-opacity: 1;\"/><text class=\"bartext bartext-inside\" text-anchor=\"middle\" data-notex=\"1\" x=\"0\" y=\"0\" style=\"font-family: 'Courier New'; font-size: 12px; fill: rgb(255, 255, 255); fill-opacity: 1; white-space: pre;\" transform=\"translate(476.355,48.71880580357147)scale(0.24357142857143033)rotate(90 0 -3)\">4.125</text></g><g class=\"point\"><path d=\"M483.41,232V46.4H492.82V232Z\" style=\"vector-effect: non-scaling-stroke; opacity: 1; stroke-width: 0.5px; fill: rgb(139, 0, 0); fill-opacity: 1; stroke: rgb(17, 17, 17); stroke-opacity: 1;\"/><text class=\"bartext bartext-inside\" text-anchor=\"middle\" data-notex=\"1\" x=\"0\" y=\"0\" style=\"font-family: 'Courier New'; font-size: 12px; fill: rgb(255, 255, 255); fill-opacity: 1; white-space: pre;\" transform=\"translate(488.115,54.12380952380948)scale(0.47238095238094796)\">4</text></g></g></g></g></g><g class=\"overplot\"/><path class=\"xlines-above crisp\" d=\"M0,0\" style=\"fill: none;\"/><path class=\"ylines-above crisp\" d=\"M0,0\" style=\"fill: none;\"/><g class=\"overlines-above\"/><g class=\"xaxislayer-above\"><g class=\"xtick\"><text text-anchor=\"end\" x=\"0\" y=\"345\" transform=\"translate(131.88,0) rotate(-45,0,339)\" style=\"font-family: 'Courier New'; font-size: 12px; fill: rgb(242, 245, 250); fill-opacity: 1; white-space: pre; opacity: 1;\"> Magazines &amp; Newspapers</text></g><g class=\"xtick\"><text text-anchor=\"end\" x=\"0\" y=\"345\" transform=\"translate(155.4,0) rotate(-45,0,339)\" style=\"font-family: 'Courier New'; font-size: 12px; fill: rgb(242, 245, 250); fill-opacity: 1; white-space: pre; opacity: 1;\"> Places &amp; Objects</text></g><g class=\"xtick\"><text text-anchor=\"end\" x=\"0\" y=\"345\" transform=\"translate(178.93,0) rotate(-45,0,339)\" style=\"font-family: 'Courier New'; font-size: 12px; fill: rgb(242, 245, 250); fill-opacity: 1; white-space: pre; opacity: 1;\"> Art</text></g><g class=\"xtick\"><text text-anchor=\"end\" x=\"0\" y=\"345\" transform=\"translate(202.45,0) rotate(-45,0,339)\" style=\"font-family: 'Courier New'; font-size: 12px; fill: rgb(242, 245, 250); fill-opacity: 1; white-space: pre; opacity: 1;\"> Stickers</text></g><g class=\"xtick\"><text text-anchor=\"end\" x=\"0\" y=\"345\" transform=\"translate(225.98000000000002,0) rotate(-45,0,339)\" style=\"font-family: 'Courier New'; font-size: 12px; fill: rgb(242, 245, 250); fill-opacity: 1; white-space: pre; opacity: 1;\"> Gaming</text></g><g class=\"xtick\"><text text-anchor=\"end\" x=\"0\" y=\"345\" transform=\"translate(249.5,0) rotate(-45,0,339)\" style=\"font-family: 'Courier New'; font-size: 12px; fill: rgb(242, 245, 250); fill-opacity: 1; white-space: pre; opacity: 1;\"> Emoji &amp; Expressions</text></g><g class=\"xtick\"><text text-anchor=\"end\" x=\"0\" y=\"345\" transform=\"translate(273.02,0) rotate(-45,0,339)\" style=\"font-family: 'Courier New'; font-size: 12px; fill: rgb(242, 245, 250); fill-opacity: 1; white-space: pre; opacity: 1;\"> Health &amp; Fitness</text></g><g class=\"xtick\"><text text-anchor=\"end\" x=\"0\" y=\"345\" transform=\"translate(296.55,0) rotate(-45,0,339)\" style=\"font-family: 'Courier New'; font-size: 12px; fill: rgb(242, 245, 250); fill-opacity: 1; white-space: pre; opacity: 1;\"> Music</text></g><g class=\"xtick\"><text text-anchor=\"end\" x=\"0\" y=\"345\" transform=\"translate(320.07,0) rotate(-45,0,339)\" style=\"font-family: 'Courier New'; font-size: 12px; fill: rgb(242, 245, 250); fill-opacity: 1; white-space: pre; opacity: 1;\"> Navigation</text></g><g class=\"xtick\"><text text-anchor=\"end\" x=\"0\" y=\"345\" transform=\"translate(343.6,0) rotate(-45,0,339)\" style=\"font-family: 'Courier New'; font-size: 12px; fill: rgb(242, 245, 250); fill-opacity: 1; white-space: pre; opacity: 1;\"> Education</text></g><g class=\"xtick\"><text text-anchor=\"end\" x=\"0\" y=\"345\" transform=\"translate(367.12,0) rotate(-45,0,339)\" style=\"font-family: 'Courier New'; font-size: 12px; fill: rgb(242, 245, 250); fill-opacity: 1; white-space: pre; opacity: 1;\"> Sports</text></g><g class=\"xtick\"><text text-anchor=\"end\" x=\"0\" y=\"345\" transform=\"translate(390.64,0) rotate(-45,0,339)\" style=\"font-family: 'Courier New'; font-size: 12px; fill: rgb(242, 245, 250); fill-opacity: 1; white-space: pre; opacity: 1;\"> Family</text></g><g class=\"xtick\"><text text-anchor=\"end\" x=\"0\" y=\"345\" transform=\"translate(414.17,0) rotate(-45,0,339)\" style=\"font-family: 'Courier New'; font-size: 12px; fill: rgb(242, 245, 250); fill-opacity: 1; white-space: pre; opacity: 1;\"> Social Networking</text></g><g class=\"xtick\"><text text-anchor=\"end\" x=\"0\" y=\"345\" transform=\"translate(437.69,0) rotate(-45,0,339)\" style=\"font-family: 'Courier New'; font-size: 12px; fill: rgb(242, 245, 250); fill-opacity: 1; white-space: pre; opacity: 1;\"> Finance</text></g><g class=\"xtick\"><text text-anchor=\"end\" x=\"0\" y=\"345\" transform=\"translate(461.21,0) rotate(-45,0,339)\" style=\"font-family: 'Courier New'; font-size: 12px; fill: rgb(242, 245, 250); fill-opacity: 1; white-space: pre; opacity: 1;\"> Action</text></g><g class=\"xtick\"><text text-anchor=\"end\" x=\"0\" y=\"345\" transform=\"translate(484.74,0) rotate(-45,0,339)\" style=\"font-family: 'Courier New'; font-size: 12px; fill: rgb(242, 245, 250); fill-opacity: 1; white-space: pre; opacity: 1;\"> Entertainment</text></g><g class=\"xtick\"><text text-anchor=\"end\" x=\"0\" y=\"345\" transform=\"translate(508.26,0) rotate(-45,0,339)\" style=\"font-family: 'Courier New'; font-size: 12px; fill: rgb(242, 245, 250); fill-opacity: 1; white-space: pre; opacity: 1;\"> Games</text></g><g class=\"xtick\"><text text-anchor=\"end\" x=\"0\" y=\"345\" transform=\"translate(531.79,0) rotate(-45,0,339)\" style=\"font-family: 'Courier New'; font-size: 12px; fill: rgb(242, 245, 250); fill-opacity: 1; white-space: pre; opacity: 1;\"> Racing</text></g><g class=\"xtick\"><text text-anchor=\"end\" x=\"0\" y=\"345\" transform=\"translate(555.31,0) rotate(-45,0,339)\" style=\"font-family: 'Courier New'; font-size: 12px; fill: rgb(242, 245, 250); fill-opacity: 1; white-space: pre; opacity: 1;\"> Food &amp; Drink</text></g><g class=\"xtick\"><text text-anchor=\"end\" x=\"0\" y=\"345\" transform=\"translate(578.8299999999999,0) rotate(-45,0,339)\" style=\"font-family: 'Courier New'; font-size: 12px; fill: rgb(242, 245, 250); fill-opacity: 1; white-space: pre; opacity: 1;\"> Simulation</text></g><g class=\"xtick\"><text text-anchor=\"end\" x=\"0\" y=\"345\" transform=\"translate(602.36,0) rotate(-45,0,339)\" style=\"font-family: 'Courier New'; font-size: 12px; fill: rgb(242, 245, 250); fill-opacity: 1; white-space: pre; opacity: 1;\"> Business</text></g></g><g class=\"yaxislayer-above\"><g class=\"ytick\"><text text-anchor=\"end\" x=\"125\" y=\"4.199999999999999\" transform=\"translate(0,332)\" style=\"font-family: 'Courier New'; font-size: 12px; fill: rgb(242, 245, 250); fill-opacity: 1; white-space: pre; opacity: 1;\">0</text></g><g class=\"ytick\"><text text-anchor=\"end\" x=\"125\" y=\"4.199999999999999\" style=\"font-family: 'Courier New'; font-size: 12px; fill: rgb(242, 245, 250); fill-opacity: 1; white-space: pre; opacity: 1;\" transform=\"translate(0,285.6)\">1</text></g><g class=\"ytick\"><text text-anchor=\"end\" x=\"125\" y=\"4.199999999999999\" style=\"font-family: 'Courier New'; font-size: 12px; fill: rgb(242, 245, 250); fill-opacity: 1; white-space: pre; opacity: 1;\" transform=\"translate(0,239.2)\">2</text></g><g class=\"ytick\"><text text-anchor=\"end\" x=\"125\" y=\"4.199999999999999\" style=\"font-family: 'Courier New'; font-size: 12px; fill: rgb(242, 245, 250); fill-opacity: 1; white-space: pre; opacity: 1;\" transform=\"translate(0,192.8)\">3</text></g><g class=\"ytick\"><text text-anchor=\"end\" x=\"125\" y=\"4.199999999999999\" style=\"font-family: 'Courier New'; font-size: 12px; fill: rgb(242, 245, 250); fill-opacity: 1; white-space: pre; opacity: 1;\" transform=\"translate(0,146.4)\">4</text></g><g class=\"ytick\"><text text-anchor=\"end\" x=\"125\" y=\"4.199999999999999\" style=\"font-family: 'Courier New'; font-size: 12px; fill: rgb(242, 245, 250); fill-opacity: 1; white-space: pre; opacity: 1;\" transform=\"translate(0,100)\">5</text></g></g><g class=\"overaxes-above\"/></g></g><g class=\"polarlayer\"/><g class=\"ternarylayer\"/><g class=\"geolayer\"/><g class=\"funnelarealayer\"/><g class=\"pielayer\"/><g class=\"iciclelayer\"/><g class=\"treemaplayer\"/><g class=\"sunburstlayer\"/><g class=\"glimages\"/><defs id=\"topdefs-04af27\"><g class=\"clips\"/></defs><g class=\"layer-above\"><g class=\"imagelayer\"/><g class=\"shapelayer\"/></g><g class=\"infolayer\"><g class=\"g-gtitle\"><text class=\"gtitle\" x=\"35\" y=\"50\" text-anchor=\"start\" dy=\"0em\" style=\"font-family: 'Courier New'; font-size: 17px; fill: rgb(242, 245, 250); opacity: 1; font-weight: normal; white-space: pre;\">Average user rating per Secondary Genre</text></g><g class=\"g-xtitle\"><text class=\"xtitle\" x=\"373\" y=\"487.9962890625\" text-anchor=\"middle\" style=\"font-family: 'Courier New'; font-size: 14px; fill: rgb(242, 245, 250); opacity: 1; font-weight: normal; white-space: pre;\">Secondary Genre</text></g><g class=\"g-ytitle\"><text class=\"ytitle\" transform=\"rotate(-90,92.996875,216)\" x=\"92.996875\" y=\"216\" text-anchor=\"middle\" style=\"font-family: 'Courier New'; font-size: 14px; fill: rgb(242, 245, 250); opacity: 1; font-weight: normal; white-space: pre;\">Average user rating</text></g></g></svg>"
      ]
     },
     "metadata": {},
     "output_type": "display_data"
    }
   ],
   "source": [
    "secondary_avg = games.groupby('Secondary Genre')[['Average User Rating']].mean().sort_values(by = 'Average User Rating', ascending = False)\n",
    "\n",
    "\n",
    "fig = go.Figure(data=\n",
    "    go.Bar(name='secondary', x =secondary_avg.index  ,y = secondary_avg['Average User Rating'], text= secondary_avg['Average User Rating'], marker_color='darkred'))\n",
    "fig.update_layout(hoverlabel=dict(font=dict(family='sans-serif', size=25)),barmode='relative', template='plotly_dark', title_text='Average user rating per Secondary Genre', font_family=\"Courier New\", xaxis_tickangle=-45)\n",
    "fig.update_yaxes(title_text='Average user rating', range=[0,5])\n",
    "fig.update_xaxes(title_text='Secondary Genre',tickfont_size=12)\n",
    "fig.show(renderer=\"svg\")  "
   ]
  },
  {
   "cell_type": "markdown",
   "id": "01776161",
   "metadata": {},
   "source": [
    "Conclusion: The graphs for both Genre categorys show the top rated genres. Food&Drink, News, and Music lead the primary genres, while magazines&newspapers, Medical and Places&Objects lead secondary genres."
   ]
  },
  {
   "cell_type": "markdown",
   "id": "e4f05c72",
   "metadata": {},
   "source": [
    "### Which developers rack the highest/lowest average ratings?"
   ]
  },
  {
   "cell_type": "code",
   "execution_count": 51,
   "id": "ed0be87e",
   "metadata": {},
   "outputs": [],
   "source": [
    "more_than_500_reviews = games.loc[(games['User Rating Count'] >= 500)]\n",
    "top_dev_ratings = more_than_500_reviews.groupby('Developer')[['Average User Rating']].mean().sort_values(by = 'Average User Rating', ascending = False).head(15)\n",
    "low_dev_ratings = more_than_500_reviews.groupby('Developer')[['Average User Rating']].mean().sort_values(by = 'Average User Rating', ascending = True).head(15)"
   ]
  },
  {
   "cell_type": "code",
   "execution_count": 52,
   "id": "b508de71",
   "metadata": {
    "scrolled": false
   },
   "outputs": [
    {
     "data": {
      "image/svg+xml": [
       "<svg class=\"main-svg\" xmlns=\"http://www.w3.org/2000/svg\" xmlns:xlink=\"http://www.w3.org/1999/xlink\" width=\"700\" height=\"500\" style=\"\" viewBox=\"0 0 700 500\"><rect x=\"0\" y=\"0\" width=\"700\" height=\"500\" style=\"fill: rgb(255, 255, 255); fill-opacity: 1;\"/><defs id=\"defs-e4791f\"><g class=\"clips\"><clipPath id=\"clipe4791fxyplot\" class=\"plotclip\"><rect width=\"540\" height=\"148\"/></clipPath><clipPath class=\"axesclip\" id=\"clipe4791fx\"><rect x=\"80\" y=\"0\" width=\"540\" height=\"500\"/></clipPath><clipPath class=\"axesclip\" id=\"clipe4791fy\"><rect x=\"0\" y=\"100\" width=\"700\" height=\"148\"/></clipPath><clipPath class=\"axesclip\" id=\"clipe4791fxy\"><rect x=\"80\" y=\"100\" width=\"540\" height=\"148\"/></clipPath></g><g class=\"gradients\"/><g class=\"patterns\"/></defs><g class=\"bglayer\"><rect class=\"bg\" x=\"80\" y=\"100\" width=\"540\" height=\"148\" style=\"fill: rgb(234, 234, 242); fill-opacity: 1; stroke-width: 0;\"/></g><g class=\"layer-below\"><g class=\"imagelayer\"/><g class=\"shapelayer\"/></g><g class=\"cartesianlayer\"><g class=\"subplot xy\"><g class=\"layer-subplot\"><g class=\"shapelayer\"/><g class=\"imagelayer\"/></g><g class=\"gridlayer\"><g class=\"x\"><path class=\"xgrid crisp\" transform=\"translate(98,0)\" d=\"M0,100v148\" style=\"stroke: rgb(255, 255, 255); stroke-opacity: 1; stroke-width: 1px;\"/><path class=\"xgrid crisp\" transform=\"translate(134,0)\" d=\"M0,100v148\" style=\"stroke: rgb(255, 255, 255); stroke-opacity: 1; stroke-width: 1px;\"/><path class=\"xgrid crisp\" transform=\"translate(170,0)\" d=\"M0,100v148\" style=\"stroke: rgb(255, 255, 255); stroke-opacity: 1; stroke-width: 1px;\"/><path class=\"xgrid crisp\" transform=\"translate(206,0)\" d=\"M0,100v148\" style=\"stroke: rgb(255, 255, 255); stroke-opacity: 1; stroke-width: 1px;\"/><path class=\"xgrid crisp\" transform=\"translate(242,0)\" d=\"M0,100v148\" style=\"stroke: rgb(255, 255, 255); stroke-opacity: 1; stroke-width: 1px;\"/><path class=\"xgrid crisp\" transform=\"translate(278,0)\" d=\"M0,100v148\" style=\"stroke: rgb(255, 255, 255); stroke-opacity: 1; stroke-width: 1px;\"/><path class=\"xgrid crisp\" transform=\"translate(314,0)\" d=\"M0,100v148\" style=\"stroke: rgb(255, 255, 255); stroke-opacity: 1; stroke-width: 1px;\"/><path class=\"xgrid crisp\" transform=\"translate(350,0)\" d=\"M0,100v148\" style=\"stroke: rgb(255, 255, 255); stroke-opacity: 1; stroke-width: 1px;\"/><path class=\"xgrid crisp\" transform=\"translate(386,0)\" d=\"M0,100v148\" style=\"stroke: rgb(255, 255, 255); stroke-opacity: 1; stroke-width: 1px;\"/><path class=\"xgrid crisp\" transform=\"translate(422,0)\" d=\"M0,100v148\" style=\"stroke: rgb(255, 255, 255); stroke-opacity: 1; stroke-width: 1px;\"/><path class=\"xgrid crisp\" transform=\"translate(458,0)\" d=\"M0,100v148\" style=\"stroke: rgb(255, 255, 255); stroke-opacity: 1; stroke-width: 1px;\"/><path class=\"xgrid crisp\" transform=\"translate(494,0)\" d=\"M0,100v148\" style=\"stroke: rgb(255, 255, 255); stroke-opacity: 1; stroke-width: 1px;\"/><path class=\"xgrid crisp\" transform=\"translate(530,0)\" d=\"M0,100v148\" style=\"stroke: rgb(255, 255, 255); stroke-opacity: 1; stroke-width: 1px;\"/><path class=\"xgrid crisp\" transform=\"translate(566,0)\" d=\"M0,100v148\" style=\"stroke: rgb(255, 255, 255); stroke-opacity: 1; stroke-width: 1px;\"/><path class=\"xgrid crisp\" transform=\"translate(602,0)\" d=\"M0,100v148\" style=\"stroke: rgb(255, 255, 255); stroke-opacity: 1; stroke-width: 1px;\"/></g><g class=\"y\"><path class=\"ygrid crisp\" transform=\"translate(0,188.8)\" d=\"M80,0h540\" style=\"stroke: rgb(255, 255, 255); stroke-opacity: 1; stroke-width: 1px;\"/><path class=\"ygrid crisp\" transform=\"translate(0,129.6)\" d=\"M80,0h540\" style=\"stroke: rgb(255, 255, 255); stroke-opacity: 1; stroke-width: 1px;\"/></g></g><g class=\"zerolinelayer\"><path class=\"yzl zl crisp\" transform=\"translate(0,248)\" d=\"M80,0h540\" style=\"stroke: rgb(255, 255, 255); stroke-opacity: 1; stroke-width: 1px;\"/></g><path class=\"xlines-below\"/><path class=\"ylines-below\"/><g class=\"overlines-below\"/><g class=\"xaxislayer-below\"/><g class=\"yaxislayer-below\"/><g class=\"overaxes-below\"/><g class=\"plot\" transform=\"translate(80,100)\" clip-path=\"url(#clipe4791fxyplot)\"><g class=\"barlayer mlayer\"><g class=\"trace bars\" style=\"opacity: 1;\"><g class=\"points\"><g class=\"point\"><path d=\"M3.6,148V0H32.4V148Z\" style=\"vector-effect: non-scaling-stroke; opacity: 1; stroke-width: 0.5px; fill: rgb(255, 255, 0); fill-opacity: 1; stroke: rgb(234, 234, 242); stroke-opacity: 1;\"/><text class=\"bartext bartext-inside\" text-anchor=\"middle\" data-notex=\"1\" x=\"0\" y=\"0\" style=\"font-family: 'Courier New'; font-size: 12px; fill: rgb(68, 68, 68); fill-opacity: 1; white-space: pre;\" transform=\"translate(18,13)\">5</text></g><g class=\"point\"><path d=\"M39.6,148V0H68.4V148Z\" style=\"vector-effect: non-scaling-stroke; opacity: 1; stroke-width: 0.5px; fill: rgb(255, 255, 0); fill-opacity: 1; stroke: rgb(234, 234, 242); stroke-opacity: 1;\"/><text class=\"bartext bartext-inside\" text-anchor=\"middle\" data-notex=\"1\" x=\"0\" y=\"0\" style=\"font-family: 'Courier New'; font-size: 12px; fill: rgb(68, 68, 68); fill-opacity: 1; white-space: pre;\" transform=\"translate(54,13)\">5</text></g><g class=\"point\"><path d=\"M75.6,148V0H104.4V148Z\" style=\"vector-effect: non-scaling-stroke; opacity: 1; stroke-width: 0.5px; fill: rgb(255, 255, 0); fill-opacity: 1; stroke: rgb(234, 234, 242); stroke-opacity: 1;\"/><text class=\"bartext bartext-inside\" text-anchor=\"middle\" data-notex=\"1\" x=\"0\" y=\"0\" style=\"font-family: 'Courier New'; font-size: 12px; fill: rgb(68, 68, 68); fill-opacity: 1; white-space: pre;\" transform=\"translate(90,13)\">5</text></g><g class=\"point\"><path d=\"M111.6,148V0H140.4V148Z\" style=\"vector-effect: non-scaling-stroke; opacity: 1; stroke-width: 0.5px; fill: rgb(255, 255, 0); fill-opacity: 1; stroke: rgb(234, 234, 242); stroke-opacity: 1;\"/><text class=\"bartext bartext-inside\" text-anchor=\"middle\" data-notex=\"1\" x=\"0\" y=\"0\" style=\"font-family: 'Courier New'; font-size: 12px; fill: rgb(68, 68, 68); fill-opacity: 1; white-space: pre;\" transform=\"translate(126,13)\">5</text></g><g class=\"point\"><path d=\"M147.6,148V0H176.4V148Z\" style=\"vector-effect: non-scaling-stroke; opacity: 1; stroke-width: 0.5px; fill: rgb(255, 255, 0); fill-opacity: 1; stroke: rgb(234, 234, 242); stroke-opacity: 1;\"/><text class=\"bartext bartext-inside\" text-anchor=\"middle\" data-notex=\"1\" x=\"0\" y=\"0\" style=\"font-family: 'Courier New'; font-size: 12px; fill: rgb(68, 68, 68); fill-opacity: 1; white-space: pre;\" transform=\"translate(162,13)\">5</text></g><g class=\"point\"><path d=\"M183.6,148V0H212.4V148Z\" style=\"vector-effect: non-scaling-stroke; opacity: 1; stroke-width: 0.5px; fill: rgb(255, 255, 0); fill-opacity: 1; stroke: rgb(234, 234, 242); stroke-opacity: 1;\"/><text class=\"bartext bartext-inside\" text-anchor=\"middle\" data-notex=\"1\" x=\"0\" y=\"0\" style=\"font-family: 'Courier New'; font-size: 12px; fill: rgb(68, 68, 68); fill-opacity: 1; white-space: pre;\" transform=\"translate(198,13)\">5</text></g><g class=\"point\"><path d=\"M219.6,148V0H248.4V148Z\" style=\"vector-effect: non-scaling-stroke; opacity: 1; stroke-width: 0.5px; fill: rgb(255, 255, 0); fill-opacity: 1; stroke: rgb(234, 234, 242); stroke-opacity: 1;\"/><text class=\"bartext bartext-inside\" text-anchor=\"middle\" data-notex=\"1\" x=\"0\" y=\"0\" style=\"font-family: 'Courier New'; font-size: 12px; fill: rgb(68, 68, 68); fill-opacity: 1; white-space: pre;\" transform=\"translate(234,13)\">5</text></g><g class=\"point\"><path d=\"M255.6,148V0H284.4V148Z\" style=\"vector-effect: non-scaling-stroke; opacity: 1; stroke-width: 0.5px; fill: rgb(255, 255, 0); fill-opacity: 1; stroke: rgb(234, 234, 242); stroke-opacity: 1;\"/><text class=\"bartext bartext-inside\" text-anchor=\"middle\" data-notex=\"1\" x=\"0\" y=\"0\" style=\"font-family: 'Courier New'; font-size: 12px; fill: rgb(68, 68, 68); fill-opacity: 1; white-space: pre;\" transform=\"translate(270,13)\">5</text></g><g class=\"point\"><path d=\"M291.6,148V0H320.4V148Z\" style=\"vector-effect: non-scaling-stroke; opacity: 1; stroke-width: 0.5px; fill: rgb(255, 255, 0); fill-opacity: 1; stroke: rgb(234, 234, 242); stroke-opacity: 1;\"/><text class=\"bartext bartext-inside\" text-anchor=\"middle\" data-notex=\"1\" x=\"0\" y=\"0\" style=\"font-family: 'Courier New'; font-size: 12px; fill: rgb(68, 68, 68); fill-opacity: 1; white-space: pre;\" transform=\"translate(306,13)\">5</text></g><g class=\"point\"><path d=\"M327.6,148V0H356.4V148Z\" style=\"vector-effect: non-scaling-stroke; opacity: 1; stroke-width: 0.5px; fill: rgb(255, 255, 0); fill-opacity: 1; stroke: rgb(234, 234, 242); stroke-opacity: 1;\"/><text class=\"bartext bartext-inside\" text-anchor=\"middle\" data-notex=\"1\" x=\"0\" y=\"0\" style=\"font-family: 'Courier New'; font-size: 12px; fill: rgb(68, 68, 68); fill-opacity: 1; white-space: pre;\" transform=\"translate(342,13)\">5</text></g><g class=\"point\"><path d=\"M363.6,148V0H392.4V148Z\" style=\"vector-effect: non-scaling-stroke; opacity: 1; stroke-width: 0.5px; fill: rgb(255, 255, 0); fill-opacity: 1; stroke: rgb(234, 234, 242); stroke-opacity: 1;\"/><text class=\"bartext bartext-inside\" text-anchor=\"middle\" data-notex=\"1\" x=\"0\" y=\"0\" style=\"font-family: 'Courier New'; font-size: 12px; fill: rgb(68, 68, 68); fill-opacity: 1; white-space: pre;\" transform=\"translate(378,13)\">5</text></g><g class=\"point\"><path d=\"M399.6,148V0H428.4V148Z\" style=\"vector-effect: non-scaling-stroke; opacity: 1; stroke-width: 0.5px; fill: rgb(255, 255, 0); fill-opacity: 1; stroke: rgb(234, 234, 242); stroke-opacity: 1;\"/><text class=\"bartext bartext-inside\" text-anchor=\"middle\" data-notex=\"1\" x=\"0\" y=\"0\" style=\"font-family: 'Courier New'; font-size: 12px; fill: rgb(68, 68, 68); fill-opacity: 1; white-space: pre;\" transform=\"translate(414,13)\">5</text></g><g class=\"point\"><path d=\"M435.6,148V0H464.4V148Z\" style=\"vector-effect: non-scaling-stroke; opacity: 1; stroke-width: 0.5px; fill: rgb(255, 255, 0); fill-opacity: 1; stroke: rgb(234, 234, 242); stroke-opacity: 1;\"/><text class=\"bartext bartext-inside\" text-anchor=\"middle\" data-notex=\"1\" x=\"0\" y=\"0\" style=\"font-family: 'Courier New'; font-size: 12px; fill: rgb(68, 68, 68); fill-opacity: 1; white-space: pre;\" transform=\"translate(450,13)\">5</text></g><g class=\"point\"><path d=\"M471.6,148V0H500.4V148Z\" style=\"vector-effect: non-scaling-stroke; opacity: 1; stroke-width: 0.5px; fill: rgb(255, 255, 0); fill-opacity: 1; stroke: rgb(234, 234, 242); stroke-opacity: 1;\"/><text class=\"bartext bartext-inside\" text-anchor=\"middle\" data-notex=\"1\" x=\"0\" y=\"0\" style=\"font-family: 'Courier New'; font-size: 12px; fill: rgb(68, 68, 68); fill-opacity: 1; white-space: pre;\" transform=\"translate(486,13)\">5</text></g><g class=\"point\"><path d=\"M507.6,148V0H536.4V148Z\" style=\"vector-effect: non-scaling-stroke; opacity: 1; stroke-width: 0.5px; fill: rgb(255, 255, 0); fill-opacity: 1; stroke: rgb(234, 234, 242); stroke-opacity: 1;\"/><text class=\"bartext bartext-inside\" text-anchor=\"middle\" data-notex=\"1\" x=\"0\" y=\"0\" style=\"font-family: 'Courier New'; font-size: 12px; fill: rgb(68, 68, 68); fill-opacity: 1; white-space: pre;\" transform=\"translate(522,13)\">5</text></g></g></g></g></g><g class=\"overplot\"/><path class=\"xlines-above crisp\" d=\"M0,0\" style=\"fill: none;\"/><path class=\"ylines-above crisp\" d=\"M0,0\" style=\"fill: none;\"/><g class=\"overlines-above\"/><g class=\"xaxislayer-above\"><g class=\"xtick\"><text text-anchor=\"start\" x=\"0\" y=\"264\" transform=\"translate(98,0) rotate(90,0,256.5)\" style=\"font-family: 'Courier New'; font-size: 15px; fill: rgb(36, 36, 36); fill-opacity: 1; white-space: pre; opacity: 1;\">Logick LLC</text></g><g class=\"xtick\"><text text-anchor=\"start\" x=\"0\" y=\"264\" transform=\"translate(134,0) rotate(90,0,256.5)\" style=\"font-family: 'Courier New'; font-size: 15px; fill: rgb(36, 36, 36); fill-opacity: 1; white-space: pre; opacity: 1;\">LeanGo Development Inc.</text></g><g class=\"xtick\"><text text-anchor=\"start\" x=\"0\" y=\"264\" transform=\"translate(170,0) rotate(90,0,256.5)\" style=\"font-family: 'Courier New'; font-size: 15px; fill: rgb(36, 36, 36); fill-opacity: 1; white-space: pre; opacity: 1;\">XIA PEI MING</text></g><g class=\"xtick\"><text text-anchor=\"start\" x=\"0\" y=\"264\" transform=\"translate(206,0) rotate(90,0,256.5)\" style=\"font-family: 'Courier New'; font-size: 15px; fill: rgb(36, 36, 36); fill-opacity: 1; white-space: pre; opacity: 1;\">Xiaoyu Ren</text></g><g class=\"xtick\"><text text-anchor=\"start\" x=\"0\" y=\"264\" transform=\"translate(242,0) rotate(90,0,256.5)\" style=\"font-family: 'Courier New'; font-size: 15px; fill: rgb(36, 36, 36); fill-opacity: 1; white-space: pre; opacity: 1;\">Ted Wong</text></g><g class=\"xtick\"><text text-anchor=\"start\" x=\"0\" y=\"264\" transform=\"translate(278,0) rotate(90,0,256.5)\" style=\"font-family: 'Courier New'; font-size: 15px; fill: rgb(36, 36, 36); fill-opacity: 1; white-space: pre; opacity: 1;\">Tapinator, Inc.</text></g><g class=\"xtick\"><text text-anchor=\"start\" x=\"0\" y=\"264\" transform=\"translate(314,0) rotate(90,0,256.5)\" style=\"font-family: 'Courier New'; font-size: 15px; fill: rgb(36, 36, 36); fill-opacity: 1; white-space: pre; opacity: 1;\">Game Hollywood</text></g><g class=\"xtick\"><text text-anchor=\"start\" x=\"0\" y=\"264\" transform=\"translate(350,0) rotate(90,0,256.5)\" style=\"font-family: 'Courier New'; font-size: 15px; fill: rgb(36, 36, 36); fill-opacity: 1; white-space: pre; opacity: 1;\">Tactile Games Limited</text></g><g class=\"xtick\"><text text-anchor=\"start\" x=\"0\" y=\"264\" transform=\"translate(386,0) rotate(90,0,256.5)\" style=\"font-family: 'Courier New'; font-size: 15px; fill: rgb(36, 36, 36); fill-opacity: 1; white-space: pre; opacity: 1;\">Heatherglade Ltd</text></g><g class=\"xtick\"><text text-anchor=\"start\" x=\"0\" y=\"264\" transform=\"translate(422,0) rotate(90,0,256.5)\" style=\"font-family: 'Courier New'; font-size: 15px; fill: rgb(36, 36, 36); fill-opacity: 1; white-space: pre; opacity: 1;\">TOJOY GAME</text></g><g class=\"xtick\"><text text-anchor=\"start\" x=\"0\" y=\"264\" transform=\"translate(458,0) rotate(90,0,256.5)\" style=\"font-family: 'Courier New'; font-size: 15px; fill: rgb(36, 36, 36); fill-opacity: 1; white-space: pre; opacity: 1;\">FlyBird Limited</text></g><g class=\"xtick\"><text text-anchor=\"start\" x=\"0\" y=\"264\" transform=\"translate(494,0) rotate(90,0,256.5)\" style=\"font-family: 'Courier New'; font-size: 15px; fill: rgb(36, 36, 36); fill-opacity: 1; white-space: pre; opacity: 1;\">Monstronauts Inc.</text></g><g class=\"xtick\"><text text-anchor=\"start\" x=\"0\" y=\"264\" transform=\"translate(530,0) rotate(90,0,256.5)\" style=\"font-family: 'Courier New'; font-size: 15px; fill: rgb(36, 36, 36); fill-opacity: 1; white-space: pre; opacity: 1;\">Casual Joy Limited</text></g><g class=\"xtick\"><text text-anchor=\"start\" x=\"0\" y=\"264\" transform=\"translate(566,0) rotate(90,0,256.5)\" style=\"font-family: 'Courier New'; font-size: 15px; fill: rgb(36, 36, 36); fill-opacity: 1; white-space: pre; opacity: 1;\">Spider Solitaire</text></g><g class=\"xtick\"><text text-anchor=\"start\" x=\"0\" y=\"264\" transform=\"translate(602,0) rotate(90,0,256.5)\" style=\"font-family: 'Courier New'; font-size: 15px; fill: rgb(36, 36, 36); fill-opacity: 1; white-space: pre; opacity: 1;\">Altitude Games</text></g></g><g class=\"yaxislayer-above\"><g class=\"ytick\"><text text-anchor=\"end\" x=\"79\" y=\"4.199999999999999\" transform=\"translate(0,248)\" style=\"font-family: 'Courier New'; font-size: 12px; fill: rgb(36, 36, 36); fill-opacity: 1; white-space: pre; opacity: 1;\">0</text></g><g class=\"ytick\"><text text-anchor=\"end\" x=\"79\" y=\"4.199999999999999\" style=\"font-family: 'Courier New'; font-size: 12px; fill: rgb(36, 36, 36); fill-opacity: 1; white-space: pre; opacity: 1;\" transform=\"translate(0,188.8)\">2</text></g><g class=\"ytick\"><text text-anchor=\"end\" x=\"79\" y=\"4.199999999999999\" style=\"font-family: 'Courier New'; font-size: 12px; fill: rgb(36, 36, 36); fill-opacity: 1; white-space: pre; opacity: 1;\" transform=\"translate(0,129.6)\">4</text></g></g><g class=\"overaxes-above\"/></g></g><g class=\"polarlayer\"/><g class=\"ternarylayer\"/><g class=\"geolayer\"/><g class=\"funnelarealayer\"/><g class=\"pielayer\"/><g class=\"iciclelayer\"/><g class=\"treemaplayer\"/><g class=\"sunburstlayer\"/><g class=\"glimages\"/><defs id=\"topdefs-e4791f\"><g class=\"clips\"/></defs><g class=\"layer-above\"><g class=\"imagelayer\"/><g class=\"shapelayer\"/></g><g class=\"infolayer\"><g class=\"g-gtitle\"><text class=\"gtitle\" x=\"350\" y=\"50\" text-anchor=\"middle\" dy=\"0em\" style=\"font-family: 'Courier New'; font-size: 17px; fill: rgb(36, 36, 36); opacity: 1; font-weight: normal; white-space: pre;\">Average user ratings of the top rated 15 developers(over 500 reviews)</text></g><g class=\"g-xtitle\"><text class=\"xtitle\" x=\"350\" y=\"488.346875\" text-anchor=\"middle\" style=\"font-family: 'Courier New'; font-size: 14px; fill: rgb(36, 36, 36); opacity: 1; font-weight: normal; white-space: pre;\">Developer</text></g><g class=\"g-ytitle\"><text class=\"ytitle\" transform=\"rotate(-90,46.996875,174)\" x=\"46.996875\" y=\"174\" text-anchor=\"middle\" style=\"font-family: 'Courier New'; font-size: 14px; fill: rgb(36, 36, 36); opacity: 1; font-weight: normal; white-space: pre;\">Average user rating</text></g></g></svg>"
      ]
     },
     "metadata": {},
     "output_type": "display_data"
    }
   ],
   "source": [
    "fig = go.Figure(data=[\n",
    "    go.Bar(name='Primary', x =top_dev_ratings.index  ,y = top_dev_ratings['Average User Rating'], text= top_dev_ratings['Average User Rating'], marker_color='yellow')])\n",
    "fig.update_layout(hoverlabel=dict(font=dict(family='sans-serif', size=20)),barmode='relative', template='seaborn', title_text='Average user ratings of the top rated 15 developers(over 500 reviews)', font_family=\"Courier New\")\n",
    "fig.update_yaxes(title_text='Average user rating', range=[0,5])\n",
    "fig.update_xaxes(title_text='Developer',tickfont_size=15)\n",
    "fig.show(renderer=\"svg\")  "
   ]
  },
  {
   "cell_type": "code",
   "execution_count": 53,
   "id": "70f34bf8",
   "metadata": {},
   "outputs": [
    {
     "data": {
      "image/svg+xml": [
       "<svg class=\"main-svg\" xmlns=\"http://www.w3.org/2000/svg\" xmlns:xlink=\"http://www.w3.org/1999/xlink\" width=\"700\" height=\"500\" style=\"\" viewBox=\"0 0 700 500\"><rect x=\"0\" y=\"0\" width=\"700\" height=\"500\" style=\"fill: rgb(255, 255, 255); fill-opacity: 1;\"/><defs id=\"defs-22c6cf\"><g class=\"clips\"><clipPath id=\"clip22c6cfxyplot\" class=\"plotclip\"><rect width=\"540\" height=\"166\"/></clipPath><clipPath class=\"axesclip\" id=\"clip22c6cfx\"><rect x=\"80\" y=\"0\" width=\"540\" height=\"500\"/></clipPath><clipPath class=\"axesclip\" id=\"clip22c6cfy\"><rect x=\"0\" y=\"100\" width=\"700\" height=\"166\"/></clipPath><clipPath class=\"axesclip\" id=\"clip22c6cfxy\"><rect x=\"80\" y=\"100\" width=\"540\" height=\"166\"/></clipPath></g><g class=\"gradients\"/><g class=\"patterns\"/></defs><g class=\"bglayer\"><rect class=\"bg\" x=\"80\" y=\"100\" width=\"540\" height=\"166\" style=\"fill: rgb(234, 234, 242); fill-opacity: 1; stroke-width: 0;\"/></g><g class=\"layer-below\"><g class=\"imagelayer\"/><g class=\"shapelayer\"/></g><g class=\"cartesianlayer\"><g class=\"subplot xy\"><g class=\"layer-subplot\"><g class=\"shapelayer\"/><g class=\"imagelayer\"/></g><g class=\"gridlayer\"><g class=\"x\"><path class=\"xgrid crisp\" transform=\"translate(98,0)\" d=\"M0,100v166\" style=\"stroke: rgb(255, 255, 255); stroke-opacity: 1; stroke-width: 1px;\"/><path class=\"xgrid crisp\" transform=\"translate(134,0)\" d=\"M0,100v166\" style=\"stroke: rgb(255, 255, 255); stroke-opacity: 1; stroke-width: 1px;\"/><path class=\"xgrid crisp\" transform=\"translate(170,0)\" d=\"M0,100v166\" style=\"stroke: rgb(255, 255, 255); stroke-opacity: 1; stroke-width: 1px;\"/><path class=\"xgrid crisp\" transform=\"translate(206,0)\" d=\"M0,100v166\" style=\"stroke: rgb(255, 255, 255); stroke-opacity: 1; stroke-width: 1px;\"/><path class=\"xgrid crisp\" transform=\"translate(242,0)\" d=\"M0,100v166\" style=\"stroke: rgb(255, 255, 255); stroke-opacity: 1; stroke-width: 1px;\"/><path class=\"xgrid crisp\" transform=\"translate(278,0)\" d=\"M0,100v166\" style=\"stroke: rgb(255, 255, 255); stroke-opacity: 1; stroke-width: 1px;\"/><path class=\"xgrid crisp\" transform=\"translate(314,0)\" d=\"M0,100v166\" style=\"stroke: rgb(255, 255, 255); stroke-opacity: 1; stroke-width: 1px;\"/><path class=\"xgrid crisp\" transform=\"translate(350,0)\" d=\"M0,100v166\" style=\"stroke: rgb(255, 255, 255); stroke-opacity: 1; stroke-width: 1px;\"/><path class=\"xgrid crisp\" transform=\"translate(386,0)\" d=\"M0,100v166\" style=\"stroke: rgb(255, 255, 255); stroke-opacity: 1; stroke-width: 1px;\"/><path class=\"xgrid crisp\" transform=\"translate(422,0)\" d=\"M0,100v166\" style=\"stroke: rgb(255, 255, 255); stroke-opacity: 1; stroke-width: 1px;\"/><path class=\"xgrid crisp\" transform=\"translate(458,0)\" d=\"M0,100v166\" style=\"stroke: rgb(255, 255, 255); stroke-opacity: 1; stroke-width: 1px;\"/><path class=\"xgrid crisp\" transform=\"translate(494,0)\" d=\"M0,100v166\" style=\"stroke: rgb(255, 255, 255); stroke-opacity: 1; stroke-width: 1px;\"/><path class=\"xgrid crisp\" transform=\"translate(530,0)\" d=\"M0,100v166\" style=\"stroke: rgb(255, 255, 255); stroke-opacity: 1; stroke-width: 1px;\"/><path class=\"xgrid crisp\" transform=\"translate(566,0)\" d=\"M0,100v166\" style=\"stroke: rgb(255, 255, 255); stroke-opacity: 1; stroke-width: 1px;\"/><path class=\"xgrid crisp\" transform=\"translate(602,0)\" d=\"M0,100v166\" style=\"stroke: rgb(255, 255, 255); stroke-opacity: 1; stroke-width: 1px;\"/></g><g class=\"y\"><path class=\"ygrid crisp\" transform=\"translate(0,232.8)\" d=\"M80,0h540\" style=\"stroke: rgb(255, 255, 255); stroke-opacity: 1; stroke-width: 1px;\"/><path class=\"ygrid crisp\" transform=\"translate(0,199.6)\" d=\"M80,0h540\" style=\"stroke: rgb(255, 255, 255); stroke-opacity: 1; stroke-width: 1px;\"/><path class=\"ygrid crisp\" transform=\"translate(0,166.4)\" d=\"M80,0h540\" style=\"stroke: rgb(255, 255, 255); stroke-opacity: 1; stroke-width: 1px;\"/><path class=\"ygrid crisp\" transform=\"translate(0,133.2)\" d=\"M80,0h540\" style=\"stroke: rgb(255, 255, 255); stroke-opacity: 1; stroke-width: 1px;\"/></g></g><g class=\"zerolinelayer\"><path class=\"yzl zl crisp\" transform=\"translate(0,266)\" d=\"M80,0h540\" style=\"stroke: rgb(255, 255, 255); stroke-opacity: 1; stroke-width: 1px;\"/></g><path class=\"xlines-below\"/><path class=\"ylines-below\"/><g class=\"overlines-below\"/><g class=\"xaxislayer-below\"/><g class=\"yaxislayer-below\"/><g class=\"overaxes-below\"/><g class=\"plot\" transform=\"translate(80,100)\" clip-path=\"url(#clip22c6cfxyplot)\"><g class=\"barlayer mlayer\"><g class=\"trace bars\" style=\"opacity: 1;\"><g class=\"points\"><g class=\"point\"><path d=\"M3.6,166V116.2H32.4V166Z\" style=\"vector-effect: non-scaling-stroke; opacity: 1; stroke-width: 0.5px; fill: rgb(0, 100, 0); fill-opacity: 1; stroke: rgb(234, 234, 242); stroke-opacity: 1;\"/><text class=\"bartext bartext-inside\" text-anchor=\"middle\" data-notex=\"1\" x=\"0\" y=\"0\" style=\"font-family: 'Courier New'; font-size: 12px; fill: rgb(255, 255, 255); fill-opacity: 1; white-space: pre;\" transform=\"translate(18,129.2)\">1.5</text></g><g class=\"point\"><path d=\"M39.6,166V99.6H68.4V166Z\" style=\"vector-effect: non-scaling-stroke; opacity: 1; stroke-width: 0.5px; fill: rgb(0, 100, 0); fill-opacity: 1; stroke: rgb(234, 234, 242); stroke-opacity: 1;\"/><text class=\"bartext bartext-inside\" text-anchor=\"middle\" data-notex=\"1\" x=\"0\" y=\"0\" style=\"font-family: 'Courier New'; font-size: 12px; fill: rgb(255, 255, 255); fill-opacity: 1; white-space: pre;\" transform=\"translate(54,112.6)\">2</text></g><g class=\"point\"><path d=\"M75.6,166V99.6H104.4V166Z\" style=\"vector-effect: non-scaling-stroke; opacity: 1; stroke-width: 0.5px; fill: rgb(0, 100, 0); fill-opacity: 1; stroke: rgb(234, 234, 242); stroke-opacity: 1;\"/><text class=\"bartext bartext-inside\" text-anchor=\"middle\" data-notex=\"1\" x=\"0\" y=\"0\" style=\"font-family: 'Courier New'; font-size: 12px; fill: rgb(255, 255, 255); fill-opacity: 1; white-space: pre;\" transform=\"translate(90,112.6)\">2</text></g><g class=\"point\"><path d=\"M111.6,166V99.6H140.4V166Z\" style=\"vector-effect: non-scaling-stroke; opacity: 1; stroke-width: 0.5px; fill: rgb(0, 100, 0); fill-opacity: 1; stroke: rgb(234, 234, 242); stroke-opacity: 1;\"/><text class=\"bartext bartext-inside\" text-anchor=\"middle\" data-notex=\"1\" x=\"0\" y=\"0\" style=\"font-family: 'Courier New'; font-size: 12px; fill: rgb(255, 255, 255); fill-opacity: 1; white-space: pre;\" transform=\"translate(126,112.6)\">2</text></g><g class=\"point\"><path d=\"M147.6,166V99.6H176.4V166Z\" style=\"vector-effect: non-scaling-stroke; opacity: 1; stroke-width: 0.5px; fill: rgb(0, 100, 0); fill-opacity: 1; stroke: rgb(234, 234, 242); stroke-opacity: 1;\"/><text class=\"bartext bartext-inside\" text-anchor=\"middle\" data-notex=\"1\" x=\"0\" y=\"0\" style=\"font-family: 'Courier New'; font-size: 12px; fill: rgb(255, 255, 255); fill-opacity: 1; white-space: pre;\" transform=\"translate(162,112.6)\">2</text></g><g class=\"point\"><path d=\"M183.6,166V99.6H212.4V166Z\" style=\"vector-effect: non-scaling-stroke; opacity: 1; stroke-width: 0.5px; fill: rgb(0, 100, 0); fill-opacity: 1; stroke: rgb(234, 234, 242); stroke-opacity: 1;\"/><text class=\"bartext bartext-inside\" text-anchor=\"middle\" data-notex=\"1\" x=\"0\" y=\"0\" style=\"font-family: 'Courier New'; font-size: 12px; fill: rgb(255, 255, 255); fill-opacity: 1; white-space: pre;\" transform=\"translate(198,112.6)\">2</text></g><g class=\"point\"><path d=\"M219.6,166V83H248.4V166Z\" style=\"vector-effect: non-scaling-stroke; opacity: 1; stroke-width: 0.5px; fill: rgb(0, 100, 0); fill-opacity: 1; stroke: rgb(234, 234, 242); stroke-opacity: 1;\"/><text class=\"bartext bartext-inside\" text-anchor=\"middle\" data-notex=\"1\" x=\"0\" y=\"0\" style=\"font-family: 'Courier New'; font-size: 12px; fill: rgb(255, 255, 255); fill-opacity: 1; white-space: pre;\" transform=\"translate(234,96)\">2.5</text></g><g class=\"point\"><path d=\"M255.6,166V83H284.4V166Z\" style=\"vector-effect: non-scaling-stroke; opacity: 1; stroke-width: 0.5px; fill: rgb(0, 100, 0); fill-opacity: 1; stroke: rgb(234, 234, 242); stroke-opacity: 1;\"/><text class=\"bartext bartext-inside\" text-anchor=\"middle\" data-notex=\"1\" x=\"0\" y=\"0\" style=\"font-family: 'Courier New'; font-size: 12px; fill: rgb(255, 255, 255); fill-opacity: 1; white-space: pre;\" transform=\"translate(270,96)\">2.5</text></g><g class=\"point\"><path d=\"M291.6,166V83H320.4V166Z\" style=\"vector-effect: non-scaling-stroke; opacity: 1; stroke-width: 0.5px; fill: rgb(0, 100, 0); fill-opacity: 1; stroke: rgb(234, 234, 242); stroke-opacity: 1;\"/><text class=\"bartext bartext-inside\" text-anchor=\"middle\" data-notex=\"1\" x=\"0\" y=\"0\" style=\"font-family: 'Courier New'; font-size: 12px; fill: rgb(255, 255, 255); fill-opacity: 1; white-space: pre;\" transform=\"translate(306,96)\">2.5</text></g><g class=\"point\"><path d=\"M327.6,166V83H356.4V166Z\" style=\"vector-effect: non-scaling-stroke; opacity: 1; stroke-width: 0.5px; fill: rgb(0, 100, 0); fill-opacity: 1; stroke: rgb(234, 234, 242); stroke-opacity: 1;\"/><text class=\"bartext bartext-inside\" text-anchor=\"middle\" data-notex=\"1\" x=\"0\" y=\"0\" style=\"font-family: 'Courier New'; font-size: 12px; fill: rgb(255, 255, 255); fill-opacity: 1; white-space: pre;\" transform=\"translate(342,96)\">2.5</text></g><g class=\"point\"><path d=\"M363.6,166V83H392.4V166Z\" style=\"vector-effect: non-scaling-stroke; opacity: 1; stroke-width: 0.5px; fill: rgb(0, 100, 0); fill-opacity: 1; stroke: rgb(234, 234, 242); stroke-opacity: 1;\"/><text class=\"bartext bartext-inside\" text-anchor=\"middle\" data-notex=\"1\" x=\"0\" y=\"0\" style=\"font-family: 'Courier New'; font-size: 12px; fill: rgb(255, 255, 255); fill-opacity: 1; white-space: pre;\" transform=\"translate(378,96)\">2.5</text></g><g class=\"point\"><path d=\"M399.6,166V83H428.4V166Z\" style=\"vector-effect: non-scaling-stroke; opacity: 1; stroke-width: 0.5px; fill: rgb(0, 100, 0); fill-opacity: 1; stroke: rgb(234, 234, 242); stroke-opacity: 1;\"/><text class=\"bartext bartext-inside\" text-anchor=\"middle\" data-notex=\"1\" x=\"0\" y=\"0\" style=\"font-family: 'Courier New'; font-size: 12px; fill: rgb(255, 255, 255); fill-opacity: 1; white-space: pre;\" transform=\"translate(414,96)\">2.5</text></g><g class=\"point\"><path d=\"M435.6,166V83H464.4V166Z\" style=\"vector-effect: non-scaling-stroke; opacity: 1; stroke-width: 0.5px; fill: rgb(0, 100, 0); fill-opacity: 1; stroke: rgb(234, 234, 242); stroke-opacity: 1;\"/><text class=\"bartext bartext-inside\" text-anchor=\"middle\" data-notex=\"1\" x=\"0\" y=\"0\" style=\"font-family: 'Courier New'; font-size: 12px; fill: rgb(255, 255, 255); fill-opacity: 1; white-space: pre;\" transform=\"translate(450,96)\">2.5</text></g><g class=\"point\"><path d=\"M471.6,166V83H500.4V166Z\" style=\"vector-effect: non-scaling-stroke; opacity: 1; stroke-width: 0.5px; fill: rgb(0, 100, 0); fill-opacity: 1; stroke: rgb(234, 234, 242); stroke-opacity: 1;\"/><text class=\"bartext bartext-inside\" text-anchor=\"middle\" data-notex=\"1\" x=\"0\" y=\"0\" style=\"font-family: 'Courier New'; font-size: 12px; fill: rgb(255, 255, 255); fill-opacity: 1; white-space: pre;\" transform=\"translate(486,96)\">2.5</text></g><g class=\"point\"><path d=\"M507.6,166V83H536.4V166Z\" style=\"vector-effect: non-scaling-stroke; opacity: 1; stroke-width: 0.5px; fill: rgb(0, 100, 0); fill-opacity: 1; stroke: rgb(234, 234, 242); stroke-opacity: 1;\"/><text class=\"bartext bartext-inside\" text-anchor=\"middle\" data-notex=\"1\" x=\"0\" y=\"0\" style=\"font-family: 'Courier New'; font-size: 12px; fill: rgb(255, 255, 255); fill-opacity: 1; white-space: pre;\" transform=\"translate(522,96)\">2.5</text></g></g></g></g></g><g class=\"overplot\"/><path class=\"xlines-above crisp\" d=\"M0,0\" style=\"fill: none;\"/><path class=\"ylines-above crisp\" d=\"M0,0\" style=\"fill: none;\"/><g class=\"overlines-above\"/><g class=\"xaxislayer-above\"><g class=\"xtick\"><text text-anchor=\"start\" x=\"0\" y=\"282\" transform=\"translate(98,0) rotate(90,0,274.5)\" style=\"font-family: 'Courier New'; font-size: 15px; fill: rgb(36, 36, 36); fill-opacity: 1; white-space: pre; opacity: 1;\">AppLife Ltd</text></g><g class=\"xtick\"><text text-anchor=\"start\" x=\"0\" y=\"282\" transform=\"translate(134,0) rotate(90,0,274.5)\" style=\"font-family: 'Courier New'; font-size: 15px; fill: rgb(36, 36, 36); fill-opacity: 1; white-space: pre; opacity: 1;\">Bata Construction</text></g><g class=\"xtick\"><text text-anchor=\"start\" x=\"0\" y=\"282\" transform=\"translate(170,0) rotate(90,0,274.5)\" style=\"font-family: 'Courier New'; font-size: 15px; fill: rgb(36, 36, 36); fill-opacity: 1; white-space: pre; opacity: 1;\">Belprog Belprog</text></g><g class=\"xtick\"><text text-anchor=\"start\" x=\"0\" y=\"282\" transform=\"translate(206,0) rotate(90,0,274.5)\" style=\"font-family: 'Courier New'; font-size: 15px; fill: rgb(36, 36, 36); fill-opacity: 1; white-space: pre; opacity: 1;\">RESETgame</text></g><g class=\"xtick\"><text text-anchor=\"start\" x=\"0\" y=\"282\" transform=\"translate(242,0) rotate(90,0,274.5)\" style=\"font-family: 'Courier New'; font-size: 15px; fill: rgb(36, 36, 36); fill-opacity: 1; white-space: pre; opacity: 1;\">Danny Aijala</text></g><g class=\"xtick\"><text text-anchor=\"start\" x=\"0\" y=\"282\" transform=\"translate(278,0) rotate(90,0,274.5)\" style=\"font-family: 'Courier New'; font-size: 15px; fill: rgb(36, 36, 36); fill-opacity: 1; white-space: pre; opacity: 1;\">osnine</text></g><g class=\"xtick\"><text text-anchor=\"start\" x=\"0\" y=\"282\" transform=\"translate(314,0) rotate(90,0,274.5)\" style=\"font-family: 'Courier New'; font-size: 15px; fill: rgb(36, 36, 36); fill-opacity: 1; white-space: pre; opacity: 1;\">Yu Feng</text></g><g class=\"xtick\"><text text-anchor=\"start\" x=\"0\" y=\"282\" transform=\"translate(350,0) rotate(90,0,274.5)\" style=\"font-family: 'Courier New'; font-size: 15px; fill: rgb(36, 36, 36); fill-opacity: 1; white-space: pre; opacity: 1;\">Ilium Software, Inc.</text></g><g class=\"xtick\"><text text-anchor=\"start\" x=\"0\" y=\"282\" transform=\"translate(386,0) rotate(90,0,274.5)\" style=\"font-family: 'Courier New'; font-size: 15px; fill: rgb(36, 36, 36); fill-opacity: 1; white-space: pre; opacity: 1;\">Heiko Hambrock</text></g><g class=\"xtick\"><text text-anchor=\"start\" x=\"0\" y=\"282\" transform=\"translate(422,0) rotate(90,0,274.5)\" style=\"font-family: 'Courier New'; font-size: 15px; fill: rgb(36, 36, 36); fill-opacity: 1; white-space: pre; opacity: 1;\">Shengqiang Xia</text></g><g class=\"xtick\"><text text-anchor=\"start\" x=\"0\" y=\"282\" transform=\"translate(458,0) rotate(90,0,274.5)\" style=\"font-family: 'Courier New'; font-size: 15px; fill: rgb(36, 36, 36); fill-opacity: 1; white-space: pre; opacity: 1;\">Solus Games</text></g><g class=\"xtick\"><text text-anchor=\"start\" x=\"0\" y=\"282\" transform=\"translate(494,0) rotate(90,0,274.5)\" style=\"font-family: 'Courier New'; font-size: 15px; fill: rgb(36, 36, 36); fill-opacity: 1; white-space: pre; opacity: 1;\">Aleksejs Voloviks</text></g><g class=\"xtick\"><text text-anchor=\"start\" x=\"0\" y=\"282\" transform=\"translate(530,0) rotate(90,0,274.5)\" style=\"font-family: 'Courier New'; font-size: 15px; fill: rgb(36, 36, 36); fill-opacity: 1; white-space: pre; opacity: 1;\">Aesthetic Interactive</text></g><g class=\"xtick\"><text text-anchor=\"start\" x=\"0\" y=\"282\" transform=\"translate(566,0) rotate(90,0,274.5)\" style=\"font-family: 'Courier New'; font-size: 15px; fill: rgb(36, 36, 36); fill-opacity: 1; white-space: pre; opacity: 1;\">MindJolt</text></g><g class=\"xtick\"><text text-anchor=\"start\" x=\"0\" y=\"282\" transform=\"translate(602,0) rotate(90,0,274.5)\" style=\"font-family: 'Courier New'; font-size: 15px; fill: rgb(36, 36, 36); fill-opacity: 1; white-space: pre; opacity: 1;\">Steve Tranby</text></g></g><g class=\"yaxislayer-above\"><g class=\"ytick\"><text text-anchor=\"end\" x=\"79\" y=\"4.199999999999999\" transform=\"translate(0,266)\" style=\"font-family: 'Courier New'; font-size: 12px; fill: rgb(36, 36, 36); fill-opacity: 1; white-space: pre; opacity: 1;\">0</text></g><g class=\"ytick\"><text text-anchor=\"end\" x=\"79\" y=\"4.199999999999999\" style=\"font-family: 'Courier New'; font-size: 12px; fill: rgb(36, 36, 36); fill-opacity: 1; white-space: pre; opacity: 1;\" transform=\"translate(0,232.8)\">1</text></g><g class=\"ytick\"><text text-anchor=\"end\" x=\"79\" y=\"4.199999999999999\" style=\"font-family: 'Courier New'; font-size: 12px; fill: rgb(36, 36, 36); fill-opacity: 1; white-space: pre; opacity: 1;\" transform=\"translate(0,199.6)\">2</text></g><g class=\"ytick\"><text text-anchor=\"end\" x=\"79\" y=\"4.199999999999999\" style=\"font-family: 'Courier New'; font-size: 12px; fill: rgb(36, 36, 36); fill-opacity: 1; white-space: pre; opacity: 1;\" transform=\"translate(0,166.4)\">3</text></g><g class=\"ytick\"><text text-anchor=\"end\" x=\"79\" y=\"4.199999999999999\" style=\"font-family: 'Courier New'; font-size: 12px; fill: rgb(36, 36, 36); fill-opacity: 1; white-space: pre; opacity: 1;\" transform=\"translate(0,133.2)\">4</text></g><g class=\"ytick\"><text text-anchor=\"end\" x=\"79\" y=\"4.199999999999999\" style=\"font-family: 'Courier New'; font-size: 12px; fill: rgb(36, 36, 36); fill-opacity: 1; white-space: pre; opacity: 1;\" transform=\"translate(0,100)\">5</text></g></g><g class=\"overaxes-above\"/></g></g><g class=\"polarlayer\"/><g class=\"ternarylayer\"/><g class=\"geolayer\"/><g class=\"funnelarealayer\"/><g class=\"pielayer\"/><g class=\"iciclelayer\"/><g class=\"treemaplayer\"/><g class=\"sunburstlayer\"/><g class=\"glimages\"/><defs id=\"topdefs-22c6cf\"><g class=\"clips\"/></defs><g class=\"layer-above\"><g class=\"imagelayer\"/><g class=\"shapelayer\"/></g><g class=\"infolayer\"><g class=\"g-gtitle\"><text class=\"gtitle\" x=\"350\" y=\"50\" text-anchor=\"middle\" dy=\"0em\" style=\"font-family: 'Courier New'; font-size: 17px; fill: rgb(36, 36, 36); opacity: 1; font-weight: normal; white-space: pre;\">Average user ratings of the lowest rated 15 developers(over 500 reviews)</text></g><g class=\"g-xtitle\"><text class=\"xtitle\" x=\"350\" y=\"488.33125\" text-anchor=\"middle\" style=\"font-family: 'Courier New'; font-size: 14px; fill: rgb(36, 36, 36); opacity: 1; font-weight: normal; white-space: pre;\">Developer</text></g><g class=\"g-ytitle\"><text class=\"ytitle\" transform=\"rotate(-90,46.996875,183)\" x=\"46.996875\" y=\"183\" text-anchor=\"middle\" style=\"font-family: 'Courier New'; font-size: 14px; fill: rgb(36, 36, 36); opacity: 1; font-weight: normal; white-space: pre;\">Average user rating</text></g></g></svg>"
      ]
     },
     "metadata": {},
     "output_type": "display_data"
    }
   ],
   "source": [
    "fig = go.Figure(data=[\n",
    "    go.Bar(name='Primary', x =low_dev_ratings.index  ,y =low_dev_ratings['Average User Rating'], text=low_dev_ratings['Average User Rating'], marker_color='darkgreen')])\n",
    "fig.update_layout(hoverlabel=dict(font=dict(family='sans-serif', size=20)),barmode='relative', template='seaborn', title_text='Average user ratings of the lowest rated 15 developers(over 500 reviews)', font_family=\"Courier New\")\n",
    "fig.update_yaxes(title_text='Average user rating', range=[0,5])\n",
    "fig.update_xaxes(title_text='Developer',tickfont_size=15)\n",
    "fig.show(renderer=\"svg\")  "
   ]
  },
  {
   "cell_type": "markdown",
   "id": "db529bf9",
   "metadata": {},
   "source": [
    "### What are the most common words used in app descriptions?"
   ]
  },
  {
   "cell_type": "code",
   "execution_count": 54,
   "id": "9c09a3c6",
   "metadata": {},
   "outputs": [
    {
     "data": {
      "image/png": "[encoded data removed]",
      "text/plain": [
       "<Figure size 1080x576 with 1 Axes>"
      ]
     },
     "metadata": {
      "needs_background": "light"
     },
     "output_type": "display_data"
    }
   ],
   "source": [
    "f,ax= plt.subplots(figsize=(15,8))\n",
    "wordcloud = WordCloud(background_color='white',width=750, height=750).generate(' '.join(descriptions))\n",
    "plt.imshow(wordcloud)\n",
    "plt.axis('off')\n",
    "plt.title('Most common words in app descriptions')\n",
    "plt.show()"
   ]
  },
  {
   "cell_type": "markdown",
   "id": "7f857336",
   "metadata": {},
   "source": [
    "###  Change in Price, Size, and User rating count throughout the years."
   ]
  },
  {
   "cell_type": "code",
   "execution_count": 55,
   "id": "82f358f5",
   "metadata": {},
   "outputs": [
    {
     "data": {
      "image/png": "[encoded data removed]",
      "text/plain": [
       "<Figure size 1872x540 with 3 Axes>"
      ]
     },
     "metadata": {
      "needs_background": "light"
     },
     "output_type": "display_data"
    }
   ],
   "source": [
    "ord_price = games.groupby('Original Release Date')[['Price']].mean()\n",
    "ord_size = games.groupby('Original Release Date')[['Size']].mean()\n",
    "ord_urc = games.groupby('Original Release Date')[['User Rating Count']].mean()\n",
    "\n",
    "fig, ax = plt.subplots(1, 3, figsize=(26, 7.5))\n",
    "\n",
    "sns.lineplot(x='Original Release Date', y='Price', data=ord_price, color = 'darkred', ax=ax[0], marker='o', linewidth = 2)\n",
    "ax[0].set_title('Change in app price though 2008-2019', fontsize = 15)\n",
    "ax[0].tick_params(labelsize=12.6)\n",
    "ax[0].set_xlabel('Year',fontsize = 18)\n",
    "ax[0].set_ylabel('Price',fontsize = 18)\n",
    "\n",
    "sns.lineplot(x='Original Release Date', y='Size', data=ord_size, color = 'darkblue', ax=ax[1], marker='o', linewidth = 2)\n",
    "ax[1].set_title('Change in app size though 2008-2019', fontsize = 15)\n",
    "ax[1].tick_params(labelsize=12.6)\n",
    "ax[1].set_xlabel('Year',fontsize = 18)\n",
    "ax[1].set_ylabel('Size',fontsize = 18)\n",
    "\n",
    "sns.lineplot(x='Original Release Date', y='User Rating Count', data=ord_urc, color = 'darkgreen', ax=ax[2], marker='o', linewidth = 2)\n",
    "ax[2].set_title('Change in user ratings though 2008-2019', fontsize = 15)\n",
    "ax[2].tick_params(labelsize=12.6)\n",
    "ax[2].set_xlabel('Year',fontsize = 18)\n",
    "ax[2].set_ylabel('User Rating Count',fontsize = 18)\n",
    "\n",
    "plt.show()"
   ]
  },
  {
   "cell_type": "markdown",
   "id": "f49c36a2",
   "metadata": {},
   "source": [
    "### Top 5 apps with the perfect rating and highest rating count."
   ]
  },
  {
   "cell_type": "code",
   "execution_count": 56,
   "id": "1be76deb",
   "metadata": {},
   "outputs": [
    {
     "data": {
      "text/html": [
       "<div>\n",
       "<style scoped>\n",
       "    .dataframe tbody tr th:only-of-type {\n",
       "        vertical-align: middle;\n",
       "    }\n",
       "\n",
       "    .dataframe tbody tr th {\n",
       "        vertical-align: top;\n",
       "    }\n",
       "\n",
       "    .dataframe thead th {\n",
       "        text-align: right;\n",
       "    }\n",
       "</style>\n",
       "<table border=\"1\" class=\"dataframe\">\n",
       "  <thead>\n",
       "    <tr style=\"text-align: right;\">\n",
       "      <th></th>\n",
       "      <th>Average User Rating</th>\n",
       "      <th>User Rating Count</th>\n",
       "    </tr>\n",
       "    <tr>\n",
       "      <th>Name</th>\n",
       "      <th></th>\n",
       "      <th></th>\n",
       "    </tr>\n",
       "  </thead>\n",
       "  <tbody>\n",
       "    <tr>\n",
       "      <th>Cash, Inc. Fame &amp; Fortune Game</th>\n",
       "      <td>5.0</td>\n",
       "      <td>374772.0</td>\n",
       "    </tr>\n",
       "    <tr>\n",
       "      <th>Egg, Inc.</th>\n",
       "      <td>5.0</td>\n",
       "      <td>174591.0</td>\n",
       "    </tr>\n",
       "    <tr>\n",
       "      <th>AFK Arena</th>\n",
       "      <td>5.0</td>\n",
       "      <td>156766.0</td>\n",
       "    </tr>\n",
       "    <tr>\n",
       "      <th>South Park: Phone Destroyer\\u2122</th>\n",
       "      <td>5.0</td>\n",
       "      <td>156044.0</td>\n",
       "    </tr>\n",
       "    <tr>\n",
       "      <th>From Zero to Hero: Cityman</th>\n",
       "      <td>5.0</td>\n",
       "      <td>146729.0</td>\n",
       "    </tr>\n",
       "  </tbody>\n",
       "</table>\n",
       "</div>"
      ],
      "text/plain": [
       "                                   Average User Rating  User Rating Count\n",
       "Name                                                                     \n",
       "Cash, Inc. Fame & Fortune Game                     5.0           374772.0\n",
       "Egg, Inc.                                          5.0           174591.0\n",
       "AFK Arena                                          5.0           156766.0\n",
       "South Park: Phone Destroyer\\u2122                  5.0           156044.0\n",
       "From Zero to Hero: Cityman                         5.0           146729.0"
      ]
     },
     "execution_count": 56,
     "metadata": {},
     "output_type": "execute_result"
    }
   ],
   "source": [
    "t5a = games.loc[(games['User Rating Count'] >= 100000)]\n",
    "t5a2 = t5a.loc[(t5a['Average User Rating'] == 5)]\n",
    "t5a3 = t5a2.groupby(['Name']).agg({\"Average User Rating\":\"sum\", \"User Rating Count\":\"sum\"}).sort_values(by = 'User Rating Count', ascending = False).head(5)\n",
    "t5a3"
   ]
  },
  {
   "cell_type": "markdown",
   "id": "b3779646",
   "metadata": {},
   "source": [
    "## 7. Model preparation"
   ]
  },
  {
   "cell_type": "markdown",
   "id": "c7d0887e",
   "metadata": {},
   "source": [
    "- Encode data\n",
    "- Split the data\n",
    "- Scale data"
   ]
  },
  {
   "cell_type": "code",
   "execution_count": 57,
   "id": "4f1151c5",
   "metadata": {},
   "outputs": [],
   "source": [
    "df = games.copy()\n",
    "df['Average User Rating'] = df['Average User Rating'].astype(int)"
   ]
  },
  {
   "cell_type": "markdown",
   "id": "18a7c71c",
   "metadata": {},
   "source": [
    "*Encode the data*"
   ]
  },
  {
   "cell_type": "code",
   "execution_count": 58,
   "id": "5653c517",
   "metadata": {},
   "outputs": [
    {
     "data": {
      "text/html": [
       "<div>\n",
       "<style scoped>\n",
       "    .dataframe tbody tr th:only-of-type {\n",
       "        vertical-align: middle;\n",
       "    }\n",
       "\n",
       "    .dataframe tbody tr th {\n",
       "        vertical-align: top;\n",
       "    }\n",
       "\n",
       "    .dataframe thead th {\n",
       "        text-align: right;\n",
       "    }\n",
       "</style>\n",
       "<table border=\"1\" class=\"dataframe\">\n",
       "  <thead>\n",
       "    <tr style=\"text-align: right;\">\n",
       "      <th></th>\n",
       "      <th>User Rating Count</th>\n",
       "      <th>Price</th>\n",
       "      <th>Size</th>\n",
       "      <th>Developer</th>\n",
       "      <th>Languages</th>\n",
       "      <th>Primary Genre</th>\n",
       "      <th>Secondary Genre</th>\n",
       "      <th>Original Release Date</th>\n",
       "      <th>Current Version Release Date</th>\n",
       "      <th>x0_0</th>\n",
       "      <th>x0_1</th>\n",
       "      <th>x1_0</th>\n",
       "      <th>x1_1</th>\n",
       "      <th>x2_4</th>\n",
       "      <th>x2_9</th>\n",
       "      <th>x2_12</th>\n",
       "      <th>x2_17</th>\n",
       "    </tr>\n",
       "  </thead>\n",
       "  <tbody>\n",
       "    <tr>\n",
       "      <th>0</th>\n",
       "      <td>1192</td>\n",
       "      <td>3</td>\n",
       "      <td>1210</td>\n",
       "      <td>4801</td>\n",
       "      <td>16</td>\n",
       "      <td>6</td>\n",
       "      <td>37</td>\n",
       "      <td>0</td>\n",
       "      <td>9</td>\n",
       "      <td>1.0</td>\n",
       "      <td>0.0</td>\n",
       "      <td>1.0</td>\n",
       "      <td>0.0</td>\n",
       "      <td>1.0</td>\n",
       "      <td>0.0</td>\n",
       "      <td>0.0</td>\n",
       "      <td>0.0</td>\n",
       "    </tr>\n",
       "    <tr>\n",
       "      <th>1</th>\n",
       "      <td>276</td>\n",
       "      <td>2</td>\n",
       "      <td>891</td>\n",
       "      <td>3992</td>\n",
       "      <td>0</td>\n",
       "      <td>6</td>\n",
       "      <td>37</td>\n",
       "      <td>0</td>\n",
       "      <td>10</td>\n",
       "      <td>1.0</td>\n",
       "      <td>0.0</td>\n",
       "      <td>1.0</td>\n",
       "      <td>0.0</td>\n",
       "      <td>1.0</td>\n",
       "      <td>0.0</td>\n",
       "      <td>0.0</td>\n",
       "      <td>0.0</td>\n",
       "    </tr>\n",
       "    <tr>\n",
       "      <th>2</th>\n",
       "      <td>1411</td>\n",
       "      <td>0</td>\n",
       "      <td>20</td>\n",
       "      <td>905</td>\n",
       "      <td>0</td>\n",
       "      <td>6</td>\n",
       "      <td>4</td>\n",
       "      <td>0</td>\n",
       "      <td>9</td>\n",
       "      <td>1.0</td>\n",
       "      <td>0.0</td>\n",
       "      <td>0.0</td>\n",
       "      <td>1.0</td>\n",
       "      <td>1.0</td>\n",
       "      <td>0.0</td>\n",
       "      <td>0.0</td>\n",
       "      <td>0.0</td>\n",
       "    </tr>\n",
       "    <tr>\n",
       "      <th>3</th>\n",
       "      <td>1768</td>\n",
       "      <td>0</td>\n",
       "      <td>1723</td>\n",
       "      <td>4801</td>\n",
       "      <td>16</td>\n",
       "      <td>6</td>\n",
       "      <td>37</td>\n",
       "      <td>0</td>\n",
       "      <td>9</td>\n",
       "      <td>1.0</td>\n",
       "      <td>0.0</td>\n",
       "      <td>0.0</td>\n",
       "      <td>1.0</td>\n",
       "      <td>1.0</td>\n",
       "      <td>0.0</td>\n",
       "      <td>0.0</td>\n",
       "      <td>0.0</td>\n",
       "    </tr>\n",
       "    <tr>\n",
       "      <th>4</th>\n",
       "      <td>23</td>\n",
       "      <td>3</td>\n",
       "      <td>2785</td>\n",
       "      <td>6067</td>\n",
       "      <td>14</td>\n",
       "      <td>6</td>\n",
       "      <td>37</td>\n",
       "      <td>0</td>\n",
       "      <td>10</td>\n",
       "      <td>1.0</td>\n",
       "      <td>0.0</td>\n",
       "      <td>1.0</td>\n",
       "      <td>0.0</td>\n",
       "      <td>1.0</td>\n",
       "      <td>0.0</td>\n",
       "      <td>0.0</td>\n",
       "      <td>0.0</td>\n",
       "    </tr>\n",
       "  </tbody>\n",
       "</table>\n",
       "</div>"
      ],
      "text/plain": [
       "   User Rating Count  Price  Size  Developer  Languages  Primary Genre  \\\n",
       "0               1192      3  1210       4801         16              6   \n",
       "1                276      2   891       3992          0              6   \n",
       "2               1411      0    20        905          0              6   \n",
       "3               1768      0  1723       4801         16              6   \n",
       "4                 23      3  2785       6067         14              6   \n",
       "\n",
       "   Secondary Genre  Original Release Date  Current Version Release Date  x0_0  \\\n",
       "0               37                      0                             9   1.0   \n",
       "1               37                      0                            10   1.0   \n",
       "2                4                      0                             9   1.0   \n",
       "3               37                      0                             9   1.0   \n",
       "4               37                      0                            10   1.0   \n",
       "\n",
       "   x0_1  x1_0  x1_1  x2_4  x2_9  x2_12  x2_17  \n",
       "0   0.0   1.0   0.0   1.0   0.0    0.0    0.0  \n",
       "1   0.0   1.0   0.0   1.0   0.0    0.0    0.0  \n",
       "2   0.0   0.0   1.0   1.0   0.0    0.0    0.0  \n",
       "3   0.0   0.0   1.0   1.0   0.0    0.0    0.0  \n",
       "4   0.0   1.0   0.0   1.0   0.0    0.0    0.0  "
      ]
     },
     "execution_count": 58,
     "metadata": {},
     "output_type": "execute_result"
    }
   ],
   "source": [
    "label_encoded=df[['User Rating Count', 'Price',  'Size', 'Developer', 'Languages','Primary Genre',\n",
    "                     'Secondary Genre', 'Original Release Date', 'Current Version Release Date']]\n",
    "                       \n",
    "onehot_coded = df[['In-app Purchases', 'FreeToPlay', 'Age Rating']]\n",
    "\n",
    "#onehotencoded\n",
    "enc = OneHotEncoder(handle_unknown='ignore')\n",
    "df_oh = pd.DataFrame(enc.fit_transform(onehot_coded).toarray(), columns = enc.get_feature_names()) #df_oh.columns\n",
    "\n",
    "\n",
    "#labelencoder\n",
    "df_le = label_encoded.apply(LabelEncoder().fit_transform)\n",
    "dataframe = df_le.join(df_oh)\n",
    "dataframe.head()"
   ]
  },
  {
   "cell_type": "markdown",
   "id": "0e1064da",
   "metadata": {},
   "source": [
    "*Split data*"
   ]
  },
  {
   "cell_type": "code",
   "execution_count": 59,
   "id": "dd12e75a",
   "metadata": {},
   "outputs": [],
   "source": [
    "Y = pd.DataFrame(df['Average User Rating'])\n",
    "X = dataframe"
   ]
  },
  {
   "cell_type": "code",
   "execution_count": 60,
   "id": "2d764e00",
   "metadata": {},
   "outputs": [],
   "source": [
    "X_train, X_test, Y_train, Y_test = train_test_split(X, Y, test_size=0.2, random_state=1)\n",
    "\n",
    "X_train, X_val, Y_train, Y_val = train_test_split(X_train, Y_train, test_size=0.25, random_state=1) "
   ]
  },
  {
   "cell_type": "markdown",
   "id": "e976d48f",
   "metadata": {},
   "source": [
    "*Scale data*"
   ]
  },
  {
   "cell_type": "code",
   "execution_count": 61,
   "id": "88e66c5a",
   "metadata": {},
   "outputs": [],
   "source": [
    "scaler = MinMaxScaler()\n",
    "\n",
    "X_train = scaler.fit_transform(X_train)\n",
    "X_val = scaler.transform(X_val)\n",
    "X_test = scaler.transform(X_test)"
   ]
  },
  {
   "cell_type": "markdown",
   "id": "6a54fb70",
   "metadata": {},
   "source": [
    "##### Look at the individual variables"
   ]
  },
  {
   "cell_type": "code",
   "execution_count": 62,
   "id": "309976ec",
   "metadata": {},
   "outputs": [
    {
     "data": {
      "text/html": [
       "<table class=\"simpletable\">\n",
       "<caption>OLS Regression Results</caption>\n",
       "<tr>\n",
       "  <th>Dep. Variable:</th>            <td>y</td>        <th>  R-squared:         </th> <td>   0.104</td> \n",
       "</tr>\n",
       "<tr>\n",
       "  <th>Model:</th>                   <td>OLS</td>       <th>  Adj. R-squared:    </th> <td>   0.103</td> \n",
       "</tr>\n",
       "<tr>\n",
       "  <th>Method:</th>             <td>Least Squares</td>  <th>  F-statistic:       </th> <td>   140.4</td> \n",
       "</tr>\n",
       "<tr>\n",
       "  <th>Date:</th>             <td>Thu, 04 Nov 2021</td> <th>  Prob (F-statistic):</th>  <td>  0.00</td>  \n",
       "</tr>\n",
       "<tr>\n",
       "  <th>Time:</th>                 <td>22:04:10</td>     <th>  Log-Likelihood:    </th> <td> -12923.</td> \n",
       "</tr>\n",
       "<tr>\n",
       "  <th>No. Observations:</th>      <td> 17007</td>      <th>  AIC:               </th> <td>2.588e+04</td>\n",
       "</tr>\n",
       "<tr>\n",
       "  <th>Df Residuals:</th>          <td> 16992</td>      <th>  BIC:               </th> <td>2.599e+04</td>\n",
       "</tr>\n",
       "<tr>\n",
       "  <th>Df Model:</th>              <td>    14</td>      <th>                     </th>     <td> </td>    \n",
       "</tr>\n",
       "<tr>\n",
       "  <th>Covariance Type:</th>      <td>nonrobust</td>    <th>                     </th>     <td> </td>    \n",
       "</tr>\n",
       "</table>\n",
       "<table class=\"simpletable\">\n",
       "<tr>\n",
       "    <td></td>       <th>coef</th>     <th>std err</th>      <th>t</th>      <th>P>|t|</th>  <th>[0.025</th>    <th>0.975]</th>  \n",
       "</tr>\n",
       "<tr>\n",
       "  <th>const</th> <td>    1.6496</td> <td>    0.012</td> <td>  132.363</td> <td> 0.000</td> <td>    1.625</td> <td>    1.674</td>\n",
       "</tr>\n",
       "<tr>\n",
       "  <th>x1</th>    <td>    0.0002</td> <td>  1.4e-05</td> <td>   14.089</td> <td> 0.000</td> <td>    0.000</td> <td>    0.000</td>\n",
       "</tr>\n",
       "<tr>\n",
       "  <th>x2</th>    <td>    0.0036</td> <td>    0.003</td> <td>    1.356</td> <td> 0.175</td> <td>   -0.002</td> <td>    0.009</td>\n",
       "</tr>\n",
       "<tr>\n",
       "  <th>x3</th>    <td>-1.686e-05</td> <td> 1.54e-06</td> <td>  -10.976</td> <td> 0.000</td> <td>-1.99e-05</td> <td>-1.39e-05</td>\n",
       "</tr>\n",
       "<tr>\n",
       "  <th>x4</th>    <td> 7.427e-07</td> <td> 1.59e-06</td> <td>    0.466</td> <td> 0.641</td> <td>-2.38e-06</td> <td> 3.87e-06</td>\n",
       "</tr>\n",
       "<tr>\n",
       "  <th>x5</th>    <td>   -0.0012</td> <td>    0.001</td> <td>   -1.834</td> <td> 0.067</td> <td>   -0.003</td> <td> 8.55e-05</td>\n",
       "</tr>\n",
       "<tr>\n",
       "  <th>x6</th>    <td>   -0.0077</td> <td>    0.003</td> <td>   -2.848</td> <td> 0.004</td> <td>   -0.013</td> <td>   -0.002</td>\n",
       "</tr>\n",
       "<tr>\n",
       "  <th>x7</th>    <td>   -0.0003</td> <td>    0.000</td> <td>   -1.165</td> <td> 0.244</td> <td>   -0.001</td> <td>    0.000</td>\n",
       "</tr>\n",
       "<tr>\n",
       "  <th>x8</th>    <td>    0.0805</td> <td>    0.002</td> <td>   33.369</td> <td> 0.000</td> <td>    0.076</td> <td>    0.085</td>\n",
       "</tr>\n",
       "<tr>\n",
       "  <th>x9</th>    <td>    0.0042</td> <td>    0.003</td> <td>    1.429</td> <td> 0.153</td> <td>   -0.002</td> <td>    0.010</td>\n",
       "</tr>\n",
       "<tr>\n",
       "  <th>x10</th>   <td>    0.8360</td> <td>    0.010</td> <td>   86.850</td> <td> 0.000</td> <td>    0.817</td> <td>    0.855</td>\n",
       "</tr>\n",
       "<tr>\n",
       "  <th>x11</th>   <td>    0.8136</td> <td>    0.010</td> <td>   82.519</td> <td> 0.000</td> <td>    0.794</td> <td>    0.833</td>\n",
       "</tr>\n",
       "<tr>\n",
       "  <th>x12</th>   <td>    0.8394</td> <td>    0.010</td> <td>   85.578</td> <td> 0.000</td> <td>    0.820</td> <td>    0.859</td>\n",
       "</tr>\n",
       "<tr>\n",
       "  <th>x13</th>   <td>    0.8102</td> <td>    0.010</td> <td>   82.036</td> <td> 0.000</td> <td>    0.791</td> <td>    0.830</td>\n",
       "</tr>\n",
       "<tr>\n",
       "  <th>x14</th>   <td>    0.4754</td> <td>    0.008</td> <td>   63.006</td> <td> 0.000</td> <td>    0.461</td> <td>    0.490</td>\n",
       "</tr>\n",
       "<tr>\n",
       "  <th>x15</th>   <td>    0.4113</td> <td>    0.010</td> <td>   40.743</td> <td> 0.000</td> <td>    0.392</td> <td>    0.431</td>\n",
       "</tr>\n",
       "<tr>\n",
       "  <th>x16</th>   <td>    0.3902</td> <td>    0.011</td> <td>   35.645</td> <td> 0.000</td> <td>    0.369</td> <td>    0.412</td>\n",
       "</tr>\n",
       "<tr>\n",
       "  <th>x17</th>   <td>    0.3727</td> <td>    0.017</td> <td>   22.499</td> <td> 0.000</td> <td>    0.340</td> <td>    0.405</td>\n",
       "</tr>\n",
       "</table>\n",
       "<table class=\"simpletable\">\n",
       "<tr>\n",
       "  <th>Omnibus:</th>       <td>8563.227</td> <th>  Durbin-Watson:     </th> <td>   1.891</td> \n",
       "</tr>\n",
       "<tr>\n",
       "  <th>Prob(Omnibus):</th>  <td> 0.000</td>  <th>  Jarque-Bera (JB):  </th> <td>57341.447</td>\n",
       "</tr>\n",
       "<tr>\n",
       "  <th>Skew:</th>           <td>-2.369</td>  <th>  Prob(JB):          </th> <td>    0.00</td> \n",
       "</tr>\n",
       "<tr>\n",
       "  <th>Kurtosis:</th>       <td>10.646</td>  <th>  Cond. No.          </th> <td>2.40e+19</td> \n",
       "</tr>\n",
       "</table><br/><br/>Warnings:<br/>[1] Standard Errors assume that the covariance matrix of the errors is correctly specified.<br/>[2] The smallest eigenvalue is 1.44e-27. This might indicate that there are<br/>strong multicollinearity problems or that the design matrix is singular."
      ],
      "text/plain": [
       "<class 'statsmodels.iolib.summary.Summary'>\n",
       "\"\"\"\n",
       "                            OLS Regression Results                            \n",
       "==============================================================================\n",
       "Dep. Variable:                      y   R-squared:                       0.104\n",
       "Model:                            OLS   Adj. R-squared:                  0.103\n",
       "Method:                 Least Squares   F-statistic:                     140.4\n",
       "Date:                Thu, 04 Nov 2021   Prob (F-statistic):               0.00\n",
       "Time:                        22:04:10   Log-Likelihood:                -12923.\n",
       "No. Observations:               17007   AIC:                         2.588e+04\n",
       "Df Residuals:                   16992   BIC:                         2.599e+04\n",
       "Df Model:                          14                                         \n",
       "Covariance Type:            nonrobust                                         \n",
       "==============================================================================\n",
       "                 coef    std err          t      P>|t|      [0.025      0.975]\n",
       "------------------------------------------------------------------------------\n",
       "const          1.6496      0.012    132.363      0.000       1.625       1.674\n",
       "x1             0.0002    1.4e-05     14.089      0.000       0.000       0.000\n",
       "x2             0.0036      0.003      1.356      0.175      -0.002       0.009\n",
       "x3         -1.686e-05   1.54e-06    -10.976      0.000   -1.99e-05   -1.39e-05\n",
       "x4          7.427e-07   1.59e-06      0.466      0.641   -2.38e-06    3.87e-06\n",
       "x5            -0.0012      0.001     -1.834      0.067      -0.003    8.55e-05\n",
       "x6            -0.0077      0.003     -2.848      0.004      -0.013      -0.002\n",
       "x7            -0.0003      0.000     -1.165      0.244      -0.001       0.000\n",
       "x8             0.0805      0.002     33.369      0.000       0.076       0.085\n",
       "x9             0.0042      0.003      1.429      0.153      -0.002       0.010\n",
       "x10            0.8360      0.010     86.850      0.000       0.817       0.855\n",
       "x11            0.8136      0.010     82.519      0.000       0.794       0.833\n",
       "x12            0.8394      0.010     85.578      0.000       0.820       0.859\n",
       "x13            0.8102      0.010     82.036      0.000       0.791       0.830\n",
       "x14            0.4754      0.008     63.006      0.000       0.461       0.490\n",
       "x15            0.4113      0.010     40.743      0.000       0.392       0.431\n",
       "x16            0.3902      0.011     35.645      0.000       0.369       0.412\n",
       "x17            0.3727      0.017     22.499      0.000       0.340       0.405\n",
       "==============================================================================\n",
       "Omnibus:                     8563.227   Durbin-Watson:                   1.891\n",
       "Prob(Omnibus):                  0.000   Jarque-Bera (JB):            57341.447\n",
       "Skew:                          -2.369   Prob(JB):                         0.00\n",
       "Kurtosis:                      10.646   Cond. No.                     2.40e+19\n",
       "==============================================================================\n",
       "\n",
       "Warnings:\n",
       "[1] Standard Errors assume that the covariance matrix of the errors is correctly specified.\n",
       "[2] The smallest eigenvalue is 1.44e-27. This might indicate that there are\n",
       "strong multicollinearity problems or that the design matrix is singular.\n",
       "\"\"\""
      ]
     },
     "execution_count": 62,
     "metadata": {},
     "output_type": "execute_result"
    }
   ],
   "source": [
    "xstats = dataframe.values\n",
    "ystats = games.loc[:,'Average User Rating'].values\n",
    "\n",
    "x1 = sm.add_constant(xstats)\n",
    "results = sm.OLS(ystats,x1).fit()\n",
    "results.summary()"
   ]
  },
  {
   "cell_type": "code",
   "execution_count": 63,
   "id": "51656e98",
   "metadata": {},
   "outputs": [
    {
     "data": {
      "text/html": [
       "\n",
       "    <style>\n",
       "    table.eli5-weights tr:hover {\n",
       "        filter: brightness(85%);\n",
       "    }\n",
       "</style>\n",
       "\n",
       "\n",
       "\n",
       "    \n",
       "\n",
       "    \n",
       "\n",
       "    \n",
       "\n",
       "    \n",
       "\n",
       "    \n",
       "\n",
       "    \n",
       "\n",
       "\n",
       "    \n",
       "\n",
       "    \n",
       "\n",
       "    \n",
       "\n",
       "    \n",
       "\n",
       "    \n",
       "\n",
       "    \n",
       "\n",
       "\n",
       "    \n",
       "\n",
       "    \n",
       "\n",
       "    \n",
       "\n",
       "    \n",
       "\n",
       "    \n",
       "        <table class=\"eli5-weights eli5-feature-importances\" style=\"border-collapse: collapse; border: none; margin-top: 0em; table-layout: auto;\">\n",
       "    <thead>\n",
       "    <tr style=\"border: none;\">\n",
       "        <th style=\"padding: 0 1em 0 0.5em; text-align: right; border: none;\">Weight</th>\n",
       "        <th style=\"padding: 0 0.5em 0 0.5em; text-align: left; border: none;\">Feature</th>\n",
       "    </tr>\n",
       "    </thead>\n",
       "    <tbody>\n",
       "    \n",
       "        <tr style=\"background-color: hsl(120, 100.00%, 80.00%); border: none;\">\n",
       "            <td style=\"padding: 0 1em 0 0.5em; text-align: right; border: none;\">\n",
       "                0.0383\n",
       "                \n",
       "                    &plusmn; 0.0062\n",
       "                \n",
       "            </td>\n",
       "            <td style=\"padding: 0 0.5em 0 0.5em; text-align: left; border: none;\">\n",
       "                User Rating Count\n",
       "            </td>\n",
       "        </tr>\n",
       "    \n",
       "        <tr style=\"background-color: hsl(120, 100.00%, 91.18%); border: none;\">\n",
       "            <td style=\"padding: 0 1em 0 0.5em; text-align: right; border: none;\">\n",
       "                0.0119\n",
       "                \n",
       "                    &plusmn; 0.0052\n",
       "                \n",
       "            </td>\n",
       "            <td style=\"padding: 0 0.5em 0 0.5em; text-align: left; border: none;\">\n",
       "                Original Release Date\n",
       "            </td>\n",
       "        </tr>\n",
       "    \n",
       "        <tr style=\"background-color: hsl(120, 100.00%, 96.19%); border: none;\">\n",
       "            <td style=\"padding: 0 1em 0 0.5em; text-align: right; border: none;\">\n",
       "                0.0036\n",
       "                \n",
       "                    &plusmn; 0.0014\n",
       "                \n",
       "            </td>\n",
       "            <td style=\"padding: 0 0.5em 0 0.5em; text-align: left; border: none;\">\n",
       "                Current Version Release Date\n",
       "            </td>\n",
       "        </tr>\n",
       "    \n",
       "        <tr style=\"background-color: hsl(120, 100.00%, 96.54%); border: none;\">\n",
       "            <td style=\"padding: 0 1em 0 0.5em; text-align: right; border: none;\">\n",
       "                0.0031\n",
       "                \n",
       "                    &plusmn; 0.0040\n",
       "                \n",
       "            </td>\n",
       "            <td style=\"padding: 0 0.5em 0 0.5em; text-align: left; border: none;\">\n",
       "                Developer\n",
       "            </td>\n",
       "        </tr>\n",
       "    \n",
       "        <tr style=\"background-color: hsl(120, 100.00%, 96.73%); border: none;\">\n",
       "            <td style=\"padding: 0 1em 0 0.5em; text-align: right; border: none;\">\n",
       "                0.0029\n",
       "                \n",
       "                    &plusmn; 0.0025\n",
       "                \n",
       "            </td>\n",
       "            <td style=\"padding: 0 0.5em 0 0.5em; text-align: left; border: none;\">\n",
       "                Size\n",
       "            </td>\n",
       "        </tr>\n",
       "    \n",
       "        <tr style=\"background-color: hsl(120, 100.00%, 98.38%); border: none;\">\n",
       "            <td style=\"padding: 0 1em 0 0.5em; text-align: right; border: none;\">\n",
       "                0.0011\n",
       "                \n",
       "                    &plusmn; 0.0009\n",
       "                \n",
       "            </td>\n",
       "            <td style=\"padding: 0 0.5em 0 0.5em; text-align: left; border: none;\">\n",
       "                Price\n",
       "            </td>\n",
       "        </tr>\n",
       "    \n",
       "        <tr style=\"background-color: hsl(120, 100.00%, 98.38%); border: none;\">\n",
       "            <td style=\"padding: 0 1em 0 0.5em; text-align: right; border: none;\">\n",
       "                0.0011\n",
       "                \n",
       "                    &plusmn; 0.0040\n",
       "                \n",
       "            </td>\n",
       "            <td style=\"padding: 0 0.5em 0 0.5em; text-align: left; border: none;\">\n",
       "                x2_4\n",
       "            </td>\n",
       "        </tr>\n",
       "    \n",
       "        <tr style=\"background-color: hsl(120, 100.00%, 98.85%); border: none;\">\n",
       "            <td style=\"padding: 0 1em 0 0.5em; text-align: right; border: none;\">\n",
       "                0.0006\n",
       "                \n",
       "                    &plusmn; 0.0004\n",
       "                \n",
       "            </td>\n",
       "            <td style=\"padding: 0 0.5em 0 0.5em; text-align: left; border: none;\">\n",
       "                x2_17\n",
       "            </td>\n",
       "        </tr>\n",
       "    \n",
       "        <tr style=\"background-color: hsl(120, 100.00%, 99.25%); border: none;\">\n",
       "            <td style=\"padding: 0 1em 0 0.5em; text-align: right; border: none;\">\n",
       "                0.0004\n",
       "                \n",
       "                    &plusmn; 0.0006\n",
       "                \n",
       "            </td>\n",
       "            <td style=\"padding: 0 0.5em 0 0.5em; text-align: left; border: none;\">\n",
       "                x2_12\n",
       "            </td>\n",
       "        </tr>\n",
       "    \n",
       "        <tr style=\"background-color: hsl(120, 100.00%, 99.65%); border: none;\">\n",
       "            <td style=\"padding: 0 1em 0 0.5em; text-align: right; border: none;\">\n",
       "                0.0001\n",
       "                \n",
       "                    &plusmn; 0.0020\n",
       "                \n",
       "            </td>\n",
       "            <td style=\"padding: 0 0.5em 0 0.5em; text-align: left; border: none;\">\n",
       "                Languages\n",
       "            </td>\n",
       "        </tr>\n",
       "    \n",
       "        <tr style=\"background-color: hsl(120, 100.00%, 100.00%); border: none;\">\n",
       "            <td style=\"padding: 0 1em 0 0.5em; text-align: right; border: none;\">\n",
       "                0.0000\n",
       "                \n",
       "                    &plusmn; 0.0019\n",
       "                \n",
       "            </td>\n",
       "            <td style=\"padding: 0 0.5em 0 0.5em; text-align: left; border: none;\">\n",
       "                Secondary Genre\n",
       "            </td>\n",
       "        </tr>\n",
       "    \n",
       "        <tr style=\"background-color: hsl(0, 100.00%, 99.43%); border: none;\">\n",
       "            <td style=\"padding: 0 1em 0 0.5em; text-align: right; border: none;\">\n",
       "                -0.0002\n",
       "                \n",
       "                    &plusmn; 0.0007\n",
       "                \n",
       "            </td>\n",
       "            <td style=\"padding: 0 0.5em 0 0.5em; text-align: left; border: none;\">\n",
       "                x0_0\n",
       "            </td>\n",
       "        </tr>\n",
       "    \n",
       "        <tr style=\"background-color: hsl(0, 100.00%, 99.25%); border: none;\">\n",
       "            <td style=\"padding: 0 1em 0 0.5em; text-align: right; border: none;\">\n",
       "                -0.0004\n",
       "                \n",
       "                    &plusmn; 0.0006\n",
       "                \n",
       "            </td>\n",
       "            <td style=\"padding: 0 0.5em 0 0.5em; text-align: left; border: none;\">\n",
       "                Primary Genre\n",
       "            </td>\n",
       "        </tr>\n",
       "    \n",
       "        <tr style=\"background-color: hsl(0, 100.00%, 98.92%); border: none;\">\n",
       "            <td style=\"padding: 0 1em 0 0.5em; text-align: right; border: none;\">\n",
       "                -0.0006\n",
       "                \n",
       "                    &plusmn; 0.0004\n",
       "                \n",
       "            </td>\n",
       "            <td style=\"padding: 0 0.5em 0 0.5em; text-align: left; border: none;\">\n",
       "                x2_9\n",
       "            </td>\n",
       "        </tr>\n",
       "    \n",
       "        <tr style=\"background-color: hsl(0, 100.00%, 98.78%); border: none;\">\n",
       "            <td style=\"padding: 0 1em 0 0.5em; text-align: right; border: none;\">\n",
       "                -0.0007\n",
       "                \n",
       "                    &plusmn; 0.0015\n",
       "                \n",
       "            </td>\n",
       "            <td style=\"padding: 0 0.5em 0 0.5em; text-align: left; border: none;\">\n",
       "                x1_1\n",
       "            </td>\n",
       "        </tr>\n",
       "    \n",
       "        <tr style=\"background-color: hsl(0, 100.00%, 98.51%); border: none;\">\n",
       "            <td style=\"padding: 0 1em 0 0.5em; text-align: right; border: none;\">\n",
       "                -0.0009\n",
       "                \n",
       "                    &plusmn; 0.0015\n",
       "                \n",
       "            </td>\n",
       "            <td style=\"padding: 0 0.5em 0 0.5em; text-align: left; border: none;\">\n",
       "                x1_0\n",
       "            </td>\n",
       "        </tr>\n",
       "    \n",
       "        <tr style=\"background-color: hsl(0, 100.00%, 97.52%); border: none;\">\n",
       "            <td style=\"padding: 0 1em 0 0.5em; text-align: right; border: none;\">\n",
       "                -0.0019\n",
       "                \n",
       "                    &plusmn; 0.0033\n",
       "                \n",
       "            </td>\n",
       "            <td style=\"padding: 0 0.5em 0 0.5em; text-align: left; border: none;\">\n",
       "                x0_1\n",
       "            </td>\n",
       "        </tr>\n",
       "    \n",
       "    \n",
       "    </tbody>\n",
       "</table>\n",
       "    \n",
       "\n",
       "    \n",
       "\n",
       "\n",
       "    \n",
       "\n",
       "    \n",
       "\n",
       "    \n",
       "\n",
       "    \n",
       "\n",
       "    \n",
       "\n",
       "    \n",
       "\n",
       "\n",
       "\n"
      ],
      "text/plain": [
       "<IPython.core.display.HTML object>"
      ]
     },
     "execution_count": 63,
     "metadata": {},
     "output_type": "execute_result"
    }
   ],
   "source": [
    "rfc_model = RandomForestClassifier(random_state=0).fit(X_train, Y_train)\n",
    "perm = PermutationImportance(rfc_model, random_state=1).fit(X_test, Y_test)\n",
    "eli5.show_weights(perm, feature_names = X.columns.tolist() )# = xperm_test.columns.tolist()"
   ]
  },
  {
   "cell_type": "markdown",
   "id": "b8e9c4b0",
   "metadata": {},
   "source": [
    "Most important variable: User rating count."
   ]
  },
  {
   "cell_type": "markdown",
   "id": "71783bf1",
   "metadata": {},
   "source": [
    "## 8. Model validation"
   ]
  },
  {
   "cell_type": "markdown",
   "id": "9b9ac0ec",
   "metadata": {},
   "source": [
    "Accuracy score: Overall model score on training sets.\n",
    "\n",
    "Precision score: Computes the precision of the model.\n",
    "\n",
    "F1 score: Weighted average of precision and recall values."
   ]
  },
  {
   "cell_type": "markdown",
   "id": "c87a1bed",
   "metadata": {},
   "source": [
    "##### X_train, Y_train, X_val, Y_val"
   ]
  },
  {
   "cell_type": "code",
   "execution_count": 64,
   "id": "df9d91e6",
   "metadata": {},
   "outputs": [],
   "source": [
    "def validation_predictor(ml): \n",
    "    model = ml.fit(X_train,Y_train)\n",
    "    print('Model: ',model)\n",
    "    print('\\n')\n",
    "    global y_pred_val\n",
    "    y_pred_val = model.predict(X_val)\n",
    "    cm = confusion_matrix(Y_val, y_pred_val)\n",
    "    \n",
    "    print('Accuracy score on train sets: {}'.format(model.score(X_train,Y_train)))\n",
    "    print('Precision score: {}'.format(precision_score(Y_val, y_pred_val, average='micro')))\n",
    "    print('F1 score: {}'.format(f1_score(Y_val, y_pred_val, average='macro')))"
   ]
  },
  {
   "cell_type": "code",
   "execution_count": 65,
   "id": "50caa7f9",
   "metadata": {},
   "outputs": [
    {
     "name": "stdout",
     "output_type": "stream",
     "text": [
      "Model:  KNeighborsClassifier(algorithm='auto', leaf_size=30, metric='minkowski',\n",
      "                     metric_params=None, n_jobs=-1, n_neighbors=6, p=2,\n",
      "                     weights='uniform')\n",
      "\n",
      "\n",
      "Accuracy score on train sets: 0.8411251592668822\n",
      "Precision score: 0.8130511463844797\n",
      "F1 score: 0.22231162594177994\n"
     ]
    }
   ],
   "source": [
    "validation_predictor(KNeighborsClassifier(n_neighbors = 6, weights = 'uniform', n_jobs=-1, p = 2))"
   ]
  },
  {
   "cell_type": "code",
   "execution_count": 66,
   "id": "fde45bce",
   "metadata": {},
   "outputs": [
    {
     "name": "stdout",
     "output_type": "stream",
     "text": [
      "Model:  DecisionTreeClassifier(ccp_alpha=0.0001, class_weight=None, criterion='gini',\n",
      "                       max_depth=25, max_features=None, max_leaf_nodes=None,\n",
      "                       min_impurity_decrease=0.0, min_impurity_split=None,\n",
      "                       min_samples_leaf=1, min_samples_split=2,\n",
      "                       min_weight_fraction_leaf=0.0, presort='deprecated',\n",
      "                       random_state=10, splitter='best')\n",
      "\n",
      "\n",
      "Accuracy score on train sets: 0.9748113300009801\n",
      "Precision score: 0.7748383303938859\n",
      "F1 score: 0.30019355856584634\n"
     ]
    }
   ],
   "source": [
    "validation_predictor(DecisionTreeClassifier(ccp_alpha=0.0001, criterion = 'gini', max_depth=25, random_state = 10))"
   ]
  },
  {
   "cell_type": "code",
   "execution_count": 67,
   "id": "6775bc12",
   "metadata": {},
   "outputs": [
    {
     "name": "stdout",
     "output_type": "stream",
     "text": [
      "Model:  <catboost.core.CatBoostClassifier object at 0x00000238055F2D48>\n",
      "\n",
      "\n",
      "Accuracy score on train sets: 0.9928452415956092\n",
      "Precision score: 0.8151087595532039\n",
      "F1 score: 0.30782676655333485\n"
     ]
    }
   ],
   "source": [
    "validation_predictor(CatBoostClassifier(iterations=1550,depth=5, learning_rate=.25, eval_metric='AUC', verbose = False))"
   ]
  },
  {
   "cell_type": "code",
   "execution_count": 68,
   "id": "51b02f3b",
   "metadata": {},
   "outputs": [
    {
     "name": "stdout",
     "output_type": "stream",
     "text": [
      "Model:  RandomForestClassifier(bootstrap=True, ccp_alpha=0.001, class_weight=None,\n",
      "                       criterion='entropy', max_depth=25, max_features='auto',\n",
      "                       max_leaf_nodes=None, max_samples=None,\n",
      "                       min_impurity_decrease=0.0, min_impurity_split=None,\n",
      "                       min_samples_leaf=1, min_samples_split=2,\n",
      "                       min_weight_fraction_leaf=0.0, n_estimators=50,\n",
      "                       n_jobs=None, oob_score=True, random_state=4, verbose=0,\n",
      "                       warm_start=False)\n",
      "\n",
      "\n",
      "Accuracy score on train sets: 0.8471037930020582\n",
      "Precision score: 0.8236331569664903\n",
      "F1 score: 0.22316251825847763\n"
     ]
    }
   ],
   "source": [
    "validation_predictor(RandomForestClassifier(ccp_alpha=0.001,n_estimators=50, max_depth = 25, criterion = 'entropy',\n",
    "                                            oob_score =  True, random_state = 4))"
   ]
  },
  {
   "cell_type": "code",
   "execution_count": 69,
   "id": "14c4aa8c",
   "metadata": {},
   "outputs": [
    {
     "name": "stdout",
     "output_type": "stream",
     "text": [
      "Model:  XGBClassifier(base_score=0.5, booster='gbtree', colsample_bylevel=1,\n",
      "              colsample_bynode=1, colsample_bytree=1, eval_metric='mlogloss',\n",
      "              gamma=0, gpu_id=-1, importance_type='gain',\n",
      "              interaction_constraints='', learning_rate=0.08, max_delta_step=0,\n",
      "              max_depth=5, min_child_weight=1, missing=nan,\n",
      "              monotone_constraints='()', n_estimators=1000, n_jobs=8,\n",
      "              nthread=-1, num_parallel_tree=1, objective='multi:softprob',\n",
      "              random_state=7, reg_alpha=0, reg_lambda=1, scale_pos_weight=None,\n",
      "              subsample=1, tree_method='exact', use_label_encoder=True,\n",
      "              validate_parameters=1, verbosity=None)\n",
      "\n",
      "\n",
      "Accuracy score on train sets: 0.994413407821229\n",
      "Precision score: 0.8203997648442093\n",
      "F1 score: 0.32787914064332124\n"
     ]
    }
   ],
   "source": [
    "validation_predictor(xgb.XGBClassifier(eval_metric='mlogloss',learning_rate=0.08,\n",
    "                                       max_depth=5, n_estimators=1000, random_state =7, nthread = -1))"
   ]
  },
  {
   "cell_type": "code",
   "execution_count": 70,
   "id": "0e0e236c",
   "metadata": {},
   "outputs": [
    {
     "name": "stdout",
     "output_type": "stream",
     "text": [
      "Model:  LGBMClassifier(boosting_type='gbdt', class_weight=None, colsample_bytree=1.0,\n",
      "               importance_type='split', learning_rate=0.15, max_bin=55,\n",
      "               max_depth=-1, min_child_samples=20, min_child_weight=0.001,\n",
      "               min_split_gain=0.0, n_estimators=2300, n_jobs=-1, num_leaves=5,\n",
      "               objective='multiclass', random_state=None, reg_alpha=0.0,\n",
      "               reg_lambda=0.0, silent=True, subsample=1.0,\n",
      "               subsample_for_bin=200000, subsample_freq=0)\n",
      "\n",
      "\n",
      "Accuracy score on train sets: 0.9946094285994316\n",
      "Precision score: 0.8095238095238095\n",
      "F1 score: 0.31828004868505716\n"
     ]
    }
   ],
   "source": [
    "validation_predictor(lgb.LGBMClassifier(objective='multiclass',num_leaves=5, max_depth = -1,\n",
    "                              learning_rate=0.15, n_estimators=2300, max_bin = 55))"
   ]
  },
  {
   "cell_type": "markdown",
   "id": "a03f3e61",
   "metadata": {},
   "source": [
    "## 9. Final model build"
   ]
  },
  {
   "cell_type": "code",
   "execution_count": 71,
   "id": "81225fc5",
   "metadata": {},
   "outputs": [],
   "source": [
    "def predictor(ml): \n",
    "    model = ml.fit(X_train,Y_train)\n",
    "    global y_pred\n",
    "    y_pred = model.predict(X_test)\n",
    "    cm = confusion_matrix(Y_test, y_pred)\n",
    "    \n",
    "    print('Accuracy score on train sets: {}'.format(model.score(X_train,Y_train)))\n",
    "    print('Precision score: {}'.format(precision_score(Y_test, y_pred, average='micro')))"
   ]
  },
  {
   "cell_type": "markdown",
   "id": "72497a92",
   "metadata": {},
   "source": [
    "### K-Neighbors"
   ]
  },
  {
   "cell_type": "code",
   "execution_count": 72,
   "id": "b94e557d",
   "metadata": {
    "scrolled": true
   },
   "outputs": [
    {
     "name": "stdout",
     "output_type": "stream",
     "text": [
      "Accuracy score on train sets: 0.8571008526903852\n",
      "Precision score: 0.7771898883009994\n"
     ]
    }
   ],
   "source": [
    "predictor(KNeighborsClassifier(n_neighbors = 3, weights = 'uniform', n_jobs=-1, p = 5))\n",
    "\n",
    "KNC = y_pred"
   ]
  },
  {
   "cell_type": "markdown",
   "id": "f4ebf94d",
   "metadata": {},
   "source": [
    "### Decision Tree"
   ]
  },
  {
   "cell_type": "code",
   "execution_count": 73,
   "id": "c62e1c57",
   "metadata": {},
   "outputs": [
    {
     "name": "stdout",
     "output_type": "stream",
     "text": [
      "Accuracy score on train sets: 0.9748113300009801\n",
      "Precision score: 0.7921810699588477\n"
     ]
    }
   ],
   "source": [
    "predictor(DecisionTreeClassifier(ccp_alpha=0.0001, criterion = 'gini', max_depth=25, random_state = 10))"
   ]
  },
  {
   "cell_type": "markdown",
   "id": "116c7f0c",
   "metadata": {},
   "source": [
    "### Catboost"
   ]
  },
  {
   "cell_type": "code",
   "execution_count": 74,
   "id": "75d4174d",
   "metadata": {},
   "outputs": [
    {
     "name": "stdout",
     "output_type": "stream",
     "text": [
      "Accuracy score on train sets: 0.9928452415956092\n",
      "Precision score: 0.823045267489712\n"
     ]
    }
   ],
   "source": [
    "predictor(CatBoostClassifier(iterations=1550,depth=5, learning_rate=.25, eval_metric='AUC', verbose = False))"
   ]
  },
  {
   "cell_type": "markdown",
   "id": "81310aa6",
   "metadata": {},
   "source": [
    "### Random forest"
   ]
  },
  {
   "cell_type": "code",
   "execution_count": 75,
   "id": "6035248d",
   "metadata": {},
   "outputs": [
    {
     "name": "stdout",
     "output_type": "stream",
     "text": [
      "Accuracy score on train sets: 0.8471037930020582\n",
      "Precision score: 0.8242210464432687\n"
     ]
    }
   ],
   "source": [
    "predictor(RandomForestClassifier(ccp_alpha=0.001,n_estimators=50, max_depth = 25, criterion = 'entropy',\n",
    "                                 oob_score =  True, random_state = 4))"
   ]
  },
  {
   "cell_type": "markdown",
   "id": "9dda8670",
   "metadata": {},
   "source": [
    "### XGBoost"
   ]
  },
  {
   "cell_type": "code",
   "execution_count": 76,
   "id": "c0d5286b",
   "metadata": {},
   "outputs": [
    {
     "name": "stdout",
     "output_type": "stream",
     "text": [
      "Accuracy score on train sets: 0.994413407821229\n",
      "Precision score: 0.8245149911816578\n"
     ]
    }
   ],
   "source": [
    "predictor(xgb.XGBClassifier(eval_metric='mlogloss',learning_rate=0.08,\n",
    "                                       max_depth=5, n_estimators=1000, random_state =7, nthread = -1))"
   ]
  },
  {
   "cell_type": "markdown",
   "id": "91c70694",
   "metadata": {},
   "source": [
    "### LGBM"
   ]
  },
  {
   "cell_type": "code",
   "execution_count": 77,
   "id": "785b4696",
   "metadata": {},
   "outputs": [
    {
     "name": "stdout",
     "output_type": "stream",
     "text": [
      "Accuracy score on train sets: 0.9946094285994316\n",
      "Precision score: 0.8171663727219283\n"
     ]
    }
   ],
   "source": [
    "predictor(lgb.LGBMClassifier(objective='multiclass',num_leaves=5, max_depth = -1,\n",
    "                              learning_rate=0.15, n_estimators=2300, max_bin = 55))"
   ]
  },
  {
   "cell_type": "code",
   "execution_count": null,
   "id": "11022eb2",
   "metadata": {},
   "outputs": [],
   "source": []
  }
 ],
 "metadata": {
  "kernelspec": {
   "display_name": "Python 3",
   "language": "python",
   "name": "python3"
  },
  "language_info": {
   "codemirror_mode": {
    "name": "ipython",
    "version": 3
   },
   "file_extension": ".py",
   "mimetype": "text/x-python",
   "name": "python",
   "nbconvert_exporter": "python",
   "pygments_lexer": "ipython3",
   "version": "3.7.4"
  }
 },
 "nbformat": 4,
 "nbformat_minor": 5
}
